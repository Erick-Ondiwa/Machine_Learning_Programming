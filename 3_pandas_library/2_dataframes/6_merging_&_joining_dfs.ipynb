{
 "cells": [
  {
   "cell_type": "code",
   "execution_count": null,
   "id": "3fff883e-0b52-4523-869f-5552daf2e68c",
   "metadata": {},
   "outputs": [],
   "source": [
    "# 4. Merging and Joining DataFrames\n",
    "# Pandas allows merging or joining of multiple DataFrames based on common columns or indexes. \n",
    "# This is similar to SQL joins and is useful when working with related datasets.\n",
    "\n",
    "# Merging DataFrames:\n",
    "# Inner Join: Returns only the rows that have matching values in both DataFrames.\n",
    "# Left Join: Returns all rows from the left DataFrame and matched rows from the right DataFrame.\n",
    "# Right Join: Returns all rows from the right DataFrame and matched rows from the left DataFrame.\n",
    "# Outer Join: Returns all rows when there is a match in either DataFrame.\n"
   ]
  },
  {
   "cell_type": "code",
   "execution_count": null,
   "id": "fc7ea02f-4bf4-4b22-b064-60c64c8e9f00",
   "metadata": {},
   "outputs": [],
   "source": [
    "# Merging two DataFrames\n",
    "df1 = pd.DataFrame({'ID': [1, 2, 3], 'Name': ['Alice', 'Bob', 'Charlie']})\n",
    "df2 = pd.DataFrame({'ID': [2, 3, 4], 'Score': [85, 90, 95]})\n",
    "\n",
    "# Inner join\n",
    "merged_df = pd.merge(df1, df2, on='ID', how='inner')\n",
    "print(merged_df)\n",
    "\n",
    "# Left join\n",
    "merged_df = pd.merge(df1, df2, on='ID', how='left')\n",
    "print(merged_df)"
   ]
  },
  {
   "cell_type": "code",
   "execution_count": null,
   "id": "683f95a6-d942-461d-9e92-613285851ac8",
   "metadata": {},
   "outputs": [],
   "source": [
    "# Concatenating DataFrames:\n",
    "#       Concatenation is used to combine DataFrames either row-wise (axis=0) or column-wise (axis=1).\n",
    "\n",
    "# Concatenating two DataFrames row-wise\n",
    "df_combined = pd.concat([df1, df2], axis=0, ignore_index=True)\n",
    "\n",
    "# Concatenating two DataFrames column-wise\n",
    "df_combined = pd.concat([df1, df2], axis=1)\n",
    "print(df_combined)"
   ]
  },
  {
   "cell_type": "code",
   "execution_count": null,
   "id": "5adab876-44c0-4f39-b0a9-fe86e97e3682",
   "metadata": {},
   "outputs": [],
   "source": [
    "# 5. GroupBy and Aggregation\n",
    "#        The groupby() function in pandas is one of its most powerful tools. \n",
    "#        It allows you to split data into groups based on certain criteria, apply a function to each group independently,\n",
    "#        and then combine the results.\n"
   ]
  },
  {
   "cell_type": "code",
   "execution_count": null,
   "id": "edbadd96-a620-4521-914c-0cd478b0da4a",
   "metadata": {},
   "outputs": [],
   "source": [
    "\n",
    "# Grouping Data:\n",
    "#    Grouping data by a column and calculating the mean for each group\n",
    "grouped_df = df.groupby('Category')['Sales'].mean()\n",
    "print(grouped_df)\n"
   ]
  },
  {
   "cell_type": "code",
   "execution_count": null,
   "id": "074e386e-64a3-448c-8343-62cecc53024d",
   "metadata": {},
   "outputs": [],
   "source": [
    "# Applying Multiple Aggregations:\n",
    "#     You can apply multiple aggregation functions (e.g., mean, sum, count) to different columns.\n",
    "\n",
    "# Applying multiple aggregation functions\n",
    "aggregated_df = df.groupby('Category').agg({'Sales': ['sum', 'mean'], 'Profit': 'sum'})\n",
    "print(aggregated_df)"
   ]
  }
 ],
 "metadata": {
  "kernelspec": {
   "display_name": "Python 3 (ipykernel)",
   "language": "python",
   "name": "python3"
  },
  "language_info": {
   "codemirror_mode": {
    "name": "ipython",
    "version": 3
   },
   "file_extension": ".py",
   "mimetype": "text/x-python",
   "name": "python",
   "nbconvert_exporter": "python",
   "pygments_lexer": "ipython3",
   "version": "3.12.4"
  }
 },
 "nbformat": 4,
 "nbformat_minor": 5
}
