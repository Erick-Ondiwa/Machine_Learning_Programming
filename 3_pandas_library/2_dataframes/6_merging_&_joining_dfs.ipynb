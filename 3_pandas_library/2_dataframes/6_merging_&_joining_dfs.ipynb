{
 "cells": [
  {
   "cell_type": "code",
   "execution_count": 6,
   "id": "3a2a1703-e1be-48e6-b8e8-23a9108d8b02",
   "metadata": {},
   "outputs": [],
   "source": [
    "import pandas as pd\n",
    "import numpy as np"
   ]
  },
  {
   "cell_type": "markdown",
   "id": "57108a0b-2df6-4032-9fe3-eb64123ff770",
   "metadata": {},
   "source": [
    "# 4. Merging and Joining DataFrames\n",
    "    Pandas allows merging or joining of multiple DataFrames based on common columns or indexes. This is similar to SQL joins       and is useful when working with related datasets.\n",
    "\n",
    "# Types of joins in Merging:\n",
    "# Inner Join: \n",
    "    Returns only the rows that have matching values in both DataFrames.\n",
    "# Left Join:  \n",
    "    Returns all rows from the left DataFrame and the matched rows from the right DataFrame. If there is no match, NaN is returned for the right DataFrame's columns.\n",
    "# Right Join:\n",
    "    Returns all rows from the right DataFrame and the matched rows from the left DataFrame. \n",
    "              If there is no match, NaN is returned for the left DataFrame's columns.\n",
    "# Outer Join: \n",
    "    Returns all rows from both DataFrames, with NaN in places where there are no matches.\n"
   ]
  },
  {
   "cell_type": "markdown",
   "id": "92a59c4b-d253-4488-9f29-5d84e8153189",
   "metadata": {},
   "source": [
    "    #  Merge parameters or join parameters.\n",
    "These parameters dictate how the merging or joining of DataFrames is performed and specify the criteria for alignment \n",
    "   and behavior of the merge operation. They include; on, left_on, right_on, how, suffixes and validate\n",
    "\n",
    "# on: \n",
    "Specifies the column(s) to join on when both DataFrames share the same column name.\n",
    "\n",
    "# left_on: \n",
    "Specifies the column(s) from the left DataFrame to join on when the names differ.\n",
    "\n",
    "# right_on: \n",
    "Specifies the column(s) from the right DataFrame to join on when the names differ.\n",
    "\n",
    "# how: \n",
    "Defines the type of merge to be performed (e.g., 'inner', 'outer', 'left', 'right').\n",
    "\n",
    "# suffixes: \n",
    "Specifies the suffixes to apply to overlapping column names in the resulting DataFrame.\n",
    "\n",
    "# validate: \n",
    "This parameter checks whether the merge operation is of a specific type, such as one-to-one, one-to-many, or many-to-many\n",
    "Checks the merge integrity by ensuring that the relationship between the merged DataFrames matches a specified type."
   ]
  },
  {
   "cell_type": "markdown",
   "id": "26fd4a48-a474-4d05-9a66-7b3b015b13a6",
   "metadata": {},
   "source": [
    "# Example\n",
    "Let’s consider a real-world scenario where you have two datasets related to a retail business.One dataset contains information about customers, and the other contains information about their orders. We’ll use these datasets to demonstrate how to use on, left_on, right_on, and other relevant parameters in a Pandas merge operation."
   ]
  },
  {
   "cell_type": "code",
   "execution_count": 5,
   "id": "09e4dd15-ced0-46d8-a619-d23f1dbef70e",
   "metadata": {},
   "outputs": [
    {
     "name": "stdout",
     "output_type": "stream",
     "text": [
      "   customer_id     name         city\n",
      "0            1    Alice     New York\n",
      "1            2      Bob  Los Angeles\n",
      "2            3  Charlie      Chicago\n",
      "3            4    David      Houston\n"
     ]
    }
   ],
   "source": [
    "# Customer Dataframe\n",
    "import pandas as pd\n",
    "\n",
    "customers = pd.DataFrame({\n",
    "    'customer_id': [1, 2, 3, 4],\n",
    "    'name': ['Alice', 'Bob', 'Charlie', 'David'],\n",
    "    'city': ['New York', 'Los Angeles', 'Chicago', 'Houston']\n",
    "})\n",
    "print(customers)"
   ]
  },
  {
   "cell_type": "code",
   "execution_count": 2,
   "id": "5c3966a2-33b7-4e94-9ca0-f5db88157465",
   "metadata": {},
   "outputs": [
    {
     "name": "stdout",
     "output_type": "stream",
     "text": [
      "   order_id  customer_id  order_total\n",
      "0       101            2       250.00\n",
      "1       102            3       150.50\n",
      "2       103            1       300.75\n",
      "3       104            5       400.00\n"
     ]
    }
   ],
   "source": [
    "# Orders DataFrame\n",
    "orders = pd.DataFrame({\n",
    "    'order_id': [101, 102, 103, 104],\n",
    "    'customer_id': [2, 3, 1, 5],\n",
    "    'order_total': [250.00, 150.50, 300.75, 400.00]\n",
    "})\n",
    "print(orders)"
   ]
  },
  {
   "cell_type": "markdown",
   "id": "fca08c51-000e-49db-87cd-8c6d27bc7e0e",
   "metadata": {},
   "source": [
    "# Merge Operation\n",
    "Now we want to combine these two DataFrames to get a complete view of customer orders along with customer details"
   ]
  },
  {
   "cell_type": "markdown",
   "id": "9e5dfb84-ce93-42b8-a6ae-b046234d7b42",
   "metadata": {},
   "source": [
    "# Using on\n",
    "Since both DataFrames share the same column name customer_id, we can use the on parameter to merge them:"
   ]
  },
  {
   "cell_type": "code",
   "execution_count": 3,
   "id": "6851f5ac-cd6a-46fd-83c3-8449130dd62f",
   "metadata": {},
   "outputs": [
    {
     "name": "stdout",
     "output_type": "stream",
     "text": [
      "   customer_id     name         city  order_id  order_total\n",
      "0            1    Alice     New York       103       300.75\n",
      "1            2      Bob  Los Angeles       101       250.00\n",
      "2            3  Charlie      Chicago       102       150.50\n"
     ]
    }
   ],
   "source": [
    "merged_data = pd.merge(customers, orders, on='customer_id', how='inner')\n",
    "print(merged_data)\n"
   ]
  },
  {
   "cell_type": "markdown",
   "id": "47f9d8be-11c7-4748-b3cf-ad85ffc84632",
   "metadata": {},
   "source": [
    "# Using left_on and right_on\n",
    "Suppose we have another dataset with customer details, but the customer ID is labeled differently. \n",
    "Let’s create a new customer DataFrame with a different column name:"
   ]
  },
  {
   "cell_type": "code",
   "execution_count": null,
   "id": "2d2b887f-24e9-4954-99f0-9e26c8f40e05",
   "metadata": {},
   "outputs": [],
   "source": [
    "new_customers = pd.DataFrame({\n",
    "    'id': [1, 2, 3, 4],\n",
    "    'customer_name': ['Alice', 'Bob', 'Charlie', 'David'],\n",
    "    'location': ['New York', 'Los Angeles', 'Chicago', 'Houston']\n",
    "})\n",
    "print(new_customers)"
   ]
  },
  {
   "cell_type": "code",
   "execution_count": null,
   "id": "d1688543-ec56-4900-b88d-4efb9f9a28b9",
   "metadata": {},
   "outputs": [],
   "source": [
    "merged_data = pd.merge(new_customers, orders, left_on='id', right_on='customer_id', how='inner')\n",
    "print(merged_data)"
   ]
  },
  {
   "cell_type": "code",
   "execution_count": null,
   "id": "6d2c467e-ea42-428b-bd48-1d7d3be0b242",
   "metadata": {},
   "outputs": [],
   "source": [
    "# Using how\n",
    "# To see all customers and their orders, including those without any orders, we can perform a left join\n",
    "\n",
    "merged_data = pd.merge(customers, orders, on='customer_id', how='left')\n",
    "print(merged_data)"
   ]
  },
  {
   "cell_type": "code",
   "execution_count": null,
   "id": "fd54822f-ca70-46d3-8328-2854caef4973",
   "metadata": {},
   "outputs": [],
   "source": [
    "# Using suffixes\n",
    "# Let’s say we want to merge the customers DataFrame with itself to track order and support information \n",
    "# for the same customers.The DataFrames will have overlapping columns. We can use the suffixes parameter to differentiate:\n",
    "\n",
    "merged_data = pd.merge(customers, customers, on='customer_id', suffixes=('_info', '_support'))\n",
    "print(merged_data)"
   ]
  },
  {
   "cell_type": "markdown",
   "id": "85554cda-f860-4adb-a997-f9e2c4b4243b",
   "metadata": {},
   "source": [
    "# Concatenating DataFrames:"
   ]
  },
  {
   "cell_type": "code",
   "execution_count": null,
   "id": "683f95a6-d942-461d-9e92-613285851ac8",
   "metadata": {},
   "outputs": [],
   "source": [
    "# Concatenating DataFrames:\n",
    "#       Concatenation is used to combine DataFrames either row-wise (axis=0) or column-wise (axis=1).\n",
    "\n",
    "# Concatenating two DataFrames row-wise\n",
    "df_combined = pd.concat([df1, df2], axis=0, ignore_index=True)\n",
    "\n",
    "# Concatenating two DataFrames column-wise\n",
    "df_combined = pd.concat([df1, df2], axis=1)\n",
    "print(df_combined)"
   ]
  },
  {
   "cell_type": "code",
   "execution_count": null,
   "id": "5adab876-44c0-4f39-b0a9-fe86e97e3682",
   "metadata": {},
   "outputs": [],
   "source": [
    "# 5. GroupBy and Aggregation\n",
    "#        The groupby() function in pandas is one of its most powerful tools. \n",
    "#        It allows you to split data into groups based on certain criteria, apply a function to each group independently,\n",
    "#        and then combine the results.\n"
   ]
  },
  {
   "cell_type": "code",
   "execution_count": null,
   "id": "edbadd96-a620-4521-914c-0cd478b0da4a",
   "metadata": {},
   "outputs": [],
   "source": [
    "\n",
    "# Grouping Data:\n",
    "#    Grouping data by a column and calculating the mean for each group\n",
    "grouped_df = df.groupby('Category')['Sales'].mean()\n",
    "print(grouped_df)\n"
   ]
  },
  {
   "cell_type": "code",
   "execution_count": null,
   "id": "074e386e-64a3-448c-8343-62cecc53024d",
   "metadata": {},
   "outputs": [],
   "source": [
    "# Applying Multiple Aggregations:\n",
    "#     You can apply multiple aggregation functions (e.g., mean, sum, count) to different columns.\n",
    "\n",
    "# Applying multiple aggregation functions\n",
    "aggregated_df = df.groupby('Category').agg({'Sales': ['sum', 'mean'], 'Profit': 'sum'})\n",
    "print(aggregated_df)"
   ]
  }
 ],
 "metadata": {
  "kernelspec": {
   "display_name": "Python 3 (ipykernel)",
   "language": "python",
   "name": "python3"
  },
  "language_info": {
   "codemirror_mode": {
    "name": "ipython",
    "version": 3
   },
   "file_extension": ".py",
   "mimetype": "text/x-python",
   "name": "python",
   "nbconvert_exporter": "python",
   "pygments_lexer": "ipython3",
   "version": "3.12.4"
  }
 },
 "nbformat": 4,
 "nbformat_minor": 5
}
