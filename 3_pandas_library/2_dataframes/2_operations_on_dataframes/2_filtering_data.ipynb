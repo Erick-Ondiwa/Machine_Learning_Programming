{
 "cells": [
  {
   "cell_type": "code",
   "execution_count": 1,
   "id": "01f6ffeb-40b0-45c1-bf23-27ef62f1d54c",
   "metadata": {},
   "outputs": [],
   "source": [
    "import numpy as np\n",
    "import pandas as pd"
   ]
  },
  {
   "cell_type": "markdown",
   "id": "eb9738f2-e249-4dc9-bb54-b87f18bff176",
   "metadata": {},
   "source": [
    "# Data Filtering"
   ]
  },
  {
   "cell_type": "markdown",
   "id": "a89a9c97-e9d4-4775-9d64-044cd0fca01e",
   "metadata": {},
   "source": [
    "# 1. Filtering with Basic Conditions\n",
    "Basic conditional filtering allows you to create subsets by setting conditions on columns.\n",
    "\n",
    "Example:\n",
    "In a sales dataset, you may want to filter only the rows where Revenue is above a certain amount."
   ]
  },
  {
   "cell_type": "code",
   "execution_count": null,
   "id": "79a1a760-386d-4681-a5ea-5d420749be88",
   "metadata": {},
   "outputs": [],
   "source": [
    "# Sample DataFrame\n",
    "data = {\n",
    "    \"Product\": [\"A\", \"B\", \"C\", \"D\"],\n",
    "    \"Revenue\": [500, 1500, 200, 2500]\n",
    "}\n",
    "df = pd.DataFrame(data)"
   ]
  },
  {
   "cell_type": "code",
   "execution_count": null,
   "id": "2b1d5692-3915-4178-8a90-d0820cb10092",
   "metadata": {},
   "outputs": [],
   "source": [
    "# Filtering for Revenue above 1000\n",
    "high_revenue = df[df[\"Revenue\"] > 1000]\n",
    "print(high_revenue)"
   ]
  },
  {
   "cell_type": "markdown",
   "id": "feaf185e-42c0-4c99-90c8-2ee1cba35e03",
   "metadata": {},
   "source": [
    "# 2. Filtering with Multiple Conditions (AND / OR)\n",
    "Multiple conditions allow you to filter with logical operators, such as & (AND) and | (OR).\n",
    "\n",
    "Example:\n",
    "For a dataset on employees, you might want to filter employees who are from a specific department and have been with the company for more than five years."
   ]
  },
  {
   "cell_type": "code",
   "execution_count": null,
   "id": "3adbfa1a-f0ea-40c3-a998-db5ebff8ce69",
   "metadata": {},
   "outputs": [],
   "source": [
    "data = {\n",
    "    \"EmployeeID\": [101, 102, 103, 104],\n",
    "    \"Department\": [\"Sales\", \"IT\", \"Sales\", \"HR\"],\n",
    "    \"YearsOfService\": [2, 6, 7, 3]\n",
    "}\n",
    "df = pd.DataFrame(data)"
   ]
  },
  {
   "cell_type": "code",
   "execution_count": null,
   "id": "8082d3f4-e927-4700-9beb-a0cd0ec68831",
   "metadata": {},
   "outputs": [],
   "source": [
    "# Filter for Sales department with more than 5 years of service\n",
    "senior_sales = df[(df[\"Department\"] == \"Sales\") & (df[\"YearsOfService\"] > 5)]\n",
    "print(senior_sales)"
   ]
  },
  {
   "cell_type": "markdown",
   "id": "1668260d-ad5e-4649-baec-baa1feda80c1",
   "metadata": {},
   "source": [
    "# 3. Filtering Using .query()\n",
    "The .query() method allows filtering with simple, SQL-like syntax, making it very readable.\n",
    "\n",
    "Example:\n",
    "In a restaurant's dataset, you might want to filter orders for customers who ordered Spaghetti and paid more than $20."
   ]
  },
  {
   "cell_type": "code",
   "execution_count": null,
   "id": "82394101-d6a5-4f5c-ac43-188f9cde2d85",
   "metadata": {},
   "outputs": [],
   "source": [
    "data = {\n",
    "    \"OrderID\": [1, 2, 3, 4],\n",
    "    \"Item\": [\"Pizza\", \"Spaghetti\", \"Spaghetti\", \"Salad\"],\n",
    "    \"Amount\": [15, 22, 18, 12]\n",
    "}\n",
    "df = pd.DataFrame(data)"
   ]
  },
  {
   "cell_type": "code",
   "execution_count": null,
   "id": "56945ad5-245b-4ae6-9422-81666f5f7fac",
   "metadata": {},
   "outputs": [],
   "source": [
    "# Filter with query\n",
    "spaghetti_orders = df.query(\"Item == 'Spaghetti' and Amount > 20\")\n",
    "print(spaghetti_orders)"
   ]
  },
  {
   "cell_type": "markdown",
   "id": "2ffdf78e-308b-42b7-be41-d058bf645839",
   "metadata": {},
   "source": [
    "# 4. Filtering Using .isin()\n",
    "The .isin() method filters rows where a column's value is in a specified list, useful for multiple matches.\n",
    "\n",
    "Example:\n",
    "In a retail inventory dataset, you may want to filter for specific product categories to analyze stock levels"
   ]
  },
  {
   "cell_type": "code",
   "execution_count": 2,
   "id": "f8f0815a-d78f-4355-8821-df1c090c4375",
   "metadata": {},
   "outputs": [
    {
     "name": "stdout",
     "output_type": "stream",
     "text": [
      "   ProductID     Category\n",
      "0          1  Electronics\n",
      "1          2    Furniture\n",
      "2          3  Electronics\n"
     ]
    }
   ],
   "source": [
    "data = {\n",
    "    \"ProductID\": [1, 2, 3, 4],\n",
    "    \"Category\": [\"Electronics\", \"Furniture\", \"Electronics\", \"Clothing\"]\n",
    "}\n",
    "df = pd.DataFrame(data)\n",
    "\n",
    "# Filter for Electronics and Furniture categories\n",
    "selected_categories = df[df[\"Category\"].isin([\"Electronics\", \"Furniture\"])]\n",
    "print(selected_categories)\n"
   ]
  },
  {
   "cell_type": "markdown",
   "id": "edadfea6-0286-491f-bb43-e85143bdcf82",
   "metadata": {},
   "source": [
    "# 5. Filtering Using String Methods\n",
    "Pandas allows you to filter based on partial string matches with .str.contains() and .str.startswith().\n",
    "\n",
    "Example:\n",
    "In a dataset of book titles, you might want to filter for all titles containing a specific keyword, like “Python.”"
   ]
  },
  {
   "cell_type": "code",
   "execution_count": 4,
   "id": "5f34f03f-7d31-4e1e-bbe5-326b2b65d360",
   "metadata": {},
   "outputs": [],
   "source": [
    "data = {\n",
    "    \"BookID\": [1, 2, 3, 4],\n",
    "    \"Title\": [\"Learning Python\", \"Data Science 101\", \"Python for Beginners\", \"Machine Learning\"]\n",
    "}\n",
    "df = pd.DataFrame(data)"
   ]
  },
  {
   "cell_type": "code",
   "execution_count": 7,
   "id": "7d67de99-a6d3-4518-8d3e-6bd418816dad",
   "metadata": {},
   "outputs": [
    {
     "name": "stdout",
     "output_type": "stream",
     "text": [
      "   BookID                 Title\n",
      "0       1       Learning Python\n",
      "2       3  Python for Beginners\n"
     ]
    }
   ],
   "source": [
    "# Filter for titles containing \"Python\"\n",
    "python_books = df[df[\"Title\"].str.contains(\"Python\", case=False)]\n",
    "print(python_books)"
   ]
  },
  {
   "cell_type": "markdown",
   "id": "54347d25-3e49-4971-bfad-d25da037f01f",
   "metadata": {},
   "source": [
    "# 6. Filtering with .between()\n",
    "The .between() method is useful for filtering values within a specific range.\n",
    "\n",
    "Example:\n",
    "For an educational dataset, filter students within a certain age range, like 18 to 22 years."
   ]
  },
  {
   "cell_type": "code",
   "execution_count": 10,
   "id": "bc6347c2-d060-4ef3-883f-dadf383454f7",
   "metadata": {},
   "outputs": [],
   "source": [
    "data = {\n",
    "    \"StudentID\": [1, 2, 3, 4, 5, 6],\n",
    "    \"Age\": [18, 17, 19, 22, 24, 20]\n",
    "}\n",
    "df = pd.DataFrame(data)"
   ]
  },
  {
   "cell_type": "code",
   "execution_count": 11,
   "id": "d214b731-f09f-49c7-a2dc-78cb2c4d8130",
   "metadata": {},
   "outputs": [
    {
     "name": "stdout",
     "output_type": "stream",
     "text": [
      "   StudentID  Age\n",
      "0          1   18\n",
      "2          3   19\n",
      "3          4   22\n",
      "5          6   20\n"
     ]
    }
   ],
   "source": [
    "# Filter for students aged between 18 and 22\n",
    "college_age_students = df[df[\"Age\"].between(18, 22)]\n",
    "print(college_age_students)"
   ]
  },
  {
   "cell_type": "markdown",
   "id": "835ec42e-a32d-4886-b771-49f722dfbaeb",
   "metadata": {},
   "source": [
    "# 7. Filtering with .apply()\n",
    "With .apply(), you can apply custom functions to filter based on complex conditions.\n",
    "\n",
    "Example:\n",
    "In a dataset of employee salaries, filter employees who earn above the mean salary."
   ]
  },
  {
   "cell_type": "code",
   "execution_count": null,
   "id": "519134ae-a97c-45c7-bf29-898b61210300",
   "metadata": {},
   "outputs": [],
   "source": [
    "data = {\n",
    "    \"EmployeeID\": [101, 102, 103, 104],\n",
    "    \"Salary\": [50000, 70000, 45000, 60000]\n",
    "}\n",
    "df = pd.DataFrame(data)\n",
    "print(df)"
   ]
  },
  {
   "cell_type": "code",
   "execution_count": null,
   "id": "8b95e791-2ae4-4498-a478-01f08dd5dda8",
   "metadata": {},
   "outputs": [],
   "source": [
    "# Define mean salary\n",
    "mean_salary = np.mean(df[\"Salary\"])\n",
    "print(mean_salary)"
   ]
  },
  {
   "cell_type": "code",
   "execution_count": null,
   "id": "d7aac9ea-94f0-43e7-9f11-6c010e5df9cf",
   "metadata": {},
   "outputs": [],
   "source": [
    "# Filter employees earning above mean salary\n",
    "high_earners = df[df[\"Salary\"].apply(lambda x: x > mean_salary)]\n",
    "print(high_earners)"
   ]
  },
  {
   "cell_type": "markdown",
   "id": "9a2340ad-3591-4469-b02c-8078b9171b02",
   "metadata": {},
   "source": [
    "# 8. Filtering Missing Values Using .isna() and .notna()\n",
    "You can use .isna() or .notna() to filter rows with or without missing values."
   ]
  },
  {
   "cell_type": "code",
   "execution_count": null,
   "id": "98cc5e3f-187d-486c-b29b-3540c832e8b9",
   "metadata": {},
   "outputs": [],
   "source": [
    "data = {\n",
    "    \"RespondentID\": [1, 2, 3],\n",
    "    \"Name\": [\"Alice\", \"Bob\", None],\n",
    "    \"Contact\": [None, \"bob@gmail.com\", \"charlie@yahoo.com\"]\n",
    "}\n",
    "df = pd.DataFrame(data)"
   ]
  },
  {
   "cell_type": "code",
   "execution_count": null,
   "id": "6931aa78-5d7b-4678-95f3-340e6e767c95",
   "metadata": {},
   "outputs": [],
   "source": [
    "# Filter rows where 'Contact' is missing\n",
    "missing_contact = df[df[\"Contact\"].isna()]\n",
    "print(missing_contact)"
   ]
  },
  {
   "cell_type": "markdown",
   "id": "599789de-0fdd-4d54-ae69-c92970c55b4b",
   "metadata": {},
   "source": [
    "# 9. Filtering Using .nlargest() and .nsmallest()\n",
    "Use .nlargest() and .nsmallest() to get the top or bottom N values.\n",
    "\n",
    "Example:\n",
    "In a sports analytics dataset, find the top 3 players based on scores."
   ]
  },
  {
   "cell_type": "code",
   "execution_count": null,
   "id": "9f9a6809-c368-4c34-83ad-adaeb1ed41de",
   "metadata": {},
   "outputs": [],
   "source": [
    "data = {\n",
    "    \"PlayerID\": [1, 2, 3, 4],\n",
    "    \"Score\": [88, 92, 95, 80]\n",
    "}\n",
    "df = pd.DataFrame(data)"
   ]
  },
  {
   "cell_type": "code",
   "execution_count": null,
   "id": "fdbe6b8b-81ff-406c-a258-168950547119",
   "metadata": {},
   "outputs": [],
   "source": [
    "# Top 3 scores\n",
    "top_scorers = df.nlargest(3, \"Score\")\n",
    "print(top_scorers)"
   ]
  }
 ],
 "metadata": {
  "kernelspec": {
   "display_name": "Python 3 (ipykernel)",
   "language": "python",
   "name": "python3"
  },
  "language_info": {
   "codemirror_mode": {
    "name": "ipython",
    "version": 3
   },
   "file_extension": ".py",
   "mimetype": "text/x-python",
   "name": "python",
   "nbconvert_exporter": "python",
   "pygments_lexer": "ipython3",
   "version": "3.12.4"
  }
 },
 "nbformat": 4,
 "nbformat_minor": 5
}
