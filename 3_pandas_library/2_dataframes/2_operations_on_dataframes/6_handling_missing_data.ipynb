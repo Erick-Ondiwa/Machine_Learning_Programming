{
 "cells": [
  {
   "cell_type": "markdown",
   "id": "224bf84c-95dd-4587-ba09-91918344c1a0",
   "metadata": {},
   "source": [
    "# Handling Missing Data"
   ]
  },
  {
   "cell_type": "markdown",
   "id": "3dbec7f3-13d9-4d9a-9c14-ced378edd258",
   "metadata": {},
   "source": [
    "# 1. Identifying Missing Data \n",
    "Before handling missing data, you need to identify it. You can use:\n",
    "\n",
    "# isnull():\n",
    "Returns a DataFrame of the same shape as the original, with True for missing values and False for non-missing values.\n",
    "\n",
    "# notnull(): \n",
    "Returns the inverse of isnull().\n",
    "\n",
    "# info(): \n",
    "Gives a summary of the DataFrame, including the count of non-null entries."
   ]
  },
  {
   "cell_type": "markdown",
   "id": "a42df48e-974e-4de1-a357-5e2f52499a49",
   "metadata": {},
   "source": [
    "# Example DataFrame\n",
    "Let's consider a dataset that contains information about students, including their names, ages, scores, and grades. Some values are missing."
   ]
  },
  {
   "cell_type": "code",
   "execution_count": null,
   "id": "bdec588c-8a5a-49e6-bc10-a7be8dabd51d",
   "metadata": {},
   "outputs": [],
   "source": [
    "import pandas as pd\n",
    "import numpy as np\n",
    "\n",
    "# Example DataFrame\n",
    "data = {\n",
    "    'Name': ['Alice', 'Bob', 'Charlie', 'David', 'Eva'],\n",
    "    'Age': [23, np.nan, 22, 24, np.nan],\n",
    "    'Score': [85, 90, np.nan, 75, 95],\n",
    "    'Grade': ['A', 'A', 'B', np.nan, 'A']\n",
    "}\n",
    "\n",
    "df = pd.DataFrame(data)\n",
    "print(\"Original DataFrame:\")\n",
    "print(df)\n"
   ]
  },
  {
   "cell_type": "code",
   "execution_count": null,
   "id": "28537bce-9667-4dc7-9039-f45d1c226031",
   "metadata": {},
   "outputs": [],
   "source": [
    "# Identifying missing data\n",
    "print(\"\\nMissing Data (True for missing values):\")\n",
    "print(df.isnull())"
   ]
  },
  {
   "cell_type": "markdown",
   "id": "92379c5e-4ec9-414a-9105-3263a6bcc6bd",
   "metadata": {},
   "source": [
    "# 2. Dropping Missing Values\n",
    "You can remove rows or columns with missing data using:\n",
    "\n",
    "# dropna(): \n",
    "Removes missing values based on specific conditions:\n",
    "\n",
    "# axis=0:\n",
    "Drops rows with missing values.\n",
    "\n",
    "# axis=1: \n",
    "Drops columns with missing values.\n",
    "\n",
    "# thresh:\n",
    "Requires a certain number of non-null values to keep the row or column."
   ]
  },
  {
   "cell_type": "code",
   "execution_count": null,
   "id": "a8427f59-643a-492d-b6ce-b8608abcb627",
   "metadata": {},
   "outputs": [],
   "source": [
    "# 2. Dropping Missing Values\n",
    "# Drop rows with any missing values\n",
    "df_dropped_rows = df.dropna()\n",
    "\n",
    "# Drop columns with any missing values\n",
    "df_dropped_columns = df.dropna(axis=1)\n",
    "\n",
    "# Drop rows with at least one non-null value\n",
    "df_thresh = df.dropna(thresh=2)"
   ]
  },
  {
   "cell_type": "markdown",
   "id": "821fd3ae-46da-4887-8318-768a1df06235",
   "metadata": {},
   "source": [
    "# 3. Filling Missing Values\n",
    "Instead of dropping missing values, you can fill them with appropriate values using:\n",
    "\n",
    "fillna(): Allows you to fill missing values with a specified value, the mean, median, or mode, or use a method like forward filling (ffill) or backward filling (bfill)."
   ]
  },
  {
   "cell_type": "code",
   "execution_count": null,
   "id": "b5ba6770-4404-492b-b4e4-234bd604e69e",
   "metadata": {},
   "outputs": [],
   "source": [
    "# Fill missing values with a constant\n",
    "df_filled_constant = df.fillna(0)\n",
    "\n",
    "# Fill with the mean of the column\n",
    "df_filled_mean = df.fillna(df.mean())\n",
    "\n",
    "# Forward fill\n",
    "df_ffill = df.fillna(method='ffill')\n",
    "\n",
    "# Backward fill\n",
    "df_bfill = df.fillna(method='bfill')\n"
   ]
  },
  {
   "cell_type": "markdown",
   "id": "332534d6-ed4a-4850-857e-096906fdc007",
   "metadata": {},
   "source": [
    "# 1. Forward Fill (ffill)\n",
    "Forward fill propagates the last valid (non-missing) value forward to the next missing value(s). In other words, it replaces each missing value with the previous non-null value in the same column.\n",
    "\n",
    "Use case: Forward fill is helpful when you want to assume that the previous known value should continue until a new value is encountered (e.g., filling in daily stock prices by carrying the last known price forward if some dates are missing)."
   ]
  },
  {
   "cell_type": "code",
   "execution_count": null,
   "id": "cccacdae-b857-435b-bcbc-311b7b0542ea",
   "metadata": {},
   "outputs": [],
   "source": [
    "data = {'Temperature': [30, np.nan, np.nan, 28, 27, np.nan, 26]}\n",
    "df = pd.DataFrame(data)"
   ]
  },
  {
   "cell_type": "code",
   "execution_count": null,
   "id": "2e153e2b-25d9-4cb9-82a6-4532e738a08a",
   "metadata": {},
   "outputs": [],
   "source": [
    "# Forward fill\n",
    "df_ffill = df.fillna(method='ffill')\n",
    "print(df_ffill)"
   ]
  },
  {
   "cell_type": "markdown",
   "id": "944f9971-913b-4339-9fe9-77418d2afa4c",
   "metadata": {},
   "source": [
    "# 2. Back Fill (bfill)\n",
    "Back fill fills missing values by propagating the next valid (non-missing) value backward. It replaces each missing value with the next non-null value in the same column.\n",
    "\n",
    "Use case: Back fill is helpful when you want to assume that the next available value was already applicable during the period of missing values (e.g., filling missing inventory counts by using the next available inventory count as an estimate)."
   ]
  },
  {
   "cell_type": "code",
   "execution_count": null,
   "id": "522b94b9-5792-4587-b953-507ea532b42b",
   "metadata": {},
   "outputs": [],
   "source": [
    "# Backward fill\n",
    "df_bfill = df.fillna(method='bfill')\n",
    "print(df_bfill)"
   ]
  },
  {
   "cell_type": "markdown",
   "id": "e4c59922-7d75-426c-8d1b-3854a978a1c3",
   "metadata": {},
   "source": [
    "# 4. Interpolating Missing Values\n",
    "You can also use interpolation to estimate missing values based on existing data:\n",
    "\n",
    "# interpolate(): \n",
    "Fills missing values using linear interpolation or other methods."
   ]
  },
  {
   "cell_type": "code",
   "execution_count": null,
   "id": "14959bd5-795d-44bc-94b4-80b6b0c63dd7",
   "metadata": {},
   "outputs": [],
   "source": [
    "df_interpolated = df.interpolate()"
   ]
  },
  {
   "cell_type": "markdown",
   "id": "d8899e37-eec8-4d2c-b2a2-a6f43e56e97c",
   "metadata": {},
   "source": [
    "# 5. Replacing Missing Values\n",
    "You can replace missing values with other values using:\n",
    "\n",
    "# replace(): \n",
    "This method can be useful when you want to replace specific values, including NaN."
   ]
  },
  {
   "cell_type": "code",
   "execution_count": null,
   "id": "e7d05b0e-defa-49cb-a214-1f6108a0d715",
   "metadata": {},
   "outputs": [],
   "source": [
    "df_replaced = df.replace({None: 0})  # Replace None with 0"
   ]
  },
  {
   "cell_type": "markdown",
   "id": "fe3f28cc-d3ca-456b-9b45-1f60c157f12d",
   "metadata": {},
   "source": [
    "# 6. Custom Functions\n",
    "You can define a custom function to fill missing values based on specific logic. For instance, if the score is missing, you might want to set it based on a rul"
   ]
  },
  {
   "cell_type": "code",
   "execution_count": null,
   "id": "e4a6111d-05a6-46fd-b13d-601952988e74",
   "metadata": {},
   "outputs": [],
   "source": [
    "def fill_custom_score(row):\n",
    "    if pd.isnull(row['Score']):\n",
    "        return 80  # Custom logic for filling missing scores\n",
    "    return row['Score']\n",
    "\n",
    "df['Score'] = df.apply(fill_custom_score, axis=1)\n",
    "print(\"\\nDataFrame after applying custom function to fill Score:\")\n",
    "print(df)\n"
   ]
  }
 ],
 "metadata": {
  "kernelspec": {
   "display_name": "Python 3 (ipykernel)",
   "language": "python",
   "name": "python3"
  },
  "language_info": {
   "codemirror_mode": {
    "name": "ipython",
    "version": 3
   },
   "file_extension": ".py",
   "mimetype": "text/x-python",
   "name": "python",
   "nbconvert_exporter": "python",
   "pygments_lexer": "ipython3",
   "version": "3.12.4"
  }
 },
 "nbformat": 4,
 "nbformat_minor": 5
}
