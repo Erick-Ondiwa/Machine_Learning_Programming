{
 "cells": [
  {
   "cell_type": "code",
   "execution_count": 4,
   "id": "0d38116d-d220-4ead-bc72-a5d8dd8395ea",
   "metadata": {},
   "outputs": [],
   "source": [
    "import pandas as pd\n",
    "import numpy as np"
   ]
  },
  {
   "cell_type": "code",
   "execution_count": null,
   "id": "c0de7c6d-abab-411b-bae3-bd6222540910",
   "metadata": {},
   "outputs": [],
   "source": [
    "# The DataFrame is the most widely used data structure in pandas. \n",
    "#It represents two-dimensional, size-mutable, and potentially heterogeneous tabular data \n",
    "    #with labeled axes (rows and columns). \n",
    "# Essentially, it is like a spreadsheet or a SQL table, where data is organized into rows and columns."
   ]
  },
  {
   "cell_type": "code",
   "execution_count": 3,
   "id": "ada35f35-e25d-4945-8789-0b8ec6702b8d",
   "metadata": {},
   "outputs": [
    {
     "name": "stdout",
     "output_type": "stream",
     "text": [
      "    Name  Age      City\n",
      "0   John   25  New York\n",
      "1  Alice   30     Paris\n",
      "2    Bob   22    London\n"
     ]
    }
   ],
   "source": [
    "# Creating a pandas DataFrame:\n",
    "# You can create a DataFrame from a variety of inputs, such as dictionaries, lists, NumPy arrays, or even other DataFrames.\n",
    "\n",
    "#         Example 1: Creating a DataFrame from a dictionary\n",
    "\n",
    "data = {'Name': ['John', 'Alice', 'Bob'],\n",
    "        'Age': [25, 30, 22],\n",
    "        'City': ['New York', 'Paris', 'London']}\n",
    "df = pd.DataFrame(data)\n",
    "\n",
    "print(df)\n"
   ]
  },
  {
   "cell_type": "code",
   "execution_count": 4,
   "id": "3c56d14d-c2a5-4899-b797-63079c4be3fd",
   "metadata": {},
   "outputs": [
    {
     "name": "stdout",
     "output_type": "stream",
     "text": [
      "    Name  Age      City\n",
      "0   John   25  New York\n",
      "1  Alice   30     Paris\n",
      "2    Bob   22    London\n"
     ]
    }
   ],
   "source": [
    "#     Example 2: Creating a DataFrame from a list of dictionaries\n",
    "\n",
    "data = [{'Name': 'John', 'Age': 25, 'City': 'New York'},\n",
    "        {'Name': 'Alice', 'Age': 30, 'City': 'Paris'},\n",
    "        {'Name': 'Bob', 'Age': 22, 'City': 'London'}]\n",
    "df = pd.DataFrame(data)\n",
    "\n",
    "print(df)\n"
   ]
  },
  {
   "cell_type": "code",
   "execution_count": 5,
   "id": "9bbd357f-ed09-4a19-b94f-1d3da10287b6",
   "metadata": {},
   "outputs": [
    {
     "name": "stdout",
     "output_type": "stream",
     "text": [
      "[['25' '30' '22']\n",
      " ['John' 'Alice' 'Bob']]\n",
      "  Age   Name\n",
      "0  25   John\n",
      "1  30  Alice\n",
      "2  22    Bob\n"
     ]
    }
   ],
   "source": [
    "# Example 3: Creating a DataFrame from NumPy arrays\n",
    "\n",
    "data = np.array([[25, 30, 22], ['John', 'Alice', 'Bob']])\n",
    "print(data)\n",
    "df = pd.DataFrame(data.T, columns=['Age', 'Name'])\n",
    "\n",
    "print(df)\n"
   ]
  },
  {
   "cell_type": "code",
   "execution_count": null,
   "id": "42d49d28-a8be-4e31-922c-b711996315d7",
   "metadata": {},
   "outputs": [],
   "source": []
  }
 ],
 "metadata": {
  "kernelspec": {
   "display_name": "Python 3 (ipykernel)",
   "language": "python",
   "name": "python3"
  },
  "language_info": {
   "codemirror_mode": {
    "name": "ipython",
    "version": 3
   },
   "file_extension": ".py",
   "mimetype": "text/x-python",
   "name": "python",
   "nbconvert_exporter": "python",
   "pygments_lexer": "ipython3",
   "version": "3.12.4"
  }
 },
 "nbformat": 4,
 "nbformat_minor": 5
}
