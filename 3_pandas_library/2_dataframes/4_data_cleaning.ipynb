{
 "cells": [
  {
   "cell_type": "code",
   "execution_count": null,
   "id": "16157a55-0285-475d-89a2-42adeb88c346",
   "metadata": {},
   "outputs": [],
   "source": [
    "import pandas as pd"
   ]
  },
  {
   "cell_type": "code",
   "execution_count": null,
   "id": "55e9dd59-f06b-4051-a4cb-6b236cabd127",
   "metadata": {},
   "outputs": [],
   "source": [
    "# 2. Data Cleaning in pandas\n",
    "#       Data cleaning is an essential step in preparing data for analysis. \n",
    "#       Pandas provides many useful functions for this purpose, such as handling missing data, \n",
    "#       removing duplicates, and renaming columns.\n",
    "\n",
    "# Handling Missing Data:\n",
    "# Pandas has several methods for dealing with missing values (NaN), such as dropping or filling them."
   ]
  },
  {
   "cell_type": "code",
   "execution_count": null,
   "id": "39c0546a-3157-40a5-b9bc-8edfcbb4cf73",
   "metadata": {},
   "outputs": [],
   "source": [
    "# Dropping Missing Data:\n",
    "\n",
    "# Dropping rows with missing values\n",
    "cleaned_df = df.dropna()"
   ]
  },
  {
   "cell_type": "code",
   "execution_count": null,
   "id": "55aec5ea-6d76-4143-a299-a24a06cebf65",
   "metadata": {},
   "outputs": [],
   "source": [
    "# Dropping columns with missing values\n",
    "cleaned_df = df.dropna(axis=1)"
   ]
  },
  {
   "cell_type": "code",
   "execution_count": null,
   "id": "c3e071b6-47c5-41b7-bdb8-366927b0d894",
   "metadata": {},
   "outputs": [],
   "source": [
    "# Filling Missing Data:\n",
    "# Filling missing values with a constant value\n",
    "df_filled = df.fillna(0)\n",
    "\n",
    "# Filling missing values with the mean of the column\n",
    "df_filled = df.fillna(df.mean())"
   ]
  },
  {
   "cell_type": "code",
   "execution_count": null,
   "id": "cc26dfaa-5972-49eb-b956-f5434d077096",
   "metadata": {},
   "outputs": [],
   "source": [
    "# Removing Duplicates:\n",
    "#    Sometimes datasets may have duplicate entries. Pandas makes it easy to remove duplicates.\n",
    "\n",
    "# Remove duplicate rows\n",
    "df_unique = df.drop_duplicates()\n",
    "\n",
    "# Remove duplicates based on a specific column\n",
    "df_unique = df.drop_duplicates(subset=['column_name'])"
   ]
  },
  {
   "cell_type": "code",
   "execution_count": null,
   "id": "94159412-b903-4bb7-934c-eabd7ec724dd",
   "metadata": {},
   "outputs": [],
   "source": [
    "#Renaming Columns:\n",
    "\n",
    "df_renamed = df.rename(columns={'old_name': 'new_name'})"
   ]
  }
 ],
 "metadata": {
  "kernelspec": {
   "display_name": "Python 3 (ipykernel)",
   "language": "python",
   "name": "python3"
  },
  "language_info": {
   "codemirror_mode": {
    "name": "ipython",
    "version": 3
   },
   "file_extension": ".py",
   "mimetype": "text/x-python",
   "name": "python",
   "nbconvert_exporter": "python",
   "pygments_lexer": "ipython3",
   "version": "3.12.4"
  }
 },
 "nbformat": 4,
 "nbformat_minor": 5
}
