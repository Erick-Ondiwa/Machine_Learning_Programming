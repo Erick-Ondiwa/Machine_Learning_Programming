{
 "cells": [
  {
   "cell_type": "code",
   "execution_count": 1,
   "id": "6ac44543-6773-4827-8267-cb9555e57158",
   "metadata": {},
   "outputs": [],
   "source": [
    "import pandas as pd"
   ]
  },
  {
   "cell_type": "code",
   "execution_count": null,
   "id": "0415bff8-3664-4594-957b-5b4ec94ecbb6",
   "metadata": {},
   "outputs": [],
   "source": [
    "# 1. Data Input and Output in pandas\n",
    "#       Pandas provides robust functionality to read and write data from various file formats, \n",
    "#        such as CSV, Excel, JSON, SQL databases, and more. This makes it ideal for importing and exporting datasets.\n",
    "\n",
    "#         Reading Data from CSV:\n",
    "\n",
    "# Reading data from a CSV file\n",
    "df = pd.read_csv('data.csv')\n",
    "\n",
    "# Displaying the first 5 rows\n",
    "print(df.head())\n"
   ]
  },
  {
   "cell_type": "code",
   "execution_count": null,
   "id": "56510916-0241-4526-966d-484a036e5f72",
   "metadata": {},
   "outputs": [],
   "source": [
    "#  Writing Data to CSV:\n",
    "# Writing the DataFrame back to a CSV file\n",
    "df.to_csv('output.csv', index=False)  # index=False avoids writing row numbers\n"
   ]
  },
  {
   "cell_type": "code",
   "execution_count": null,
   "id": "0323dcd6-acd0-4766-91e2-f83ef801a152",
   "metadata": {},
   "outputs": [],
   "source": [
    "# Reading Data from Excel:\n",
    "# Reading data from an Excel file\n",
    "df = pd.read_excel('data.xlsx')\n",
    "\n",
    "# Displaying the last 5 rows\n",
    "print(df.tail())\n"
   ]
  },
  {
   "cell_type": "code",
   "execution_count": null,
   "id": "334b23e8-d22e-4748-8169-dd9c93747a3e",
   "metadata": {},
   "outputs": [],
   "source": [
    "# Writing Data to Excel:\n",
    "# Writing the DataFrame to an Excel file\n",
    "df.to_excel('output.xlsx', index=False)"
   ]
  },
  {
   "cell_type": "code",
   "execution_count": null,
   "id": "7ccbc3cb-4fe2-4661-ab46-58bef91ddbde",
   "metadata": {},
   "outputs": [],
   "source": [
    "\n",
    "# A Parquet file is a popular format for storing tabular data efficiently. \n",
    "# Parquet is an open-source columnar storage file format optimized for use with big data processing. \n",
    "# It is particularly beneficial for data that needs to be stored and retrieved efficiently and \n",
    "# is commonly used with data processing frameworks like Apache Spark and Pandas"
   ]
  },
  {
   "cell_type": "code",
   "execution_count": null,
   "id": "37fbfd9d-b0ef-4afe-973e-34861ff97655",
   "metadata": {},
   "outputs": [],
   "source": [
    "# 1. Writing to a Parquet File\n",
    "# To write a DataFrame to a Parquet file in Pandas, you can use the to_parquet() method. \n",
    "# Note that you need the pyarrow or fastparquet library installed, as Pandas uses these libraries to handle Parquet files.\n",
    "\n",
    "# Install the necessary library if not installed\n",
    "# pip install pyarrow\n",
    "\n",
    "import pandas as pd\n",
    "\n",
    "# Sample DataFrame\n",
    "data = {\n",
    "    \"Name\": [\"Alice\", \"Bob\", \"Charlie\"],\n",
    "    \"Age\": [24, 27, 22],\n",
    "    \"City\": [\"New York\", \"Los Angeles\", \"Chicago\"]\n",
    "}\n",
    "df = pd.DataFrame(data)\n",
    "\n",
    "# Write to Parquet file\n",
    "df.to_parquet(\"data.parquet\", engine=\"pyarrow\")  # Specify \"fastparquet\" if using that library\n"
   ]
  },
  {
   "cell_type": "code",
   "execution_count": null,
   "id": "7bdde001-a69f-490c-8ea8-ef7a8d8381ae",
   "metadata": {},
   "outputs": [],
   "source": [
    "# 2. Reading from a Parquet File\n",
    "# To read data from a Parquet file into a Pandas DataFrame, use the read_parquet() method.\n",
    "\n",
    "# Read from Parquet file\n",
    "df_from_parquet = pd.read_parquet(\"data.parquet\", engine=\"pyarrow\")\n",
    "\n",
    "print(df_from_parquet)\n"
   ]
  }
 ],
 "metadata": {
  "kernelspec": {
   "display_name": "Python 3 (ipykernel)",
   "language": "python",
   "name": "python3"
  },
  "language_info": {
   "codemirror_mode": {
    "name": "ipython",
    "version": 3
   },
   "file_extension": ".py",
   "mimetype": "text/x-python",
   "name": "python",
   "nbconvert_exporter": "python",
   "pygments_lexer": "ipython3",
   "version": "3.12.4"
  }
 },
 "nbformat": 4,
 "nbformat_minor": 5
}
