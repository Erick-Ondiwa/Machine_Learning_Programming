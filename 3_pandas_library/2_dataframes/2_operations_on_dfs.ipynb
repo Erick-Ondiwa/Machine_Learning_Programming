{
 "cells": [
  {
   "cell_type": "code",
   "execution_count": 1,
   "id": "2504d9d6-38cf-4ebb-a430-7af5c2d9a97b",
   "metadata": {},
   "outputs": [],
   "source": [
    "import pandas as pd\n",
    "import numpy as np"
   ]
  },
  {
   "cell_type": "code",
   "execution_count": 2,
   "id": "17688e75-0347-4dc8-b781-72833eb9921d",
   "metadata": {},
   "outputs": [],
   "source": [
    "# Creating a DataFrame from NumPy arrays\n",
    "data = np.array([[25, 30, 22], ['John', 'Alice', 'Bob']])\n",
    "df = pd.DataFrame(data.T, columns=['Age', 'Name'])"
   ]
  },
  {
   "cell_type": "code",
   "execution_count": 3,
   "id": "99527986-4bc4-4519-8757-ac5c35764c0e",
   "metadata": {},
   "outputs": [
    {
     "name": "stdout",
     "output_type": "stream",
     "text": [
      "0     John\n",
      "1    Alice\n",
      "2      Bob\n",
      "Name: Name, dtype: object\n"
     ]
    }
   ],
   "source": [
    "# . Selecting Data:\n",
    "#      You can select columns, rows, or specific values using different methods:\n",
    "\n",
    "   # 1. Column Selection:\n",
    "print(df['Name'])  # Selects a column (as Series)\n"
   ]
  },
  {
   "cell_type": "code",
   "execution_count": 4,
   "id": "0959957d-03af-4dc7-9d3f-52dee04f3b5b",
   "metadata": {},
   "outputs": [
    {
     "name": "stdout",
     "output_type": "stream",
     "text": [
      "Age        30\n",
      "Name    Alice\n",
      "Name: 1, dtype: object\n",
      "Age        30\n",
      "Name    Alice\n",
      "Name: 1, dtype: object\n"
     ]
    }
   ],
   "source": [
    "#   Row Selection by Index\n",
    "print(df.loc[1])  # Select row with index 1 (label-based)\n",
    "print(df.iloc[1])  # Select row with index 1 (position-based)\n"
   ]
  },
  {
   "cell_type": "markdown",
   "id": "8ef33956-85f0-467a-912a-5fe414ce7e0c",
   "metadata": {},
   "source": [
    "1. .loc - Label-Based Indexing"
   ]
  },
  {
   "cell_type": "code",
   "execution_count": null,
   "id": "aa4f2cab-0a1c-4b11-8280-79e74af34018",
   "metadata": {},
   "outputs": [],
   "source": [
    "#            1. .loc - Label-Based Indexing\n",
    "# .loc is used to access data based on labels (the index or column names) of the DataFrame.\n",
    "# It allows access to both rows and columns by their labels, making it flexible for filtering based on known names.\n",
    "# Slicing and boolean arrays can also be used with .loc.\n",
    "\n",
    "data = {\n",
    "    \"Name\": [\"Alice\", \"Bob\", \"Charlie\"],\n",
    "    \"Age\": [24, 27, 22],\n",
    "    \"City\": [\"New York\", \"Los Angeles\", \"Chicago\"]\n",
    "}\n",
    "df = pd.DataFrame(data, index=[\"a\", \"b\", \"c\"])\n",
    "\n",
    "# Accessing a specific row by label\n",
    "row_b = df.loc[\"b\"]\n",
    "\n",
    "# Accessing a specific element by row and column labels\n",
    "age_bob = df.loc[\"b\", \"Age\"]\n",
    "\n",
    "# Accessing multiple rows and columns\n",
    "subset = df.loc[[\"a\", \"c\"], [\"Name\", \"City\"]]\n",
    "\n",
    "print(row_b)\n",
    "print(age_bob)\n",
    "print(subset)\n"
   ]
  },
  {
   "cell_type": "markdown",
   "id": "140ba5e4-0bc8-4fe7-bf8c-46594417883a",
   "metadata": {},
   "source": [
    "2. .iloc - Integer-Based Indexing"
   ]
  },
  {
   "cell_type": "code",
   "execution_count": null,
   "id": "e871a344-9401-4971-ad80-014f291a009b",
   "metadata": {},
   "outputs": [],
   "source": [
    "# 2. .iloc - Integer-Based Indexing\n",
    "# .iloc is used to access data by integer-based positions (row and column indices).\n",
    "#It requires integer indices instead of labels, making it especially useful when the DataFrame doesn’t have meaningful labels.\n",
    "# Similar to .loc, .iloc allows you to specify slices, ranges, and lists of positions.\n",
    "\n",
    "# Accessing a specific row by integer index\n",
    "second_row = df.iloc[1]\n",
    "\n",
    "# Accessing a specific element by row and column indices\n",
    "age_second_row = df.iloc[1, 1]\n",
    "\n",
    "# Accessing multiple rows and columns\n",
    "subset = df.iloc[[0, 2], [0, 2]]\n",
    "\n",
    "print(second_row)\n",
    "print(age_second_row)\n",
    "print(subset)\n"
   ]
  },
  {
   "cell_type": "markdown",
   "id": "6d4acf56-46a3-4c32-8e60-5a20f73f5cba",
   "metadata": {},
   "source": [
    "3. .at - Fast Label-Based Scalar Access"
   ]
  },
  {
   "cell_type": "code",
   "execution_count": null,
   "id": "5263d146-6dde-4deb-82da-213bdb97b471",
   "metadata": {},
   "outputs": [],
   "source": [
    "# 3. .at - Fast Label-Based Scalar Access\n",
    "# .at is designed for fast access to a single scalar value (one cell) based on row and column labels.\n",
    "# It’s more efficient than .loc when accessing a single element because it’s optimized for scalar access\n",
    "\n",
    "# Accessing a single element by label (faster than .loc for one cell)\n",
    "age_bob = df.at[\"b\", \"Age\"]\n",
    "print(age_bob)\n"
   ]
  },
  {
   "cell_type": "markdown",
   "id": "c6c2637a-7234-489e-a76d-6ae873bf988f",
   "metadata": {},
   "source": [
    "4. .iat - Fast Integer-Based Scalar Access"
   ]
  },
  {
   "cell_type": "code",
   "execution_count": null,
   "id": "0254f2da-f72b-43a8-8299-1bb9ab96f142",
   "metadata": {},
   "outputs": [],
   "source": [
    "# 4. .iat - Fast Integer-Based Scalar Access\n",
    "# .iat is similar to .at, but it uses integer-based positions to quickly access a single scalar value.\n",
    "# Like .i\n",
    "\n",
    "# Accessing a single element by integer position (faster than .iloc for one cell)\n",
    "age_second_row = df.iat[1, 1]\n",
    "print(age_second_row)\n"
   ]
  },
  {
   "cell_type": "code",
   "execution_count": null,
   "id": "22ce8286-19c8-4099-a381-8e9539c394b2",
   "metadata": {},
   "outputs": [],
   "source": [
    "#     Selecting Specific values\n",
    "print(df.loc[1, 'Age'])  # Select value from row 1 and column 'Age'\n"
   ]
  },
  {
   "cell_type": "code",
   "execution_count": null,
   "id": "50a28d40-c651-4449-9a3e-5ae380fd5ab0",
   "metadata": {},
   "outputs": [],
   "source": [
    "# 2. Filtering:\n",
    "#       You can filter rows based on conditions:\n",
    "\n",
    "# Filter rows where Age is greater than 23\n",
    "filtered_df = df[df['Age'] > 23]\n",
    "print(filtered_df)\n"
   ]
  },
  {
   "cell_type": "code",
   "execution_count": null,
   "id": "8ae82d6d-47b3-4d00-a632-4e181fcc704c",
   "metadata": {},
   "outputs": [],
   "source": [
    "# 3. Adding or Removing Data:\n",
    "#      Adding a New Column:\n",
    "\n",
    "df['Country'] = ['USA', 'France', 'UK']\n",
    "print(df)\n"
   ]
  },
  {
   "cell_type": "code",
   "execution_count": null,
   "id": "9d0d1756-dc02-443e-aa9a-701e34a5d004",
   "metadata": {},
   "outputs": [],
   "source": [
    "        # Removing a Column\n",
    "df.drop('City', axis=1, inplace=True)  # Removes the 'City' column\n"
   ]
  },
  {
   "cell_type": "code",
   "execution_count": null,
   "id": "1e05ee59-8ff9-4707-9f52-a40a6c06e7ce",
   "metadata": {},
   "outputs": [],
   "source": [
    "# Adding a Row\n",
    "\n",
    "new_row = {'Name': 'Eve', 'Age': 28, 'City': 'Berlin'}\n",
    "df = df.append(new_row, ignore_index=True)\n",
    "print(df)\n"
   ]
  },
  {
   "cell_type": "code",
   "execution_count": null,
   "id": "43e67d65-88be-4964-8a28-4a2686302d46",
   "metadata": {},
   "outputs": [],
   "source": [
    "# Removing a Row\n",
    "\n",
    "df.drop(0, axis=0, inplace=True)  # Removes the first row\n"
   ]
  },
  {
   "cell_type": "code",
   "execution_count": 5,
   "id": "488ef215-40ed-45f8-b031-ed4271fa29ab",
   "metadata": {},
   "outputs": [
    {
     "name": "stdout",
     "output_type": "stream",
     "text": [
      "     Age   Name\n",
      "0  False  False\n",
      "1  False  False\n",
      "2  False  False\n"
     ]
    }
   ],
   "source": [
    "# 4. Handling Missing Data:\n",
    "#       DataFrames handle missing data (NaN) effectively with built-in functions:\n",
    "\n",
    "#     Checking for Missing Data:\n",
    "print(df.isnull())  # Shows True where values are missing\n"
   ]
  },
  {
   "cell_type": "code",
   "execution_count": null,
   "id": "59602bb3-a4fb-4466-8c5a-b4dcd5853e9b",
   "metadata": {},
   "outputs": [],
   "source": [
    "# Filling Missing Data:\n",
    "\n",
    "df['Age'].fillna(df['Age'].mean(), inplace=True)  # Fills missing 'Age' with the mean\n"
   ]
  },
  {
   "cell_type": "code",
   "execution_count": null,
   "id": "989c9097-3db7-4c85-87f4-cafe9e655266",
   "metadata": {},
   "outputs": [],
   "source": [
    "# Dropping Rows or Columns with Missing Data:\n",
    "\n",
    "df.dropna(inplace=True)  # Drops any row with missing data"
   ]
  },
  {
   "cell_type": "code",
   "execution_count": null,
   "id": "9a35c818-57ad-45ac-bab6-a78f6222bbd2",
   "metadata": {},
   "outputs": [],
   "source": [
    "# 5. Aggregating and Summarizing Data:\n",
    "#        DataFrames make it easy to compute summaries and perform group-based operations:\n",
    "\n",
    "# Summary Statistics:\n",
    "\n",
    "print(df.describe())  # Generates summary statistics for numeric columns\n"
   ]
  },
  {
   "cell_type": "code",
   "execution_count": null,
   "id": "1cb2be1b-3dcc-4088-ab6b-3b36d93ec693",
   "metadata": {},
   "outputs": [],
   "source": [
    "# Grouping and Aggregating:\n",
    "\n",
    "grouped = df.groupby('City')['Age'].mean()  # Groups by 'City' and calculates mean 'Age'\n",
    "print(grouped)"
   ]
  },
  {
   "cell_type": "code",
   "execution_count": null,
   "id": "507e32a6-1e8a-454b-8ada-f892745805da",
   "metadata": {},
   "outputs": [],
   "source": [
    "# 6. Merging, Joining, and Concatenating DataFrames:\n",
    "#          Merging two DataFrames (similar to SQL joins):\n",
    "\n",
    "df1 = pd.DataFrame({'ID': [1, 2], 'Name': ['Alice', 'Bob']})\n",
    "df2 = pd.DataFrame({'ID': [1, 3], 'Score': [85, 90]})\n",
    "merged_df = pd.merge(df1, df2, on='ID', how='inner')  # Inner join\n",
    "print(merged_df)"
   ]
  },
  {
   "cell_type": "code",
   "execution_count": null,
   "id": "3e758e43-2751-418f-952f-255ca211bc5f",
   "metadata": {},
   "outputs": [],
   "source": [
    "#   Concatenating DataFrames:\n",
    "\n",
    "concatenated_df = pd.concat([df1, df2], axis=0)  # Concatenates row-wise\n",
    "print(concatenated_df)"
   ]
  },
  {
   "cell_type": "markdown",
   "id": "9adf2489-b256-42ca-99cf-50f7a00b7760",
   "metadata": {},
   "source": [
    "# Example of a DataFrame in Action"
   ]
  },
  {
   "cell_type": "code",
   "execution_count": 11,
   "id": "c3e70797-1d7c-4c17-97a2-a5505ff7f0d3",
   "metadata": {},
   "outputs": [
    {
     "name": "stdout",
     "output_type": "stream",
     "text": [
      "   Names  Math  Science  English\n",
      "1   John    85       88       91\n",
      "2  Alice    95       79       83\n",
      "3    Bob    78       92       89\n",
      "4    Eve    92       94       87\n"
     ]
    }
   ],
   "source": [
    "# Sample DataFrame with student information\n",
    "data = {\n",
    "    'Names': ['John', 'Alice', 'Bob', 'Eve'],\n",
    "    'Math': [85, 95, 78, 92],\n",
    "    'Science': [88, 79, 92, 94],\n",
    "    'English': [91, 83, 89, 87]\n",
    "}\n",
    "\n",
    "stu_marks = pd.DataFrame(data, index=np.arange(1,5))\n",
    "                        \n",
    "print(stu_marks)\n"
   ]
  },
  {
   "cell_type": "code",
   "execution_count": 13,
   "id": "8f8dee8d-cad7-4f40-958e-871eb258c045",
   "metadata": {},
   "outputs": [
    {
     "name": "stdout",
     "output_type": "stream",
     "text": [
      "   Names  Math  Science  English  Average\n",
      "1   John    85       88       91    88.00\n",
      "2  Alice    95       79       83    85.67\n",
      "3    Bob    78       92       89    86.33\n",
      "4    Eve    92       94       87    91.00\n"
     ]
    }
   ],
   "source": [
    "# Compute the average score for each student\n",
    "stu_marks['Average'] = stu_marks[['Math', 'Science', 'English']].mean(axis=1).round(2)\n",
    "print(stu_marks)"
   ]
  },
  {
   "cell_type": "code",
   "execution_count": null,
   "id": "aae2a47e-6ae5-4739-873a-5bc65cb7c935",
   "metadata": {},
   "outputs": [],
   "source": [
    "# Filter students with an average score above 90\n",
    "high_achievers = stu_marks[stu_marks['Average'] > 90]\n",
    "print(high_achievers)"
   ]
  }
 ],
 "metadata": {
  "kernelspec": {
   "display_name": "Python 3 (ipykernel)",
   "language": "python",
   "name": "python3"
  },
  "language_info": {
   "codemirror_mode": {
    "name": "ipython",
    "version": 3
   },
   "file_extension": ".py",
   "mimetype": "text/x-python",
   "name": "python",
   "nbconvert_exporter": "python",
   "pygments_lexer": "ipython3",
   "version": "3.12.4"
  }
 },
 "nbformat": 4,
 "nbformat_minor": 5
}
