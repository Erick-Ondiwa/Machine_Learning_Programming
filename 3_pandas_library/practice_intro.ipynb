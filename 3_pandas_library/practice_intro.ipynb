{
 "cells": [
  {
   "cell_type": "code",
   "execution_count": 34,
   "id": "84fd204f-d5df-4cb7-906f-89397caf1aff",
   "metadata": {},
   "outputs": [],
   "source": [
    "import pandas as pd\n",
    "import numpy as np"
   ]
  },
  {
   "cell_type": "code",
   "execution_count": 41,
   "id": "8bf136f7-9914-47aa-8e36-baab55ef493c",
   "metadata": {},
   "outputs": [
    {
     "name": "stdout",
     "output_type": "stream",
     "text": [
      "[[44 74 84 45 92]\n",
      " [80 59 55 48 77]\n",
      " [32 98 37 74 76]\n",
      " [33 91 80 37 54]\n",
      " [43 83 45 75 78]\n",
      " [48 85 82 36 58]\n",
      " [31 62 32 95 42]\n",
      " [39 45 83 52 61]\n",
      " [80 98 45 40 35]\n",
      " [93 79 74 96 95]]\n"
     ]
    }
   ],
   "source": [
    "marks = np.random.randint(30, 100, (10,5))\n",
    "print(marks)"
   ]
  },
  {
   "cell_type": "code",
   "execution_count": 66,
   "id": "f7ad0396-cb04-4eed-8e57-1064e2843748",
   "metadata": {},
   "outputs": [
    {
     "name": "stdout",
     "output_type": "stream",
     "text": [
      "    English  Physics  Maths  Biology  Computer\n",
      "1        44       74     84       45        92\n",
      "2        80       59     55       48        77\n",
      "3        32       98     37       74        76\n",
      "4        33       91     80       37        54\n",
      "5        43       83     45       75        78\n",
      "6        48       85     82       36        58\n",
      "7        31       62     32       95        42\n",
      "8        39       45     83       52        61\n",
      "9        80       98     45       40        35\n",
      "10       93       79     74       96        95\n"
     ]
    }
   ],
   "source": [
    "subjects = np.array([\"English\", \"Physics\", \"Maths\", \"Biology\", \"Computer\"])\n",
    "result = pd.DataFrame(marks, columns=subjects, index=np.arange(1,11))\n",
    "print(result)"
   ]
  },
  {
   "cell_type": "code",
   "execution_count": 45,
   "id": "437dbe17-8b6c-4824-9bc9-37b9ff34a7d9",
   "metadata": {},
   "outputs": [
    {
     "name": "stdout",
     "output_type": "stream",
     "text": [
      "[339 319 317 295 324 309 262 280 298 437]\n"
     ]
    }
   ],
   "source": [
    "# Computing the total marks for each student\n",
    "total_marks = np.sum(marks, axis=1)\n",
    "print(total_marks)"
   ]
  },
  {
   "cell_type": "code",
   "execution_count": 67,
   "id": "4f2ad605-d85d-4598-8e89-7ee001729502",
   "metadata": {},
   "outputs": [
    {
     "name": "stdout",
     "output_type": "stream",
     "text": [
      "    English  Physics  Maths  Biology  Computer  Total\n",
      "1        44       74     84       45        92    339\n",
      "2        80       59     55       48        77    319\n",
      "3        32       98     37       74        76    317\n",
      "4        33       91     80       37        54    295\n",
      "5        43       83     45       75        78    324\n",
      "6        48       85     82       36        58    309\n",
      "7        31       62     32       95        42    262\n",
      "8        39       45     83       52        61    280\n",
      "9        80       98     45       40        35    298\n",
      "10       93       79     74       96        95    437\n"
     ]
    }
   ],
   "source": [
    "result[\"Total\"] = total_marks\n",
    "print(result)"
   ]
  },
  {
   "cell_type": "code",
   "execution_count": 47,
   "id": "40d5cae0-89a4-4c47-8e96-2c2617f4dd10",
   "metadata": {},
   "outputs": [
    {
     "name": "stdout",
     "output_type": "stream",
     "text": [
      "[52.3 77.4 61.7 59.8 66.8]\n"
     ]
    }
   ],
   "source": [
    "# Computing the mean of each subject\n",
    "subject_mean = np.mean(marks, axis=0)\n",
    "print(subject_mean)"
   ]
  },
  {
   "cell_type": "code",
   "execution_count": 54,
   "id": "c67b192a-e1eb-470e-9d65-2d7ceda90248",
   "metadata": {},
   "outputs": [
    {
     "name": "stdout",
     "output_type": "stream",
     "text": [
      "77.4\n"
     ]
    }
   ],
   "source": [
    "print(subject_mean[1])"
   ]
  },
  {
   "cell_type": "code",
   "execution_count": 55,
   "id": "2c743e00-456c-4503-995b-fe30b2bdcb5d",
   "metadata": {},
   "outputs": [
    {
     "name": "stdout",
     "output_type": "stream",
     "text": [
      "318.0\n"
     ]
    }
   ],
   "source": [
    "print(np.sum(subject_mean))"
   ]
  },
  {
   "cell_type": "code",
   "execution_count": 63,
   "id": "7fdee615-1565-40a3-bc32-4f3b8bd8e3ff",
   "metadata": {},
   "outputs": [],
   "source": [
    "# Assigning the mean row with index name 'Mean'\n",
    "new_row = pd.DataFrame(\n",
    "    [{'English': subject_mean[0],\n",
    "      'Physics': subject_mean[1],\n",
    "      'Maths': subject_mean[2],\n",
    "      'Biology': subject_mean[3],\n",
    "      'Computer': subject_mean[4],\n",
    "      'Total': np.sum(subject_mean)}],\n",
    "    index=[\"Mean\"]\n",
    ")"
   ]
  },
  {
   "cell_type": "code",
   "execution_count": 68,
   "id": "d03d0e94-e016-4126-8494-2c0b625577ee",
   "metadata": {},
   "outputs": [
    {
     "name": "stdout",
     "output_type": "stream",
     "text": [
      "      English  Physics  Maths  Biology  Computer  Total\n",
      "1        44.0     74.0   84.0     45.0      92.0  339.0\n",
      "2        80.0     59.0   55.0     48.0      77.0  319.0\n",
      "3        32.0     98.0   37.0     74.0      76.0  317.0\n",
      "4        33.0     91.0   80.0     37.0      54.0  295.0\n",
      "5        43.0     83.0   45.0     75.0      78.0  324.0\n",
      "6        48.0     85.0   82.0     36.0      58.0  309.0\n",
      "7        31.0     62.0   32.0     95.0      42.0  262.0\n",
      "8        39.0     45.0   83.0     52.0      61.0  280.0\n",
      "9        80.0     98.0   45.0     40.0      35.0  298.0\n",
      "10       93.0     79.0   74.0     96.0      95.0  437.0\n",
      "Mean     52.3     77.4   61.7     59.8      66.8  318.0\n"
     ]
    }
   ],
   "source": [
    "# Using pd.concat to add the new row with custom index\n",
    "final_result = pd.concat([result, new_row])\n",
    "print(final_result)"
   ]
  },
  {
   "cell_type": "code",
   "execution_count": 29,
   "id": "849c5ba1-fb6f-408b-a1c3-8424f0a74c84",
   "metadata": {},
   "outputs": [
    {
     "name": "stdout",
     "output_type": "stream",
     "text": [
      "         Day Coffee Type  Units Sold\n",
      "9     Friday       Latte          35\n",
      "10  Saturday    Espresso          45\n",
      "11  Saturday       Latte          35\n",
      "12    Sunday    Espresso          45\n",
      "13    Sunday       Latte          35\n"
     ]
    }
   ],
   "source": [
    "coffee_sale = pd.read_csv('./warmup-data/coffee.csv')\n",
    "print(coffee_sale.tail())"
   ]
  },
  {
   "cell_type": "code",
   "execution_count": 23,
   "id": "cfe447c1-9106-47a3-8dc9-d0f638c53213",
   "metadata": {},
   "outputs": [],
   "source": [
    "# coffee_sale.describe()"
   ]
  },
  {
   "cell_type": "code",
   "execution_count": 24,
   "id": "0f65fa65-f18f-46af-9a8a-43b0a0414e72",
   "metadata": {},
   "outputs": [],
   "source": [
    "# print(coffe_sale['Units Sold'])"
   ]
  },
  {
   "cell_type": "code",
   "execution_count": 26,
   "id": "eae51265-a3a1-4673-ad1f-59b765bf379e",
   "metadata": {},
   "outputs": [
    {
     "name": "stdout",
     "output_type": "stream",
     "text": [
      "      Day Coffee Type  Units Sold\n",
      "0  Monday    Espresso          25\n",
      "1  Monday       Latte          15\n"
     ]
    }
   ],
   "source": [
    "monday_sale = coffee_sale[coffee_sale['Day'] == 'Monday']\n",
    "print(monday_sale)"
   ]
  },
  {
   "cell_type": "code",
   "execution_count": 27,
   "id": "31f245f4-9f5b-4f14-9a98-e047c52f2a7b",
   "metadata": {},
   "outputs": [
    {
     "name": "stdout",
     "output_type": "stream",
     "text": [
      "          Day Coffee Type  Units Sold\n",
      "0      Monday    Espresso          25\n",
      "2     Tuesday    Espresso          30\n",
      "4   Wednesday    Espresso          35\n",
      "6    Thursday    Espresso          40\n",
      "8      Friday    Espresso          45\n",
      "10   Saturday    Espresso          45\n",
      "12     Sunday    Espresso          45\n"
     ]
    }
   ],
   "source": [
    "espresso_sale = coffee_sale[coffee_sale['Coffee Type'] == 'Espresso']\n",
    "print(espresso_sale)"
   ]
  },
  {
   "cell_type": "code",
   "execution_count": 20,
   "id": "55372cba-96db-48fb-b7fd-d0fc278bec64",
   "metadata": {},
   "outputs": [
    {
     "name": "stdout",
     "output_type": "stream",
     "text": [
      "          Day Coffee Type  Units Sold\n",
      "4   Wednesday    Espresso          35\n",
      "6    Thursday    Espresso          40\n",
      "8      Friday    Espresso          45\n",
      "9      Friday       Latte          35\n",
      "10   Saturday    Espresso          45\n",
      "11   Saturday       Latte          35\n",
      "12     Sunday    Espresso          45\n",
      "13     Sunday       Latte          35\n"
     ]
    }
   ],
   "source": [
    "high_price = coffee_sale[coffee_sale['Units Sold'] > 30]\n",
    "print(high_price)"
   ]
  },
  {
   "cell_type": "code",
   "execution_count": 30,
   "id": "6b072100-2c98-4e46-8067-baf60adc602c",
   "metadata": {},
   "outputs": [
    {
     "name": "stdout",
     "output_type": "stream",
     "text": [
      "Day              Friday\n",
      "Coffee Type    Espresso\n",
      "Units Sold           45\n",
      "Name: 8, dtype: object\n"
     ]
    }
   ],
   "source": [
    "eith_sale = coffee_sale.loc[8]\n",
    "print(eith_sale)"
   ]
  },
  {
   "cell_type": "code",
   "execution_count": null,
   "id": "6b552311-379a-43f9-80cb-ae94fe5ca9dd",
   "metadata": {},
   "outputs": [],
   "source": []
  },
  {
   "cell_type": "code",
   "execution_count": 21,
   "id": "258c021e-e9b9-4b25-8ae0-f8e8662322f1",
   "metadata": {},
   "outputs": [
    {
     "name": "stdout",
     "output_type": "stream",
     "text": [
      "      Name  Age\n",
      "a    Alice   24\n",
      "b      Bob   27\n",
      "c  Charlie   22\n"
     ]
    }
   ],
   "source": [
    "# Creating a DataFrame\n",
    "data = {\n",
    "    \"Name\": [\"Alice\", \"Bob\", \"Charlie\"],\n",
    "    \"Age\": [24, 27, 22]\n",
    "}\n",
    "df = pd.DataFrame(data, index=[\"a\", \"b\", \"c\"])\n",
    "print(df)"
   ]
  },
  {
   "cell_type": "code",
   "execution_count": 22,
   "id": "df5a47de-8b1c-41a7-b39b-81e30d77a995",
   "metadata": {},
   "outputs": [
    {
     "name": "stdout",
     "output_type": "stream",
     "text": [
      "Name    Bob\n",
      "Age      27\n",
      "Name: b, dtype: object\n"
     ]
    }
   ],
   "source": [
    "# Using .loc to access data by label\n",
    "row_b = df.loc[\"b\"]  # Access row with label \"b\"\n",
    "print(row_b)"
   ]
  },
  {
   "cell_type": "code",
   "execution_count": null,
   "id": "4b063e95-20bd-4dbd-9766-031885953a15",
   "metadata": {},
   "outputs": [],
   "source": [
    "age_of_bob = df.loc[\"b\", \"Age\"]  # Access \"Age\" of the row with label \"b\"\n",
    "print(age_of_bob)"
   ]
  },
  {
   "cell_type": "code",
   "execution_count": null,
   "id": "f572f006-923a-473c-90c9-cbbe800d2622",
   "metadata": {},
   "outputs": [],
   "source": []
  }
 ],
 "metadata": {
  "kernelspec": {
   "display_name": "Python 3 (ipykernel)",
   "language": "python",
   "name": "python3"
  },
  "language_info": {
   "codemirror_mode": {
    "name": "ipython",
    "version": 3
   },
   "file_extension": ".py",
   "mimetype": "text/x-python",
   "name": "python",
   "nbconvert_exporter": "python",
   "pygments_lexer": "ipython3",
   "version": "3.12.4"
  }
 },
 "nbformat": 4,
 "nbformat_minor": 5
}
