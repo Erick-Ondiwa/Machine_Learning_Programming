{
 "cells": [
  {
   "cell_type": "code",
   "execution_count": 1,
   "id": "84fd204f-d5df-4cb7-906f-89397caf1aff",
   "metadata": {},
   "outputs": [],
   "source": [
    "import pandas as pd\n",
    "import numpy as np"
   ]
  },
  {
   "cell_type": "code",
   "execution_count": 25,
   "id": "8bf136f7-9914-47aa-8e36-baab55ef493c",
   "metadata": {},
   "outputs": [
    {
     "name": "stdout",
     "output_type": "stream",
     "text": [
      "[[75 79 65 52 68]\n",
      " [34 83 66 50 44]\n",
      " [85 55 48 48 69]\n",
      " [50 61 52 89 71]\n",
      " [76 44 87 32 50]\n",
      " [80 52 53 99 63]\n",
      " [34 47 62 68 70]\n",
      " [72 91 90 97 95]\n",
      " [44 64 47 42 49]\n",
      " [30 68 98 92 70]\n",
      " [99 38 42 82 67]]\n"
     ]
    }
   ],
   "source": [
    "marks = np.random.randint(30, 100, (11,5))\n",
    "print(marks)"
   ]
  },
  {
   "cell_type": "code",
   "execution_count": 30,
   "id": "f7ad0396-cb04-4eed-8e57-1064e2843748",
   "metadata": {},
   "outputs": [
    {
     "name": "stdout",
     "output_type": "stream",
     "text": [
      "    English  Physics  Maths  Biology  Computer\n",
      "1        75       79     65       52        68\n",
      "2        34       83     66       50        44\n",
      "3        85       55     48       48        69\n",
      "4        50       61     52       89        71\n",
      "5        76       44     87       32        50\n",
      "6        80       52     53       99        63\n",
      "7        34       47     62       68        70\n",
      "8        72       91     90       97        95\n",
      "9        44       64     47       42        49\n",
      "10       30       68     98       92        70\n",
      "11       99       38     42       82        67\n"
     ]
    }
   ],
   "source": [
    "subjects = np.array([\"English\", \"Physics\", \"Maths\", \"Biology\", \"Computer\"])\n",
    "result = pd.DataFrame(marks, columns=subjects, index=np.arange(1,12))\n",
    "print(result)"
   ]
  },
  {
   "cell_type": "code",
   "execution_count": 17,
   "id": "437dbe17-8b6c-4824-9bc9-37b9ff34a7d9",
   "metadata": {},
   "outputs": [
    {
     "name": "stdout",
     "output_type": "stream",
     "text": [
      "[277 302 334 272 302 292 316 302 346 323]\n"
     ]
    }
   ],
   "source": [
    "# Computing the total marks for each student\n",
    "total_marks = np.sum(marks, axis=1)\n",
    "print(total_marks)"
   ]
  },
  {
   "cell_type": "code",
   "execution_count": 18,
   "id": "4f2ad605-d85d-4598-8e89-7ee001729502",
   "metadata": {},
   "outputs": [
    {
     "name": "stdout",
     "output_type": "stream",
     "text": [
      "    English  Physics  Maths  Biology  Computer  Total\n",
      "1        53       67     62       50        45    277\n",
      "2        43       63     55       57        84    302\n",
      "3        82       47     65       53        87    334\n",
      "4        46       49     78       67        32    272\n",
      "5        51       65     85       53        48    302\n",
      "6        67       61     57       42        65    292\n",
      "7        77       57     32       84        66    316\n",
      "8        93       49     57       32        71    302\n",
      "9        60       41     81       71        93    346\n",
      "10       37       93     32       87        74    323\n"
     ]
    }
   ],
   "source": [
    "result[\"Total\"] = total_marks\n",
    "print(result)"
   ]
  },
  {
   "cell_type": "code",
   "execution_count": 34,
   "id": "40d5cae0-89a4-4c47-8e96-2c2617f4dd10",
   "metadata": {},
   "outputs": [
    {
     "name": "stdout",
     "output_type": "stream",
     "text": [
      "[61.72727273 62.         64.54545455 68.27272727 65.09090909]\n"
     ]
    }
   ],
   "source": [
    "# Computing the mean of each subject\n",
    "subject_mean = np.mean(marks, axis=0)\n",
    "print(subject_mean)"
   ]
  },
  {
   "cell_type": "code",
   "execution_count": 36,
   "id": "7fdee615-1565-40a3-bc32-4f3b8bd8e3ff",
   "metadata": {},
   "outputs": [
    {
     "name": "stdout",
     "output_type": "stream",
     "text": [
      "    English  Physics  Maths  Biology  Computer\n",
      "1        75       79     65       52        68\n",
      "2        34       83     66       50        44\n",
      "3        85       55     48       48        69\n",
      "4        50       61     52       89        71\n",
      "5        76       44     87       32        50\n",
      "6        80       52     53       99        63\n",
      "7        34       47     62       68        70\n",
      "8        72       91     90       97        95\n",
      "9        44       64     47       42        49\n",
      "10       30       68     98       92        70\n",
      "11       99       38     42       82        67\n"
     ]
    }
   ],
   "source": [
    "# Assigning the mean row to the result\n",
    "marks[11:] = subject_mean\n",
    "print(result)"
   ]
  },
  {
   "cell_type": "code",
   "execution_count": 29,
   "id": "849c5ba1-fb6f-408b-a1c3-8424f0a74c84",
   "metadata": {},
   "outputs": [
    {
     "name": "stdout",
     "output_type": "stream",
     "text": [
      "         Day Coffee Type  Units Sold\n",
      "9     Friday       Latte          35\n",
      "10  Saturday    Espresso          45\n",
      "11  Saturday       Latte          35\n",
      "12    Sunday    Espresso          45\n",
      "13    Sunday       Latte          35\n"
     ]
    }
   ],
   "source": [
    "coffee_sale = pd.read_csv('./warmup-data/coffee.csv')\n",
    "print(coffee_sale.tail())"
   ]
  },
  {
   "cell_type": "code",
   "execution_count": 23,
   "id": "cfe447c1-9106-47a3-8dc9-d0f638c53213",
   "metadata": {},
   "outputs": [],
   "source": [
    "# coffee_sale.describe()"
   ]
  },
  {
   "cell_type": "code",
   "execution_count": 24,
   "id": "0f65fa65-f18f-46af-9a8a-43b0a0414e72",
   "metadata": {},
   "outputs": [],
   "source": [
    "# print(coffe_sale['Units Sold'])"
   ]
  },
  {
   "cell_type": "code",
   "execution_count": 26,
   "id": "eae51265-a3a1-4673-ad1f-59b765bf379e",
   "metadata": {},
   "outputs": [
    {
     "name": "stdout",
     "output_type": "stream",
     "text": [
      "      Day Coffee Type  Units Sold\n",
      "0  Monday    Espresso          25\n",
      "1  Monday       Latte          15\n"
     ]
    }
   ],
   "source": [
    "monday_sale = coffee_sale[coffee_sale['Day'] == 'Monday']\n",
    "print(monday_sale)"
   ]
  },
  {
   "cell_type": "code",
   "execution_count": 27,
   "id": "31f245f4-9f5b-4f14-9a98-e047c52f2a7b",
   "metadata": {},
   "outputs": [
    {
     "name": "stdout",
     "output_type": "stream",
     "text": [
      "          Day Coffee Type  Units Sold\n",
      "0      Monday    Espresso          25\n",
      "2     Tuesday    Espresso          30\n",
      "4   Wednesday    Espresso          35\n",
      "6    Thursday    Espresso          40\n",
      "8      Friday    Espresso          45\n",
      "10   Saturday    Espresso          45\n",
      "12     Sunday    Espresso          45\n"
     ]
    }
   ],
   "source": [
    "espresso_sale = coffee_sale[coffee_sale['Coffee Type'] == 'Espresso']\n",
    "print(espresso_sale)"
   ]
  },
  {
   "cell_type": "code",
   "execution_count": 20,
   "id": "55372cba-96db-48fb-b7fd-d0fc278bec64",
   "metadata": {},
   "outputs": [
    {
     "name": "stdout",
     "output_type": "stream",
     "text": [
      "          Day Coffee Type  Units Sold\n",
      "4   Wednesday    Espresso          35\n",
      "6    Thursday    Espresso          40\n",
      "8      Friday    Espresso          45\n",
      "9      Friday       Latte          35\n",
      "10   Saturday    Espresso          45\n",
      "11   Saturday       Latte          35\n",
      "12     Sunday    Espresso          45\n",
      "13     Sunday       Latte          35\n"
     ]
    }
   ],
   "source": [
    "high_price = coffee_sale[coffee_sale['Units Sold'] > 30]\n",
    "print(high_price)"
   ]
  },
  {
   "cell_type": "code",
   "execution_count": 21,
   "id": "258c021e-e9b9-4b25-8ae0-f8e8662322f1",
   "metadata": {},
   "outputs": [
    {
     "name": "stdout",
     "output_type": "stream",
     "text": [
      "      Name  Age\n",
      "a    Alice   24\n",
      "b      Bob   27\n",
      "c  Charlie   22\n"
     ]
    }
   ],
   "source": [
    "# Creating a DataFrame\n",
    "data = {\n",
    "    \"Name\": [\"Alice\", \"Bob\", \"Charlie\"],\n",
    "    \"Age\": [24, 27, 22]\n",
    "}\n",
    "df = pd.DataFrame(data, index=[\"a\", \"b\", \"c\"])\n",
    "print(df)"
   ]
  },
  {
   "cell_type": "code",
   "execution_count": 22,
   "id": "df5a47de-8b1c-41a7-b39b-81e30d77a995",
   "metadata": {},
   "outputs": [
    {
     "name": "stdout",
     "output_type": "stream",
     "text": [
      "Name    Bob\n",
      "Age      27\n",
      "Name: b, dtype: object\n"
     ]
    }
   ],
   "source": [
    "# Using .loc to access data by label\n",
    "row_b = df.loc[\"b\"]  # Access row with label \"b\"\n",
    "print(row_b)"
   ]
  },
  {
   "cell_type": "code",
   "execution_count": null,
   "id": "4b063e95-20bd-4dbd-9766-031885953a15",
   "metadata": {},
   "outputs": [],
   "source": [
    "age_of_bob = df.loc[\"b\", \"Age\"]  # Access \"Age\" of the row with label \"b\"\n",
    "print(age_of_bob)"
   ]
  }
 ],
 "metadata": {
  "kernelspec": {
   "display_name": "Python 3 (ipykernel)",
   "language": "python",
   "name": "python3"
  },
  "language_info": {
   "codemirror_mode": {
    "name": "ipython",
    "version": 3
   },
   "file_extension": ".py",
   "mimetype": "text/x-python",
   "name": "python",
   "nbconvert_exporter": "python",
   "pygments_lexer": "ipython3",
   "version": "3.12.4"
  }
 },
 "nbformat": 4,
 "nbformat_minor": 5
}
