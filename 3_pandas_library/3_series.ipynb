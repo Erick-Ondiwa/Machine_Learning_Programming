{
 "cells": [
  {
   "cell_type": "code",
   "execution_count": 15,
   "id": "3913ab61-3cb9-423d-a796-fa5a229d005a",
   "metadata": {},
   "outputs": [],
   "source": [
    "import pandas as pd"
   ]
  },
  {
   "cell_type": "code",
   "execution_count": null,
   "id": "a89492ed-a6e9-426a-a4fb-741a09422898",
   "metadata": {},
   "outputs": [],
   "source": [
    "# The Series data structure in pandas is a one-dimensional labeled (indexed) array, \n",
    "# similar to a list or a column in a spreadsheet or database table.\n",
    "# The elements in a list are of the same data type."
   ]
  },
  {
   "cell_type": "code",
   "execution_count": 5,
   "id": "fa98660e-bc57-4c5c-ac48-9cdaf1ee01bb",
   "metadata": {},
   "outputs": [
    {
     "name": "stdout",
     "output_type": "stream",
     "text": [
      "a    100\n",
      "b    200\n",
      "c    300\n",
      "dtype: int64\n"
     ]
    }
   ],
   "source": [
    "# Creating pandas series:\n",
    "    # You can create a Series from various data types like lists, dictionaries, or NumPy arrays.\n",
    "import pandas as pd\n",
    "import numpy as np\n",
    "\n",
    "# Creating a Series from a list\n",
    "data = [10, 20, 30, 40]\n",
    "series = pd.Series(data)\n",
    "# print(series)\n",
    "\n",
    "# Creating a Series with custom index\n",
    "series_with_index = pd.Series(data, index=np.arange(1,5))\n",
    "# print(series_with_index)\n",
    "\n",
    "# Creating a Series from a dictionary\n",
    "data_dict = {'a': 100, 'b': 200, 'c': 300}\n",
    "series_from_dict = pd.Series(data_dict)\n",
    "print(series_from_dict)\n"
   ]
  },
  {
   "cell_type": "code",
   "execution_count": 8,
   "id": "d8ea0281-d7c2-4a7b-9a69-aff4e01c463a",
   "metadata": {},
   "outputs": [
    {
     "name": "stdout",
     "output_type": "stream",
     "text": [
      "Erick    [50, 60, 76]\n",
      "Shad     [45, 90, 20]\n",
      "Mark     [30, 10, 99]\n",
      "dtype: object\n"
     ]
    }
   ],
   "source": [
    "stu_data = {'Erick': [50, 60, 76], 'Shad': [45, 90, 20], 'Mark': [30, 10, 99]}\n",
    "result = pd.Series(stu_data)\n",
    "print(result)"
   ]
  },
  {
   "cell_type": "code",
   "execution_count": 13,
   "id": "0145c0c7-5ba5-427b-ba38-6b62f26dcf8a",
   "metadata": {},
   "outputs": [
    {
     "name": "stdout",
     "output_type": "stream",
     "text": [
      "10\n",
      "10\n",
      "0    15\n",
      "1    25\n",
      "2    35\n",
      "3    45\n",
      "dtype: int64\n",
      "2    30\n",
      "3    40\n",
      "dtype: int64\n"
     ]
    }
   ],
   "source": [
    "# Operations on pandas series\n",
    "#   1. Element Access:There are two ways of accessing elements in a series:\n",
    "        # by position or index label(key)\n",
    "\n",
    "print(series[0])       # Access by position\n",
    "print(series_with_index[1])  # Access by index label\n",
    "\n",
    "#  2. Mathematical Operations:\n",
    "    # Series supports element-wise mathematical operations and broadcasting\n",
    "\n",
    "print(series + 5)      # Adds 5 to every element in the series\n",
    "\n",
    "# 3. Filtering:\n",
    "    # You can apply conditions to filter out specific elements:\n",
    "\n",
    "filtered_series = series[series > 20]\n",
    "print(filtered_series)\n"
   ]
  },
  {
   "cell_type": "code",
   "execution_count": 16,
   "id": "2e4f3053-b57f-48cb-a9a1-c9c191af28f4",
   "metadata": {},
   "outputs": [],
   "source": [
    "# 4. Handling Missing Data:\n",
    "        # A Series can contain missing data, represented by NaN (Not a Number). \n",
    "            # Pandas provides methods to handle missing data such as isnull(), fillna(), or dropna().\n"
   ]
  },
  {
   "cell_type": "code",
   "execution_count": 18,
   "id": "a2f1d81f-8ae7-45af-b25b-27b002084339",
   "metadata": {},
   "outputs": [],
   "source": [
    "# Creating a Series with missing data\n",
    "data = [10, None, 30, None, 50]\n",
    "series_data = pd.Series(data)"
   ]
  },
  {
   "cell_type": "code",
   "execution_count": 24,
   "id": "514cff83-4503-49b3-9ab6-0754fac1dd61",
   "metadata": {},
   "outputs": [
    {
     "name": "stdout",
     "output_type": "stream",
     "text": [
      "0    False\n",
      "1     True\n",
      "2    False\n",
      "3     True\n",
      "4    False\n",
      "dtype: bool\n"
     ]
    }
   ],
   "source": [
    "# Check for missing data\n",
    "print(series_data.isnull())"
   ]
  },
  {
   "cell_type": "code",
   "execution_count": null,
   "id": "90a25f37-07c2-48fd-9e02-8b7453e635bb",
   "metadata": {},
   "outputs": [],
   "source": [
    "# # Fill missing data with a default value\n",
    "filled_series = series_with_nan.fillna(0)\n",
    "print(filled_series)"
   ]
  },
  {
   "cell_type": "code",
   "execution_count": null,
   "id": "29c80374-fcc2-476e-811d-0519d25b38d6",
   "metadata": {},
   "outputs": [],
   "source": [
    "# Drop missing data\n",
    "dropped_series = series_with_nan.dropna()\n",
    "print(dropped_series)"
   ]
  }
 ],
 "metadata": {
  "kernelspec": {
   "display_name": "Python 3 (ipykernel)",
   "language": "python",
   "name": "python3"
  },
  "language_info": {
   "codemirror_mode": {
    "name": "ipython",
    "version": 3
   },
   "file_extension": ".py",
   "mimetype": "text/x-python",
   "name": "python",
   "nbconvert_exporter": "python",
   "pygments_lexer": "ipython3",
   "version": "3.12.4"
  }
 },
 "nbformat": 4,
 "nbformat_minor": 5
}
