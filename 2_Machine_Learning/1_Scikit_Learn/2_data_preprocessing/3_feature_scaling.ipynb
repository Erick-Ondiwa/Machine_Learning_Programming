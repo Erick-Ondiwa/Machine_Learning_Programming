{
 "cells": [
  {
   "cell_type": "markdown",
   "id": "63c71bda-06cc-4ff8-9c8a-4f15e623c010",
   "metadata": {},
   "source": [
    "## Feature Scaling\n",
    "Feature scaling ensures that all numerical features contribute equally to the model. Two common techniques:\n",
    "✅ Standardization (Z-score scaling): Converts data to have mean 0 and standard deviation 1.\n",
    "✅ Normalization (Min-max scaling): Scales values between 0 and 1."
   ]
  },
  {
   "cell_type": "markdown",
   "id": "cc3caa63-6518-4458-b4bb-f238abde3d85",
   "metadata": {},
   "source": [
    "## 🔸 Example: Standardization & Normalization"
   ]
  },
  {
   "cell_type": "code",
   "execution_count": 3,
   "id": "ea376e94-4d6d-4d2b-ba3f-9844ff43527d",
   "metadata": {},
   "outputs": [],
   "source": [
    "import numpy as np\n",
    "import pandas as pd\n",
    "from sklearn.model_selection import train_test_split\n",
    "from sklearn.linear_model import LinearRegression\n",
    "from sklearn.metrics import mean_squared_error"
   ]
  },
  {
   "cell_type": "code",
   "execution_count": 5,
   "id": "8ef1bd75-75de-44e1-8c08-707e4fa2f70c",
   "metadata": {},
   "outputs": [],
   "source": [
    "from sklearn.preprocessing import StandardScaler, MinMaxScaler\n",
    "\n",
    "data = np.array([[50], [100], [200], [400], [800]])"
   ]
  },
  {
   "cell_type": "code",
   "execution_count": 7,
   "id": "31ae669a-1689-48b8-a8a1-1a5437897f91",
   "metadata": {},
   "outputs": [],
   "source": [
    "scaler_standard = StandardScaler()\n",
    "scaler_minmax = MinMaxScaler()"
   ]
  },
  {
   "cell_type": "code",
   "execution_count": 9,
   "id": "f24fe00e-9da5-4fdd-b0e2-41a5ab7efe79",
   "metadata": {},
   "outputs": [
    {
     "name": "stdout",
     "output_type": "stream",
     "text": [
      "Standardized Data:\n",
      " [[-0.95320625]\n",
      " [-0.76989735]\n",
      " [-0.40327957]\n",
      " [ 0.32995601]\n",
      " [ 1.79642716]]\n",
      "\n",
      "Normalized Data:\n",
      " [[0.        ]\n",
      " [0.06666667]\n",
      " [0.2       ]\n",
      " [0.46666667]\n",
      " [1.        ]]\n"
     ]
    }
   ],
   "source": [
    "standardized_data = scaler_standard.fit_transform(data)\n",
    "normalized_data = scaler_minmax.fit_transform(data)\n",
    "\n",
    "print(\"Standardized Data:\\n\", standardized_data)\n",
    "print(\"\\nNormalized Data:\\n\", normalized_data)"
   ]
  },
  {
   "cell_type": "markdown",
   "id": "ec9eba8b-e44f-442d-9a05-a548532e083f",
   "metadata": {},
   "source": [
    "## 📌 When to use?\n",
    "\n",
    "Use Standardization for algorithms like SVM, k-NN, Logistic Regression.\n",
    "Use Normalization for algorithms like Neural Networks, K-Means Clustering"
   ]
  }
 ],
 "metadata": {
  "kernelspec": {
   "display_name": "Python 3 (ipykernel)",
   "language": "python",
   "name": "python3"
  },
  "language_info": {
   "codemirror_mode": {
    "name": "ipython",
    "version": 3
   },
   "file_extension": ".py",
   "mimetype": "text/x-python",
   "name": "python",
   "nbconvert_exporter": "python",
   "pygments_lexer": "ipython3",
   "version": "3.12.4"
  }
 },
 "nbformat": 4,
 "nbformat_minor": 5
}
