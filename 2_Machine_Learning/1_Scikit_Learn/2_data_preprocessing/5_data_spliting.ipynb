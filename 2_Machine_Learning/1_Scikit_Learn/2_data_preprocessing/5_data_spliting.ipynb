{
 "cells": [
  {
   "cell_type": "markdown",
   "id": "c4931c86-d21f-46ac-b8c8-c9b5052446f2",
   "metadata": {},
   "source": [
    "## 🔹 5. Splitting Data into Training & Testing Sets\n",
    "Before training a model, we split data into training and testing sets using train_test_split.\n"
   ]
  },
  {
   "cell_type": "markdown",
   "id": "b48d0bf5-08dc-4d1d-b896-adea8b9e8cda",
   "metadata": {},
   "source": [
    "## 🔸 Example: Splitting Data"
   ]
  },
  {
   "cell_type": "code",
   "execution_count": 3,
   "id": "9426acd2-f7b1-42ea-88fb-619739a70e25",
   "metadata": {},
   "outputs": [],
   "source": [
    "import numpy as np\n",
    "from sklearn.model_selection import train_test_split\n"
   ]
  },
  {
   "cell_type": "code",
   "execution_count": 7,
   "id": "bb30ead4-dc7a-48bd-bbde-0c46d4a2a506",
   "metadata": {},
   "outputs": [],
   "source": [
    "X = np.array([[1], [2], [3], [4], [5], [6], [7], [8]])\n",
    "y = np.array([10, 20, 30, 40, 50, 60, 70, 80])\n"
   ]
  },
  {
   "cell_type": "code",
   "execution_count": null,
   "id": "a087d66b-c892-4263-9032-31164fb70a3d",
   "metadata": {},
   "outputs": [],
   "source": [
    "X_train, X_test, y_train, y_test = train_test_split(X, y, test_size=0.2, random_state=42)\n",
    "\n",
    "print(\"Training Set:\\n\", X_train)\n",
    "print(\"\\nTesting Set:\\n\", X_test)"
   ]
  }
 ],
 "metadata": {
  "kernelspec": {
   "display_name": "Python 3 (ipykernel)",
   "language": "python",
   "name": "python3"
  },
  "language_info": {
   "codemirror_mode": {
    "name": "ipython",
    "version": 3
   },
   "file_extension": ".py",
   "mimetype": "text/x-python",
   "name": "python",
   "nbconvert_exporter": "python",
   "pygments_lexer": "ipython3",
   "version": "3.12.4"
  }
 },
 "nbformat": 4,
 "nbformat_minor": 5
}
