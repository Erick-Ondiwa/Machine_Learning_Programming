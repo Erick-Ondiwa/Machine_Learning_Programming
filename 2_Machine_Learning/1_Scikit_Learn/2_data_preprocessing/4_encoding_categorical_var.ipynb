{
 "cells": [
  {
   "cell_type": "markdown",
   "id": "852b5d3f-92b7-4517-8ae4-2a19dda07623",
   "metadata": {},
   "source": [
    "## 🔹 4. Encoding Categorical Variables\n",
    "Machine learning models require numerical data, so we must convert categorical variables into numbers."
   ]
  },
  {
   "cell_type": "markdown",
   "id": "aecc9704-340f-4515-b158-84b4701e8ebd",
   "metadata": {},
   "source": [
    "## 🔸 One-Hot Encoding"
   ]
  },
  {
   "cell_type": "code",
   "execution_count": 5,
   "id": "9fc57dc4-11ab-424c-baca-d1cc104fa7de",
   "metadata": {},
   "outputs": [],
   "source": [
    "import numpy as np\n",
    "import pandas as pd\n",
    "from sklearn.preprocessing import OneHotEncoder\n"
   ]
  },
  {
   "cell_type": "code",
   "execution_count": 7,
   "id": "f761cec6-682c-4874-b769-e90d544dd236",
   "metadata": {},
   "outputs": [],
   "source": [
    "# Sample categorical data\n",
    "data = np.array([['Red'], ['Blue'], ['Green'], ['Red'], ['Blue']])"
   ]
  },
  {
   "cell_type": "code",
   "execution_count": 9,
   "id": "debf8c9b-911b-431a-8906-691cd53130a8",
   "metadata": {},
   "outputs": [
    {
     "name": "stdout",
     "output_type": "stream",
     "text": [
      "One-Hot Encoded Data:\n",
      " [[0. 0. 1.]\n",
      " [1. 0. 0.]\n",
      " [0. 1. 0.]\n",
      " [0. 0. 1.]\n",
      " [1. 0. 0.]]\n"
     ]
    }
   ],
   "source": [
    "encoder = OneHotEncoder(sparse_output=False)\n",
    "encoded_data = encoder.fit_transform(data)\n",
    "\n",
    "print(\"One-Hot Encoded Data:\\n\", encoded_data)"
   ]
  },
  {
   "cell_type": "markdown",
   "id": "66d92111-ed0c-4ccf-abb7-5e187f0e33e5",
   "metadata": {},
   "source": [
    "## 📌 Other techniques:\n",
    "\n",
    "Label Encoding – Assigns each category a unique number\n",
    "Ordinal Encoding – Useful for ordered categories (e.g., Low, Medium, High)\n"
   ]
  }
 ],
 "metadata": {
  "kernelspec": {
   "display_name": "Python 3 (ipykernel)",
   "language": "python",
   "name": "python3"
  },
  "language_info": {
   "codemirror_mode": {
    "name": "ipython",
    "version": 3
   },
   "file_extension": ".py",
   "mimetype": "text/x-python",
   "name": "python",
   "nbconvert_exporter": "python",
   "pygments_lexer": "ipython3",
   "version": "3.12.4"
  }
 },
 "nbformat": 4,
 "nbformat_minor": 5
}
