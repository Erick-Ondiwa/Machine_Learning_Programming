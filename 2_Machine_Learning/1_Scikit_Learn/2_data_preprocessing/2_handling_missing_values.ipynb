{
 "cells": [
  {
   "cell_type": "markdown",
   "id": "2f9f616a-0873-42a6-9779-c44a517f8e57",
   "metadata": {},
   "source": [
    "## 🔹 2. Handling Missing Values\n",
    "Missing data can negatively impact model performance. Scikit-learn provides SimpleImputer to fill missing values."
   ]
  },
  {
   "cell_type": "code",
   "execution_count": 1,
   "id": "34a7c062-c661-4210-bd77-5cc495502982",
   "metadata": {},
   "outputs": [],
   "source": [
    "import numpy as np\n",
    "import pandas as pd\n",
    "from sklearn.impute import SimpleImputer\n"
   ]
  },
  {
   "cell_type": "code",
   "execution_count": 3,
   "id": "5d3e5d56-d7e9-4fe8-9b93-da533f9a00c2",
   "metadata": {},
   "outputs": [],
   "source": [
    "# Sample dataset with missing values\n",
    "data = {'Age': [25, np.nan, 30, 35, np.nan, 40], \n",
    "        'Salary': [50000, 60000, np.nan, 80000, 90000, 100000]}\n"
   ]
  },
  {
   "cell_type": "code",
   "execution_count": 5,
   "id": "be4a089a-b42c-48ef-8991-afe5c00c9210",
   "metadata": {},
   "outputs": [
    {
     "name": "stdout",
     "output_type": "stream",
     "text": [
      "Original Data:\n",
      "     Age    Salary\n",
      "0  25.0   50000.0\n",
      "1   NaN   60000.0\n",
      "2  30.0       NaN\n",
      "3  35.0   80000.0\n",
      "4   NaN   90000.0\n",
      "5  40.0  100000.0\n"
     ]
    }
   ],
   "source": [
    "df = pd.DataFrame(data)\n",
    "print(\"Original Data:\\n\", df)\n"
   ]
  },
  {
   "cell_type": "code",
   "execution_count": 7,
   "id": "945e4960-b6d2-4c1d-8abb-e3ac9a212f74",
   "metadata": {},
   "outputs": [
    {
     "name": "stdout",
     "output_type": "stream",
     "text": [
      "\n",
      "After Imputation:\n",
      "     Age    Salary\n",
      "0  25.0   50000.0\n",
      "1  32.5   60000.0\n",
      "2  30.0   76000.0\n",
      "3  35.0   80000.0\n",
      "4  32.5   90000.0\n",
      "5  40.0  100000.0\n"
     ]
    }
   ],
   "source": [
    "\n",
    "# Replace missing values with the column mean\n",
    "imputer = SimpleImputer(strategy='mean')\n",
    "df_imputed = pd.DataFrame(imputer.fit_transform(df), columns=df.columns)\n",
    "\n",
    "print(\"\\nAfter Imputation:\\n\", df_imputed)"
   ]
  },
  {
   "cell_type": "markdown",
   "id": "aa4b54e2-34d2-474c-bf7e-7375304fdd65",
   "metadata": {},
   "source": [
    "## 📌 Other strategies:\n",
    "\n",
    "\"median\" – replaces missing values with the median\n",
    "\"most_frequent\" – fills with the most common value\n",
    "\"constant\" – fills with a fixed value"
   ]
  }
 ],
 "metadata": {
  "kernelspec": {
   "display_name": "Python 3 (ipykernel)",
   "language": "python",
   "name": "python3"
  },
  "language_info": {
   "codemirror_mode": {
    "name": "ipython",
    "version": 3
   },
   "file_extension": ".py",
   "mimetype": "text/x-python",
   "name": "python",
   "nbconvert_exporter": "python",
   "pygments_lexer": "ipython3",
   "version": "3.12.4"
  }
 },
 "nbformat": 4,
 "nbformat_minor": 5
}
