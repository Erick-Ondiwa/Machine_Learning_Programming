{
 "cells": [
  {
   "cell_type": "markdown",
   "id": "5c6693eb-529e-40ff-800d-3067213ad4b2",
   "metadata": {},
   "source": [
    "## 📌 Data Preprocessing in Scikit-learn\n",
    "Data preprocessing is an essential step in any machine learning workflow. It involves cleaning, transforming, and preparing data before feeding it into a model. Scikit-learn provides powerful tools for handling missing values, scaling data, encoding categorical variables, and more.\n",
    "\n",
    "## 🔹 1. Steps in Data Preprocessing\n",
    "A typical data preprocessing pipeline includes:\n",
    "✅ Handling missing values (Imputation)\n",
    "✅ Feature scaling (Standardization & Normalization)\n",
    "✅ Encoding categorical variables\n",
    "✅ Feature selection & extraction\n",
    "✅ Splitting data into training & testing sets"
   ]
  }
 ],
 "metadata": {
  "kernelspec": {
   "display_name": "Python 3 (ipykernel)",
   "language": "python",
   "name": "python3"
  },
  "language_info": {
   "codemirror_mode": {
    "name": "ipython",
    "version": 3
   },
   "file_extension": ".py",
   "mimetype": "text/x-python",
   "name": "python",
   "nbconvert_exporter": "python",
   "pygments_lexer": "ipython3",
   "version": "3.12.4"
  }
 },
 "nbformat": 4,
 "nbformat_minor": 5
}
