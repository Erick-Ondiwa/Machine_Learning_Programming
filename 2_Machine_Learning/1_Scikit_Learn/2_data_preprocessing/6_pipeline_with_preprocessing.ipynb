{
 "cells": [
  {
   "cell_type": "markdown",
   "id": "a2a4d984-7685-462e-b212-4a1cbdb45c24",
   "metadata": {},
   "source": [
    "## 🔹 6. Combining Preprocessing Steps with Pipelines\n",
    "Instead of applying preprocessing steps separately, we can combine them into a pipeline for efficiency.\n"
   ]
  },
  {
   "cell_type": "markdown",
   "id": "47eea8e5-9b00-44a3-a509-628c38605ce4",
   "metadata": {},
   "source": [
    "## 🔸 Example: Pipeline for Preprocessing"
   ]
  },
  {
   "cell_type": "code",
   "execution_count": 5,
   "id": "ef2626dd-cb5a-4d2d-ab0a-547477e900ed",
   "metadata": {},
   "outputs": [],
   "source": [
    "import numpy as np\n",
    "from sklearn.pipeline import Pipeline\n",
    "from sklearn.impute import SimpleImputer\n",
    "from sklearn.preprocessing import StandardScaler\n"
   ]
  },
  {
   "cell_type": "code",
   "execution_count": 7,
   "id": "ede5cc74-c832-4821-802c-6b64d65daed8",
   "metadata": {},
   "outputs": [],
   "source": [
    "# Define a preprocessing pipeline\n",
    "pipeline = Pipeline([\n",
    "    ('imputer', SimpleImputer(strategy='mean')),  # Fill missing values\n",
    "    ('scaler', StandardScaler())  # Standardize features\n",
    "])"
   ]
  },
  {
   "cell_type": "code",
   "execution_count": null,
   "id": "3ecfbaaf-49de-44d0-8539-dcc0dd605e6c",
   "metadata": {},
   "outputs": [],
   "source": [
    "# Sample dataset with missing values\n",
    "X = np.array([[1], [2], [np.nan], [4], [5]])"
   ]
  },
  {
   "cell_type": "code",
   "execution_count": null,
   "id": "05e92c46-cf76-4dec-9327-38e75ba0454b",
   "metadata": {},
   "outputs": [],
   "source": [
    "# Apply the pipeline\n",
    "X_preprocessed = pipeline.fit_transform(X)\n",
    "print(\"Preprocessed Data:\\n\", X_preprocessed)"
   ]
  }
 ],
 "metadata": {
  "kernelspec": {
   "display_name": "Python 3 (ipykernel)",
   "language": "python",
   "name": "python3"
  },
  "language_info": {
   "codemirror_mode": {
    "name": "ipython",
    "version": 3
   },
   "file_extension": ".py",
   "mimetype": "text/x-python",
   "name": "python",
   "nbconvert_exporter": "python",
   "pygments_lexer": "ipython3",
   "version": "3.12.4"
  }
 },
 "nbformat": 4,
 "nbformat_minor": 5
}
