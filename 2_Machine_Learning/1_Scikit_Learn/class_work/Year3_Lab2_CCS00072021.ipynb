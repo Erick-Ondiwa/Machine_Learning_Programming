{
 "cells": [
  {
   "cell_type": "markdown",
   "id": "d7d13af9-491f-47fe-bde6-aff409e60226",
   "metadata": {},
   "source": [
    "REG NO\n",
    "\n",
    "CCS/00084/022\n",
    "CCS/00072/021"
   ]
  },
  {
   "cell_type": "code",
   "execution_count": 9,
   "id": "f02b977a-7871-4cc7-9c10-f9a588d3c66e",
   "metadata": {},
   "outputs": [],
   "source": [
    "import pandas as pd\n",
    "from sklearn.model_selection import train_test_split\n",
    "from sklearn.preprocessing import StandardScaler\n",
    "from sklearn.naive_bayes import GaussianNB\n",
    "from xgboost import XGBClassifier\n",
    "from sklearn.metrics import accuracy_score, precision_score, recall_score, f1_score, roc_auc_score"
   ]
  },
  {
   "cell_type": "code",
   "execution_count": null,
   "id": "54d450d1-a573-407b-ae34-5984a8d36901",
   "metadata": {},
   "outputs": [],
   "source": [
    "# Load the dataset\n",
    "url = (\"https://archive.ics.uci.edu/ml/machine-learning-databases/00350/default%20of%20credit%20card%20clients.xls\")\n",
    "df = pd.read_excel(url, header=1, index_col=4)\n",
    "df.head()"
   ]
  },
  {
   "cell_type": "code",
   "execution_count": null,
   "id": "e23a26c6-6a5f-48f9-9214-2b696b034c12",
   "metadata": {},
   "outputs": [],
   "source": [
    "# Separate features and target\n",
    "X = df.drop(‘default’, axis=1)\n",
    "Y = df[‘default’]"
   ]
  },
  {
   "cell_type": "code",
   "execution_count": null,
   "id": "188a737b-fd2a-4e71-9cb0-362c9e506d42",
   "metadata": {},
   "outputs": [],
   "source": [
    "# Split the data into training and testing sets\n",
    "X_train, X_test, y_train, y_test = train_test_split(X, y, test_size=0.2, random_state=42)\n"
   ]
  },
  {
   "cell_type": "code",
   "execution_count": null,
   "id": "8fdec3e9-4649-4f6c-b066-10e62214faf6",
   "metadata": {},
   "outputs": [],
   "source": [
    "# Standardize the features\n",
    "Scaler = StandardScaler()\n",
    "X_train_scaled = scaler.fit_transform(X_train)\n",
    "X_test_scaled = scaler.transform(X_test)"
   ]
  },
  {
   "cell_type": "code",
   "execution_count": null,
   "id": "2dd9ad50-9e02-48e6-82d7-827f2c37d7ba",
   "metadata": {},
   "outputs": [],
   "source": [
    "# Initialize the models\n",
    "Nb_model = GaussianNB()\n",
    "Xgb_model = XGBClassifier(use_label_encoder=False, eval_metric=’logloss’)"
   ]
  },
  {
   "cell_type": "code",
   "execution_count": null,
   "id": "ad243508-997c-435c-8d6f-8f92a8cd32c1",
   "metadata": {},
   "outputs": [],
   "source": [
    "# Train the models\n",
    "Nb_model.fit(X_train_scaled, y_train)\n",
    "Xgb_model.fit(X_train_scaled, y_train)\n"
   ]
  },
  {
   "cell_type": "code",
   "execution_count": null,
   "id": "5d66a5ce-6330-4b1c-98bd-773a6f985d1c",
   "metadata": {},
   "outputs": [],
   "source": [
    "# Make predictions\n",
    "Nb_predictions = nb_model.predict(X_test_scaled)\n",
    "Xgb_predictions = xgb_model.predict(X_test_scaled)"
   ]
  },
  {
   "cell_type": "code",
   "execution_count": null,
   "id": "9f20bb6f-1dfd-403a-ae72-82089a5ae9c9",
   "metadata": {},
   "outputs": [],
   "source": [
    "\n",
    "# Define a function to evaluate the models\n",
    "Def evaluate_model(true, pred):\n",
    "    Accuracy = accuracy_score(true, pred)\n",
    "    Precision = precision_score(true, pred)\n",
    "    Recall = recall_score(true, pred)\n",
    "    F1 = f1_score(true, pred)\n",
    "    Roc_auc = roc_auc_score(true, pred)\n",
    "    Return accuracy, precision, recall, f1, roc_auc"
   ]
  },
  {
   "cell_type": "code",
   "execution_count": null,
   "id": "f983197a-39b2-4755-b2d3-1f611477a2df",
   "metadata": {},
   "outputs": [],
   "source": [
    "# Evaluate Naive Bayes model\n",
    "Nb_metrics = evaluate_model(y_test, nb_predictions)\n",
    "Print(f”Naive Bayes Model:\\nAccuracy: {nb_metrics[0]:.4f}\\nPrecision: {nb_metrics[1]:.4f}\\nRecall: {nb_metrics[2]:.4f}\\nF1 Score: {nb_metrics[3]:.4f}\\nROC-AUC: {nb_metrics[4]:.4f}\\n”)\n"
   ]
  },
  {
   "cell_type": "code",
   "execution_count": null,
   "id": "4cfe71ce-e646-4227-ac93-f173451e44e3",
   "metadata": {},
   "outputs": [],
   "source": [
    "# Evaluate XGBoost model\n",
    "Xgb_metrics = evaluate_model(y_test, xgb_predictions)\n",
    "Print(f”XGBoost Model:\\nAccuracy: {xgb_metrics[0]:.4f}\\nPrecision: {xgb_metrics[1]:.4f}\\nRecall: {xgb_metrics[2]:.4f}\\nF1 Score: {xgb_metrics[3]:.4f}\\nROC-AUC: {xgb_metrics[4]:.4f}”)\n",
    "\n",
    "\n"
   ]
  },
  {
   "cell_type": "code",
   "execution_count": null,
   "id": "94fd9196-aafa-4530-806c-571e3a40ef9e",
   "metadata": {},
   "outputs": [],
   "source": []
  }
 ],
 "metadata": {
  "kernelspec": {
   "display_name": "Python 3 (ipykernel)",
   "language": "python",
   "name": "python3"
  },
  "language_info": {
   "codemirror_mode": {
    "name": "ipython",
    "version": 3
   },
   "file_extension": ".py",
   "mimetype": "text/x-python",
   "name": "python",
   "nbconvert_exporter": "python",
   "pygments_lexer": "ipython3",
   "version": "3.12.3"
  }
 },
 "nbformat": 4,
 "nbformat_minor": 5
}
