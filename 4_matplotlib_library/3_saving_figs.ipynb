{
 "cells": [
  {
   "cell_type": "markdown",
   "id": "a7f6c732-8430-4685-94e3-ec9333c59ba3",
   "metadata": {},
   "source": [
    "# Saving Figures\n",
    "In Matplotlib, saving or exporting figures is done using the savefig() function, which enables you to save visualizations to various formats like PNG, JPEG, SVG, PDF, etc. This is useful for sharing, embedding in reports, or preserving analysis results."
   ]
  },
  {
   "cell_type": "code",
   "execution_count": null,
   "id": "4f4a9de6-d1ab-455e-8c12-33c1f1357178",
   "metadata": {},
   "outputs": [],
   "source": [
    "plt.savefig(\"filename.png\") # This command saves the current figure as PNG file named 'filename.png' \n",
    "#                            in the same directory as the script or notebook.\n"
   ]
  },
  {
   "cell_type": "markdown",
   "id": "e2626067-bea1-415b-8ae3-7d85f9b8e39e",
   "metadata": {},
   "source": [
    "# Key Parameters of savefig()\n",
    "# 1.fname (str): \n",
    "The filename or path where the figure will be saved. The extension determines the file format (e.g., .png, .jpg, .pdf, .svg).\n",
    "\n",
    "# 2.dpi (int): \n",
    "Specifies the resolution of the saved figure in dots per inch (DPI). Higher DPI results in better quality but larger file size. Common DPI values are:"
   ]
  },
  {
   "cell_type": "code",
   "execution_count": null,
   "id": "85b072e1-83f1-4ec6-b352-ace7c54e6a4c",
   "metadata": {},
   "outputs": [],
   "source": [
    "plt.savefig(\"high_quality.png\", dpi=300) # 72 dpi: Standard screen resolution.\n",
    "                                        # 300 dpi: Suitable for print quality.\n"
   ]
  },
  {
   "cell_type": "markdown",
   "id": "7f5faa58-9c38-4759-8278-1320621f7cd4",
   "metadata": {},
   "source": [
    "# 3.bbox_inches (str or None):\n",
    "Adjusts the bounding box around the figure.\n",
    "\n",
    "'tight': Removes extra whitespace by cropping the figure closely.\n",
    "None: The default, which retains the usual margins around the figure."
   ]
  },
  {
   "cell_type": "code",
   "execution_count": null,
   "id": "8645e763-2ba8-4c13-9778-a062de90b83c",
   "metadata": {},
   "outputs": [],
   "source": [
    "plt.savefig(\"cropped_image.png\", bbox_inches='tight')"
   ]
  },
  {
   "cell_type": "markdown",
   "id": "17f64749-8f7c-4734-b2ce-e084b24efaeb",
   "metadata": {},
   "source": [
    "# 4.format (str):\n",
    "Specifies the format if it’s not inferred from the filename. This can be useful for saving in multiple formats."
   ]
  },
  {
   "cell_type": "code",
   "execution_count": null,
   "id": "1fad96d7-660c-459e-bbe2-4a4fc087624b",
   "metadata": {},
   "outputs": [],
   "source": [
    "plt.savefig(\"image\", format=\"pdf\")  # Saves as PDF without specifying \".pdf\" in the filename"
   ]
  },
  {
   "cell_type": "markdown",
   "id": "32c5b1d4-ada9-4a08-b3d9-c97013c973eb",
   "metadata": {},
   "source": [
    "# 5.transparent (bool): \n",
    "Saves the figure with a transparent background (useful for overlays or web usage).\n",
    "\n",
    "True: Background is transparent.\n",
    "False: Background remains as-is."
   ]
  },
  {
   "cell_type": "code",
   "execution_count": null,
   "id": "9b5e7c74-d6d3-4bf9-9ce7-07e4fce4155d",
   "metadata": {},
   "outputs": [],
   "source": [
    "plt.savefig(\"transparent_figure.png\", transparent=True)"
   ]
  },
  {
   "cell_type": "markdown",
   "id": "399511d2-6ff7-45ce-9cfe-d0920eb5915a",
   "metadata": {},
   "source": [
    "# 6.facecolor and edgecolor (str): \n",
    "Define the background and border colors of the saved figure. This can be useful for custom styling in presentations."
   ]
  },
  {
   "cell_type": "code",
   "execution_count": null,
   "id": "d26b7c0d-df8b-492f-b92b-9bb8ace5278b",
   "metadata": {},
   "outputs": [],
   "source": [
    "plt.savefig(\"colored_background.png\", facecolor='white', edgecolor='blue')"
   ]
  }
 ],
 "metadata": {
  "kernelspec": {
   "display_name": "Python 3 (ipykernel)",
   "language": "python",
   "name": "python3"
  },
  "language_info": {
   "codemirror_mode": {
    "name": "ipython",
    "version": 3
   },
   "file_extension": ".py",
   "mimetype": "text/x-python",
   "name": "python",
   "nbconvert_exporter": "python",
   "pygments_lexer": "ipython3",
   "version": "3.12.4"
  }
 },
 "nbformat": 4,
 "nbformat_minor": 5
}
