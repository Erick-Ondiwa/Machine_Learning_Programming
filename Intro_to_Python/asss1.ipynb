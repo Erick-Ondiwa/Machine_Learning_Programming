{
 "cells": [
  {
   "cell_type": "code",
   "execution_count": null,
   "id": "90ccb021-b4cb-4fb6-ad60-955baad9f8c1",
   "metadata": {},
   "outputs": [],
   "source": []
  },
  {
   "cell_type": "code",
   "execution_count": null,
   "id": "2e72080c-99fa-451e-8f4b-2724d649f8fe",
   "metadata": {},
   "outputs": [],
   "source": []
  },
  {
   "cell_type": "code",
   "execution_count": 11,
   "id": "8b7c2977-c582-48a7-a6c3-a301b0a8046e",
   "metadata": {},
   "outputs": [
    {
     "ename": "NameError",
     "evalue": "name 'n' is not defined",
     "output_type": "error",
     "traceback": [
      "\u001b[1;31m---------------------------------------------------------------------------\u001b[0m",
      "\u001b[1;31mNameError\u001b[0m                                 Traceback (most recent call last)",
      "Cell \u001b[1;32mIn[11], line 26\u001b[0m\n\u001b[0;32m      1\u001b[0m \u001b[38;5;66;03m# from datetime import date\u001b[39;00m\n\u001b[0;32m      2\u001b[0m \u001b[38;5;66;03m# from datetime import datetime\u001b[39;00m\n\u001b[0;32m      3\u001b[0m \u001b[38;5;66;03m# names = [\"Erick Ondiwa\", \"James Wasonga\", \"Felix Awere\", \"Shadrack Mutinda\", \"Mark Emmanuel\"]\u001b[39;00m\n\u001b[1;32m   (...)\u001b[0m\n\u001b[0;32m     23\u001b[0m \u001b[38;5;66;03m# for idx, name in enumerate(names):\u001b[39;00m\n\u001b[0;32m     24\u001b[0m \u001b[38;5;66;03m#     print(idx, name)\u001b[39;00m\n\u001b[1;32m---> 26\u001b[0m new_list \u001b[38;5;241m=\u001b[39m [n\u001b[38;5;241m*\u001b[39m\u001b[38;5;241m*\u001b[39m\u001b[38;5;241m3\u001b[39m \u001b[38;5;28;01mfor\u001b[39;00m x \u001b[38;5;129;01min\u001b[39;00m \u001b[38;5;28mrange\u001b[39m(\u001b[38;5;241m-\u001b[39m\u001b[38;5;241m100\u001b[39m,\u001b[38;5;241m101\u001b[39m)]\n\u001b[0;32m     27\u001b[0m \u001b[38;5;66;03m# for list1 in new_list:\u001b[39;00m\n\u001b[0;32m     28\u001b[0m \u001b[38;5;28mprint\u001b[39m(new_list)\n",
      "\u001b[1;31mNameError\u001b[0m: name 'n' is not defined"
     ]
    }
   ],
   "source": [
    "# from datetime import date\n",
    "# from datetime import datetime\n",
    "# names = [\"Erick Ondiwa\", \"James Wasonga\", \"Felix Awere\", \"Shadrack Mutinda\", \"Mark Emmanuel\"]\n",
    "\n",
    "# year_of_births = [2000, 2001, 2002, 2003, 2004]\n",
    "\n",
    "# name_idx = 0\n",
    "# current_year = date.today()\n",
    "\n",
    "# for name in names:\n",
    "#     person_year = year_of_births[name_idx]\n",
    "#     current_year = datetime.now().year\n",
    "\n",
    "#     age = current_year - person_year\n",
    "#     # yob_idx = 0\n",
    "#     print(f\"{name} you are:{age} years old.\")\n",
    "\n",
    "#     name_idx += 1\n",
    "\n",
    "# for name, birth in zip(names, year_of_births):\n",
    "#     print(name, birth)\n",
    "\n",
    "# for idx, name in enumerate(names):\n",
    "#     print(idx, name)\n",
    "\n",
    "\n"
   ]
  },
  {
   "cell_type": "code",
   "execution_count": 17,
   "id": "e6a90e38-382b-4e45-a39c-c9ba51ff0821",
   "metadata": {},
   "outputs": [
    {
     "name": "stdout",
     "output_type": "stream",
     "text": [
      "[20, 4.5, 80]\n"
     ]
    }
   ],
   "source": [
    "ages = [10, 1.5, 20]\n",
    "insurance = [2, 3, 4]\n",
    "new = [ages * ins for ages,ins in zip(ages, insurance)]\n",
    "print(new)"
   ]
  },
  {
   "cell_type": "code",
   "execution_count": 20,
   "id": "11aa87c2-eba9-4a40-b2c6-295c5a8e34d5",
   "metadata": {},
   "outputs": [
    {
     "name": "stdout",
     "output_type": "stream",
     "text": [
      "[-1000000, -970299, -941192, -912673, -884736, -857375, -830584, -804357, -778688, -753571, -729000, -704969, -681472, -658503, -636056, -614125, -592704, -571787, -551368, -531441, -512000, -493039, -474552, -456533, -438976, -421875, -405224, -389017, -373248, -357911, -343000, -328509, -314432, -300763, -287496, -274625, -262144, -250047, -238328, -226981, -216000, -205379, -195112, -185193, -175616, -166375, -157464, -148877, -140608, -132651, -125000, -117649, -110592, -103823, -97336, -91125, -85184, -79507, -74088, -68921, -64000, -59319, -54872, -50653, -46656, -42875, -39304, -35937, -32768, -29791, -27000, -24389, -21952, -19683, -17576, -15625, -13824, -12167, -10648, -9261, -8000, -6859, -5832, -4913, -4096, -3375, -2744, -2197, -1728, -1331, -1000, -729, -512, -343, -216, -125, -64, -27, -8, -1, 0, 1, 8, 27, 64, 125, 216, 343, 512, 729, 1000, 1331, 1728, 2197, 2744, 3375, 4096, 4913, 5832, 6859, 8000, 9261, 10648, 12167, 13824, 15625, 17576, 19683, 21952, 24389, 27000, 29791, 32768, 35937, 39304, 42875, 46656, 50653, 54872, 59319, 64000, 68921, 74088, 79507, 85184, 91125, 97336, 103823, 110592, 117649, 125000, 132651, 140608, 148877, 157464, 166375, 175616, 185193, 195112, 205379, 216000, 226981, 238328, 250047, 262144, 274625, 287496, 300763, 314432, 328509, 343000, 357911, 373248, 389017, 405224, 421875, 438976, 456533, 474552, 493039, 512000, 531441, 551368, 571787, 592704, 614125, 636056, 658503, 681472, 704969, 729000, 753571, 778688, 804357, 830584, 857375, 884736, 912673, 941192, 970299, 1000000]\n"
     ]
    }
   ],
   "source": [
    "new_list = [x**3 for x in range(-100, 101)]\n",
    "# for list1 in new_list:\n",
    "print(new_list)"
   ]
  },
  {
   "cell_type": "code",
   "execution_count": 25,
   "id": "e4d468a2-6fa4-460f-bbef-745fde800b7a",
   "metadata": {},
   "outputs": [
    {
     "name": "stdout",
     "output_type": "stream",
     "text": [
      "0049\n",
      "0132\n"
     ]
    }
   ],
   "source": [
    "input_data = [\"ALex: ZIP 20022-0049\", \"Margarate: ZIP 20009-0132\"]\n",
    "for x in input_data:\n",
    "    print(x.split()[2].split(\"-\")[1])"
   ]
  },
  {
   "cell_type": "code",
   "execution_count": 4,
   "id": "3a3bde35-7f21-4756-ae16-6abad33e25b9",
   "metadata": {},
   "outputs": [
    {
     "ename": "TypeError",
     "evalue": "'>' not supported between instances of 'tuple' and 'int'",
     "output_type": "error",
     "traceback": [
      "\u001b[1;31m---------------------------------------------------------------------------\u001b[0m",
      "\u001b[1;31mTypeError\u001b[0m                                 Traceback (most recent call last)",
      "Cell \u001b[1;32mIn[4], line 8\u001b[0m\n\u001b[0;32m      5\u001b[0m         \u001b[38;5;28;01mreturn\u001b[39;00m \u001b[38;5;241m0\u001b[39m\n\u001b[0;32m      7\u001b[0m numbers \u001b[38;5;241m=\u001b[39m [\u001b[38;5;241m0\u001b[39m, \u001b[38;5;241m1\u001b[39m, \u001b[38;5;241m2\u001b[39m, \u001b[38;5;241m3\u001b[39m, \u001b[38;5;241m4\u001b[39m, \u001b[38;5;241m5\u001b[39m]\n\u001b[1;32m----> 8\u001b[0m \u001b[38;5;28mprint\u001b[39m(theta(numbers))\n",
      "Cell \u001b[1;32mIn[4], line 2\u001b[0m, in \u001b[0;36mtheta\u001b[1;34m(*x)\u001b[0m\n\u001b[0;32m      1\u001b[0m \u001b[38;5;28;01mdef\u001b[39;00m \u001b[38;5;21mtheta\u001b[39m(\u001b[38;5;241m*\u001b[39mx):\n\u001b[1;32m----> 2\u001b[0m     \u001b[38;5;28;01mif\u001b[39;00m x \u001b[38;5;241m>\u001b[39m \u001b[38;5;241m0\u001b[39m:\n\u001b[0;32m      3\u001b[0m         \u001b[38;5;28;01mreturn\u001b[39;00m \u001b[38;5;241m1\u001b[39m\n\u001b[0;32m      4\u001b[0m     \u001b[38;5;28;01melse\u001b[39;00m:\n",
      "\u001b[1;31mTypeError\u001b[0m: '>' not supported between instances of 'tuple' and 'int'"
     ]
    }
   ],
   "source": [
    "def theta(*x):\n",
    "    if x > 0:\n",
    "        return 1\n",
    "    else:\n",
    "        return 0\n",
    "\n",
    "numbers = [0, 1, 2, 3, 4, 5]\n",
    "print(theta(numbers))"
   ]
  },
  {
   "cell_type": "code",
   "execution_count": null,
   "id": "1b049879-2da8-4485-9ae5-ac8454bf0b3a",
   "metadata": {},
   "outputs": [],
   "source": []
  }
 ],
 "metadata": {
  "kernelspec": {
   "display_name": "Python 3 (ipykernel)",
   "language": "python",
   "name": "python3"
  },
  "language_info": {
   "codemirror_mode": {
    "name": "ipython",
    "version": 3
   },
   "file_extension": ".py",
   "mimetype": "text/x-python",
   "name": "python",
   "nbconvert_exporter": "python",
   "pygments_lexer": "ipython3",
   "version": "3.12.4"
  }
 },
 "nbformat": 4,
 "nbformat_minor": 5
}
