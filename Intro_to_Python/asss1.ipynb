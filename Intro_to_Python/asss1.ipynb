{
 "cells": [
  {
   "cell_type": "code",
   "execution_count": null,
   "id": "90ccb021-b4cb-4fb6-ad60-955baad9f8c1",
   "metadata": {},
   "outputs": [],
   "source": []
  },
  {
   "cell_type": "code",
   "execution_count": 1,
   "id": "8b7c2977-c582-48a7-a6c3-a301b0a8046e",
   "metadata": {},
   "outputs": [],
   "source": [
    "# from datetime import date\n",
    "# from datetime import datetime\n",
    "# names = [\"Erick Ondiwa\", \"James Wasonga\", \"Felix Awere\", \"Shadrack Mutinda\", \"Mark Emmanuel\"]\n",
    "\n",
    "# year_of_births = [2000, 2001, 2002, 2003, 2004]\n",
    "\n",
    "# name_idx = 0\n",
    "# current_year = date.today()\n",
    "\n",
    "# for name in names:\n",
    "#     person_year = year_of_births[name_idx]\n",
    "#     current_year = datetime.now().year\n",
    "\n",
    "#     age = current_year - person_year\n",
    "#     # yob_idx = 0\n",
    "#     print(f\"{name} you are:{age} years old.\")\n",
    "\n",
    "#     name_idx += 1\n",
    "\n",
    "# for name, birth in zip(names, year_of_births):\n",
    "#     print(name, birth)\n",
    "\n",
    "# for idx, name in enumerate(names):\n",
    "#     print(idx, name)\n",
    "\n",
    "\n"
   ]
  },
  {
   "cell_type": "code",
   "execution_count": 17,
   "id": "e6a90e38-382b-4e45-a39c-c9ba51ff0821",
   "metadata": {},
   "outputs": [
    {
     "name": "stdout",
     "output_type": "stream",
     "text": [
      "[20, 4.5, 80]\n"
     ]
    }
   ],
   "source": [
    "ages = [10, 1.5, 20]\n",
    "insurance = [2, 3, 4]\n",
    "new = [ages * ins for ages,ins in zip(ages, insurance)]\n",
    "print(new)"
   ]
  },
  {
   "cell_type": "code",
   "execution_count": 4,
   "id": "11aa87c2-eba9-4a40-b2c6-295c5a8e34d5",
   "metadata": {},
   "outputs": [],
   "source": [
    "new_list = [x**3 for x in range(-100, 101)]\n",
    "# for list1 in new_list:\n",
    "# print(new_list)"
   ]
  },
  {
   "cell_type": "code",
   "execution_count": 25,
   "id": "e4d468a2-6fa4-460f-bbef-745fde800b7a",
   "metadata": {},
   "outputs": [
    {
     "name": "stdout",
     "output_type": "stream",
     "text": [
      "0049\n",
      "0132\n"
     ]
    }
   ],
   "source": [
    "input_data = [\"ALex: ZIP 20022-0049\", \"Margarate: ZIP 20009-0132\"]\n",
    "for x in input_data:\n",
    "    print(x.split()[2].split(\"-\")[1])"
   ]
  },
  {
   "cell_type": "code",
   "execution_count": 3,
   "id": "3a3bde35-7f21-4756-ae16-6abad33e25b9",
   "metadata": {},
   "outputs": [
    {
     "data": {
      "text/plain": [
       "(2, 2, 2)"
      ]
     },
     "execution_count": 3,
     "metadata": {},
     "output_type": "execute_result"
    }
   ],
   "source": [
    "import numpy as np\n",
    "arr = np.array([[[1, 2], [3, 4]], \n",
    "                [[5, 6], [7, 8]]])\n",
    "arr.shape  # Output: (2, 2, 2) -> 2 elements along each axis\n"
   ]
  },
  {
   "cell_type": "code",
   "execution_count": null,
   "id": "1b049879-2da8-4485-9ae5-ac8454bf0b3a",
   "metadata": {},
   "outputs": [],
   "source": []
  }
 ],
 "metadata": {
  "kernelspec": {
   "display_name": "Python 3 (ipykernel)",
   "language": "python",
   "name": "python3"
  },
  "language_info": {
   "codemirror_mode": {
    "name": "ipython",
    "version": 3
   },
   "file_extension": ".py",
   "mimetype": "text/x-python",
   "name": "python",
   "nbconvert_exporter": "python",
   "pygments_lexer": "ipython3",
   "version": "3.12.4"
  }
 },
 "nbformat": 4,
 "nbformat_minor": 5
}
