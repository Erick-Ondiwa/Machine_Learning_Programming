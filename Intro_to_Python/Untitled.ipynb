{
 "cells": [
  {
   "cell_type": "code",
   "execution_count": 32,
   "id": "87d26a1a-987e-429f-ad65-0748faa96884",
   "metadata": {},
   "outputs": [
    {
     "name": "stdout",
     "output_type": "stream",
     "text": [
      "14\n"
     ]
    }
   ],
   "source": [
    "def sum_nums(*nums):\n",
    "    addition = 0\n",
    "    for num in nums:\n",
    "        addition = addition + num\n",
    "    print(addition)\n",
    "sum_nums(2, 4,8)"
   ]
  },
  {
   "cell_type": "code",
   "execution_count": null,
   "id": "775c35e5-0456-4580-b486-e9a90dae3a46",
   "metadata": {},
   "outputs": [],
   "source": [
    "def compute_name(**names):\n",
    "    print(names['f_name'])\n",
    "compute_name()"
   ]
  },
  {
   "cell_type": "code",
   "execution_count": 35,
   "id": "61015a12-9f09-4f0d-89fe-eaac85c44aa2",
   "metadata": {},
   "outputs": [
    {
     "data": {
      "text/plain": [
       "(2, 5, 8)"
      ]
     },
     "execution_count": 35,
     "metadata": {},
     "output_type": "execute_result"
    }
   ],
   "source": [
    "# A function to determine if a number is divisible by 2 and then return the remainder\n",
    "\n",
    "def compute_even(*numbers):\n",
    "    idx = 0\n",
    "    if numbers[idx] % 2 == 0:\n",
    "        return numbers\n",
    "    else:\n",
    "        return numbers[idx] % 2\n",
    "\n",
    "compute_even(2,5,8)"
   ]
  },
  {
   "cell_type": "code",
   "execution_count": 36,
   "id": "6bf6adc5-0765-4eed-b856-154c33848cd9",
   "metadata": {},
   "outputs": [
    {
     "name": "stdout",
     "output_type": "stream",
     "text": [
      "8\n"
     ]
    }
   ],
   "source": [
    "# A function that take in some list of numbers, determine the smallest or the largest number from the list of numbers\n",
    "def compute_max(*numbers):\n",
    "    for num in numbers:\n",
    "        return max(numbers)\n",
    "\n",
    "maximum =compute_even(2,5,8)\n",
    "print(maximum)\n"
   ]
  },
  {
   "cell_type": "code",
   "execution_count": 44,
   "id": "9c564ee4-96c7-4dad-8314-9896c1ffc379",
   "metadata": {},
   "outputs": [
    {
     "name": "stdout",
     "output_type": "stream",
     "text": [
      "Finish\n",
      "1\n",
      "3\n",
      "6\n",
      "10\n",
      "15\n",
      "21\n"
     ]
    },
    {
     "data": {
      "text/plain": [
       "21"
      ]
     },
     "execution_count": 44,
     "metadata": {},
     "output_type": "execute_result"
    }
   ],
   "source": [
    "# *****RECURSION******\n",
    "def recursion(x):\n",
    "    # result = 0\n",
    "    if x > 0:\n",
    "        result = x + recursion(x-1)\n",
    "        print(result)\n",
    "    else:\n",
    "        result = 0\n",
    "        print(\"Finish\")\n",
    "    return result\n",
    "recursion(6)"
   ]
  },
  {
   "cell_type": "code",
   "execution_count": null,
   "id": "148e6ad8-8d67-4909-ae2f-ea1041c1c5bc",
   "metadata": {},
   "outputs": [],
   "source": [
    "# def compute_sum(num):\n",
    "#     while num < 10:\n",
    "#         sum_of_nums += num\n",
    "#         print(sum_of_nums)\n",
    "# compute_sum()"
   ]
  },
  {
   "cell_type": "code",
   "execution_count": null,
   "id": "66c744a5-06d1-4a86-ac4c-d4e1708d7251",
   "metadata": {},
   "outputs": [],
   "source": [
    "def rec(x):\n",
    "    print(x, \"+1\", x+1)\n",
    "    if x < 10:\n",
    "        recursion = rec(x+1)\n",
    "        return recursion\n",
    "    else:\n",
    "        print(\"Done\")\n",
    "rec(4)"
   ]
  },
  {
   "cell_type": "code",
   "execution_count": null,
   "id": "6e16b6f1-aff0-4c6d-ac1f-7d35b6bd45ed",
   "metadata": {},
   "outputs": [],
   "source": [
    "#Classes\n",
    "class Rocket:\n",
    "    def __init__(self, x=0,y=0):\n",
    "        self.x = x\n",
    "        self.y = y\n",
    "\n",
    "rocket1 = Rocket(3,4)\n",
    "print(rocket1.x)\n"
   ]
  },
  {
   "cell_type": "code",
   "execution_count": null,
   "id": "88b06bbd-def3-4ca2-9910-0a46d00a0308",
   "metadata": {},
   "outputs": [],
   "source": []
  }
 ],
 "metadata": {
  "kernelspec": {
   "display_name": "Python 3 (ipykernel)",
   "language": "python",
   "name": "python3"
  },
  "language_info": {
   "codemirror_mode": {
    "name": "ipython",
    "version": 3
   },
   "file_extension": ".py",
   "mimetype": "text/x-python",
   "name": "python",
   "nbconvert_exporter": "python",
   "pygments_lexer": "ipython3",
   "version": "3.12.4"
  }
 },
 "nbformat": 4,
 "nbformat_minor": 5
}
