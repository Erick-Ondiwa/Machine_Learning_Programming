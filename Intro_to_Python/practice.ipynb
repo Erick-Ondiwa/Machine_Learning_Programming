{
 "cells": [
  {
   "cell_type": "code",
   "execution_count": 3,
   "id": "127fb905-c5a6-4a00-aed7-0ac4ea15c8f9",
   "metadata": {},
   "outputs": [
    {
     "name": "stdout",
     "output_type": "stream",
     "text": [
      "1: [54 98 75 75 46]\n",
      "2: [87 49 47 59 39]\n",
      "3: [39 48 98 53 99]\n",
      "4: [45 85 83 48 37]\n",
      "5: [97 86 66 76 71]\n",
      "6: [56 66 68 46 79]\n",
      "7: [38 69 43 42 50]\n",
      "8: [67 86 95 88 30]\n",
      "9: [76 92 34 95 81]\n",
      "10: [68 31 44 65 84]\n"
     ]
    }
   ],
   "source": [
    "import numpy as np\n",
    "\n",
    "stu_indexes = np.arange(1,11)\n",
    "\n",
    "stu_marks = np.random.randint(30, 100, size=(10,5))\n",
    "\n",
    "for stu_index, stu_mark in zip(stu_indexes, stu_marks):\n",
    "    print(f\"{stu_index}: {stu_mark}\")\n",
    "\n",
    "\n"
   ]
  },
  {
   "cell_type": "code",
   "execution_count": 5,
   "id": "7cfb99cb-00f5-4f24-a51f-21924aa0489d",
   "metadata": {},
   "outputs": [
    {
     "name": "stdout",
     "output_type": "stream",
     "text": [
      "[348 281 337 298 396 315 242 366 378 292]\n",
      "[62.7 71.  65.3 64.7 61.6]\n"
     ]
    }
   ],
   "source": [
    "import numpy as np\n",
    "\n",
    "total_marks = np.sum(stu_marks, axis=1)\n",
    "print(total_marks)\n",
    "subject_mean = np.mean(stu_marks, axis = 0)\n",
    "print(subject_mean)"
   ]
  },
  {
   "cell_type": "code",
   "execution_count": 25,
   "id": "42d2c650-1969-4bdf-a4ba-101a3beba122",
   "metadata": {},
   "outputs": [
    {
     "name": "stdout",
     "output_type": "stream",
     "text": [
      "1: [78 65 34 56 68]: Total marks = 301\n",
      "2: [51 71 75 30 83]: Total marks = 310\n",
      "3: [90 67 35 37 71]: Total marks = 300\n",
      "4: [91 69 58 89 36]: Total marks = 343\n",
      "5: [45 66 49 48 70]: Total marks = 278\n",
      "6: [94 65 67 66 57]: Total marks = 349\n",
      "7: [82 94 83 56 84]: Total marks = 399\n",
      "8: [84 76 99 72 57]: Total marks = 388\n",
      "9: [81 48 99 41 37]: Total marks = 306\n",
      "10: [75 38 98 88 52]: Total marks = 351\n"
     ]
    }
   ],
   "source": [
    "for stu_index, stu_mark, total_mark in zip(stu_indexes, stu_marks, total_marks):\n",
    "    print(f\"{stu_index}: {stu_mark}: Total marks = {total_mark}\")"
   ]
  },
  {
   "cell_type": "code",
   "execution_count": null,
   "id": "3d0a3e57-2986-46c6-914a-374102df20b2",
   "metadata": {},
   "outputs": [],
   "source": []
  }
 ],
 "metadata": {
  "kernelspec": {
   "display_name": "Python 3 (ipykernel)",
   "language": "python",
   "name": "python3"
  },
  "language_info": {
   "codemirror_mode": {
    "name": "ipython",
    "version": 3
   },
   "file_extension": ".py",
   "mimetype": "text/x-python",
   "name": "python",
   "nbconvert_exporter": "python",
   "pygments_lexer": "ipython3",
   "version": "3.12.4"
  }
 },
 "nbformat": 4,
 "nbformat_minor": 5
}
