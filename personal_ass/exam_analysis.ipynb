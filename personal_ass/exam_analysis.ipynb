{
 "cells": [
  {
   "cell_type": "code",
   "execution_count": 2,
   "id": "84fd204f-d5df-4cb7-906f-89397caf1aff",
   "metadata": {},
   "outputs": [],
   "source": [
    "import pandas as pd\n",
    "import numpy as np"
   ]
  },
  {
   "cell_type": "code",
   "execution_count": 3,
   "id": "8bf136f7-9914-47aa-8e36-baab55ef493c",
   "metadata": {},
   "outputs": [
    {
     "name": "stdout",
     "output_type": "stream",
     "text": [
      "[[86 58 65 56 79]\n",
      " [54 90 87 72 55]\n",
      " [72 84 63 91 52]\n",
      " [80 64 60 96 41]\n",
      " [85 89 97 40 85]\n",
      " [99 81 51 73 49]\n",
      " [93 98 47 80 70]\n",
      " [45 97 40 89 97]\n",
      " [96 89 93 48 41]\n",
      " [85 83 74 61 53]]\n"
     ]
    }
   ],
   "source": [
    "marks = np.random.randint(40, 100, (10,5))\n",
    "print(marks)"
   ]
  },
  {
   "cell_type": "code",
   "execution_count": 7,
   "id": "f7ad0396-cb04-4eed-8e57-1064e2843748",
   "metadata": {},
   "outputs": [
    {
     "name": "stdout",
     "output_type": "stream",
     "text": [
      "    English  Physics  Maths  Biology  Computer\n",
      "1        86       58     65       56        79\n",
      "2        54       90     87       72        55\n",
      "3        72       84     63       91        52\n",
      "4        80       64     60       96        41\n",
      "5        85       89     97       40        85\n",
      "6        99       81     51       73        49\n",
      "7        93       98     47       80        70\n",
      "8        45       97     40       89        97\n",
      "9        96       89     93       48        41\n",
      "10       85       83     74       61        53\n"
     ]
    }
   ],
   "source": [
    "subjects = np.array([\"English\", \"Physics\", \"Maths\", \"Biology\", \"Computer\"])\n",
    "result = pd.DataFrame(marks, columns=subjects, index=np.arange(1,11))\n",
    "print(result)"
   ]
  },
  {
   "cell_type": "code",
   "execution_count": 5,
   "id": "437dbe17-8b6c-4824-9bc9-37b9ff34a7d9",
   "metadata": {},
   "outputs": [
    {
     "name": "stdout",
     "output_type": "stream",
     "text": [
      "[344 358 362 341 396 353 388 368 367 356]\n"
     ]
    }
   ],
   "source": [
    "# Computing the total marks for each student\n",
    "total_marks = np.sum(marks, axis=1)\n",
    "print(total_marks)"
   ]
  },
  {
   "cell_type": "code",
   "execution_count": 12,
   "id": "4f2ad605-d85d-4598-8e89-7ee001729502",
   "metadata": {},
   "outputs": [
    {
     "name": "stdout",
     "output_type": "stream",
     "text": [
      "               Names  English  Physics  Maths  Biology  Computer  Total\n",
      "1       Erick Ondiwa       86       58     65       56        79    344\n",
      "2    Celine Patience       54       90     87       72        55    358\n",
      "3      James Wasonga       72       84     63       91        52    362\n",
      "4      Mark Emmanuel       80       64     60       96        41    341\n",
      "5        Felix Awere       85       89     97       40        85    396\n",
      "6   Morphine Achieng       99       81     51       73        49    353\n",
      "7   Shadrack Mutinda       93       98     47       80        70    388\n",
      "8      Mercy Achieng       45       97     40       89        97    368\n",
      "9     Kelvin Gichohi       96       89     93       48        41    367\n",
      "10     Clare Achieng       85       83     74       61        53    356\n"
     ]
    }
   ],
   "source": [
    "result[\"Total\"] = total_marks\n",
    "print(result)"
   ]
  },
  {
   "cell_type": "code",
   "execution_count": 14,
   "id": "5bdeaa05-edee-4110-b160-0d124aedb1be",
   "metadata": {},
   "outputs": [
    {
     "ename": "ValueError",
     "evalue": "cannot insert Names, already exists",
     "output_type": "error",
     "traceback": [
      "\u001b[1;31m---------------------------------------------------------------------------\u001b[0m",
      "\u001b[1;31mValueError\u001b[0m                                Traceback (most recent call last)",
      "\u001b[1;32m~\\AppData\\Local\\Temp\\ipykernel_12736\\1208327748.py\u001b[0m in \u001b[0;36m?\u001b[1;34m()\u001b[0m\n\u001b[0;32m      1\u001b[0m stu_names =  [\"Erick Ondiwa\", \"Celine Patience\", \"James Wasonga\", \"Mark Emmanuel\", \"Felix Awere\",\n\u001b[0;32m      2\u001b[0m               \u001b[1;34m\"Morphine Achieng\"\u001b[0m\u001b[1;33m,\u001b[0m \u001b[1;34m\"Shadrack Mutinda\"\u001b[0m\u001b[1;33m,\u001b[0m \u001b[1;34m\"Mercy Achieng\"\u001b[0m\u001b[1;33m,\u001b[0m \u001b[1;34m\"Kelvin Gichohi\"\u001b[0m\u001b[1;33m,\u001b[0m \u001b[1;34m\"Clare Achieng\"\u001b[0m\u001b[1;33m]\u001b[0m\u001b[1;33m\u001b[0m\u001b[1;33m\u001b[0m\u001b[0m\n\u001b[1;32m----> 3\u001b[1;33m \u001b[0mresult\u001b[0m\u001b[1;33m.\u001b[0m\u001b[0minsert\u001b[0m\u001b[1;33m(\u001b[0m\u001b[1;36m0\u001b[0m\u001b[1;33m,\u001b[0m \u001b[1;34m\"Names\"\u001b[0m\u001b[1;33m,\u001b[0m\u001b[0mstu_names\u001b[0m\u001b[1;33m)\u001b[0m\u001b[1;33m\u001b[0m\u001b[1;33m\u001b[0m\u001b[0m\n\u001b[0m\u001b[0;32m      4\u001b[0m \u001b[0mprint\u001b[0m\u001b[1;33m(\u001b[0m\u001b[0mresult\u001b[0m\u001b[1;33m)\u001b[0m\u001b[1;33m\u001b[0m\u001b[1;33m\u001b[0m\u001b[0m\n",
      "\u001b[1;32m~\\anaconda3\\envs\\ml_programming\\Lib\\site-packages\\pandas\\core\\frame.py\u001b[0m in \u001b[0;36m?\u001b[1;34m(self, loc, column, value, allow_duplicates)\u001b[0m\n\u001b[0;32m   5154\u001b[0m                 \u001b[1;34m\"'self.flags.allows_duplicate_labels' is False.\"\u001b[0m\u001b[1;33m\u001b[0m\u001b[1;33m\u001b[0m\u001b[0m\n\u001b[0;32m   5155\u001b[0m             \u001b[1;33m)\u001b[0m\u001b[1;33m\u001b[0m\u001b[1;33m\u001b[0m\u001b[0m\n\u001b[0;32m   5156\u001b[0m         \u001b[1;32mif\u001b[0m \u001b[1;32mnot\u001b[0m \u001b[0mallow_duplicates\u001b[0m \u001b[1;32mand\u001b[0m \u001b[0mcolumn\u001b[0m \u001b[1;32min\u001b[0m \u001b[0mself\u001b[0m\u001b[1;33m.\u001b[0m\u001b[0mcolumns\u001b[0m\u001b[1;33m:\u001b[0m\u001b[1;33m\u001b[0m\u001b[1;33m\u001b[0m\u001b[0m\n\u001b[0;32m   5157\u001b[0m             \u001b[1;31m# Should this be a different kind of error??\u001b[0m\u001b[1;33m\u001b[0m\u001b[1;33m\u001b[0m\u001b[0m\n\u001b[1;32m-> 5158\u001b[1;33m             \u001b[1;32mraise\u001b[0m \u001b[0mValueError\u001b[0m\u001b[1;33m(\u001b[0m\u001b[1;33mf\"\u001b[0m\u001b[1;33mcannot insert \u001b[0m\u001b[1;33m{\u001b[0m\u001b[0mcolumn\u001b[0m\u001b[1;33m}\u001b[0m\u001b[1;33m, already exists\u001b[0m\u001b[1;33m\"\u001b[0m\u001b[1;33m)\u001b[0m\u001b[1;33m\u001b[0m\u001b[1;33m\u001b[0m\u001b[0m\n\u001b[0m\u001b[0;32m   5159\u001b[0m         \u001b[1;32mif\u001b[0m \u001b[1;32mnot\u001b[0m \u001b[0mis_integer\u001b[0m\u001b[1;33m(\u001b[0m\u001b[0mloc\u001b[0m\u001b[1;33m)\u001b[0m\u001b[1;33m:\u001b[0m\u001b[1;33m\u001b[0m\u001b[1;33m\u001b[0m\u001b[0m\n\u001b[0;32m   5160\u001b[0m             \u001b[1;32mraise\u001b[0m \u001b[0mTypeError\u001b[0m\u001b[1;33m(\u001b[0m\u001b[1;34m\"loc must be int\"\u001b[0m\u001b[1;33m)\u001b[0m\u001b[1;33m\u001b[0m\u001b[1;33m\u001b[0m\u001b[0m\n\u001b[0;32m   5161\u001b[0m         \u001b[1;31m# convert non stdlib ints to satisfy typing checks\u001b[0m\u001b[1;33m\u001b[0m\u001b[1;33m\u001b[0m\u001b[0m\n",
      "\u001b[1;31mValueError\u001b[0m: cannot insert Names, already exists"
     ]
    }
   ],
   "source": [
    "stu_names =  [\"Erick Ondiwa\", \"Celine Patience\", \"James Wasonga\", \"Mark Emmanuel\", \"Felix Awere\",\n",
    "              \"Morphine Achieng\", \"Shadrack Mutinda\", \"Mercy Achieng\", \"Kelvin Gichohi\", \"Clare Achieng\"]\n",
    "result.insert(0, \"Names\",stu_names)\n",
    "print(result)"
   ]
  },
  {
   "cell_type": "code",
   "execution_count": 63,
   "id": "bca10196-47c7-435c-ac4a-8a60e9caba67",
   "metadata": {},
   "outputs": [],
   "source": [
    "# stud_names = [\"Erick Ondiwa\", \"Celine Patience\", \"James Wasonga\", \"Mark Emmanuel\", \"Felix Awere\",\n",
    "#              \"Purity Lukesh\", \"Shadrack Mutinda\", \"Mercy Achieng\", \"Kelvin Gichohi\", \"Clare Achieng\"]\n",
    "# final_result['Names'] = stud_names\n",
    "# print(final_result['Names'])"
   ]
  },
  {
   "cell_type": "code",
   "execution_count": 15,
   "id": "40d5cae0-89a4-4c47-8e96-2c2617f4dd10",
   "metadata": {},
   "outputs": [
    {
     "name": "stdout",
     "output_type": "stream",
     "text": [
      "[[79.5 83.3 67.7 70.6 62.2]]\n"
     ]
    }
   ],
   "source": [
    "# Computing the mean of each subject\n",
    "subject_mean = np.mean(marks, axis=0).reshape(1,5)\n",
    "print(subject_mean)"
   ]
  },
  {
   "cell_type": "code",
   "execution_count": 9,
   "id": "c67b192a-e1eb-470e-9d65-2d7ceda90248",
   "metadata": {},
   "outputs": [],
   "source": [
    "# print(subject_mean[1])"
   ]
  },
  {
   "cell_type": "code",
   "execution_count": 16,
   "id": "2c743e00-456c-4503-995b-fe30b2bdcb5d",
   "metadata": {},
   "outputs": [
    {
     "name": "stdout",
     "output_type": "stream",
     "text": [
      "363.3\n"
     ]
    }
   ],
   "source": [
    "print(np.sum(subject_mean))"
   ]
  },
  {
   "cell_type": "code",
   "execution_count": 17,
   "id": "7fdee615-1565-40a3-bc32-4f3b8bd8e3ff",
   "metadata": {},
   "outputs": [
    {
     "name": "stdout",
     "output_type": "stream",
     "text": [
      "      English  Physics  Maths  Biology  Computer\n",
      "Mean     79.5     83.3   67.7     70.6      62.2\n"
     ]
    }
   ],
   "source": [
    "# Assigning the mean row with index name 'Mean'\n",
    "mean_row = pd.DataFrame(subject_mean, index=['Mean'], columns=subjects)\n",
    "print(mean_row)\n",
    "# mean_row = pd.DataFrame(\n",
    "#     [{'English': subject_mean[0],\n",
    "#       'Physics': subject_mean[1],\n",
    "#       'Maths': subject_mean[2],\n",
    "#       'Biology': subject_mean[3],\n",
    "#       'Computer': subject_mean[4],\n",
    "#       'Total': np.sum(subject_mean)}],\n",
    "#     index=[\"Mean\"]\n",
    "# )"
   ]
  },
  {
   "cell_type": "code",
   "execution_count": 18,
   "id": "d03d0e94-e016-4126-8494-2c0b625577ee",
   "metadata": {},
   "outputs": [
    {
     "name": "stdout",
     "output_type": "stream",
     "text": [
      "                 Names  English  Physics  Maths  Biology  Computer  Total\n",
      "1         Erick Ondiwa     86.0     58.0   65.0     56.0      79.0  344.0\n",
      "2      Celine Patience     54.0     90.0   87.0     72.0      55.0  358.0\n",
      "3        James Wasonga     72.0     84.0   63.0     91.0      52.0  362.0\n",
      "4        Mark Emmanuel     80.0     64.0   60.0     96.0      41.0  341.0\n",
      "5          Felix Awere     85.0     89.0   97.0     40.0      85.0  396.0\n",
      "6     Morphine Achieng     99.0     81.0   51.0     73.0      49.0  353.0\n",
      "7     Shadrack Mutinda     93.0     98.0   47.0     80.0      70.0  388.0\n",
      "8        Mercy Achieng     45.0     97.0   40.0     89.0      97.0  368.0\n",
      "9       Kelvin Gichohi     96.0     89.0   93.0     48.0      41.0  367.0\n",
      "10       Clare Achieng     85.0     83.0   74.0     61.0      53.0  356.0\n",
      "Mean               NaN     79.5     83.3   67.7     70.6      62.2    NaN\n"
     ]
    }
   ],
   "source": [
    "# Using pd.concat to add the new row with custom index\n",
    "final_result = pd.concat([result, mean_row])\n",
    "print(final_result)"
   ]
  },
  {
   "cell_type": "code",
   "execution_count": 23,
   "id": "413b8af5-5171-4a32-9e12-1c151b095967",
   "metadata": {},
   "outputs": [
    {
     "name": "stdout",
     "output_type": "stream",
     "text": [
      "                 Names  English  Physics  Maths  Biology  Computer  Total\n",
      "1         Erick Ondiwa     86.0     58.0   65.0     56.0      79.0  344.0\n",
      "2      Celine Patience     54.0     90.0   87.0     72.0      55.0  358.0\n",
      "3        James Wasonga     72.0     84.0   63.0     91.0      52.0  362.0\n",
      "4        Mark Emmanuel     80.0     64.0   60.0     96.0      41.0  341.0\n",
      "5          Felix Awere     85.0     89.0   97.0     40.0      85.0  396.0\n",
      "6     Morphine Achieng     99.0     81.0   51.0     73.0      49.0  353.0\n",
      "7     Shadrack Mutinda     93.0     98.0   47.0     80.0      70.0  388.0\n",
      "8        Mercy Achieng     45.0     97.0   40.0     89.0      97.0  368.0\n",
      "9       Kelvin Gichohi     96.0     89.0   93.0     48.0      41.0  367.0\n",
      "10       Clare Achieng     85.0     83.0   74.0     61.0      53.0  356.0\n",
      "Mean             363.3     79.5     83.3   67.7     70.6      62.2  363.3\n"
     ]
    },
    {
     "name": "stderr",
     "output_type": "stream",
     "text": [
      "C:\\Users\\ErickOndiwa\\AppData\\Local\\Temp\\ipykernel_12736\\2163823210.py:1: SettingWithCopyWarning: \n",
      "A value is trying to be set on a copy of a slice from a DataFrame\n",
      "\n",
      "See the caveats in the documentation: https://pandas.pydata.org/pandas-docs/stable/user_guide/indexing.html#returning-a-view-versus-a-copy\n",
      "  final_result.loc['Mean'][0] = 1\n",
      "C:\\Users\\ErickOndiwa\\AppData\\Local\\Temp\\ipykernel_12736\\2163823210.py:1: FutureWarning: Series.__setitem__ treating keys as positions is deprecated. In a future version, integer keys will always be treated as labels (consistent with DataFrame behavior). To set a value by position, use `ser.iloc[pos] = value`\n",
      "  final_result.loc['Mean'][0] = 1\n"
     ]
    }
   ],
   "source": [
    "final_result.loc['Mean'][0] = 1\n",
    "print(final_result)"
   ]
  },
  {
   "cell_type": "code",
   "execution_count": 19,
   "id": "a7343faa-5896-47fc-9fa1-111ffe1c7dc1",
   "metadata": {},
   "outputs": [
    {
     "name": "stdout",
     "output_type": "stream",
     "text": [
      "                 Names  English  Physics  Maths  Biology  Computer  Total\n",
      "1         Erick Ondiwa     86.0     58.0   65.0     56.0      79.0  344.0\n",
      "2      Celine Patience     54.0     90.0   87.0     72.0      55.0  358.0\n",
      "3        James Wasonga     72.0     84.0   63.0     91.0      52.0  362.0\n",
      "4        Mark Emmanuel     80.0     64.0   60.0     96.0      41.0  341.0\n",
      "5          Felix Awere     85.0     89.0   97.0     40.0      85.0  396.0\n",
      "6     Morphine Achieng     99.0     81.0   51.0     73.0      49.0  353.0\n",
      "7     Shadrack Mutinda     93.0     98.0   47.0     80.0      70.0  388.0\n",
      "8        Mercy Achieng     45.0     97.0   40.0     89.0      97.0  368.0\n",
      "9       Kelvin Gichohi     96.0     89.0   93.0     48.0      41.0  367.0\n",
      "10       Clare Achieng     85.0     83.0   74.0     61.0      53.0  356.0\n",
      "Mean             363.3     79.5     83.3   67.7     70.6      62.2  363.3\n"
     ]
    }
   ],
   "source": [
    "# final_result[final_result['Total'] == 'NaN'] = np.sum(subject_mean)\n",
    "final_result = final_result.fillna(np.sum(subject_mean))\n",
    "print(final_result)"
   ]
  },
  {
   "cell_type": "code",
   "execution_count": 119,
   "id": "db9e2c42-da8a-4610-8d87-d1a36e7df69c",
   "metadata": {},
   "outputs": [
    {
     "name": "stdout",
     "output_type": "stream",
     "text": [
      "               Names  English  Physics  Maths  Biology  Computer  Total\n",
      "1       Erick Ondiwa       56       58     92       98        65    369\n",
      "2    Celine Patience       98       65     82       58        64    367\n",
      "3      James Wasonga       50       96     57       69        59    331\n",
      "4      Mark Emmanuel       82       99     51       79        99    410\n",
      "5        Felix Awere       81       85     83       82        57    388\n",
      "6      Purity Lukesh       71       56     65       90        86    368\n",
      "7   Shadrack Mutinda       95       44     94       47        62    342\n",
      "8      Mercy Achieng       78       55     57       94        73    357\n",
      "9     Kelvin Gichohi       41       63     95       63        79    341\n",
      "10     Clare Achieng       96       64     78       42        71    351\n"
     ]
    }
   ],
   "source": [
    "high_achievers = result[result['Total'] >= 300]\n",
    "print(high_achievers)"
   ]
  },
  {
   "cell_type": "code",
   "execution_count": 87,
   "id": "23a9b13f-397f-4cf9-a204-ca9bde2cae5b",
   "metadata": {},
   "outputs": [],
   "source": [
    "# final_result.loc['Mean'][0] = \" \"\n",
    "# print(final_result)"
   ]
  },
  {
   "cell_type": "code",
   "execution_count": 120,
   "id": "3019f668-a0a7-48e4-b80c-ab4d14fcabae",
   "metadata": {},
   "outputs": [
    {
     "name": "stdout",
     "output_type": "stream",
     "text": [
      "               Names  English  Physics  Maths  Biology  Computer  Total\n",
      "4      Mark Emmanuel       82       99     51       79        99    410\n",
      "5        Felix Awere       81       85     83       82        57    388\n",
      "1       Erick Ondiwa       56       58     92       98        65    369\n",
      "6      Purity Lukesh       71       56     65       90        86    368\n",
      "2    Celine Patience       98       65     82       58        64    367\n",
      "8      Mercy Achieng       78       55     57       94        73    357\n",
      "10     Clare Achieng       96       64     78       42        71    351\n",
      "7   Shadrack Mutinda       95       44     94       47        62    342\n",
      "9     Kelvin Gichohi       41       63     95       63        79    341\n",
      "3      James Wasonga       50       96     57       69        59    331\n"
     ]
    }
   ],
   "source": [
    "print(result.sort_values('Total', ascending=False))"
   ]
  },
  {
   "cell_type": "code",
   "execution_count": 25,
   "id": "0a02bf51-417f-43da-b4bd-3df83af6d89f",
   "metadata": {},
   "outputs": [],
   "source": [
    "#  **** Position 1\n",
    "# first_pos = final_result.sort_values('Total').max()\n",
    "# print(first_pos)"
   ]
  },
  {
   "cell_type": "code",
   "execution_count": null,
   "id": "e9b78671-6201-40b1-b2da-f66493d23f64",
   "metadata": {},
   "outputs": [],
   "source": []
  }
 ],
 "metadata": {
  "kernelspec": {
   "display_name": "Python 3 (ipykernel)",
   "language": "python",
   "name": "python3"
  },
  "language_info": {
   "codemirror_mode": {
    "name": "ipython",
    "version": 3
   },
   "file_extension": ".py",
   "mimetype": "text/x-python",
   "name": "python",
   "nbconvert_exporter": "python",
   "pygments_lexer": "ipython3",
   "version": "3.12.4"
  }
 },
 "nbformat": 4,
 "nbformat_minor": 5
}
