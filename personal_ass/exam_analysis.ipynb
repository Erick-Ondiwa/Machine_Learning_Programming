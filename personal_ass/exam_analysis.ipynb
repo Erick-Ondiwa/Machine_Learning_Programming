{
 "cells": [
  {
   "cell_type": "code",
   "execution_count": 72,
   "id": "84fd204f-d5df-4cb7-906f-89397caf1aff",
   "metadata": {},
   "outputs": [],
   "source": [
    "import pandas as pd\n",
    "import numpy as np"
   ]
  },
  {
   "cell_type": "code",
   "execution_count": 73,
   "id": "8bf136f7-9914-47aa-8e36-baab55ef493c",
   "metadata": {},
   "outputs": [
    {
     "name": "stdout",
     "output_type": "stream",
     "text": [
      "[[65 61 89 53 84]\n",
      " [72 87 76 83 93]\n",
      " [55 97 52 64 71]\n",
      " [47 43 93 65 49]\n",
      " [77 89 61 69 47]\n",
      " [41 64 63 55 56]\n",
      " [75 40 56 52 40]\n",
      " [99 45 89 93 65]\n",
      " [62 66 64 66 91]\n",
      " [63 43 53 61 46]]\n"
     ]
    }
   ],
   "source": [
    "marks = np.random.randint(40, 100, (10,5))\n",
    "print(marks)"
   ]
  },
  {
   "cell_type": "code",
   "execution_count": 74,
   "id": "f7ad0396-cb04-4eed-8e57-1064e2843748",
   "metadata": {},
   "outputs": [
    {
     "name": "stdout",
     "output_type": "stream",
     "text": [
      "    English  Physics  Maths  Biology  Computer\n",
      "1        65       61     89       53        84\n",
      "2        72       87     76       83        93\n",
      "3        55       97     52       64        71\n",
      "4        47       43     93       65        49\n",
      "5        77       89     61       69        47\n",
      "6        41       64     63       55        56\n",
      "7        75       40     56       52        40\n",
      "8        99       45     89       93        65\n",
      "9        62       66     64       66        91\n",
      "10       63       43     53       61        46\n"
     ]
    }
   ],
   "source": [
    "subjects = np.array([\"English\", \"Physics\", \"Maths\", \"Biology\", \"Computer\"])\n",
    "result = pd.DataFrame(marks, columns=subjects, index=np.arange(1,11))\n",
    "print(result)"
   ]
  },
  {
   "cell_type": "code",
   "execution_count": 75,
   "id": "437dbe17-8b6c-4824-9bc9-37b9ff34a7d9",
   "metadata": {},
   "outputs": [
    {
     "name": "stdout",
     "output_type": "stream",
     "text": [
      "[352 411 339 297 343 279 263 391 349 266]\n"
     ]
    }
   ],
   "source": [
    "# Computing the total marks for each student\n",
    "total_marks = np.sum(marks, axis=1)\n",
    "print(total_marks)"
   ]
  },
  {
   "cell_type": "code",
   "execution_count": 76,
   "id": "4f2ad605-d85d-4598-8e89-7ee001729502",
   "metadata": {},
   "outputs": [
    {
     "name": "stdout",
     "output_type": "stream",
     "text": [
      "    English  Physics  Maths  Biology  Computer  Total\n",
      "1        65       61     89       53        84    352\n",
      "2        72       87     76       83        93    411\n",
      "3        55       97     52       64        71    339\n",
      "4        47       43     93       65        49    297\n",
      "5        77       89     61       69        47    343\n",
      "6        41       64     63       55        56    279\n",
      "7        75       40     56       52        40    263\n",
      "8        99       45     89       93        65    391\n",
      "9        62       66     64       66        91    349\n",
      "10       63       43     53       61        46    266\n"
     ]
    }
   ],
   "source": [
    "result[\"Total\"] = total_marks\n",
    "print(result)"
   ]
  },
  {
   "cell_type": "code",
   "execution_count": 77,
   "id": "5bdeaa05-edee-4110-b160-0d124aedb1be",
   "metadata": {},
   "outputs": [
    {
     "name": "stdout",
     "output_type": "stream",
     "text": [
      "               Names  English  Physics  Maths  Biology  Computer  Total\n",
      "1       Erick Ondiwa       65       61     89       53        84    352\n",
      "2    Celine Patience       72       87     76       83        93    411\n",
      "3      James Wasonga       55       97     52       64        71    339\n",
      "4      Mark Emmanuel       47       43     93       65        49    297\n",
      "5        Felix Awere       77       89     61       69        47    343\n",
      "6   Morphine Achieng       41       64     63       55        56    279\n",
      "7   Shadrack Mutinda       75       40     56       52        40    263\n",
      "8      Mercy Achieng       99       45     89       93        65    391\n",
      "9     Kelvin Gichohi       62       66     64       66        91    349\n",
      "10     Clare Achieng       63       43     53       61        46    266\n"
     ]
    }
   ],
   "source": [
    "stu_names =  [\"Erick Ondiwa\", \"Celine Patience\", \"James Wasonga\", \"Mark Emmanuel\", \"Felix Awere\",\n",
    "              \"Morphine Achieng\", \"Shadrack Mutinda\", \"Mercy Achieng\", \"Kelvin Gichohi\", \"Clare Achieng\"]\n",
    "result.insert(0, \"Names\",stu_names)\n",
    "print(result)"
   ]
  },
  {
   "cell_type": "code",
   "execution_count": 63,
   "id": "bca10196-47c7-435c-ac4a-8a60e9caba67",
   "metadata": {},
   "outputs": [],
   "source": [
    "# stud_names = [\"Erick Ondiwa\", \"Celine Patience\", \"James Wasonga\", \"Mark Emmanuel\", \"Felix Awere\",\n",
    "#              \"Purity Lukesh\", \"Shadrack Mutinda\", \"Mercy Achieng\", \"Kelvin Gichohi\", \"Clare Achieng\"]\n",
    "# final_result['Names'] = stud_names\n",
    "# print(final_result['Names'])"
   ]
  },
  {
   "cell_type": "code",
   "execution_count": 78,
   "id": "40d5cae0-89a4-4c47-8e96-2c2617f4dd10",
   "metadata": {},
   "outputs": [
    {
     "name": "stdout",
     "output_type": "stream",
     "text": [
      "[[65.6 63.5 69.6 66.1 64.2]]\n"
     ]
    }
   ],
   "source": [
    "# Computing the mean of each subject\n",
    "subject_mean = np.mean(marks, axis=0).reshape(1,5)\n",
    "print(subject_mean)"
   ]
  },
  {
   "cell_type": "code",
   "execution_count": 9,
   "id": "c67b192a-e1eb-470e-9d65-2d7ceda90248",
   "metadata": {},
   "outputs": [],
   "source": [
    "# print(subject_mean[1])"
   ]
  },
  {
   "cell_type": "code",
   "execution_count": 79,
   "id": "2c743e00-456c-4503-995b-fe30b2bdcb5d",
   "metadata": {},
   "outputs": [
    {
     "name": "stdout",
     "output_type": "stream",
     "text": [
      "328.99999999999994\n"
     ]
    }
   ],
   "source": [
    "print(np.sum(subject_mean))"
   ]
  },
  {
   "cell_type": "code",
   "execution_count": 80,
   "id": "7fdee615-1565-40a3-bc32-4f3b8bd8e3ff",
   "metadata": {},
   "outputs": [
    {
     "name": "stdout",
     "output_type": "stream",
     "text": [
      "      English  Physics  Maths  Biology  Computer\n",
      "Mean     65.6     63.5   69.6     66.1      64.2\n"
     ]
    }
   ],
   "source": [
    "# Assigning the mean row with index name 'Mean'\n",
    "mean_row = pd.DataFrame(subject_mean, index=['Mean'], columns=subjects)\n",
    "print(mean_row)\n",
    "# mean_row = pd.DataFrame(\n",
    "#     [{'English': subject_mean[0],\n",
    "#       'Physics': subject_mean[1],\n",
    "#       'Maths': subject_mean[2],\n",
    "#       'Biology': subject_mean[3],\n",
    "#       'Computer': subject_mean[4],\n",
    "#       'Total': np.sum(subject_mean)}],\n",
    "#     index=[\"Mean\"]\n",
    "# )"
   ]
  },
  {
   "cell_type": "code",
   "execution_count": 82,
   "id": "e85fc2a8-0cdb-44d3-b565-449d87fd4439",
   "metadata": {},
   "outputs": [],
   "source": [
    "mean_row['Total'] = np.sum(subject_mean)"
   ]
  },
  {
   "cell_type": "code",
   "execution_count": 83,
   "id": "d03d0e94-e016-4126-8494-2c0b625577ee",
   "metadata": {},
   "outputs": [
    {
     "name": "stdout",
     "output_type": "stream",
     "text": [
      "                 Names  English  Physics  Maths  Biology  Computer  Total\n",
      "1         Erick Ondiwa     65.0     61.0   89.0     53.0      84.0  352.0\n",
      "2      Celine Patience     72.0     87.0   76.0     83.0      93.0  411.0\n",
      "3        James Wasonga     55.0     97.0   52.0     64.0      71.0  339.0\n",
      "4        Mark Emmanuel     47.0     43.0   93.0     65.0      49.0  297.0\n",
      "5          Felix Awere     77.0     89.0   61.0     69.0      47.0  343.0\n",
      "6     Morphine Achieng     41.0     64.0   63.0     55.0      56.0  279.0\n",
      "7     Shadrack Mutinda     75.0     40.0   56.0     52.0      40.0  263.0\n",
      "8        Mercy Achieng     99.0     45.0   89.0     93.0      65.0  391.0\n",
      "9       Kelvin Gichohi     62.0     66.0   64.0     66.0      91.0  349.0\n",
      "10       Clare Achieng     63.0     43.0   53.0     61.0      46.0  266.0\n",
      "Mean               NaN     65.6     63.5   69.6     66.1      64.2  329.0\n"
     ]
    }
   ],
   "source": [
    "# Using pd.concat to add the new row with custom index\n",
    "final_result = pd.concat([result, mean_row])\n",
    "print(final_result)"
   ]
  },
  {
   "cell_type": "code",
   "execution_count": 84,
   "id": "e883c2a3-d401-49f3-99fc-95e5c14331c0",
   "metadata": {},
   "outputs": [
    {
     "name": "stdout",
     "output_type": "stream",
     "text": [
      "                 Names  English  Physics  Maths  Biology  Computer  Total\n",
      "1         Erick Ondiwa     65.0     61.0   89.0     53.0      84.0  352.0\n",
      "2      Celine Patience     72.0     87.0   76.0     83.0      93.0  411.0\n",
      "3        James Wasonga     55.0     97.0   52.0     64.0      71.0  339.0\n",
      "4        Mark Emmanuel     47.0     43.0   93.0     65.0      49.0  297.0\n",
      "5          Felix Awere     77.0     89.0   61.0     69.0      47.0  343.0\n",
      "6     Morphine Achieng     41.0     64.0   63.0     55.0      56.0  279.0\n",
      "7     Shadrack Mutinda     75.0     40.0   56.0     52.0      40.0  263.0\n",
      "8        Mercy Achieng     99.0     45.0   89.0     93.0      65.0  391.0\n",
      "9       Kelvin Gichohi     62.0     66.0   64.0     66.0      91.0  349.0\n",
      "10       Clare Achieng     63.0     43.0   53.0     61.0      46.0  266.0\n",
      "Mean                       65.6     63.5   69.6     66.1      64.2  329.0\n"
     ]
    }
   ],
   "source": [
    "replaced_name = final_result.replace({final_result.loc[\"Mean\",\"Names\"] : \" \"})\n",
    "print(replaced_name)"
   ]
  },
  {
   "cell_type": "code",
   "execution_count": 45,
   "id": "a7343faa-5896-47fc-9fa1-111ffe1c7dc1",
   "metadata": {},
   "outputs": [],
   "source": [
    "# # final_result[final_result['Total'] == 'NaN'] = np.sum(subject_mean)\n",
    "# final_result = final_result.fillna(np.sum(subject_mean))\n",
    "# print(final_result)"
   ]
  },
  {
   "cell_type": "code",
   "execution_count": 85,
   "id": "db9e2c42-da8a-4610-8d87-d1a36e7df69c",
   "metadata": {},
   "outputs": [
    {
     "name": "stdout",
     "output_type": "stream",
     "text": [
      "             Names  English  Physics  Maths  Biology  Computer  Total\n",
      "1     Erick Ondiwa       65       61     89       53        84    352\n",
      "2  Celine Patience       72       87     76       83        93    411\n",
      "3    James Wasonga       55       97     52       64        71    339\n",
      "5      Felix Awere       77       89     61       69        47    343\n",
      "8    Mercy Achieng       99       45     89       93        65    391\n",
      "9   Kelvin Gichohi       62       66     64       66        91    349\n"
     ]
    }
   ],
   "source": [
    "high_achievers = result[result['Total'] >= 300]\n",
    "print(high_achievers)"
   ]
  },
  {
   "cell_type": "code",
   "execution_count": 87,
   "id": "23a9b13f-397f-4cf9-a204-ca9bde2cae5b",
   "metadata": {},
   "outputs": [],
   "source": [
    "# final_result.loc['Mean'][0] = \" \"\n",
    "# print(final_result)"
   ]
  },
  {
   "cell_type": "code",
   "execution_count": 86,
   "id": "3019f668-a0a7-48e4-b80c-ab4d14fcabae",
   "metadata": {},
   "outputs": [
    {
     "name": "stdout",
     "output_type": "stream",
     "text": [
      "               Names  English  Physics  Maths  Biology  Computer  Total\n",
      "2    Celine Patience       72       87     76       83        93    411\n",
      "8      Mercy Achieng       99       45     89       93        65    391\n",
      "1       Erick Ondiwa       65       61     89       53        84    352\n",
      "9     Kelvin Gichohi       62       66     64       66        91    349\n",
      "5        Felix Awere       77       89     61       69        47    343\n",
      "3      James Wasonga       55       97     52       64        71    339\n",
      "4      Mark Emmanuel       47       43     93       65        49    297\n",
      "6   Morphine Achieng       41       64     63       55        56    279\n",
      "10     Clare Achieng       63       43     53       61        46    266\n",
      "7   Shadrack Mutinda       75       40     56       52        40    263\n"
     ]
    }
   ],
   "source": [
    "print(result.sort_values('Total', ascending=False))"
   ]
  },
  {
   "cell_type": "code",
   "execution_count": 89,
   "id": "87ad4234-19b3-4ba6-b0cc-c0bd415b6744",
   "metadata": {},
   "outputs": [
    {
     "name": "stdout",
     "output_type": "stream",
     "text": [
      "                 Names  English  Physics  Maths  Biology  Computer  Total  \\\n",
      "1         Erick Ondiwa     65.0     61.0   89.0     53.0      84.0  352.0   \n",
      "2      Celine Patience     72.0     87.0   76.0     83.0      93.0  411.0   \n",
      "3        James Wasonga     55.0     97.0   52.0     64.0      71.0  339.0   \n",
      "4        Mark Emmanuel     47.0     43.0   93.0     65.0      49.0  297.0   \n",
      "5          Felix Awere     77.0     89.0   61.0     69.0      47.0  343.0   \n",
      "6     Morphine Achieng     41.0     64.0   63.0     55.0      56.0  279.0   \n",
      "7     Shadrack Mutinda     75.0     40.0   56.0     52.0      40.0  263.0   \n",
      "8        Mercy Achieng     99.0     45.0   89.0     93.0      65.0  391.0   \n",
      "9       Kelvin Gichohi     62.0     66.0   64.0     66.0      91.0  349.0   \n",
      "10       Clare Achieng     63.0     43.0   53.0     61.0      46.0  266.0   \n",
      "Mean               NaN     65.6     63.5   69.6     66.1      64.2  329.0   \n",
      "\n",
      "        Comment  \n",
      "1          Good  \n",
      "2     Excellent  \n",
      "3          Fair  \n",
      "4          Pass  \n",
      "5          Fair  \n",
      "6          Pass  \n",
      "7          Pass  \n",
      "8        Credit  \n",
      "9          Fair  \n",
      "10         Pass  \n",
      "Mean       Fair  \n"
     ]
    }
   ],
   "source": [
    "final_result[\"Comment\"] = final_result['Total'].apply(lambda x: \"Excellent\" if x >= 400 else \"Credit\" if x >= 380 else \"Good\" if x >= 350 else \"Fair\" if x >= 300 else \"Pass\")\n",
    "\n",
    "print(final_result)"
   ]
  },
  {
   "cell_type": "code",
   "execution_count": 47,
   "id": "0a02bf51-417f-43da-b4bd-3df83af6d89f",
   "metadata": {},
   "outputs": [
    {
     "name": "stdout",
     "output_type": "stream",
     "text": [
      "          Names  English  Physics  Maths  Biology  Computer  Total\n",
      "1  Erick Ondiwa     98.0     86.0   75.0     95.0      80.0  434.0\n"
     ]
    }
   ],
   "source": [
    "#  **** Position 1\n",
    "first_pos = final_result.nlargest(1, \"Total\")\n",
    "# print(first_pos)"
   ]
  },
  {
   "cell_type": "code",
   "execution_count": null,
   "id": "b828f311-e684-44fb-9842-7a8d6599ce93",
   "metadata": {},
   "outputs": [],
   "source": []
  }
 ],
 "metadata": {
  "kernelspec": {
   "display_name": "Python 3 (ipykernel)",
   "language": "python",
   "name": "python3"
  },
  "language_info": {
   "codemirror_mode": {
    "name": "ipython",
    "version": 3
   },
   "file_extension": ".py",
   "mimetype": "text/x-python",
   "name": "python",
   "nbconvert_exporter": "python",
   "pygments_lexer": "ipython3",
   "version": "3.12.4"
  }
 },
 "nbformat": 4,
 "nbformat_minor": 5
}
