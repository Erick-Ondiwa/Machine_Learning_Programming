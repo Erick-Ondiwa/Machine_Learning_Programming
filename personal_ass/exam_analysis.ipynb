{
 "cells": [
  {
   "cell_type": "code",
   "execution_count": 4,
   "id": "84fd204f-d5df-4cb7-906f-89397caf1aff",
   "metadata": {},
   "outputs": [],
   "source": [
    "import pandas as pd\n",
    "import numpy as np"
   ]
  },
  {
   "cell_type": "code",
   "execution_count": 110,
   "id": "8bf136f7-9914-47aa-8e36-baab55ef493c",
   "metadata": {},
   "outputs": [
    {
     "name": "stdout",
     "output_type": "stream",
     "text": [
      "[[56 58 92 98 65]\n",
      " [98 65 82 58 64]\n",
      " [50 96 57 69 59]\n",
      " [82 99 51 79 99]\n",
      " [81 85 83 82 57]\n",
      " [71 56 65 90 86]\n",
      " [95 44 94 47 62]\n",
      " [78 55 57 94 73]\n",
      " [41 63 95 63 79]\n",
      " [96 64 78 42 71]]\n"
     ]
    }
   ],
   "source": [
    "marks = np.random.randint(40, 100, (10,5))\n",
    "print(marks)"
   ]
  },
  {
   "cell_type": "code",
   "execution_count": 111,
   "id": "f7ad0396-cb04-4eed-8e57-1064e2843748",
   "metadata": {},
   "outputs": [
    {
     "name": "stdout",
     "output_type": "stream",
     "text": [
      "    English  Physics  Maths  Biology  Computer\n",
      "1        56       58     92       98        65\n",
      "2        98       65     82       58        64\n",
      "3        50       96     57       69        59\n",
      "4        82       99     51       79        99\n",
      "5        81       85     83       82        57\n",
      "6        71       56     65       90        86\n",
      "7        95       44     94       47        62\n",
      "8        78       55     57       94        73\n",
      "9        41       63     95       63        79\n",
      "10       96       64     78       42        71\n"
     ]
    }
   ],
   "source": [
    "subjects = np.array([\"English\", \"Physics\", \"Maths\", \"Biology\", \"Computer\"])\n",
    "result = pd.DataFrame(marks, columns=subjects, index=np.arange(1,11))\n",
    "print(result)"
   ]
  },
  {
   "cell_type": "code",
   "execution_count": 112,
   "id": "437dbe17-8b6c-4824-9bc9-37b9ff34a7d9",
   "metadata": {},
   "outputs": [
    {
     "name": "stdout",
     "output_type": "stream",
     "text": [
      "[369 367 331 410 388 368 342 357 341 351]\n"
     ]
    }
   ],
   "source": [
    "# Computing the total marks for each student\n",
    "total_marks = np.sum(marks, axis=1)\n",
    "print(total_marks)"
   ]
  },
  {
   "cell_type": "code",
   "execution_count": 113,
   "id": "4f2ad605-d85d-4598-8e89-7ee001729502",
   "metadata": {},
   "outputs": [
    {
     "name": "stdout",
     "output_type": "stream",
     "text": [
      "    English  Physics  Maths  Biology  Computer  Total\n",
      "1        56       58     92       98        65    369\n",
      "2        98       65     82       58        64    367\n",
      "3        50       96     57       69        59    331\n",
      "4        82       99     51       79        99    410\n",
      "5        81       85     83       82        57    388\n",
      "6        71       56     65       90        86    368\n",
      "7        95       44     94       47        62    342\n",
      "8        78       55     57       94        73    357\n",
      "9        41       63     95       63        79    341\n",
      "10       96       64     78       42        71    351\n"
     ]
    }
   ],
   "source": [
    "result[\"Total\"] = total_marks\n",
    "print(result)"
   ]
  },
  {
   "cell_type": "code",
   "execution_count": 114,
   "id": "5bdeaa05-edee-4110-b160-0d124aedb1be",
   "metadata": {},
   "outputs": [
    {
     "name": "stdout",
     "output_type": "stream",
     "text": [
      "               Names  English  Physics  Maths  Biology  Computer  Total\n",
      "1       Erick Ondiwa       56       58     92       98        65    369\n",
      "2    Celine Patience       98       65     82       58        64    367\n",
      "3      James Wasonga       50       96     57       69        59    331\n",
      "4      Mark Emmanuel       82       99     51       79        99    410\n",
      "5        Felix Awere       81       85     83       82        57    388\n",
      "6      Purity Lukesh       71       56     65       90        86    368\n",
      "7   Shadrack Mutinda       95       44     94       47        62    342\n",
      "8      Mercy Achieng       78       55     57       94        73    357\n",
      "9     Kelvin Gichohi       41       63     95       63        79    341\n",
      "10     Clare Achieng       96       64     78       42        71    351\n"
     ]
    }
   ],
   "source": [
    "stu_names =  [\"Erick Ondiwa\", \"Celine Patience\", \"James Wasonga\", \"Mark Emmanuel\", \"Felix Awere\",\n",
    "              \"Purity Lukesh\", \"Shadrack Mutinda\", \"Mercy Achieng\", \"Kelvin Gichohi\", \"Clare Achieng\"]\n",
    "result.insert(0, \"Names\",stu_names)\n",
    "print(result)"
   ]
  },
  {
   "cell_type": "code",
   "execution_count": 63,
   "id": "bca10196-47c7-435c-ac4a-8a60e9caba67",
   "metadata": {},
   "outputs": [],
   "source": [
    "# stud_names = [\"Erick Ondiwa\", \"Celine Patience\", \"James Wasonga\", \"Mark Emmanuel\", \"Felix Awere\",\n",
    "#              \"Purity Lukesh\", \"Shadrack Mutinda\", \"Mercy Achieng\", \"Kelvin Gichohi\", \"Clare Achieng\"]\n",
    "# final_result['Names'] = stud_names\n",
    "# print(final_result['Names'])"
   ]
  },
  {
   "cell_type": "code",
   "execution_count": 115,
   "id": "40d5cae0-89a4-4c47-8e96-2c2617f4dd10",
   "metadata": {},
   "outputs": [
    {
     "name": "stdout",
     "output_type": "stream",
     "text": [
      "[[74.8 68.5 75.4 72.2 71.5]]\n"
     ]
    }
   ],
   "source": [
    "# Computing the mean of each subject\n",
    "subject_mean = np.mean(marks, axis=0).reshape(1,5)\n",
    "print(subject_mean)"
   ]
  },
  {
   "cell_type": "code",
   "execution_count": 9,
   "id": "c67b192a-e1eb-470e-9d65-2d7ceda90248",
   "metadata": {},
   "outputs": [],
   "source": [
    "# print(subject_mean[1])"
   ]
  },
  {
   "cell_type": "code",
   "execution_count": 103,
   "id": "2c743e00-456c-4503-995b-fe30b2bdcb5d",
   "metadata": {},
   "outputs": [
    {
     "name": "stdout",
     "output_type": "stream",
     "text": [
      "351.8\n"
     ]
    }
   ],
   "source": [
    "print(np.sum(subject_mean))"
   ]
  },
  {
   "cell_type": "code",
   "execution_count": 116,
   "id": "7fdee615-1565-40a3-bc32-4f3b8bd8e3ff",
   "metadata": {},
   "outputs": [
    {
     "name": "stdout",
     "output_type": "stream",
     "text": [
      "      English  Physics  Maths  Biology  Computer\n",
      "Mean     74.8     68.5   75.4     72.2      71.5\n"
     ]
    }
   ],
   "source": [
    "# Assigning the mean row with index name 'Mean'\n",
    "mean_row = pd.DataFrame(subject_mean, index=['Mean'], columns=subjects)\n",
    "print(mean_row)\n",
    "# mean_row = pd.DataFrame(\n",
    "#     [{'English': subject_mean[0],\n",
    "#       'Physics': subject_mean[1],\n",
    "#       'Maths': subject_mean[2],\n",
    "#       'Biology': subject_mean[3],\n",
    "#       'Computer': subject_mean[4],\n",
    "#       'Total': np.sum(subject_mean)}],\n",
    "#     index=[\"Mean\"]\n",
    "# )"
   ]
  },
  {
   "cell_type": "code",
   "execution_count": 117,
   "id": "d03d0e94-e016-4126-8494-2c0b625577ee",
   "metadata": {},
   "outputs": [
    {
     "name": "stdout",
     "output_type": "stream",
     "text": [
      "                 Names  English  Physics  Maths  Biology  Computer  Total\n",
      "1         Erick Ondiwa     56.0     58.0   92.0     98.0      65.0  369.0\n",
      "2      Celine Patience     98.0     65.0   82.0     58.0      64.0  367.0\n",
      "3        James Wasonga     50.0     96.0   57.0     69.0      59.0  331.0\n",
      "4        Mark Emmanuel     82.0     99.0   51.0     79.0      99.0  410.0\n",
      "5          Felix Awere     81.0     85.0   83.0     82.0      57.0  388.0\n",
      "6        Purity Lukesh     71.0     56.0   65.0     90.0      86.0  368.0\n",
      "7     Shadrack Mutinda     95.0     44.0   94.0     47.0      62.0  342.0\n",
      "8        Mercy Achieng     78.0     55.0   57.0     94.0      73.0  357.0\n",
      "9       Kelvin Gichohi     41.0     63.0   95.0     63.0      79.0  341.0\n",
      "10       Clare Achieng     96.0     64.0   78.0     42.0      71.0  351.0\n",
      "Mean               NaN     74.8     68.5   75.4     72.2      71.5    NaN\n"
     ]
    }
   ],
   "source": [
    "# Using pd.concat to add the new row with custom index\n",
    "final_result = pd.concat([result, mean_row])\n",
    "print(final_result)"
   ]
  },
  {
   "cell_type": "code",
   "execution_count": 118,
   "id": "a7343faa-5896-47fc-9fa1-111ffe1c7dc1",
   "metadata": {},
   "outputs": [
    {
     "name": "stdout",
     "output_type": "stream",
     "text": [
      "                 Names  English  Physics  Maths  Biology  Computer  Total\n",
      "1         Erick Ondiwa     56.0     58.0   92.0     98.0      65.0  369.0\n",
      "2      Celine Patience     98.0     65.0   82.0     58.0      64.0  367.0\n",
      "3        James Wasonga     50.0     96.0   57.0     69.0      59.0  331.0\n",
      "4        Mark Emmanuel     82.0     99.0   51.0     79.0      99.0  410.0\n",
      "5          Felix Awere     81.0     85.0   83.0     82.0      57.0  388.0\n",
      "6        Purity Lukesh     71.0     56.0   65.0     90.0      86.0  368.0\n",
      "7     Shadrack Mutinda     95.0     44.0   94.0     47.0      62.0  342.0\n",
      "8        Mercy Achieng     78.0     55.0   57.0     94.0      73.0  357.0\n",
      "9       Kelvin Gichohi     41.0     63.0   95.0     63.0      79.0  341.0\n",
      "10       Clare Achieng     96.0     64.0   78.0     42.0      71.0  351.0\n",
      "Mean             362.4     74.8     68.5   75.4     72.2      71.5  362.4\n"
     ]
    }
   ],
   "source": [
    "# final_result[final_result['Total'] == 'NaN'] = np.sum(subject_mean)\n",
    "final_result = final_result.fillna(np.sum(subject_mean))\n",
    "print(final_result)"
   ]
  },
  {
   "cell_type": "code",
   "execution_count": 119,
   "id": "db9e2c42-da8a-4610-8d87-d1a36e7df69c",
   "metadata": {},
   "outputs": [
    {
     "name": "stdout",
     "output_type": "stream",
     "text": [
      "               Names  English  Physics  Maths  Biology  Computer  Total\n",
      "1       Erick Ondiwa       56       58     92       98        65    369\n",
      "2    Celine Patience       98       65     82       58        64    367\n",
      "3      James Wasonga       50       96     57       69        59    331\n",
      "4      Mark Emmanuel       82       99     51       79        99    410\n",
      "5        Felix Awere       81       85     83       82        57    388\n",
      "6      Purity Lukesh       71       56     65       90        86    368\n",
      "7   Shadrack Mutinda       95       44     94       47        62    342\n",
      "8      Mercy Achieng       78       55     57       94        73    357\n",
      "9     Kelvin Gichohi       41       63     95       63        79    341\n",
      "10     Clare Achieng       96       64     78       42        71    351\n"
     ]
    }
   ],
   "source": [
    "high_achievers = result[result['Total'] >= 300]\n",
    "print(high_achievers)"
   ]
  },
  {
   "cell_type": "code",
   "execution_count": 87,
   "id": "23a9b13f-397f-4cf9-a204-ca9bde2cae5b",
   "metadata": {},
   "outputs": [],
   "source": [
    "# final_result.loc['Mean'][0] = \" \"\n",
    "# print(final_result)"
   ]
  },
  {
   "cell_type": "code",
   "execution_count": 120,
   "id": "3019f668-a0a7-48e4-b80c-ab4d14fcabae",
   "metadata": {},
   "outputs": [
    {
     "name": "stdout",
     "output_type": "stream",
     "text": [
      "               Names  English  Physics  Maths  Biology  Computer  Total\n",
      "4      Mark Emmanuel       82       99     51       79        99    410\n",
      "5        Felix Awere       81       85     83       82        57    388\n",
      "1       Erick Ondiwa       56       58     92       98        65    369\n",
      "6      Purity Lukesh       71       56     65       90        86    368\n",
      "2    Celine Patience       98       65     82       58        64    367\n",
      "8      Mercy Achieng       78       55     57       94        73    357\n",
      "10     Clare Achieng       96       64     78       42        71    351\n",
      "7   Shadrack Mutinda       95       44     94       47        62    342\n",
      "9     Kelvin Gichohi       41       63     95       63        79    341\n",
      "3      James Wasonga       50       96     57       69        59    331\n"
     ]
    }
   ],
   "source": [
    "print(result.sort_values('Total', ascending=False))"
   ]
  },
  {
   "cell_type": "code",
   "execution_count": 121,
   "id": "0a02bf51-417f-43da-b4bd-3df83af6d89f",
   "metadata": {},
   "outputs": [
    {
     "ename": "TypeError",
     "evalue": "'>=' not supported between instances of 'str' and 'float'",
     "output_type": "error",
     "traceback": [
      "\u001b[1;31m---------------------------------------------------------------------------\u001b[0m",
      "\u001b[1;31mTypeError\u001b[0m                                 Traceback (most recent call last)",
      "Cell \u001b[1;32mIn[121], line 2\u001b[0m\n\u001b[0;32m      1\u001b[0m \u001b[38;5;66;03m#  **** Position 1\u001b[39;00m\n\u001b[1;32m----> 2\u001b[0m first_pos \u001b[38;5;241m=\u001b[39m final_result\u001b[38;5;241m.\u001b[39msort_values(\u001b[38;5;124m'\u001b[39m\u001b[38;5;124mTotal\u001b[39m\u001b[38;5;124m'\u001b[39m)\u001b[38;5;241m.\u001b[39mmax()\n\u001b[0;32m      3\u001b[0m \u001b[38;5;28mprint\u001b[39m(first_pos)\n",
      "File \u001b[1;32m~\\anaconda3\\envs\\ml_programming\\Lib\\site-packages\\pandas\\core\\frame.py:11656\u001b[0m, in \u001b[0;36mDataFrame.max\u001b[1;34m(self, axis, skipna, numeric_only, **kwargs)\u001b[0m\n\u001b[0;32m  11648\u001b[0m \u001b[38;5;129m@doc\u001b[39m(make_doc(\u001b[38;5;124m\"\u001b[39m\u001b[38;5;124mmax\u001b[39m\u001b[38;5;124m\"\u001b[39m, ndim\u001b[38;5;241m=\u001b[39m\u001b[38;5;241m2\u001b[39m))\n\u001b[0;32m  11649\u001b[0m \u001b[38;5;28;01mdef\u001b[39;00m \u001b[38;5;21mmax\u001b[39m(\n\u001b[0;32m  11650\u001b[0m     \u001b[38;5;28mself\u001b[39m,\n\u001b[1;32m   (...)\u001b[0m\n\u001b[0;32m  11654\u001b[0m     \u001b[38;5;241m*\u001b[39m\u001b[38;5;241m*\u001b[39mkwargs,\n\u001b[0;32m  11655\u001b[0m ):\n\u001b[1;32m> 11656\u001b[0m     result \u001b[38;5;241m=\u001b[39m \u001b[38;5;28msuper\u001b[39m()\u001b[38;5;241m.\u001b[39mmax(axis, skipna, numeric_only, \u001b[38;5;241m*\u001b[39m\u001b[38;5;241m*\u001b[39mkwargs)\n\u001b[0;32m  11657\u001b[0m     \u001b[38;5;28;01mif\u001b[39;00m \u001b[38;5;28misinstance\u001b[39m(result, Series):\n\u001b[0;32m  11658\u001b[0m         result \u001b[38;5;241m=\u001b[39m result\u001b[38;5;241m.\u001b[39m__finalize__(\u001b[38;5;28mself\u001b[39m, method\u001b[38;5;241m=\u001b[39m\u001b[38;5;124m\"\u001b[39m\u001b[38;5;124mmax\u001b[39m\u001b[38;5;124m\"\u001b[39m)\n",
      "File \u001b[1;32m~\\anaconda3\\envs\\ml_programming\\Lib\\site-packages\\pandas\\core\\generic.py:12404\u001b[0m, in \u001b[0;36mNDFrame.max\u001b[1;34m(self, axis, skipna, numeric_only, **kwargs)\u001b[0m\n\u001b[0;32m  12397\u001b[0m \u001b[38;5;28;01mdef\u001b[39;00m \u001b[38;5;21mmax\u001b[39m(\n\u001b[0;32m  12398\u001b[0m     \u001b[38;5;28mself\u001b[39m,\n\u001b[0;32m  12399\u001b[0m     axis: Axis \u001b[38;5;241m|\u001b[39m \u001b[38;5;28;01mNone\u001b[39;00m \u001b[38;5;241m=\u001b[39m \u001b[38;5;241m0\u001b[39m,\n\u001b[1;32m   (...)\u001b[0m\n\u001b[0;32m  12402\u001b[0m     \u001b[38;5;241m*\u001b[39m\u001b[38;5;241m*\u001b[39mkwargs,\n\u001b[0;32m  12403\u001b[0m ):\n\u001b[1;32m> 12404\u001b[0m     \u001b[38;5;28;01mreturn\u001b[39;00m \u001b[38;5;28mself\u001b[39m\u001b[38;5;241m.\u001b[39m_stat_function(\n\u001b[0;32m  12405\u001b[0m         \u001b[38;5;124m\"\u001b[39m\u001b[38;5;124mmax\u001b[39m\u001b[38;5;124m\"\u001b[39m,\n\u001b[0;32m  12406\u001b[0m         nanops\u001b[38;5;241m.\u001b[39mnanmax,\n\u001b[0;32m  12407\u001b[0m         axis,\n\u001b[0;32m  12408\u001b[0m         skipna,\n\u001b[0;32m  12409\u001b[0m         numeric_only,\n\u001b[0;32m  12410\u001b[0m         \u001b[38;5;241m*\u001b[39m\u001b[38;5;241m*\u001b[39mkwargs,\n\u001b[0;32m  12411\u001b[0m     )\n",
      "File \u001b[1;32m~\\anaconda3\\envs\\ml_programming\\Lib\\site-packages\\pandas\\core\\generic.py:12377\u001b[0m, in \u001b[0;36mNDFrame._stat_function\u001b[1;34m(self, name, func, axis, skipna, numeric_only, **kwargs)\u001b[0m\n\u001b[0;32m  12373\u001b[0m nv\u001b[38;5;241m.\u001b[39mvalidate_func(name, (), kwargs)\n\u001b[0;32m  12375\u001b[0m validate_bool_kwarg(skipna, \u001b[38;5;124m\"\u001b[39m\u001b[38;5;124mskipna\u001b[39m\u001b[38;5;124m\"\u001b[39m, none_allowed\u001b[38;5;241m=\u001b[39m\u001b[38;5;28;01mFalse\u001b[39;00m)\n\u001b[1;32m> 12377\u001b[0m \u001b[38;5;28;01mreturn\u001b[39;00m \u001b[38;5;28mself\u001b[39m\u001b[38;5;241m.\u001b[39m_reduce(\n\u001b[0;32m  12378\u001b[0m     func, name\u001b[38;5;241m=\u001b[39mname, axis\u001b[38;5;241m=\u001b[39maxis, skipna\u001b[38;5;241m=\u001b[39mskipna, numeric_only\u001b[38;5;241m=\u001b[39mnumeric_only\n\u001b[0;32m  12379\u001b[0m )\n",
      "File \u001b[1;32m~\\anaconda3\\envs\\ml_programming\\Lib\\site-packages\\pandas\\core\\frame.py:11562\u001b[0m, in \u001b[0;36mDataFrame._reduce\u001b[1;34m(self, op, name, axis, skipna, numeric_only, filter_type, **kwds)\u001b[0m\n\u001b[0;32m  11558\u001b[0m     df \u001b[38;5;241m=\u001b[39m df\u001b[38;5;241m.\u001b[39mT\n\u001b[0;32m  11560\u001b[0m \u001b[38;5;66;03m# After possibly _get_data and transposing, we are now in the\u001b[39;00m\n\u001b[0;32m  11561\u001b[0m \u001b[38;5;66;03m#  simple case where we can use BlockManager.reduce\u001b[39;00m\n\u001b[1;32m> 11562\u001b[0m res \u001b[38;5;241m=\u001b[39m df\u001b[38;5;241m.\u001b[39m_mgr\u001b[38;5;241m.\u001b[39mreduce(blk_func)\n\u001b[0;32m  11563\u001b[0m out \u001b[38;5;241m=\u001b[39m df\u001b[38;5;241m.\u001b[39m_constructor_from_mgr(res, axes\u001b[38;5;241m=\u001b[39mres\u001b[38;5;241m.\u001b[39maxes)\u001b[38;5;241m.\u001b[39miloc[\u001b[38;5;241m0\u001b[39m]\n\u001b[0;32m  11564\u001b[0m \u001b[38;5;28;01mif\u001b[39;00m out_dtype \u001b[38;5;129;01mis\u001b[39;00m \u001b[38;5;129;01mnot\u001b[39;00m \u001b[38;5;28;01mNone\u001b[39;00m \u001b[38;5;129;01mand\u001b[39;00m out\u001b[38;5;241m.\u001b[39mdtype \u001b[38;5;241m!=\u001b[39m \u001b[38;5;124m\"\u001b[39m\u001b[38;5;124mboolean\u001b[39m\u001b[38;5;124m\"\u001b[39m:\n",
      "File \u001b[1;32m~\\anaconda3\\envs\\ml_programming\\Lib\\site-packages\\pandas\\core\\internals\\managers.py:1500\u001b[0m, in \u001b[0;36mBlockManager.reduce\u001b[1;34m(self, func)\u001b[0m\n\u001b[0;32m   1498\u001b[0m res_blocks: \u001b[38;5;28mlist\u001b[39m[Block] \u001b[38;5;241m=\u001b[39m []\n\u001b[0;32m   1499\u001b[0m \u001b[38;5;28;01mfor\u001b[39;00m blk \u001b[38;5;129;01min\u001b[39;00m \u001b[38;5;28mself\u001b[39m\u001b[38;5;241m.\u001b[39mblocks:\n\u001b[1;32m-> 1500\u001b[0m     nbs \u001b[38;5;241m=\u001b[39m blk\u001b[38;5;241m.\u001b[39mreduce(func)\n\u001b[0;32m   1501\u001b[0m     res_blocks\u001b[38;5;241m.\u001b[39mextend(nbs)\n\u001b[0;32m   1503\u001b[0m index \u001b[38;5;241m=\u001b[39m Index([\u001b[38;5;28;01mNone\u001b[39;00m])  \u001b[38;5;66;03m# placeholder\u001b[39;00m\n",
      "File \u001b[1;32m~\\anaconda3\\envs\\ml_programming\\Lib\\site-packages\\pandas\\core\\internals\\blocks.py:404\u001b[0m, in \u001b[0;36mBlock.reduce\u001b[1;34m(self, func)\u001b[0m\n\u001b[0;32m    398\u001b[0m \u001b[38;5;129m@final\u001b[39m\n\u001b[0;32m    399\u001b[0m \u001b[38;5;28;01mdef\u001b[39;00m \u001b[38;5;21mreduce\u001b[39m(\u001b[38;5;28mself\u001b[39m, func) \u001b[38;5;241m-\u001b[39m\u001b[38;5;241m>\u001b[39m \u001b[38;5;28mlist\u001b[39m[Block]:\n\u001b[0;32m    400\u001b[0m     \u001b[38;5;66;03m# We will apply the function and reshape the result into a single-row\u001b[39;00m\n\u001b[0;32m    401\u001b[0m     \u001b[38;5;66;03m#  Block with the same mgr_locs; squeezing will be done at a higher level\u001b[39;00m\n\u001b[0;32m    402\u001b[0m     \u001b[38;5;28;01massert\u001b[39;00m \u001b[38;5;28mself\u001b[39m\u001b[38;5;241m.\u001b[39mndim \u001b[38;5;241m==\u001b[39m \u001b[38;5;241m2\u001b[39m\n\u001b[1;32m--> 404\u001b[0m     result \u001b[38;5;241m=\u001b[39m func(\u001b[38;5;28mself\u001b[39m\u001b[38;5;241m.\u001b[39mvalues)\n\u001b[0;32m    406\u001b[0m     \u001b[38;5;28;01mif\u001b[39;00m \u001b[38;5;28mself\u001b[39m\u001b[38;5;241m.\u001b[39mvalues\u001b[38;5;241m.\u001b[39mndim \u001b[38;5;241m==\u001b[39m \u001b[38;5;241m1\u001b[39m:\n\u001b[0;32m    407\u001b[0m         res_values \u001b[38;5;241m=\u001b[39m result\n",
      "File \u001b[1;32m~\\anaconda3\\envs\\ml_programming\\Lib\\site-packages\\pandas\\core\\frame.py:11481\u001b[0m, in \u001b[0;36mDataFrame._reduce.<locals>.blk_func\u001b[1;34m(values, axis)\u001b[0m\n\u001b[0;32m  11479\u001b[0m         \u001b[38;5;28;01mreturn\u001b[39;00m np\u001b[38;5;241m.\u001b[39marray([result])\n\u001b[0;32m  11480\u001b[0m \u001b[38;5;28;01melse\u001b[39;00m:\n\u001b[1;32m> 11481\u001b[0m     \u001b[38;5;28;01mreturn\u001b[39;00m op(values, axis\u001b[38;5;241m=\u001b[39maxis, skipna\u001b[38;5;241m=\u001b[39mskipna, \u001b[38;5;241m*\u001b[39m\u001b[38;5;241m*\u001b[39mkwds)\n",
      "File \u001b[1;32m~\\anaconda3\\envs\\ml_programming\\Lib\\site-packages\\pandas\\core\\nanops.py:147\u001b[0m, in \u001b[0;36mbottleneck_switch.__call__.<locals>.f\u001b[1;34m(values, axis, skipna, **kwds)\u001b[0m\n\u001b[0;32m    145\u001b[0m         result \u001b[38;5;241m=\u001b[39m alt(values, axis\u001b[38;5;241m=\u001b[39maxis, skipna\u001b[38;5;241m=\u001b[39mskipna, \u001b[38;5;241m*\u001b[39m\u001b[38;5;241m*\u001b[39mkwds)\n\u001b[0;32m    146\u001b[0m \u001b[38;5;28;01melse\u001b[39;00m:\n\u001b[1;32m--> 147\u001b[0m     result \u001b[38;5;241m=\u001b[39m alt(values, axis\u001b[38;5;241m=\u001b[39maxis, skipna\u001b[38;5;241m=\u001b[39mskipna, \u001b[38;5;241m*\u001b[39m\u001b[38;5;241m*\u001b[39mkwds)\n\u001b[0;32m    149\u001b[0m \u001b[38;5;28;01mreturn\u001b[39;00m result\n",
      "File \u001b[1;32m~\\anaconda3\\envs\\ml_programming\\Lib\\site-packages\\pandas\\core\\nanops.py:404\u001b[0m, in \u001b[0;36m_datetimelike_compat.<locals>.new_func\u001b[1;34m(values, axis, skipna, mask, **kwargs)\u001b[0m\n\u001b[0;32m    401\u001b[0m \u001b[38;5;28;01mif\u001b[39;00m datetimelike \u001b[38;5;129;01mand\u001b[39;00m mask \u001b[38;5;129;01mis\u001b[39;00m \u001b[38;5;28;01mNone\u001b[39;00m:\n\u001b[0;32m    402\u001b[0m     mask \u001b[38;5;241m=\u001b[39m isna(values)\n\u001b[1;32m--> 404\u001b[0m result \u001b[38;5;241m=\u001b[39m func(values, axis\u001b[38;5;241m=\u001b[39maxis, skipna\u001b[38;5;241m=\u001b[39mskipna, mask\u001b[38;5;241m=\u001b[39mmask, \u001b[38;5;241m*\u001b[39m\u001b[38;5;241m*\u001b[39mkwargs)\n\u001b[0;32m    406\u001b[0m \u001b[38;5;28;01mif\u001b[39;00m datetimelike:\n\u001b[0;32m    407\u001b[0m     result \u001b[38;5;241m=\u001b[39m _wrap_results(result, orig_values\u001b[38;5;241m.\u001b[39mdtype, fill_value\u001b[38;5;241m=\u001b[39miNaT)\n",
      "File \u001b[1;32m~\\anaconda3\\envs\\ml_programming\\Lib\\site-packages\\pandas\\core\\nanops.py:1098\u001b[0m, in \u001b[0;36m_nanminmax.<locals>.reduction\u001b[1;34m(values, axis, skipna, mask)\u001b[0m\n\u001b[0;32m   1093\u001b[0m     \u001b[38;5;28;01mreturn\u001b[39;00m _na_for_min_count(values, axis)\n\u001b[0;32m   1095\u001b[0m values, mask \u001b[38;5;241m=\u001b[39m _get_values(\n\u001b[0;32m   1096\u001b[0m     values, skipna, fill_value_typ\u001b[38;5;241m=\u001b[39mfill_value_typ, mask\u001b[38;5;241m=\u001b[39mmask\n\u001b[0;32m   1097\u001b[0m )\n\u001b[1;32m-> 1098\u001b[0m result \u001b[38;5;241m=\u001b[39m \u001b[38;5;28mgetattr\u001b[39m(values, meth)(axis)\n\u001b[0;32m   1099\u001b[0m result \u001b[38;5;241m=\u001b[39m _maybe_null_out(result, axis, mask, values\u001b[38;5;241m.\u001b[39mshape)\n\u001b[0;32m   1100\u001b[0m \u001b[38;5;28;01mreturn\u001b[39;00m result\n",
      "File \u001b[1;32m~\\anaconda3\\envs\\ml_programming\\Lib\\site-packages\\numpy\\core\\_methods.py:41\u001b[0m, in \u001b[0;36m_amax\u001b[1;34m(a, axis, out, keepdims, initial, where)\u001b[0m\n\u001b[0;32m     39\u001b[0m \u001b[38;5;28;01mdef\u001b[39;00m \u001b[38;5;21m_amax\u001b[39m(a, axis\u001b[38;5;241m=\u001b[39m\u001b[38;5;28;01mNone\u001b[39;00m, out\u001b[38;5;241m=\u001b[39m\u001b[38;5;28;01mNone\u001b[39;00m, keepdims\u001b[38;5;241m=\u001b[39m\u001b[38;5;28;01mFalse\u001b[39;00m,\n\u001b[0;32m     40\u001b[0m           initial\u001b[38;5;241m=\u001b[39m_NoValue, where\u001b[38;5;241m=\u001b[39m\u001b[38;5;28;01mTrue\u001b[39;00m):\n\u001b[1;32m---> 41\u001b[0m     \u001b[38;5;28;01mreturn\u001b[39;00m umr_maximum(a, axis, \u001b[38;5;28;01mNone\u001b[39;00m, out, keepdims, initial, where)\n",
      "\u001b[1;31mTypeError\u001b[0m: '>=' not supported between instances of 'str' and 'float'"
     ]
    }
   ],
   "source": [
    "#  **** Position 1\n",
    "first_pos = final_result.sort_values('Total').max()\n",
    "print(first_pos)"
   ]
  },
  {
   "cell_type": "code",
   "execution_count": null,
   "id": "e9b78671-6201-40b1-b2da-f66493d23f64",
   "metadata": {},
   "outputs": [],
   "source": []
  }
 ],
 "metadata": {
  "kernelspec": {
   "display_name": "Python 3 (ipykernel)",
   "language": "python",
   "name": "python3"
  },
  "language_info": {
   "codemirror_mode": {
    "name": "ipython",
    "version": 3
   },
   "file_extension": ".py",
   "mimetype": "text/x-python",
   "name": "python",
   "nbconvert_exporter": "python",
   "pygments_lexer": "ipython3",
   "version": "3.12.4"
  }
 },
 "nbformat": 4,
 "nbformat_minor": 5
}
