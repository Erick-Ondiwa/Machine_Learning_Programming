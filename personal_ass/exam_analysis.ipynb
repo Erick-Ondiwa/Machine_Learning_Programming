{
 "cells": [
  {
   "cell_type": "code",
   "execution_count": 3,
   "id": "84fd204f-d5df-4cb7-906f-89397caf1aff",
   "metadata": {},
   "outputs": [],
   "source": [
    "import pandas as pd\n",
    "import numpy as np\n",
    "import matplotlib.pyplot as plt"
   ]
  },
  {
   "cell_type": "code",
   "execution_count": 47,
   "id": "8bf136f7-9914-47aa-8e36-baab55ef493c",
   "metadata": {},
   "outputs": [
    {
     "name": "stdout",
     "output_type": "stream",
     "text": [
      "[[87 91 59 62 57]\n",
      " [42 50 43 80 83]\n",
      " [94 51 51 44 60]\n",
      " [73 68 98 68 90]\n",
      " [59 87 68 54 88]\n",
      " [96 87 85 42 44]\n",
      " [61 40 50 71 70]\n",
      " [93 92 55 90 80]\n",
      " [52 63 85 90 81]\n",
      " [72 76 40 50 51]]\n"
     ]
    }
   ],
   "source": [
    "marks = np.random.randint(40, 100, (10,5))\n",
    "print(marks)"
   ]
  },
  {
   "cell_type": "code",
   "execution_count": 51,
   "id": "f7ad0396-cb04-4eed-8e57-1064e2843748",
   "metadata": {},
   "outputs": [
    {
     "name": "stdout",
     "output_type": "stream",
     "text": [
      "    English  Physics  Maths  Biology  Computer\n",
      "1        87       91     59       62        57\n",
      "2        42       50     43       80        83\n",
      "3        94       51     51       44        60\n",
      "4        73       68     98       68        90\n",
      "5        59       87     68       54        88\n",
      "6        96       87     85       42        44\n",
      "7        61       40     50       71        70\n",
      "8        93       92     55       90        80\n",
      "9        52       63     85       90        81\n",
      "10       72       76     40       50        51\n"
     ]
    }
   ],
   "source": [
    "subjects = np.array([\"English\", \"Physics\", \"Maths\", \"Biology\", \"Computer\"])\n",
    "result = pd.DataFrame(marks, columns=subjects, index=np.arange(1,11))\n",
    "print(result)"
   ]
  },
  {
   "cell_type": "code",
   "execution_count": 53,
   "id": "437dbe17-8b6c-4824-9bc9-37b9ff34a7d9",
   "metadata": {},
   "outputs": [
    {
     "name": "stdout",
     "output_type": "stream",
     "text": [
      "[356 298 300 397 356 354 292 410 371 289]\n"
     ]
    }
   ],
   "source": [
    "# Computing the total marks for each student\n",
    "total_marks = np.sum(marks, axis=1)\n",
    "print(total_marks)"
   ]
  },
  {
   "cell_type": "code",
   "execution_count": 55,
   "id": "4f2ad605-d85d-4598-8e89-7ee001729502",
   "metadata": {},
   "outputs": [
    {
     "name": "stdout",
     "output_type": "stream",
     "text": [
      "    English  Physics  Maths  Biology  Computer  Total\n",
      "1        87       91     59       62        57    356\n",
      "2        42       50     43       80        83    298\n",
      "3        94       51     51       44        60    300\n",
      "4        73       68     98       68        90    397\n",
      "5        59       87     68       54        88    356\n",
      "6        96       87     85       42        44    354\n",
      "7        61       40     50       71        70    292\n",
      "8        93       92     55       90        80    410\n",
      "9        52       63     85       90        81    371\n",
      "10       72       76     40       50        51    289\n"
     ]
    }
   ],
   "source": [
    "result[\"Total\"] = total_marks\n",
    "print(result)"
   ]
  },
  {
   "cell_type": "code",
   "execution_count": 57,
   "id": "5bdeaa05-edee-4110-b160-0d124aedb1be",
   "metadata": {},
   "outputs": [
    {
     "name": "stdout",
     "output_type": "stream",
     "text": [
      "               Names  English  Physics  Maths  Biology  Computer  Total\n",
      "1       Erick Ondiwa       87       91     59       62        57    356\n",
      "2    Celine Patience       42       50     43       80        83    298\n",
      "3      James Wasonga       94       51     51       44        60    300\n",
      "4      Mark Emmanuel       73       68     98       68        90    397\n",
      "5        Felix Awere       59       87     68       54        88    356\n",
      "6   Morphine Achieng       96       87     85       42        44    354\n",
      "7   Shadrack Mutinda       61       40     50       71        70    292\n",
      "8      Mercy Achieng       93       92     55       90        80    410\n",
      "9     Kelvin Gichohi       52       63     85       90        81    371\n",
      "10     Clare Achieng       72       76     40       50        51    289\n"
     ]
    }
   ],
   "source": [
    "stu_names =  [\"Erick Ondiwa\", \"Celine Patience\", \"James Wasonga\", \"Mark Emmanuel\", \"Felix Awere\",\n",
    "              \"Morphine Achieng\", \"Shadrack Mutinda\", \"Mercy Achieng\", \"Kelvin Gichohi\", \"Clare Achieng\"]\n",
    "result.insert(0, \"Names\",stu_names)\n",
    "print(result)"
   ]
  },
  {
   "cell_type": "code",
   "execution_count": 63,
   "id": "bca10196-47c7-435c-ac4a-8a60e9caba67",
   "metadata": {},
   "outputs": [],
   "source": [
    "# stud_names = [\"Erick Ondiwa\", \"Celine Patience\", \"James Wasonga\", \"Mark Emmanuel\", \"Felix Awere\",\n",
    "#              \"Purity Lukesh\", \"Shadrack Mutinda\", \"Mercy Achieng\", \"Kelvin Gichohi\", \"Clare Achieng\"]\n",
    "# final_result['Names'] = stud_names\n",
    "# print(final_result['Names'])"
   ]
  },
  {
   "cell_type": "code",
   "execution_count": 103,
   "id": "40d5cae0-89a4-4c47-8e96-2c2617f4dd10",
   "metadata": {},
   "outputs": [
    {
     "name": "stdout",
     "output_type": "stream",
     "text": [
      "[[72.9 70.5 63.4 65.1 70.4]]\n"
     ]
    }
   ],
   "source": [
    "# Computing the mean of each subject\n",
    "subject_mean = np.mean(marks, axis=0) .reshape(1,5)\n",
    "print(subject_mean)"
   ]
  },
  {
   "cell_type": "code",
   "execution_count": 9,
   "id": "c67b192a-e1eb-470e-9d65-2d7ceda90248",
   "metadata": {},
   "outputs": [],
   "source": [
    "# print(subject_mean[1])"
   ]
  },
  {
   "cell_type": "code",
   "execution_count": 105,
   "id": "2c743e00-456c-4503-995b-fe30b2bdcb5d",
   "metadata": {},
   "outputs": [
    {
     "name": "stdout",
     "output_type": "stream",
     "text": [
      "342.29999999999995\n"
     ]
    }
   ],
   "source": [
    "print(np.sum(subject_mean))"
   ]
  },
  {
   "cell_type": "code",
   "execution_count": 107,
   "id": "7fdee615-1565-40a3-bc32-4f3b8bd8e3ff",
   "metadata": {},
   "outputs": [
    {
     "name": "stdout",
     "output_type": "stream",
     "text": [
      "      English  Physics  Maths  Biology  Computer\n",
      "Mean     72.9     70.5   63.4     65.1      70.4\n"
     ]
    }
   ],
   "source": [
    "# Assigning the mean row with index name 'Mean'\n",
    "mean_row = pd.DataFrame(subject_mean, index=['Mean'], columns=subjects)\n",
    "print(mean_row)\n",
    "# mean_row = pd.DataFrame(\n",
    "#     [{'English': subject_mean[0],\n",
    "#       'Physics': subject_mean[1],\n",
    "#       'Maths': subject_mean[2],\n",
    "#       'Biology': subject_mean[3],\n",
    "#       'Computer': subject_mean[4],\n",
    "#       'Total': np.sum(subject_mean)}],\n",
    "#     index=[\"Mean\"]\n",
    "# )"
   ]
  },
  {
   "cell_type": "code",
   "execution_count": 65,
   "id": "e85fc2a8-0cdb-44d3-b565-449d87fd4439",
   "metadata": {},
   "outputs": [],
   "source": [
    "mean_row['Total'] = np.sum(subject_mean)"
   ]
  },
  {
   "cell_type": "code",
   "execution_count": 67,
   "id": "d03d0e94-e016-4126-8494-2c0b625577ee",
   "metadata": {},
   "outputs": [
    {
     "name": "stdout",
     "output_type": "stream",
     "text": [
      "                 Names  English  Physics  Maths  Biology  Computer  Total\n",
      "1         Erick Ondiwa     87.0     91.0   59.0     62.0      57.0  356.0\n",
      "2      Celine Patience     42.0     50.0   43.0     80.0      83.0  298.0\n",
      "3        James Wasonga     94.0     51.0   51.0     44.0      60.0  300.0\n",
      "4        Mark Emmanuel     73.0     68.0   98.0     68.0      90.0  397.0\n",
      "5          Felix Awere     59.0     87.0   68.0     54.0      88.0  356.0\n",
      "6     Morphine Achieng     96.0     87.0   85.0     42.0      44.0  354.0\n",
      "7     Shadrack Mutinda     61.0     40.0   50.0     71.0      70.0  292.0\n",
      "8        Mercy Achieng     93.0     92.0   55.0     90.0      80.0  410.0\n",
      "9       Kelvin Gichohi     52.0     63.0   85.0     90.0      81.0  371.0\n",
      "10       Clare Achieng     72.0     76.0   40.0     50.0      51.0  289.0\n",
      "Mean               NaN     72.9     70.5   63.4     65.1      70.4  342.3\n"
     ]
    }
   ],
   "source": [
    "# Using pd.concat to add the new row with custom index\n",
    "final_result = pd.concat([result, mean_row])\n",
    "print(final_result)"
   ]
  },
  {
   "cell_type": "code",
   "execution_count": 69,
   "id": "e883c2a3-d401-49f3-99fc-95e5c14331c0",
   "metadata": {},
   "outputs": [
    {
     "name": "stdout",
     "output_type": "stream",
     "text": [
      "                 Names  English  Physics  Maths  Biology  Computer  Total\n",
      "1         Erick Ondiwa     87.0     91.0   59.0     62.0      57.0  356.0\n",
      "2      Celine Patience     42.0     50.0   43.0     80.0      83.0  298.0\n",
      "3        James Wasonga     94.0     51.0   51.0     44.0      60.0  300.0\n",
      "4        Mark Emmanuel     73.0     68.0   98.0     68.0      90.0  397.0\n",
      "5          Felix Awere     59.0     87.0   68.0     54.0      88.0  356.0\n",
      "6     Morphine Achieng     96.0     87.0   85.0     42.0      44.0  354.0\n",
      "7     Shadrack Mutinda     61.0     40.0   50.0     71.0      70.0  292.0\n",
      "8        Mercy Achieng     93.0     92.0   55.0     90.0      80.0  410.0\n",
      "9       Kelvin Gichohi     52.0     63.0   85.0     90.0      81.0  371.0\n",
      "10       Clare Achieng     72.0     76.0   40.0     50.0      51.0  289.0\n",
      "Mean                       72.9     70.5   63.4     65.1      70.4  342.3\n"
     ]
    }
   ],
   "source": [
    "replaced_name = final_result.replace({final_result.loc[\"Mean\",\"Names\"] : \" \"})\n",
    "print(replaced_name)"
   ]
  },
  {
   "cell_type": "code",
   "execution_count": 45,
   "id": "a7343faa-5896-47fc-9fa1-111ffe1c7dc1",
   "metadata": {},
   "outputs": [],
   "source": [
    "# # final_result[final_result['Total'] == 'NaN'] = np.sum(subject_mean)\n",
    "# final_result = final_result.fillna(np.sum(subject_mean))\n",
    "# print(final_result)"
   ]
  },
  {
   "cell_type": "code",
   "execution_count": 71,
   "id": "db9e2c42-da8a-4610-8d87-d1a36e7df69c",
   "metadata": {},
   "outputs": [
    {
     "name": "stdout",
     "output_type": "stream",
     "text": [
      "              Names  English  Physics  Maths  Biology  Computer  Total\n",
      "1      Erick Ondiwa       87       91     59       62        57    356\n",
      "3     James Wasonga       94       51     51       44        60    300\n",
      "4     Mark Emmanuel       73       68     98       68        90    397\n",
      "5       Felix Awere       59       87     68       54        88    356\n",
      "6  Morphine Achieng       96       87     85       42        44    354\n",
      "8     Mercy Achieng       93       92     55       90        80    410\n",
      "9    Kelvin Gichohi       52       63     85       90        81    371\n"
     ]
    }
   ],
   "source": [
    "high_achievers = result[result['Total'] >= 300]\n",
    "print(high_achievers)"
   ]
  },
  {
   "cell_type": "code",
   "execution_count": 87,
   "id": "23a9b13f-397f-4cf9-a204-ca9bde2cae5b",
   "metadata": {},
   "outputs": [],
   "source": [
    "# final_result.loc['Mean'][0] = \" \"\n",
    "# print(final_result)"
   ]
  },
  {
   "cell_type": "code",
   "execution_count": 27,
   "id": "3019f668-a0a7-48e4-b80c-ab4d14fcabae",
   "metadata": {},
   "outputs": [
    {
     "name": "stdout",
     "output_type": "stream",
     "text": [
      "               Names  English  Physics  Maths  Biology  Computer  Total\n",
      "3      James Wasonga       71       68     77       87        91    394\n",
      "9     Kelvin Gichohi       83       79     72       81        74    389\n",
      "8      Mercy Achieng       59       84     82       59        97    381\n",
      "1       Erick Ondiwa       73       44     96       97        63    373\n",
      "10     Clare Achieng       56       51     96       83        79    365\n",
      "6   Morphine Achieng       62       61     55       67        94    339\n",
      "5        Felix Awere       43       41     61       93        97    335\n",
      "4      Mark Emmanuel       50       64     45       76        88    323\n",
      "7   Shadrack Mutinda       78       52     74       56        58    318\n",
      "2    Celine Patience       46       77     73       43        71    310\n"
     ]
    }
   ],
   "source": [
    "print(result.sort_values('Total', ascending=False))"
   ]
  },
  {
   "cell_type": "code",
   "execution_count": 73,
   "id": "87ad4234-19b3-4ba6-b0cc-c0bd415b6744",
   "metadata": {},
   "outputs": [
    {
     "data": {
      "text/html": [
       "<div>\n",
       "<style scoped>\n",
       "    .dataframe tbody tr th:only-of-type {\n",
       "        vertical-align: middle;\n",
       "    }\n",
       "\n",
       "    .dataframe tbody tr th {\n",
       "        vertical-align: top;\n",
       "    }\n",
       "\n",
       "    .dataframe thead th {\n",
       "        text-align: right;\n",
       "    }\n",
       "</style>\n",
       "<table border=\"1\" class=\"dataframe\">\n",
       "  <thead>\n",
       "    <tr style=\"text-align: right;\">\n",
       "      <th></th>\n",
       "      <th>Names</th>\n",
       "      <th>English</th>\n",
       "      <th>Physics</th>\n",
       "      <th>Maths</th>\n",
       "      <th>Biology</th>\n",
       "      <th>Computer</th>\n",
       "      <th>Total</th>\n",
       "      <th>Comment</th>\n",
       "    </tr>\n",
       "  </thead>\n",
       "  <tbody>\n",
       "    <tr>\n",
       "      <th>1</th>\n",
       "      <td>Erick Ondiwa</td>\n",
       "      <td>87.0</td>\n",
       "      <td>91.0</td>\n",
       "      <td>59.0</td>\n",
       "      <td>62.0</td>\n",
       "      <td>57.0</td>\n",
       "      <td>356.0</td>\n",
       "      <td>Good</td>\n",
       "    </tr>\n",
       "    <tr>\n",
       "      <th>2</th>\n",
       "      <td>Celine Patience</td>\n",
       "      <td>42.0</td>\n",
       "      <td>50.0</td>\n",
       "      <td>43.0</td>\n",
       "      <td>80.0</td>\n",
       "      <td>83.0</td>\n",
       "      <td>298.0</td>\n",
       "      <td>Pass</td>\n",
       "    </tr>\n",
       "    <tr>\n",
       "      <th>3</th>\n",
       "      <td>James Wasonga</td>\n",
       "      <td>94.0</td>\n",
       "      <td>51.0</td>\n",
       "      <td>51.0</td>\n",
       "      <td>44.0</td>\n",
       "      <td>60.0</td>\n",
       "      <td>300.0</td>\n",
       "      <td>Fair</td>\n",
       "    </tr>\n",
       "    <tr>\n",
       "      <th>4</th>\n",
       "      <td>Mark Emmanuel</td>\n",
       "      <td>73.0</td>\n",
       "      <td>68.0</td>\n",
       "      <td>98.0</td>\n",
       "      <td>68.0</td>\n",
       "      <td>90.0</td>\n",
       "      <td>397.0</td>\n",
       "      <td>Credit</td>\n",
       "    </tr>\n",
       "    <tr>\n",
       "      <th>5</th>\n",
       "      <td>Felix Awere</td>\n",
       "      <td>59.0</td>\n",
       "      <td>87.0</td>\n",
       "      <td>68.0</td>\n",
       "      <td>54.0</td>\n",
       "      <td>88.0</td>\n",
       "      <td>356.0</td>\n",
       "      <td>Good</td>\n",
       "    </tr>\n",
       "    <tr>\n",
       "      <th>6</th>\n",
       "      <td>Morphine Achieng</td>\n",
       "      <td>96.0</td>\n",
       "      <td>87.0</td>\n",
       "      <td>85.0</td>\n",
       "      <td>42.0</td>\n",
       "      <td>44.0</td>\n",
       "      <td>354.0</td>\n",
       "      <td>Good</td>\n",
       "    </tr>\n",
       "    <tr>\n",
       "      <th>7</th>\n",
       "      <td>Shadrack Mutinda</td>\n",
       "      <td>61.0</td>\n",
       "      <td>40.0</td>\n",
       "      <td>50.0</td>\n",
       "      <td>71.0</td>\n",
       "      <td>70.0</td>\n",
       "      <td>292.0</td>\n",
       "      <td>Pass</td>\n",
       "    </tr>\n",
       "    <tr>\n",
       "      <th>8</th>\n",
       "      <td>Mercy Achieng</td>\n",
       "      <td>93.0</td>\n",
       "      <td>92.0</td>\n",
       "      <td>55.0</td>\n",
       "      <td>90.0</td>\n",
       "      <td>80.0</td>\n",
       "      <td>410.0</td>\n",
       "      <td>Excellent</td>\n",
       "    </tr>\n",
       "    <tr>\n",
       "      <th>9</th>\n",
       "      <td>Kelvin Gichohi</td>\n",
       "      <td>52.0</td>\n",
       "      <td>63.0</td>\n",
       "      <td>85.0</td>\n",
       "      <td>90.0</td>\n",
       "      <td>81.0</td>\n",
       "      <td>371.0</td>\n",
       "      <td>Good</td>\n",
       "    </tr>\n",
       "    <tr>\n",
       "      <th>10</th>\n",
       "      <td>Clare Achieng</td>\n",
       "      <td>72.0</td>\n",
       "      <td>76.0</td>\n",
       "      <td>40.0</td>\n",
       "      <td>50.0</td>\n",
       "      <td>51.0</td>\n",
       "      <td>289.0</td>\n",
       "      <td>Pass</td>\n",
       "    </tr>\n",
       "    <tr>\n",
       "      <th>Mean</th>\n",
       "      <td>NaN</td>\n",
       "      <td>72.9</td>\n",
       "      <td>70.5</td>\n",
       "      <td>63.4</td>\n",
       "      <td>65.1</td>\n",
       "      <td>70.4</td>\n",
       "      <td>342.3</td>\n",
       "      <td>Fair</td>\n",
       "    </tr>\n",
       "  </tbody>\n",
       "</table>\n",
       "</div>"
      ],
      "text/plain": [
       "                 Names  English  Physics  Maths  Biology  Computer  Total  \\\n",
       "1         Erick Ondiwa     87.0     91.0   59.0     62.0      57.0  356.0   \n",
       "2      Celine Patience     42.0     50.0   43.0     80.0      83.0  298.0   \n",
       "3        James Wasonga     94.0     51.0   51.0     44.0      60.0  300.0   \n",
       "4        Mark Emmanuel     73.0     68.0   98.0     68.0      90.0  397.0   \n",
       "5          Felix Awere     59.0     87.0   68.0     54.0      88.0  356.0   \n",
       "6     Morphine Achieng     96.0     87.0   85.0     42.0      44.0  354.0   \n",
       "7     Shadrack Mutinda     61.0     40.0   50.0     71.0      70.0  292.0   \n",
       "8        Mercy Achieng     93.0     92.0   55.0     90.0      80.0  410.0   \n",
       "9       Kelvin Gichohi     52.0     63.0   85.0     90.0      81.0  371.0   \n",
       "10       Clare Achieng     72.0     76.0   40.0     50.0      51.0  289.0   \n",
       "Mean               NaN     72.9     70.5   63.4     65.1      70.4  342.3   \n",
       "\n",
       "        Comment  \n",
       "1          Good  \n",
       "2          Pass  \n",
       "3          Fair  \n",
       "4        Credit  \n",
       "5          Good  \n",
       "6          Good  \n",
       "7          Pass  \n",
       "8     Excellent  \n",
       "9          Good  \n",
       "10         Pass  \n",
       "Mean       Fair  "
      ]
     },
     "execution_count": 73,
     "metadata": {},
     "output_type": "execute_result"
    }
   ],
   "source": [
    "final_result[\"Comment\"] = final_result['Total'].apply(lambda x: \"Excellent\" if x >= 400 else \"Credit\" if x >= 380 else \"Good\" if x >= 350 else \"Fair\" if x >= 300 else \"Pass\")\n",
    "\n",
    "final_result"
   ]
  },
  {
   "cell_type": "code",
   "execution_count": 75,
   "id": "0a02bf51-417f-43da-b4bd-3df83af6d89f",
   "metadata": {},
   "outputs": [],
   "source": [
    "#  **** Position 1\n",
    "first_pos = final_result.nlargest(1, \"Total\")\n",
    "# print(first_pos)\n"
   ]
  },
  {
   "cell_type": "code",
   "execution_count": 77,
   "id": "b828f311-e684-44fb-9842-7a8d6599ce93",
   "metadata": {},
   "outputs": [
    {
     "name": "stdout",
     "output_type": "stream",
     "text": [
      "[[72.9 70.5 63.4 65.1 70.4]]\n"
     ]
    }
   ],
   "source": [
    "print(subject_mean)"
   ]
  },
  {
   "cell_type": "code",
   "execution_count": 109,
   "id": "6076bedb-d0e6-4692-beb3-716070afea45",
   "metadata": {},
   "outputs": [],
   "source": [
    "# Plot a line graph for each subject\n",
    "# plt.plot\n",
    "# print(final_result['English'])"
   ]
  },
  {
   "cell_type": "code",
   "execution_count": 175,
   "id": "420ed0d4-06e3-4495-8f30-c521098df1ac",
   "metadata": {},
   "outputs": [
    {
     "data": {
      "image/png": "[encoded data removed]",
      "text/plain": [
       "<Figure size 640x480 with 1 Axes>"
      ]
     },
     "metadata": {},
     "output_type": "display_data"
    }
   ],
   "source": [
    "# Plot a bar graph for each subject against the mean and also a bar graph for each stu total mks\n",
    "\n",
    "# Ploting a graph of subjects against the mean\n",
    "plt.bar(subjects, subject_mean_copy, edgecolor='black')\n",
    "\n",
    "# Setting the y-axis range from 0-100\n",
    "plt.ylim(0,100)\n",
    "\n",
    "# Seting the title of the graph\n",
    "plt.title('Subject Distribution Against the Mean', color='black', fontweight='bold', fontfamily='Arial')\n",
    "\n",
    "# Setting the x and y labels\n",
    "plt.ylabel('Mean(%)', color='black')\n",
    "plt.xlabel('Subjects', color='black')\n",
    "\n",
    "# Seting the x-ticks at the point of subjects and slanting them by setting the rotation to 45\n",
    "plt.xticks(subjects, rotation=45)\n",
    "\n",
    "#Setting the grid display to enhance visibility\n",
    "plt.grid(True, color='green', linestyle='--')\n",
    "\n",
    "# Adding labels on top of each bar\n",
    "for i, value in enumerate(subject_mean_copy):\n",
    "    plt.text(i, value + 1, f\"{value}\", ha='center')\n",
    "\n",
    "# Displaying the graph\n",
    "plt.show()"
   ]
  },
  {
   "cell_type": "code",
   "execution_count": 191,
   "id": "27fec0b9-b7f1-42c3-aaea-469cef2eafd4",
   "metadata": {},
   "outputs": [
    {
     "name": "stdout",
     "output_type": "stream",
     "text": [
      "[72.9 70.5 63.4 65.1 70.4]\n"
     ]
    },
    {
     "data": {
      "image/png": "[encoded data removed]",
      "text/plain": [
       "<Figure size 640x480 with 1 Axes>"
      ]
     },
     "metadata": {},
     "output_type": "display_data"
    }
   ],
   "source": [
    "# Plot a pie chart to represent the proposition for each subject\n",
    "subject_mean_copy = subject_mean.copy().reshape(5)\n",
    "print(subject_mean_copy)\n",
    "\n",
    "plt.pie(subject_mean_copy, autopct='%.2f %%', labels=subjects)\n",
    "plt.title('Percentage Mean share for each Subject', color='black', fontweight='bold', fontfamily='Arial')\n",
    "plt.legend(loc='upper left', bbox_to_anchor=(1,1), title='Subjects', frameon=True)\n",
    "plt.show()"
   ]
  },
  {
   "cell_type": "code",
   "execution_count": 171,
   "id": "533c1cfe-4b90-4c40-ad44-ff937c5a4b26",
   "metadata": {},
   "outputs": [
    {
     "name": "stdout",
     "output_type": "stream",
     "text": [
      "1\n",
      "1\n",
      "4\n",
      "2\n",
      "3\n"
     ]
    }
   ],
   "source": [
    "# Plot a pie chart to represent the proposition for each comment\n",
    "excellent = final_result[final_result['Comment'] == 'Excellent'].count()['Total']\n",
    "credit = final_result[final_result['Comment'] == 'Credit'].count()['Total']\n",
    "good = final_result[final_result['Comment'] == 'Good'].count()['Total']\n",
    "fair = final_result[final_result['Comment'] == 'Fair'].count()['Total']\n",
    "pas = final_result[final_result['Comment'] == 'Pass'].count()['Total']\n",
    "\n",
    "print(excellent)\n",
    "print(credit)\n",
    "print(good)\n",
    "print(fair)\n",
    "print(pas)"
   ]
  },
  {
   "cell_type": "code",
   "execution_count": 189,
   "id": "35131a56-7f82-4aaa-b50c-ff02d855d5ea",
   "metadata": {},
   "outputs": [
    {
     "data": {
      "image/png": "[encoded data removed]",
      "text/plain": [
       "<Figure size 640x480 with 1 Axes>"
      ]
     },
     "metadata": {},
     "output_type": "display_data"
    }
   ],
   "source": [
    "comment = [excellent, credit, good, fair, pas]\n",
    "\n",
    "plt.pie(comment, autopct='%.2f%%', labels=['Excellent', 'Credit', 'Good', 'Fair', 'Pass'])\n",
    "\n",
    "plt.legend(loc='upper left', bbox_to_anchor=(1,1), title='Comments', frameon=False)\n",
    "\n",
    "plt.show()"
   ]
  },
  {
   "cell_type": "code",
   "execution_count": null,
   "id": "1dbb96cd-1ec8-4913-9b16-c452a145ba8b",
   "metadata": {},
   "outputs": [],
   "source": []
  }
 ],
 "metadata": {
  "kernelspec": {
   "display_name": "Python 3 (ipykernel)",
   "language": "python",
   "name": "python3"
  },
  "language_info": {
   "codemirror_mode": {
    "name": "ipython",
    "version": 3
   },
   "file_extension": ".py",
   "mimetype": "text/x-python",
   "name": "python",
   "nbconvert_exporter": "python",
   "pygments_lexer": "ipython3",
   "version": "3.12.4"
  }
 },
 "nbformat": 4,
 "nbformat_minor": 5
}
