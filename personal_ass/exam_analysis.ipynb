{
 "cells": [
  {
   "cell_type": "code",
   "execution_count": 2,
   "id": "84fd204f-d5df-4cb7-906f-89397caf1aff",
   "metadata": {},
   "outputs": [],
   "source": [
    "import pandas as pd\n",
    "import numpy as np"
   ]
  },
  {
   "cell_type": "code",
   "execution_count": 3,
   "id": "8bf136f7-9914-47aa-8e36-baab55ef493c",
   "metadata": {},
   "outputs": [
    {
     "name": "stdout",
     "output_type": "stream",
     "text": [
      "[[98 60 88 54 72]\n",
      " [37 83 80 73 78]\n",
      " [31 62 87 69 46]\n",
      " [68 81 66 36 38]\n",
      " [36 75 72 30 59]\n",
      " [81 88 96 74 75]\n",
      " [71 59 95 95 53]\n",
      " [58 99 79 72 30]\n",
      " [68 53 82 33 50]\n",
      " [30 96 59 87 63]]\n"
     ]
    }
   ],
   "source": [
    "marks = np.random.randint(30, 100, (10,5))\n",
    "print(marks)"
   ]
  },
  {
   "cell_type": "code",
   "execution_count": 4,
   "id": "f7ad0396-cb04-4eed-8e57-1064e2843748",
   "metadata": {},
   "outputs": [
    {
     "name": "stdout",
     "output_type": "stream",
     "text": [
      "    English  Physics  Maths  Biology  Computer\n",
      "1        98       60     88       54        72\n",
      "2        37       83     80       73        78\n",
      "3        31       62     87       69        46\n",
      "4        68       81     66       36        38\n",
      "5        36       75     72       30        59\n",
      "6        81       88     96       74        75\n",
      "7        71       59     95       95        53\n",
      "8        58       99     79       72        30\n",
      "9        68       53     82       33        50\n",
      "10       30       96     59       87        63\n"
     ]
    }
   ],
   "source": [
    "subjects = np.array([\"English\", \"Physics\", \"Maths\", \"Biology\", \"Computer\"])\n",
    "result = pd.DataFrame(marks, columns=subjects, index=np.arange(1,11))\n",
    "print(result)"
   ]
  },
  {
   "cell_type": "code",
   "execution_count": 5,
   "id": "437dbe17-8b6c-4824-9bc9-37b9ff34a7d9",
   "metadata": {},
   "outputs": [
    {
     "name": "stdout",
     "output_type": "stream",
     "text": [
      "[372 351 295 289 272 414 373 338 286 335]\n"
     ]
    }
   ],
   "source": [
    "# Computing the total marks for each student\n",
    "total_marks = np.sum(marks, axis=1)\n",
    "print(total_marks)"
   ]
  },
  {
   "cell_type": "code",
   "execution_count": 6,
   "id": "4f2ad605-d85d-4598-8e89-7ee001729502",
   "metadata": {},
   "outputs": [
    {
     "name": "stdout",
     "output_type": "stream",
     "text": [
      "    English  Physics  Maths  Biology  Computer  Total\n",
      "1        98       60     88       54        72    372\n",
      "2        37       83     80       73        78    351\n",
      "3        31       62     87       69        46    295\n",
      "4        68       81     66       36        38    289\n",
      "5        36       75     72       30        59    272\n",
      "6        81       88     96       74        75    414\n",
      "7        71       59     95       95        53    373\n",
      "8        58       99     79       72        30    338\n",
      "9        68       53     82       33        50    286\n",
      "10       30       96     59       87        63    335\n"
     ]
    }
   ],
   "source": [
    "result[\"Total\"] = total_marks\n",
    "print(result)"
   ]
  },
  {
   "cell_type": "code",
   "execution_count": 7,
   "id": "40d5cae0-89a4-4c47-8e96-2c2617f4dd10",
   "metadata": {},
   "outputs": [
    {
     "name": "stdout",
     "output_type": "stream",
     "text": [
      "[[57.8 75.6 80.4 62.3 56.4]]\n"
     ]
    }
   ],
   "source": [
    "# Computing the mean of each subject\n",
    "subject_mean = np.mean(marks, axis=0).reshape(1,5)\n",
    "print(subject_mean)"
   ]
  },
  {
   "cell_type": "code",
   "execution_count": 9,
   "id": "c67b192a-e1eb-470e-9d65-2d7ceda90248",
   "metadata": {},
   "outputs": [],
   "source": [
    "# print(subject_mean[1])"
   ]
  },
  {
   "cell_type": "code",
   "execution_count": 10,
   "id": "2c743e00-456c-4503-995b-fe30b2bdcb5d",
   "metadata": {},
   "outputs": [
    {
     "name": "stdout",
     "output_type": "stream",
     "text": [
      "332.49999999999994\n"
     ]
    }
   ],
   "source": [
    "print(np.sum(subject_mean))"
   ]
  },
  {
   "cell_type": "code",
   "execution_count": 11,
   "id": "7fdee615-1565-40a3-bc32-4f3b8bd8e3ff",
   "metadata": {},
   "outputs": [
    {
     "name": "stdout",
     "output_type": "stream",
     "text": [
      "      English  Physics  Maths  Biology  Computer\n",
      "Mean     57.8     75.6   80.4     62.3      56.4\n"
     ]
    }
   ],
   "source": [
    "# Assigning the mean row with index name 'Mean'\n",
    "mean_row = pd.DataFrame(subject_mean, index=['Mean'], columns=subjects)\n",
    "print(mean_row)\n",
    "# mean_row = pd.DataFrame(\n",
    "#     [{'English': subject_mean[0],\n",
    "#       'Physics': subject_mean[1],\n",
    "#       'Maths': subject_mean[2],\n",
    "#       'Biology': subject_mean[3],\n",
    "#       'Computer': subject_mean[4],\n",
    "#       'Total': np.sum(subject_mean)}],\n",
    "#     index=[\"Mean\"]\n",
    "# )"
   ]
  },
  {
   "cell_type": "code",
   "execution_count": 12,
   "id": "d03d0e94-e016-4126-8494-2c0b625577ee",
   "metadata": {},
   "outputs": [
    {
     "name": "stdout",
     "output_type": "stream",
     "text": [
      "      English  Physics  Maths  Biology  Computer  Total\n",
      "1        98.0     60.0   88.0     54.0      72.0  372.0\n",
      "2        37.0     83.0   80.0     73.0      78.0  351.0\n",
      "3        31.0     62.0   87.0     69.0      46.0  295.0\n",
      "4        68.0     81.0   66.0     36.0      38.0  289.0\n",
      "5        36.0     75.0   72.0     30.0      59.0  272.0\n",
      "6        81.0     88.0   96.0     74.0      75.0  414.0\n",
      "7        71.0     59.0   95.0     95.0      53.0  373.0\n",
      "8        58.0     99.0   79.0     72.0      30.0  338.0\n",
      "9        68.0     53.0   82.0     33.0      50.0  286.0\n",
      "10       30.0     96.0   59.0     87.0      63.0  335.0\n",
      "Mean     57.8     75.6   80.4     62.3      56.4    NaN\n"
     ]
    }
   ],
   "source": [
    "# Using pd.concat to add the new row with custom index\n",
    "final_result = pd.concat([result, mean_row])\n",
    "print(final_result)"
   ]
  },
  {
   "cell_type": "code",
   "execution_count": 13,
   "id": "a7343faa-5896-47fc-9fa1-111ffe1c7dc1",
   "metadata": {},
   "outputs": [
    {
     "name": "stdout",
     "output_type": "stream",
     "text": [
      "      English  Physics  Maths  Biology  Computer  Total\n",
      "1        98.0     60.0   88.0     54.0      72.0  372.0\n",
      "2        37.0     83.0   80.0     73.0      78.0  351.0\n",
      "3        31.0     62.0   87.0     69.0      46.0  295.0\n",
      "4        68.0     81.0   66.0     36.0      38.0  289.0\n",
      "5        36.0     75.0   72.0     30.0      59.0  272.0\n",
      "6        81.0     88.0   96.0     74.0      75.0  414.0\n",
      "7        71.0     59.0   95.0     95.0      53.0  373.0\n",
      "8        58.0     99.0   79.0     72.0      30.0  338.0\n",
      "9        68.0     53.0   82.0     33.0      50.0  286.0\n",
      "10       30.0     96.0   59.0     87.0      63.0  335.0\n",
      "Mean     57.8     75.6   80.4     62.3      56.4  332.5\n"
     ]
    }
   ],
   "source": [
    "# final_result[final_result['Total'] == 'NaN'] = np.sum(subject_mean)\n",
    "final_result = final_result.fillna(np.sum(subject_mean))\n",
    "print(final_result)"
   ]
  },
  {
   "cell_type": "code",
   "execution_count": 14,
   "id": "db9e2c42-da8a-4610-8d87-d1a36e7df69c",
   "metadata": {},
   "outputs": [
    {
     "name": "stdout",
     "output_type": "stream",
     "text": [
      "    English  Physics  Maths  Biology  Computer  Total\n",
      "1        98       60     88       54        72    372\n",
      "2        37       83     80       73        78    351\n",
      "6        81       88     96       74        75    414\n",
      "7        71       59     95       95        53    373\n",
      "8        58       99     79       72        30    338\n",
      "10       30       96     59       87        63    335\n"
     ]
    }
   ],
   "source": [
    "high_achievers = result[result['Total'] >= 300]\n",
    "print(high_achievers)"
   ]
  },
  {
   "cell_type": "code",
   "execution_count": null,
   "id": "3a985238-7a89-4cd4-809c-8bd439b5288f",
   "metadata": {},
   "outputs": [],
   "source": []
  }
 ],
 "metadata": {
  "kernelspec": {
   "display_name": "Python 3 (ipykernel)",
   "language": "python",
   "name": "python3"
  },
  "language_info": {
   "codemirror_mode": {
    "name": "ipython",
    "version": 3
   },
   "file_extension": ".py",
   "mimetype": "text/x-python",
   "name": "python",
   "nbconvert_exporter": "python",
   "pygments_lexer": "ipython3",
   "version": "3.12.4"
  }
 },
 "nbformat": 4,
 "nbformat_minor": 5
}
