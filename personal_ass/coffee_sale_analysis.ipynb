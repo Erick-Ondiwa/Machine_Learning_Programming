{
 "cells": [
  {
   "cell_type": "code",
   "execution_count": 3,
   "id": "67d7a2aa-f579-436f-9f34-79618574887f",
   "metadata": {},
   "outputs": [],
   "source": [
    "import numpy as np\n",
    "import pandas as pd"
   ]
  },
  {
   "cell_type": "code",
   "execution_count": 13,
   "id": "7169d306-623a-484f-9dac-b6af2b493664",
   "metadata": {},
   "outputs": [
    {
     "name": "stdout",
     "output_type": "stream",
     "text": [
      "         Day Coffee Type  Units Sold\n",
      "9     Friday       Latte          35\n",
      "10  Saturday    Espresso          45\n",
      "11  Saturday       Latte          35\n",
      "12    Sunday    Espresso          45\n",
      "13    Sunday       Latte          35\n"
     ]
    }
   ],
   "source": [
    "coffee_sale = pd.read_csv('../3_pandas_library/warmup-data/coffee.csv') \n",
    "print(coffee_sale.tail())"
   ]
  },
  {
   "cell_type": "code",
   "execution_count": 9,
   "id": "9b1ba807-5a49-48c5-8b29-55c355ad4fcb",
   "metadata": {},
   "outputs": [
    {
     "name": "stdout",
     "output_type": "stream",
     "text": [
      "   athlete_id                   name   born_date    born_city  \\\n",
      "0           1  Jean-François Blanchy  1886-12-12     Bordeaux   \n",
      "1           2         Arnaud Boetsch  1969-04-01       Meulan   \n",
      "2           3           Jean Borotra  1898-08-13     Biarritz   \n",
      "3           4        Jacques Brugnon  1895-05-11  Paris VIIIe   \n",
      "4           5           Albert Canet  1878-04-17   Wandsworth   \n",
      "\n",
      "            born_region born_country     NOC  height_cm  weight_kg   died_date  \n",
      "0               Gironde          FRA  France        NaN        NaN  1960-10-02  \n",
      "1              Yvelines          FRA  France      183.0       76.0         NaN  \n",
      "2  Pyrénées-Atlantiques          FRA  France      183.0       76.0  1994-07-17  \n",
      "3                 Paris          FRA  France      168.0       64.0  1978-03-20  \n",
      "4               England          GBR  France        NaN        NaN  1930-07-25  \n"
     ]
    }
   ],
   "source": [
    "bios_data = pd.read_csv('../3_pandas_library/data/bios.csv') \n",
    "print(bios_data.head())"
   ]
  },
  {
   "cell_type": "code",
   "execution_count": null,
   "id": "6c03d0bb-0018-4f0a-8f48-1ea4f55b5540",
   "metadata": {},
   "outputs": [],
   "source": [
    "# coffee_sale.describe()"
   ]
  },
  {
   "cell_type": "code",
   "execution_count": null,
   "id": "3bf8dd70-5a76-4de1-8d54-e4b37703ceb6",
   "metadata": {},
   "outputs": [],
   "source": [
    "# print(coffe_sale['Units Sold'])"
   ]
  },
  {
   "cell_type": "code",
   "execution_count": 7,
   "id": "e6160ae5-7df2-4413-9c6a-093482d40034",
   "metadata": {},
   "outputs": [
    {
     "name": "stdout",
     "output_type": "stream",
     "text": [
      "      Day Coffee Type  Units Sold\n",
      "0  Monday    Espresso          25\n",
      "1  Monday       Latte          15\n"
     ]
    }
   ],
   "source": [
    "monday_sale = coffee_sale[coffee_sale['Day'] == 'Monday']\n",
    "print(monday_sale)"
   ]
  },
  {
   "cell_type": "code",
   "execution_count": 8,
   "id": "07c59800-22c0-4d2e-ab44-dbc9b269ba31",
   "metadata": {},
   "outputs": [
    {
     "name": "stdout",
     "output_type": "stream",
     "text": [
      "          Day Coffee Type  Units Sold\n",
      "0      Monday    Espresso          25\n",
      "2     Tuesday    Espresso          30\n",
      "4   Wednesday    Espresso          35\n",
      "6    Thursday    Espresso          40\n",
      "8      Friday    Espresso          45\n",
      "10   Saturday    Espresso          45\n",
      "12     Sunday    Espresso          45\n"
     ]
    }
   ],
   "source": [
    "espresso_sale = coffee_sale[coffee_sale['Coffee Type'] == 'Espresso']\n",
    "print(espresso_sale)"
   ]
  },
  {
   "cell_type": "code",
   "execution_count": 9,
   "id": "d5f42482-d8f8-4220-92df-5855ad8a7df2",
   "metadata": {},
   "outputs": [
    {
     "name": "stdout",
     "output_type": "stream",
     "text": [
      "          Day Coffee Type  Units Sold\n",
      "4   Wednesday    Espresso          35\n",
      "6    Thursday    Espresso          40\n",
      "8      Friday    Espresso          45\n",
      "9      Friday       Latte          35\n",
      "10   Saturday    Espresso          45\n",
      "11   Saturday       Latte          35\n",
      "12     Sunday    Espresso          45\n",
      "13     Sunday       Latte          35\n"
     ]
    }
   ],
   "source": [
    "high_price = coffee_sale[coffee_sale['Units Sold'] > 30]\n",
    "print(high_price)"
   ]
  },
  {
   "cell_type": "code",
   "execution_count": 10,
   "id": "ab14d705-465e-4238-85e0-78a43b6931f4",
   "metadata": {},
   "outputs": [
    {
     "name": "stdout",
     "output_type": "stream",
     "text": [
      "Day              Friday\n",
      "Coffee Type    Espresso\n",
      "Units Sold           45\n",
      "Name: 8, dtype: object\n"
     ]
    }
   ],
   "source": [
    "eith_sale = coffee_sale.loc[8]\n",
    "print(eith_sale)"
   ]
  },
  {
   "cell_type": "code",
   "execution_count": 11,
   "id": "f89fcfba-dcc1-4cad-b62a-654f5fbbfc29",
   "metadata": {},
   "outputs": [
    {
     "name": "stdout",
     "output_type": "stream",
     "text": [
      "      Name  Age\n",
      "a    Alice   24\n",
      "b      Bob   27\n",
      "c  Charlie   22\n"
     ]
    }
   ],
   "source": [
    "# Creating a DataFrame\n",
    "data = {\n",
    "    \"Name\": [\"Alice\", \"Bob\", \"Charlie\"],\n",
    "    \"Age\": [24, 27, 22]\n",
    "}\n",
    "df = pd.DataFrame(data, index=[\"a\", \"b\", \"c\"])\n",
    "print(df)"
   ]
  },
  {
   "cell_type": "code",
   "execution_count": 12,
   "id": "4beaff37-eb0d-416f-aaa9-a97e1a32f619",
   "metadata": {},
   "outputs": [
    {
     "name": "stdout",
     "output_type": "stream",
     "text": [
      "Name    Bob\n",
      "Age      27\n",
      "Name: b, dtype: object\n"
     ]
    }
   ],
   "source": [
    "# Using .loc to access data by label\n",
    "row_b = df.loc[\"b\"]  # Access row with label \"b\"\n",
    "print(row_b)"
   ]
  },
  {
   "cell_type": "code",
   "execution_count": 13,
   "id": "37a27777-4774-49c8-9359-767e709dc3a7",
   "metadata": {},
   "outputs": [
    {
     "name": "stdout",
     "output_type": "stream",
     "text": [
      "27\n"
     ]
    }
   ],
   "source": [
    "age_of_bob = df.loc[\"b\", \"Age\"]  # Access \"Age\" of the row with label \"b\"\n",
    "print(age_of_bob)"
   ]
  },
  {
   "cell_type": "code",
   "execution_count": null,
   "id": "978e22a7-a82a-4dd8-be9a-06e4e1626389",
   "metadata": {},
   "outputs": [],
   "source": []
  }
 ],
 "metadata": {
  "kernelspec": {
   "display_name": "Python 3 (ipykernel)",
   "language": "python",
   "name": "python3"
  },
  "language_info": {
   "codemirror_mode": {
    "name": "ipython",
    "version": 3
   },
   "file_extension": ".py",
   "mimetype": "text/x-python",
   "name": "python",
   "nbconvert_exporter": "python",
   "pygments_lexer": "ipython3",
   "version": "3.12.4"
  }
 },
 "nbformat": 4,
 "nbformat_minor": 5
}
