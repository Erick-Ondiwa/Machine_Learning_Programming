{
 "cells": [
  {
   "cell_type": "code",
   "execution_count": 1,
   "id": "99364127-da4f-4e6b-a246-9d431174673a",
   "metadata": {},
   "outputs": [],
   "source": [
    "import numpy as np\n",
    "from numpy import matrix"
   ]
  },
  {
   "cell_type": "code",
   "execution_count": 3,
   "id": "252a18de-02cf-4b70-abd8-9503d231cef3",
   "metadata": {},
   "outputs": [
    {
     "name": "stdout",
     "output_type": "stream",
     "text": [
      "[ 0  2  4  6  8 10]\n"
     ]
    }
   ],
   "source": [
    "v1 = np.arange(0,6)\n",
    "v2 =  np.arange(2,5)\n",
    "mul = v1 * 2\n",
    "print(mul)"
   ]
  },
  {
   "cell_type": "code",
   "execution_count": 5,
   "id": "cd3f12bd-d374-4cf8-afd2-b07dc92c754f",
   "metadata": {},
   "outputs": [
    {
     "ename": "ValueError",
     "evalue": "operands could not be broadcast together with shapes (6,) (3,) ",
     "output_type": "error",
     "traceback": [
      "\u001b[1;31m---------------------------------------------------------------------------\u001b[0m",
      "\u001b[1;31mValueError\u001b[0m                                Traceback (most recent call last)",
      "Cell \u001b[1;32mIn[5], line 1\u001b[0m\n\u001b[1;32m----> 1\u001b[0m add \u001b[38;5;241m=\u001b[39m v1 \u001b[38;5;241m+\u001b[39m v2\n\u001b[0;32m      2\u001b[0m \u001b[38;5;28mprint\u001b[39m(add)\n",
      "\u001b[1;31mValueError\u001b[0m: operands could not be broadcast together with shapes (6,) (3,) "
     ]
    }
   ],
   "source": [
    "add = v1 + v2\n",
    "print(add) # operands could not be broadcast together with shapes (7,) (4,) "
   ]
  },
  {
   "cell_type": "code",
   "execution_count": 7,
   "id": "8f212846-7574-48cb-bf39-15a0cd94e2db",
   "metadata": {},
   "outputs": [
    {
     "name": "stdout",
     "output_type": "stream",
     "text": [
      "[[0 1 2]\n",
      " [3 4 5]]\n"
     ]
    }
   ],
   "source": [
    "mat1 = v1.reshape(2,3)\n",
    "print(mat1)"
   ]
  },
  {
   "cell_type": "code",
   "execution_count": 25,
   "id": "c86502cf-41c2-42f5-8103-e876f12c5ffa",
   "metadata": {},
   "outputs": [
    {
     "name": "stdout",
     "output_type": "stream",
     "text": [
      "[0 1]\n"
     ]
    }
   ],
   "source": [
    "elem2 = np.arange(0,2)\n",
    "print(elem2)"
   ]
  },
  {
   "cell_type": "code",
   "execution_count": 26,
   "id": "7b51b4a7-c076-4e22-aef0-85b49b4ac3a1",
   "metadata": {},
   "outputs": [
    {
     "name": "stdout",
     "output_type": "stream",
     "text": [
      "[0 1 2]\n"
     ]
    }
   ],
   "source": [
    "elem3 = np.arange(0,3)\n",
    "print(elem3)"
   ]
  },
  {
   "cell_type": "code",
   "execution_count": 27,
   "id": "92fc5e2f-2005-4358-bf6f-5621ec9428e3",
   "metadata": {},
   "outputs": [
    {
     "ename": "ValueError",
     "evalue": "operands could not be broadcast together with shapes (2,3) (2,) ",
     "output_type": "error",
     "traceback": [
      "\u001b[1;31m---------------------------------------------------------------------------\u001b[0m",
      "\u001b[1;31mValueError\u001b[0m                                Traceback (most recent call last)",
      "Cell \u001b[1;32mIn[27], line 1\u001b[0m\n\u001b[1;32m----> 1\u001b[0m mult \u001b[38;5;241m=\u001b[39m mat1 \u001b[38;5;241m*\u001b[39m elem2\n\u001b[0;32m      2\u001b[0m \u001b[38;5;28mprint\u001b[39m(mult)\n",
      "\u001b[1;31mValueError\u001b[0m: operands could not be broadcast together with shapes (2,3) (2,) "
     ]
    }
   ],
   "source": [
    "mult1 = mat1 * elem2 # You can't multiply 3 columns by 2 columns\n",
    "print(mult)"
   ]
  },
  {
   "cell_type": "code",
   "execution_count": 28,
   "id": "00f19495-fb3e-4e99-bced-ad363ec92114",
   "metadata": {},
   "outputs": [
    {
     "name": "stdout",
     "output_type": "stream",
     "text": [
      "[[ 0  1  4]\n",
      " [ 0  4 10]]\n"
     ]
    }
   ],
   "source": [
    "mult2 = mat1 * elem3 # It is possible to multiply 3 columns by 3 columns\n",
    "print(mult2)"
   ]
  },
  {
   "cell_type": "code",
   "execution_count": 29,
   "id": "738bea28-6d36-42df-b3a9-0a3523ff4a1f",
   "metadata": {},
   "outputs": [
    {
     "name": "stdout",
     "output_type": "stream",
     "text": [
      "[[ 0  1  4]\n",
      " [ 0  4 10]]\n"
     ]
    }
   ],
   "source": [
    "mult3 = elem3 * mat1\n",
    "print(mult3)"
   ]
  },
  {
   "cell_type": "code",
   "execution_count": 9,
   "id": "d446badc-7551-4757-93b5-c2630eb3da1b",
   "metadata": {},
   "outputs": [
    {
     "name": "stdout",
     "output_type": "stream",
     "text": [
      "[[ 4  5  6]\n",
      " [ 7  8  9]\n",
      " [10 11 12]]\n"
     ]
    }
   ],
   "source": [
    "mat2 = np.arange(4,13).reshape(3,3) # Same no of columns, hence can be multiplied\n",
    "print(mat2)"
   ]
  },
  {
   "cell_type": "code",
   "execution_count": 31,
   "id": "994e6154-6eee-4d9c-bbb8-43c947436f1a",
   "metadata": {},
   "outputs": [
    {
     "name": "stdout",
     "output_type": "stream",
     "text": [
      "[[ 0  5 12]\n",
      " [21 32 45]]\n"
     ]
    }
   ],
   "source": [
    "mult4 = mat1 * mat2 # Same no of columns(3), hence can be multiplied\n",
    "print(mult4)"
   ]
  },
  {
   "cell_type": "code",
   "execution_count": 32,
   "id": "18280189-1960-4143-9188-2259cfa8e898",
   "metadata": {},
   "outputs": [
    {
     "name": "stdout",
     "output_type": "stream",
     "text": [
      "[[0 1 2 3]\n",
      " [4 5 6 7]]\n"
     ]
    }
   ],
   "source": [
    "mat3 = np.arange(0,8).reshape(2,4)\n",
    "print(mat3)"
   ]
  },
  {
   "cell_type": "code",
   "execution_count": 33,
   "id": "5bb86b00-c300-445d-bb76-1aea16751a8c",
   "metadata": {},
   "outputs": [
    {
     "ename": "ValueError",
     "evalue": "operands could not be broadcast together with shapes (2,3) (2,4) ",
     "output_type": "error",
     "traceback": [
      "\u001b[1;31m---------------------------------------------------------------------------\u001b[0m",
      "\u001b[1;31mValueError\u001b[0m                                Traceback (most recent call last)",
      "Cell \u001b[1;32mIn[33], line 1\u001b[0m\n\u001b[1;32m----> 1\u001b[0m mult5 \u001b[38;5;241m=\u001b[39m mat1 \u001b[38;5;241m*\u001b[39m mat3\n\u001b[0;32m      2\u001b[0m \u001b[38;5;28mprint\u001b[39m(mult5)\n",
      "\u001b[1;31mValueError\u001b[0m: operands could not be broadcast together with shapes (2,3) (2,4) "
     ]
    }
   ],
   "source": [
    "mult5 = mat1 * mat3 # Different columns, 3 and 4, hence can't be multiplied\n",
    "print(mult5)"
   ]
  },
  {
   "cell_type": "code",
   "execution_count": 11,
   "id": "abf04a7a-2d35-4d4d-8dd0-c490a1abe435",
   "metadata": {},
   "outputs": [
    {
     "name": "stdout",
     "output_type": "stream",
     "text": [
      "[[0 3]\n",
      " [1 4]\n",
      " [2 5]]\n"
     ]
    }
   ],
   "source": [
    "\n",
    "mat1T = matrix(mat1).T\n",
    "print(mat1T)"
   ]
  },
  {
   "cell_type": "code",
   "execution_count": 43,
   "id": "4692f6c8-04f7-4c9a-a4be-49e82a9ffa83",
   "metadata": {},
   "outputs": [
    {
     "name": "stdout",
     "output_type": "stream",
     "text": [
      "[[0]\n",
      " [1]]\n"
     ]
    }
   ],
   "source": [
    "elem2T = matrix(elem2).T\n",
    "print(elem2T)"
   ]
  },
  {
   "cell_type": "code",
   "execution_count": 47,
   "id": "04be1ebc-8409-4eab-a92a-36d6c30d1018",
   "metadata": {},
   "outputs": [
    {
     "ename": "ValueError",
     "evalue": "shapes (2,3) and (2,1) not aligned: 3 (dim 1) != 2 (dim 0)",
     "output_type": "error",
     "traceback": [
      "\u001b[1;31m---------------------------------------------------------------------------\u001b[0m",
      "\u001b[1;31mValueError\u001b[0m                                Traceback (most recent call last)",
      "Cell \u001b[1;32mIn[47], line 1\u001b[0m\n\u001b[1;32m----> 1\u001b[0m mul6 \u001b[38;5;241m=\u001b[39m mat1 \u001b[38;5;241m*\u001b[39m elem2T\n\u001b[0;32m      2\u001b[0m \u001b[38;5;28mprint\u001b[39m(mul6)\n",
      "File \u001b[1;32m~\\anaconda3\\envs\\ml_programming\\Lib\\site-packages\\numpy\\matrixlib\\defmatrix.py:225\u001b[0m, in \u001b[0;36mmatrix.__rmul__\u001b[1;34m(self, other)\u001b[0m\n\u001b[0;32m    224\u001b[0m \u001b[38;5;28;01mdef\u001b[39;00m \u001b[38;5;21m__rmul__\u001b[39m(\u001b[38;5;28mself\u001b[39m, other):\n\u001b[1;32m--> 225\u001b[0m     \u001b[38;5;28;01mreturn\u001b[39;00m N\u001b[38;5;241m.\u001b[39mdot(other, \u001b[38;5;28mself\u001b[39m)\n",
      "\u001b[1;31mValueError\u001b[0m: shapes (2,3) and (2,1) not aligned: 3 (dim 1) != 2 (dim 0)"
     ]
    }
   ],
   "source": [
    "mul6 = mat1 * elem2T\n",
    "print(mul6)"
   ]
  },
  {
   "cell_type": "code",
   "execution_count": 13,
   "id": "c72463b2-7bc3-4d10-939a-8fbfd01040dd",
   "metadata": {},
   "outputs": [
    {
     "name": "stdout",
     "output_type": "stream",
     "text": [
      "[[ 5 14]\n",
      " [14 50]]\n"
     ]
    }
   ],
   "source": [
    "mul7 = mat1 * mat1T\n",
    "print(mul7)"
   ]
  },
  {
   "cell_type": "code",
   "execution_count": 50,
   "id": "ef4c4e97-8d5a-4e9b-923d-2194cc313596",
   "metadata": {},
   "outputs": [
    {
     "name": "stdout",
     "output_type": "stream",
     "text": [
      "[[1 2 3]\n",
      " [4 5 6]\n",
      " [7 8 9]]\n"
     ]
    }
   ],
   "source": [
    "squ_mat = np.arange(1,10).reshape(3,3)\n",
    "print(squ_mat)"
   ]
  },
  {
   "cell_type": "code",
   "execution_count": 60,
   "id": "ef2a859d-d8b4-4491-9ddd-b87b47568d48",
   "metadata": {},
   "outputs": [
    {
     "name": "stdout",
     "output_type": "stream",
     "text": [
      "[1 2 3]\n",
      "[[1]\n",
      " [2]\n",
      " [3]]\n"
     ]
    }
   ],
   "source": [
    "vec1 = np.arange(1,4)\n",
    "print(vec1)\n",
    "vec1T = matrix(vec1).T\n",
    "print(vec1T)"
   ]
  },
  {
   "cell_type": "code",
   "execution_count": 62,
   "id": "6cb1cb24-bf0b-4a25-b4b7-a6131bab6e2d",
   "metadata": {},
   "outputs": [
    {
     "name": "stdout",
     "output_type": "stream",
     "text": [
      "[[14]\n",
      " [32]\n",
      " [50]]\n"
     ]
    }
   ],
   "source": [
    "mul8 = squ_mat * vec1T # 3by3 * 3by1 = 3by1\n",
    "print(mul8)"
   ]
  },
  {
   "cell_type": "code",
   "execution_count": 61,
   "id": "3fcf2dde-0769-4fa1-ae33-bb0dfdef2c92",
   "metadata": {},
   "outputs": [
    {
     "name": "stdout",
     "output_type": "stream",
     "text": [
      "[[ 8]\n",
      " [26]]\n"
     ]
    }
   ],
   "source": [
    "mul9 = mat1 * vec1T # 2by3 * 3by1 = 2by1\n",
    "print(mul9)"
   ]
  },
  {
   "cell_type": "code",
   "execution_count": 63,
   "id": "57e89ac1-edfa-4a41-8d03-28e0b3215a18",
   "metadata": {},
   "outputs": [
    {
     "ename": "ValueError",
     "evalue": "shapes (3,1) and (2,3) not aligned: 1 (dim 1) != 2 (dim 0)",
     "output_type": "error",
     "traceback": [
      "\u001b[1;31m---------------------------------------------------------------------------\u001b[0m",
      "\u001b[1;31mValueError\u001b[0m                                Traceback (most recent call last)",
      "Cell \u001b[1;32mIn[63], line 1\u001b[0m\n\u001b[1;32m----> 1\u001b[0m mul10 \u001b[38;5;241m=\u001b[39m vec1T \u001b[38;5;241m*\u001b[39m mat1 \u001b[38;5;66;03m# 2by3 * 3by1 = 2by1\u001b[39;00m\n\u001b[0;32m      2\u001b[0m \u001b[38;5;28mprint\u001b[39m(mul10)\n",
      "File \u001b[1;32m~\\anaconda3\\envs\\ml_programming\\Lib\\site-packages\\numpy\\matrixlib\\defmatrix.py:219\u001b[0m, in \u001b[0;36mmatrix.__mul__\u001b[1;34m(self, other)\u001b[0m\n\u001b[0;32m    216\u001b[0m \u001b[38;5;28;01mdef\u001b[39;00m \u001b[38;5;21m__mul__\u001b[39m(\u001b[38;5;28mself\u001b[39m, other):\n\u001b[0;32m    217\u001b[0m     \u001b[38;5;28;01mif\u001b[39;00m \u001b[38;5;28misinstance\u001b[39m(other, (N\u001b[38;5;241m.\u001b[39mndarray, \u001b[38;5;28mlist\u001b[39m, \u001b[38;5;28mtuple\u001b[39m)) :\n\u001b[0;32m    218\u001b[0m         \u001b[38;5;66;03m# This promotes 1-D vectors to row vectors\u001b[39;00m\n\u001b[1;32m--> 219\u001b[0m         \u001b[38;5;28;01mreturn\u001b[39;00m N\u001b[38;5;241m.\u001b[39mdot(\u001b[38;5;28mself\u001b[39m, asmatrix(other))\n\u001b[0;32m    220\u001b[0m     \u001b[38;5;28;01mif\u001b[39;00m isscalar(other) \u001b[38;5;129;01mor\u001b[39;00m \u001b[38;5;129;01mnot\u001b[39;00m \u001b[38;5;28mhasattr\u001b[39m(other, \u001b[38;5;124m'\u001b[39m\u001b[38;5;124m__rmul__\u001b[39m\u001b[38;5;124m'\u001b[39m) :\n\u001b[0;32m    221\u001b[0m         \u001b[38;5;28;01mreturn\u001b[39;00m N\u001b[38;5;241m.\u001b[39mdot(\u001b[38;5;28mself\u001b[39m, other)\n",
      "\u001b[1;31mValueError\u001b[0m: shapes (3,1) and (2,3) not aligned: 1 (dim 1) != 2 (dim 0)"
     ]
    }
   ],
   "source": [
    "mul10 = vec1T * mat1 # 3by1 * 2by3 = 2by1 \n",
    "print(mul10)"
   ]
  },
  {
   "cell_type": "code",
   "execution_count": 65,
   "id": "9fc15f05-ce5d-406f-97af-a272074cc0ea",
   "metadata": {},
   "outputs": [
    {
     "name": "stdout",
     "output_type": "stream",
     "text": [
      "[[ 0  1  4]\n",
      " [ 9 16 25]]\n"
     ]
    },
    {
     "ename": "ValueError",
     "evalue": "shapes (2,3) and (2,3) not aligned: 3 (dim 1) != 2 (dim 0)",
     "output_type": "error",
     "traceback": [
      "\u001b[1;31m---------------------------------------------------------------------------\u001b[0m",
      "\u001b[1;31mValueError\u001b[0m                                Traceback (most recent call last)",
      "Cell \u001b[1;32mIn[65], line 2\u001b[0m\n\u001b[0;32m      1\u001b[0m \u001b[38;5;28mprint\u001b[39m(mat1 \u001b[38;5;241m*\u001b[39m mat1)\n\u001b[1;32m----> 2\u001b[0m \u001b[38;5;28mprint\u001b[39m(np\u001b[38;5;241m.\u001b[39mdot(mat1, mat1))\n",
      "\u001b[1;31mValueError\u001b[0m: shapes (2,3) and (2,3) not aligned: 3 (dim 1) != 2 (dim 0)"
     ]
    }
   ],
   "source": [
    "print(mat1 * mat1)\n",
    "print(np.dot(mat1, mat1)) # 2by3 matrix can't be multiplied with the dot() due to a mismatch in the row * column multiplicatio"
   ]
  },
  {
   "cell_type": "code",
   "execution_count": 67,
   "id": "f59d51f0-85ff-479d-af73-eb18dd91145a",
   "metadata": {},
   "outputs": [
    {
     "name": "stdout",
     "output_type": "stream",
     "text": [
      "[[1 2]\n",
      " [3 4]]\n"
     ]
    }
   ],
   "source": [
    "square_matx = np.arange(1,5).reshape(2,2)\n",
    "print(square_matx)"
   ]
  },
  {
   "cell_type": "code",
   "execution_count": 68,
   "id": "a9af97fd-b7eb-4e20-961f-643f4c7f4ddc",
   "metadata": {},
   "outputs": [
    {
     "name": "stdout",
     "output_type": "stream",
     "text": [
      "[[ 1  4]\n",
      " [ 9 16]]\n",
      "[[ 7 10]\n",
      " [15 22]]\n"
     ]
    }
   ],
   "source": [
    "print(square_matx * square_matx)\n",
    "print(np.dot(square_matx, square_matx)) # A square matrix can be multiplied with the dot()"
   ]
  },
  {
   "cell_type": "code",
   "execution_count": 6,
   "id": "e3364e98-3023-4705-bc4e-d74b96c44e4b",
   "metadata": {},
   "outputs": [
    {
     "name": "stdout",
     "output_type": "stream",
     "text": [
      "[0 1 2]\n",
      "[3 4 5 6]\n"
     ]
    }
   ],
   "source": [
    "vector1 = np.arange(0,3)\n",
    "print(vector1)\n",
    "vector2 = np.arange(3,7) \n",
    "print(vector2)"
   ]
  },
  {
   "cell_type": "code",
   "execution_count": 7,
   "id": "ebd60024-c59b-40b9-9b74-c67cb135fa6f",
   "metadata": {},
   "outputs": [
    {
     "ename": "ValueError",
     "evalue": "operands could not be broadcast together with shapes (3,) (4,) ",
     "output_type": "error",
     "traceback": [
      "\u001b[1;31m---------------------------------------------------------------------------\u001b[0m",
      "\u001b[1;31mValueError\u001b[0m                                Traceback (most recent call last)",
      "Cell \u001b[1;32mIn[7], line 1\u001b[0m\n\u001b[1;32m----> 1\u001b[0m \u001b[38;5;28mprint\u001b[39m(vector1 \u001b[38;5;241m*\u001b[39m vector2)\n\u001b[0;32m      2\u001b[0m \u001b[38;5;28mprint\u001b[39m(np\u001b[38;5;241m.\u001b[39mdot(vector1,vector2))\n",
      "\u001b[1;31mValueError\u001b[0m: operands could not be broadcast together with shapes (3,) (4,) "
     ]
    }
   ],
   "source": [
    "print(vector1 * vector2)\n",
    "print(np.dot(vector1,vector2))"
   ]
  },
  {
   "cell_type": "code",
   "execution_count": 10,
   "id": "966eb99e-dac1-447a-a2c5-9a1e72e63c04",
   "metadata": {},
   "outputs": [
    {
     "name": "stdout",
     "output_type": "stream",
     "text": [
      "[[1 2 3]\n",
      " [4 5 6]]\n"
     ]
    }
   ],
   "source": [
    "m1 = np.arange(1, 7).reshape(2,3)\n",
    "print(m1)"
   ]
  },
  {
   "cell_type": "code",
   "execution_count": 11,
   "id": "bb53cdda-b43f-41ee-8d22-7373437246ac",
   "metadata": {},
   "outputs": [
    {
     "name": "stdout",
     "output_type": "stream",
     "text": [
      "[1 2 3 4 5 6]\n"
     ]
    }
   ],
   "source": [
    "print(m1.ravel())"
   ]
  },
  {
   "cell_type": "code",
   "execution_count": 14,
   "id": "3ef17c91-4f8f-49d2-ac45-4142e4bfa58b",
   "metadata": {},
   "outputs": [
    {
     "name": "stdout",
     "output_type": "stream",
     "text": [
      "[[1 4]\n",
      " [2 5]\n",
      " [3 6]]\n",
      "[[1 4]\n",
      " [2 5]\n",
      " [3 6]]\n",
      "[1 4 2 5 3 6]\n"
     ]
    }
   ],
   "source": [
    "print(m1.T)\n",
    "m2 = m1.T\n",
    "print(m2)\n",
    "print(m2.ravel())"
   ]
  },
  {
   "cell_type": "code",
   "execution_count": 15,
   "id": "55dfe4a9-953d-4e49-9b3c-39ad3d9ad158",
   "metadata": {},
   "outputs": [
    {
     "name": "stdout",
     "output_type": "stream",
     "text": [
      "[1 2 3 4 5 6]\n"
     ]
    }
   ],
   "source": [
    "m3 = m1.flatten()\n",
    "print(m3)"
   ]
  },
  {
   "cell_type": "code",
   "execution_count": 25,
   "id": "35abc9f6-c24f-46ff-aa0c-2eff49d18f0e",
   "metadata": {},
   "outputs": [
    {
     "name": "stdout",
     "output_type": "stream",
     "text": [
      "[[1 2]\n",
      " [3 4]]\n"
     ]
    }
   ],
   "source": [
    "matx1 = np.arange(1,5).reshape(2,2)\n",
    "print(matx1)"
   ]
  },
  {
   "cell_type": "code",
   "execution_count": 18,
   "id": "e1185bba-e3c3-41b9-b665-34bc6022f40a",
   "metadata": {},
   "outputs": [
    {
     "name": "stdout",
     "output_type": "stream",
     "text": [
      "[1 1 2 2 3 3 4 4]\n"
     ]
    }
   ],
   "source": [
    "print(np.repeat(matx, 2))"
   ]
  },
  {
   "cell_type": "code",
   "execution_count": 19,
   "id": "3028b895-01b0-4c3d-b7bf-2cc7e195664d",
   "metadata": {},
   "outputs": [
    {
     "name": "stdout",
     "output_type": "stream",
     "text": [
      "[1 2 3 4 1 2 3 4]\n"
     ]
    }
   ],
   "source": [
    "print(np.tile(matx, 2))"
   ]
  },
  {
   "cell_type": "code",
   "execution_count": null,
   "id": "72934e10-2256-4441-baf6-7f6f7968fda7",
   "metadata": {},
   "outputs": [],
   "source": [
    "matx2 = np.arange(5,11)\n",
    "print(matx2)"
   ]
  },
  {
   "cell_type": "code",
   "execution_count": 33,
   "id": "96faeb2d-1f05-40f5-9910-7ce5d55520c6",
   "metadata": {},
   "outputs": [
    {
     "name": "stdout",
     "output_type": "stream",
     "text": [
      "[[1 2]\n",
      " [3 4]\n",
      " [1 2]\n",
      " [3 4]]\n"
     ]
    }
   ],
   "source": [
    "mat1C =np.concatenate((matx1, matx1))\n",
    "print(mat1C)"
   ]
  },
  {
   "cell_type": "code",
   "execution_count": 37,
   "id": "069198d9-0637-47c3-a10a-c95cfed51203",
   "metadata": {},
   "outputs": [
    {
     "name": "stdout",
     "output_type": "stream",
     "text": [
      "[[1 2]\n",
      " [3 4]]\n",
      "[1 2 3 4]\n"
     ]
    }
   ],
   "source": [
    "print(np.vstack(matx1))\n",
    "print(np.hstack(matx1))"
   ]
  },
  {
   "cell_type": "code",
   "execution_count": null,
   "id": "3551b7fc-4459-4812-b1e9-b9b5d8d9763b",
   "metadata": {},
   "outputs": [],
   "source": []
  }
 ],
 "metadata": {
  "kernelspec": {
   "display_name": "Python 3 (ipykernel)",
   "language": "python",
   "name": "python3"
  },
  "language_info": {
   "codemirror_mode": {
    "name": "ipython",
    "version": 3
   },
   "file_extension": ".py",
   "mimetype": "text/x-python",
   "name": "python",
   "nbconvert_exporter": "python",
   "pygments_lexer": "ipython3",
   "version": "3.12.4"
  }
 },
 "nbformat": 4,
 "nbformat_minor": 5
}
