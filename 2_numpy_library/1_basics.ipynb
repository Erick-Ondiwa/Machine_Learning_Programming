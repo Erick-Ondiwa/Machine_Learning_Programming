{
 "cells": [
  {
   "cell_type": "code",
   "execution_count": 2,
   "id": "09480538-d55a-4e52-91c5-70ba7b7fa1a7",
   "metadata": {},
   "outputs": [],
   "source": [
    "import numpy as np"
   ]
  },
  {
   "cell_type": "markdown",
   "id": "9a65c077-0288-4486-8f79-b59695049ca0",
   "metadata": {},
   "source": [
    "The Basics"
   ]
  },
  {
   "cell_type": "code",
   "execution_count": 4,
   "id": "013555a6-9962-4c7d-a8f5-96024f7ff3df",
   "metadata": {},
   "outputs": [
    {
     "name": "stdout",
     "output_type": "stream",
     "text": [
      "[[1 2 3]\n",
      " [4 5 6]\n",
      " [7 8 9]]\n"
     ]
    }
   ],
   "source": [
    "ints = np.array([[1, 2, 3], [4, 5, 6], [7, 8, 9]])\n",
    "print(ints)"
   ]
  },
  {
   "cell_type": "code",
   "execution_count": 5,
   "id": "e7b2814f-8f2e-440c-ae32-07a1a9b828ef",
   "metadata": {},
   "outputs": [
    {
     "data": {
      "text/plain": [
       "(3, 3)"
      ]
     },
     "execution_count": 5,
     "metadata": {},
     "output_type": "execute_result"
    }
   ],
   "source": [
    "# Get shape - The shape attribute returns the dimensions of the array as a tuple. \n",
    "# It tells you how many elements exist along each axis\n",
    "ints.shape"
   ]
  },
  {
   "cell_type": "code",
   "execution_count": 6,
   "id": "3d1b6b10-7ee4-4a38-98b9-cdf77541ccd5",
   "metadata": {},
   "outputs": [
    {
     "data": {
      "text/plain": [
       "2"
      ]
     },
     "execution_count": 6,
     "metadata": {},
     "output_type": "execute_result"
    }
   ],
   "source": [
    "# Get dimensions\n",
    "ints.ndim"
   ]
  },
  {
   "cell_type": "code",
   "execution_count": 7,
   "id": "6f4b00ad-4422-4389-9d79-45d7a1d4ff16",
   "metadata": {},
   "outputs": [
    {
     "data": {
      "text/plain": [
       "dtype('int64')"
      ]
     },
     "execution_count": 7,
     "metadata": {},
     "output_type": "execute_result"
    }
   ],
   "source": [
    "# Get type - The dtype (data type) attribute indicates the type of elements stored in the array, like int32, float64, etc.\n",
    "# The itemsize is directly related to the dtype since the size of each element depends on its data type\n",
    "ints.dtype"
   ]
  },
  {
   "cell_type": "code",
   "execution_count": 9,
   "id": "e94b0455-48d2-4818-af4e-1d8c1308e506",
   "metadata": {},
   "outputs": [
    {
     "data": {
      "text/plain": [
       "9"
      ]
     },
     "execution_count": 9,
     "metadata": {},
     "output_type": "execute_result"
    }
   ],
   "source": [
    "# Get size - The size attribute in NumPy returns the total number of elements in the array. \n",
    "# It is the product of the array's shape\n",
    "\n",
    "ints.size"
   ]
  },
  {
   "cell_type": "code",
   "execution_count": 11,
   "id": "9366c458-ec94-4952-bba9-e8db1e8acff6",
   "metadata": {},
   "outputs": [
    {
     "data": {
      "text/plain": [
       "8"
      ]
     },
     "execution_count": 11,
     "metadata": {},
     "output_type": "execute_result"
    }
   ],
   "source": [
    "# Get item size - The itemsize attribute returns the size (in bytes) of each individual element in the array.\n",
    "# This depends on the data type (dtype) of the array \n",
    "\n",
    "ints.itemsize"
   ]
  },
  {
   "cell_type": "code",
   "execution_count": 12,
   "id": "d4a48283-796f-4f37-aa57-dce1e63a324a",
   "metadata": {},
   "outputs": [
    {
     "data": {
      "text/plain": [
       "72"
      ]
     },
     "execution_count": 12,
     "metadata": {},
     "output_type": "execute_result"
    }
   ],
   "source": [
    "# Get the Memory size consumed - The nbytes attribute returns the total memory consumed by the entire array, in bytes. \n",
    "# It is calculated as nbytes = size * itemsize.\n",
    "\n",
    "ints.nbytes"
   ]
  },
  {
   "cell_type": "markdown",
   "id": "8d740287-c82d-4ea8-896b-4beddd3b2497",
   "metadata": {},
   "source": []
  },
  {
   "cell_type": "markdown",
   "id": "00d1064b-8c5a-4f1f-92f9-67ccab024b6c",
   "metadata": {},
   "source": [
    "Accessing/ Changing Specific Elements, rows, columns"
   ]
  },
  {
   "cell_type": "markdown",
   "id": "a24dad42-d961-4e72-81c2-b4c4172c939d",
   "metadata": {},
   "source": [
    "1. Accessing Specific Elements - To access specific elements in a NumPy array, you use indexing"
   ]
  },
  {
   "cell_type": "markdown",
   "id": "0454b327-cff2-4823-b971-fb133ec5d07c",
   "metadata": {},
   "source": [
    "For a 1D Array"
   ]
  },
  {
   "cell_type": "code",
   "execution_count": null,
   "id": "eac2cd90-c33d-4b2e-a1f6-618d0aa8a48b",
   "metadata": {},
   "outputs": [],
   "source": [
    "import numpy as np\n",
    "arr = np.array([10, 20, 30, 40, 50])\n",
    "\n",
    "# Access the first element\n",
    "print(arr[0])  # Output: 10\n",
    "\n",
    "# Access the last element\n",
    "print(arr[-1])  # Output: 50\n"
   ]
  },
  {
   "cell_type": "markdown",
   "id": "d6e52591-f626-4607-80dc-00567d6a0c0d",
   "metadata": {},
   "source": [
    "For a 2D Array - For multi-dimensional arrays, you provide an index for each axis (row and column in a 2D array)"
   ]
  },
  {
   "cell_type": "code",
   "execution_count": null,
   "id": "5e419158-aff2-4601-a439-dbb313853b96",
   "metadata": {},
   "outputs": [],
   "source": [
    "arr = np.array([[1, 2, 3], [4, 5, 6]])\n",
    "\n",
    "# Access element at row 0, column 2\n",
    "print(arr[0, 2])  # Output: 3\n",
    "\n",
    "# Access element at row 1, column 1\n",
    "print(arr[1, 1])  # Output: 5\n"
   ]
  },
  {
   "cell_type": "markdown",
   "id": "482c42fa-15c1-444d-8db3-6eca4d08e0bb",
   "metadata": {},
   "source": [
    "2. Changing Specific Elements"
   ]
  },
  {
   "cell_type": "markdown",
   "id": "481d314c-4515-4cdb-8807-7faa19d6c591",
   "metadata": {},
   "source": [
    "For a 1D array"
   ]
  },
  {
   "cell_type": "code",
   "execution_count": null,
   "id": "a46f5d98-3b53-4e31-95cf-03b4c2bfe0d0",
   "metadata": {},
   "outputs": [],
   "source": [
    "arr = np.array([10, 20, 30, 40, 50])\n",
    "\n",
    "# Change the value of the first element\n",
    "arr[0] = 100\n",
    "print(arr)  # Output: [100, 20, 30, 40, 50]\n"
   ]
  },
  {
   "cell_type": "markdown",
   "id": "987e0d1a-e986-4114-b81d-500602e29957",
   "metadata": {},
   "source": [
    "For a 2D array"
   ]
  },
  {
   "cell_type": "code",
   "execution_count": null,
   "id": "5f59169b-61e1-43c3-9bdd-060195e3c61a",
   "metadata": {},
   "outputs": [],
   "source": [
    "arr = np.array([[1, 2, 3], [4, 5, 6]])\n",
    "\n",
    "# Change element at row 0, column 1\n",
    "arr[0, 1] = 20\n",
    "print(arr)  # Output: [[ 1, 20, 3], [ 4, 5, 6]]\n"
   ]
  },
  {
   "cell_type": "markdown",
   "id": "4f5bcf98-83e8-4930-8798-2a9380045eaf",
   "metadata": {},
   "source": [
    "Accessing Rows - To access entire rows of a 2D array, you only need to specify the row index."
   ]
  },
  {
   "cell_type": "code",
   "execution_count": null,
   "id": "efc73079-0a6c-4d36-9286-84e119b02606",
   "metadata": {},
   "outputs": [],
   "source": [
    "arr = np.array([[1, 2, 3], [4, 5, 6], [7, 8, 9]])\n",
    "\n",
    "# Access the first row\n",
    "print(arr[0, :])  # Output: [1, 2, 3]\n",
    "\n",
    "# Access the second row\n",
    "print(arr[1, :])  # Output: [4, 5, 6]\n"
   ]
  },
  {
   "cell_type": "markdown",
   "id": "195e3449-8ff4-4391-8577-f558acaa7e73",
   "metadata": {},
   "source": [
    "Changing Rows - You can replace an entire row by assigning a new array to that row."
   ]
  },
  {
   "cell_type": "code",
   "execution_count": null,
   "id": "f8dd674a-a3be-45d3-b622-51797d1c245d",
   "metadata": {},
   "outputs": [],
   "source": [
    "arr = np.array([[1, 2, 3], [4, 5, 6], [7, 8, 9]])\n",
    "\n",
    "# Change the first row\n",
    "arr[0, :] = [10, 20, 30]\n",
    "print(arr)\n",
    "# Output: [[10, 20, 30], [ 4,  5,  6], [ 7,  8,  9]]\n"
   ]
  },
  {
   "cell_type": "markdown",
   "id": "b0214736-162c-4f23-9528-901247e0224b",
   "metadata": {},
   "source": [
    "Accessing Columns - To access an entire column, specify the column index and use : to indicate all rows."
   ]
  },
  {
   "cell_type": "code",
   "execution_count": null,
   "id": "b62804b1-c31a-421a-942a-0384e3fe8f70",
   "metadata": {},
   "outputs": [],
   "source": [
    "arr = np.array([[1, 2, 3], [4, 5, 6], [7, 8, 9]])\n",
    "\n",
    "# Access the first column\n",
    "print(arr[:, 0])  # Output: [1, 4, 7]\n",
    "\n",
    "# Access the second column\n",
    "print(arr[:, 1])  # Output: [2, 5, 8]\n"
   ]
  },
  {
   "cell_type": "markdown",
   "id": "a8396351-2a56-4ab7-9fc2-a9808220ceb8",
   "metadata": {},
   "source": [
    "Changing Columns - Similar to rows, you can replace an entire column by assigning a new array to that column."
   ]
  },
  {
   "cell_type": "code",
   "execution_count": null,
   "id": "3af75d9d-cfe8-41b0-904a-5a722e91b112",
   "metadata": {},
   "outputs": [],
   "source": [
    "arr = np.array([[1, 2, 3], [4, 5, 6], [7, 8, 9]])\n",
    "\n",
    "# Change the second column\n",
    "arr[:, 1] = [20, 50, 80]\n",
    "print(arr)\n",
    "# Output: [[ 1, 20,  3], [ 4, 50,  6], [ 7, 80,  9]]\n"
   ]
  },
  {
   "cell_type": "markdown",
   "id": "d4a3cbb3-0820-4334-8d7b-4a943c3a3acd",
   "metadata": {},
   "source": [
    "7. Accessing Subarrays (Slicing)\n",
    "Slicing allows you to access specific ranges of rows, columns, or elements from the array. You specify the start and end index of the slice for each axis."
   ]
  },
  {
   "cell_type": "markdown",
   "id": "87b024e0-6cfa-49df-80e3-d67d6dd035ff",
   "metadata": {},
   "source": [
    "For a 1D array"
   ]
  },
  {
   "cell_type": "code",
   "execution_count": null,
   "id": "51b1db62-c90d-449c-b1c7-47db8aab4a69",
   "metadata": {},
   "outputs": [],
   "source": [
    "arr = np.array([10, 20, 30, 40, 50, 60])\n",
    "\n",
    "# Access elements from index 1 to 4 (exclusive)\n",
    "print(arr[1:4])  # Output: [20, 30, 40]\n",
    "\n",
    "# Access every other element\n",
    "print(arr[::2])  # Output: [10, 30, 50]\n"
   ]
  },
  {
   "cell_type": "markdown",
   "id": "fb3ae8d9-9717-409b-84a4-306f197327b2",
   "metadata": {},
   "source": [
    "For a 2D array"
   ]
  },
  {
   "cell_type": "code",
   "execution_count": null,
   "id": "546d8719-a30d-4962-83cf-3cb8aa32a7c5",
   "metadata": {},
   "outputs": [],
   "source": [
    "arr = np.array([[1, 2, 3], [4, 5, 6], [7, 8, 9]])\n",
    "\n",
    "# Access a subarray (rows 0 to 1, columns 0 to 1)\n",
    "print(arr[0:2, 0:2])  # Output: [[1, 2], [4, 5]]\n",
    "\n",
    "# Access every other row and column\n",
    "print(arr[::2, ::2])  # Output: [[1, 3], [7, 9]]\n"
   ]
  },
  {
   "cell_type": "markdown",
   "id": "0fbbb276-f073-46f1-96e3-117e5a774d8a",
   "metadata": {},
   "source": [
    "8. Changing Subarrays\n",
    "You can also modify specific subarrays by assigning new values to slices."
   ]
  },
  {
   "cell_type": "code",
   "execution_count": null,
   "id": "66270efc-0ae0-40ad-8314-fb501080f730",
   "metadata": {},
   "outputs": [],
   "source": [
    "arr = np.array([[1, 2, 3], [4, 5, 6], [7, 8, 9]])\n",
    "\n",
    "# Change the top-left 2x2 subarray\n",
    "arr[0:2, 0:2] = [[10, 20], [40, 50]]\n",
    "print(arr)\n",
    "# Output: [[10, 20,  3], [40, 50,  6], [ 7,  8,  9]]\n"
   ]
  },
  {
   "cell_type": "markdown",
   "id": "aab74e5e-8ef7-4041-8ba4-e09934003380",
   "metadata": {},
   "source": [
    "9. Fancy Indexing (Indexing with Arrays)\n",
    "Fancy indexing allows you to access or modify elements using lists or arrays of indices."
   ]
  },
  {
   "cell_type": "code",
   "execution_count": null,
   "id": "ce3d760d-822e-46a6-96f3-8c8de391a332",
   "metadata": {},
   "outputs": [],
   "source": [
    "arr = np.array([10, 20, 30, 40, 50])\n",
    "\n",
    "# Access elements at indices 0, 2, and 4\n",
    "print(arr[[0, 2, 4]])  # Output: [10, 30, 50]\n",
    "\n",
    "# Modify elements at indices 1 and 3\n",
    "arr[[1, 3]] = [200, 400]\n",
    "print(arr)  # Output: [ 10, 200,  30, 400,  50]\n"
   ]
  },
  {
   "cell_type": "markdown",
   "id": "a43d3928-6f38-48b7-9baa-4f3e7e9ddef7",
   "metadata": {},
   "source": [
    "For 2D arrays"
   ]
  },
  {
   "cell_type": "code",
   "execution_count": null,
   "id": "b380c90c-e20e-43c1-a1f9-055a38cad9b1",
   "metadata": {},
   "outputs": [],
   "source": [
    "arr = np.array([[1, 2, 3], [4, 5, 6], [7, 8, 9]])\n",
    "\n",
    "# Access elements at row indices 0 and 2, and column indices 1 and 2\n",
    "print(arr[[0, 2], [1, 2]])  # Output: [2, 9]\n"
   ]
  },
  {
   "cell_type": "markdown",
   "id": "8d752bdd-4223-4f58-995a-04fe18b563d0",
   "metadata": {},
   "source": [
    "10. Boolean Indexing\n",
    "You can use boolean arrays to access or modify elements that satisfy certain conditions."
   ]
  },
  {
   "cell_type": "code",
   "execution_count": null,
   "id": "9620c001-b74d-4c56-9276-dfad8633822f",
   "metadata": {},
   "outputs": [],
   "source": [
    "arr = np.array([10, 20, 30, 40, 50])\n",
    "\n",
    "# Access elements greater than 30\n",
    "print(arr[arr > 30])  # Output: [40, 50]\n",
    "\n",
    "# Modify elements less than or equal to 30\n",
    "arr[arr <= 30] = 100\n",
    "print(arr)  # Output: [100, 100, 100, 40, 50]\n"
   ]
  },
  {
   "cell_type": "markdown",
   "id": "1fc9d231-a05b-48bd-9420-e0c1d380ef71",
   "metadata": {},
   "source": [
    "For 2D arrays"
   ]
  },
  {
   "cell_type": "code",
   "execution_count": null,
   "id": "d8bfec9a-0c04-46c3-bc1e-4562c64605d0",
   "metadata": {},
   "outputs": [],
   "source": [
    "arr = np.array([[1, 2, 3], [4, 5, 6], [7, 8, 9]])\n",
    "\n",
    "# Access elements greater than 4\n",
    "print(arr[arr > 4])  # Output: [5, 6, 7, 8, 9]\n"
   ]
  },
  {
   "cell_type": "markdown",
   "id": "a4be43fc-9226-488c-a0db-68e8ac336d89",
   "metadata": {},
   "source": [
    "11. Using np.where for Conditional Access\n",
    "np.where() allows you to conditionally access or modify elements."
   ]
  },
  {
   "cell_type": "code",
   "execution_count": null,
   "id": "f89a1e9a-b7a4-4084-9192-d908ccfd4bd3",
   "metadata": {},
   "outputs": [],
   "source": [
    "arr = np.array([10, 20, 30, 40, 50])\n",
    "\n",
    "# Access indices where elements are greater than 30\n",
    "indices = np.where(arr > 30)\n",
    "print(indices)  # Output: (array([3, 4]),)\n",
    "\n",
    "# Replace elements less than or equal to 30 with 0\n",
    "arr[np.where(arr <= 30)] = 0\n",
    "print(arr)  # Output: [ 0,  0,  0, 40, 50]\n"
   ]
  },
  {
   "cell_type": "markdown",
   "id": "db079ed6-d147-4ac2-abf9-292d8afd79fa",
   "metadata": {},
   "source": []
  }
 ],
 "metadata": {
  "kernelspec": {
   "display_name": "Python 3 (ipykernel)",
   "language": "python",
   "name": "python3"
  },
  "language_info": {
   "codemirror_mode": {
    "name": "ipython",
    "version": 3
   },
   "file_extension": ".py",
   "mimetype": "text/x-python",
   "name": "python",
   "nbconvert_exporter": "python",
   "pygments_lexer": "ipython3",
   "version": "3.12.4"
  }
 },
 "nbformat": 4,
 "nbformat_minor": 5
}
