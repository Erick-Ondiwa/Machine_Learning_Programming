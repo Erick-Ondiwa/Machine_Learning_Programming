{
 "cells": [
  {
   "cell_type": "markdown",
   "id": "ceb679e7-665d-4e6c-bcf7-dbf25f551e6b",
   "metadata": {},
   "source": [
    "Reorganizing Arrays in NumPy:\n",
    "This refers to changing the structure, shape, or order of the data stored in arrays, without changing the data itself."
   ]
  },
  {
   "cell_type": "code",
   "execution_count": null,
   "id": "9e01652d-0074-4fd6-8ce7-c8759f8739fa",
   "metadata": {},
   "outputs": [],
   "source": [
    "import numpy as np"
   ]
  },
  {
   "cell_type": "code",
   "execution_count": null,
   "id": "358bf07e-8608-4986-b0cb-524c313287b0",
   "metadata": {},
   "outputs": [],
   "source": [
    "# 1. Reshaping Arrays\n",
    "# The reshape() function allows you to change the shape of an array without changing its data. \n",
    "#It reorganizes the array into a new shape, as long as the number of elements remains the same.\n",
    "\n",
    "# Function: np.reshape()\n",
    "\n",
    "# Create a 1D array\n",
    "arr = np.array([1, 2, 3, 4, 5, 6])\n",
    "\n",
    "# Reshape into a 2x3 matrix\n",
    "reshaped_arr = arr.reshape((2, 3))\n",
    "print(reshaped_arr)\n"
   ]
  },
  {
   "cell_type": "code",
   "execution_count": null,
   "id": "52b36f81-04cd-4b6e-816d-e662eaa30183",
   "metadata": {},
   "outputs": [],
   "source": [
    "# 2. Flattening Arrays\n",
    "# Flattening refers to converting a multi-dimensional array into a 1D array.\n",
    "# This can be useful when you need to process elements as a single list.\n",
    "\n",
    "# Function: np.ravel() or np.flatten()\n",
    "\n",
    "arr = np.array([[1, 2, 3], [4, 5, 6]])\n",
    "\n",
    "# Flatten the array\n",
    "flattened_arr = arr.flatten()\n",
    "print(flattened_arr)\n",
    "\n",
    "\n",
    "# Difference Between ravel() and flatten():\n",
    "# flatten(): Returns a copy of the original array.\n",
    "# ravel(): Returns a view of the original array (if possible), which is more memory efficient"
   ]
  },
  {
   "cell_type": "code",
   "execution_count": null,
   "id": "247ecd3b-4ff5-423b-b645-5673c00c844d",
   "metadata": {},
   "outputs": [],
   "source": [
    "# 4. Concatenating Arrays\n",
    "# You can concatenate (join) two or more arrays along an existing axis using the concatenate() function.\n",
    "# This is useful when you want to combine arrays into a single array.\n",
    "\n",
    "# Function: np.concatenate()\n",
    "\n",
    "arr1 = np.array([[1, 2], [3, 4]])\n",
    "arr2 = np.array([[5, 6]])\n",
    "\n",
    "# Concatenate along axis 0 (rows)\n",
    "concatenated_arr = np.concatenate((arr1, arr2), axis=0)\n",
    "print(concatenated_arr)\n",
    "\n",
    "# Note:\n",
    "# You can concatenate along different axes (rows or columns). By default, concatenation happens along the first axis (rows)."
   ]
  },
  {
   "cell_type": "code",
   "execution_count": null,
   "id": "3716d4d6-a844-4f55-8a6b-44096d01be9c",
   "metadata": {},
   "outputs": [],
   "source": [
    "# 5. Splitting Arrays\n",
    "# The split() function divides an array into multiple sub-arrays along a specified axis.\n",
    "\n",
    "# Function: np.split()\n",
    "\n",
    "arr = np.array([1, 2, 3, 4, 5, 6])\n",
    "\n",
    "# Split the array into three sub-arrays\n",
    "split_arr = np.split(arr, 3)\n",
    "print(split_arr)\n",
    "\n",
    "# Notes:\n",
    "# If you want to split the array into unequal-sized sub-arrays, you can use np.array_split()\n"
   ]
  },
  {
   "cell_type": "code",
   "execution_count": null,
   "id": "678f7812-d52b-440a-91a3-ad84652dcb01",
   "metadata": {},
   "outputs": [],
   "source": [
    "# 6. Stacking Arrays\n",
    "# Stacking refers to joining arrays along a new axis.\n",
    "#There are different types of stacking operations, such as vstack(), hstack(), and dstack().\n",
    "\n",
    "         # Types of Stacking:\n",
    "    # Vertical Stacking: Combines arrays row-wise.\n",
    "    # Horizontal Stacking: Combines arrays column-wise.\n",
    "    # Depth Stacking: Combines arrays along the third axis.\n",
    "        # Vertical Stacking (vstack):\n",
    "# Function: np.vstack()\n",
    "\n",
    "arr1 = np.array([1, 2])\n",
    "arr2 = np.array([3, 4])\n",
    "\n",
    "# Stack arrays vertically\n",
    "vstacked_arr = np.vstack((arr1, arr2))\n",
    "print(vstacked_arr)\n",
    "\n",
    "\n",
    "        # Horizontal Stacking (hstack):\n",
    "# Function: np.hstack()\n",
    "arr1 = np.array([1, 2])\n",
    "arr2 = np.array([3, 4])\n",
    "\n",
    "# Stack arrays horizontally\n",
    "hstacked_arr = np.hstack((arr1, arr2))\n",
    "print(hstacked_arr)\n"
   ]
  },
  {
   "cell_type": "code",
   "execution_count": null,
   "id": "55779624-7269-4cc0-9d15-28a167d4726e",
   "metadata": {},
   "outputs": [],
   "source": [
    "# 7. Changing Array Dimensions (expand_dims)\n",
    "# You can increase the dimensions of an array by adding an axis to it using expand_dims().\n",
    "\n",
    "# Function: np.expand_dims()\n",
    "\n",
    "arr = np.array([1, 2, 3])\n",
    "\n",
    "# Expand dimensions to make it a 2D array (1 row)\n",
    "expanded_arr = np.expand_dims(arr, axis=0)\n",
    "print(expanded_arr)\n",
    "\n",
    "# This increases the dimensions of a 1D array to a 2D array with 1 row and 3 columns."
   ]
  },
  {
   "cell_type": "code",
   "execution_count": null,
   "id": "7cee5d6b-1cb6-4808-9eac-5b6e24033d97",
   "metadata": {},
   "outputs": [],
   "source": [
    "# 8. Squeezing Arrays (squeeze)\n",
    "# The squeeze() function removes single-dimensional entries from the shape of an array, \n",
    "# which can be useful when you want to collapse dimensions.\n",
    "\n",
    "# Function: np.squeeze()\n",
    "\n",
    "arr = np.array([[[1, 2, 3]]])\n",
    "\n",
    "# Remove extra dimensions\n",
    "squeezed_arr = np.squeeze(arr)\n",
    "print(squeezed_arr)\n",
    "\n",
    "# Here, the 3D array is reduced to a 1D array"
   ]
  },
  {
   "cell_type": "code",
   "execution_count": null,
   "id": "b004ee45-5722-43c8-bd99-c13110a43ca9",
   "metadata": {},
   "outputs": [],
   "source": [
    "# 9. Tile and Repeat\n",
    "# You can create copies of an array along specified dimensions using tile() or repeat().\n",
    "\n",
    "    # Tiling (tile):\n",
    "# The tile() function creates multiple copies of an array.\n",
    "\n",
    "# Function: np.tile()\n",
    "\n",
    "arr = np.array([[[1, 2, 3]]])\n",
    "\n",
    "# Remove extra dimensions\n",
    "squeezed_arr = np.squeeze(arr)\n",
    "print(squeezed_arr)\n",
    "\n",
    "\n",
    "    # Repeating (repeat):\n",
    "# The repeat() function repeats elements of an array along an axis.\n",
    "\n",
    "# Function: np.repeat()\n",
    "\n",
    "arr = np.array([1, 2, 3])\n",
    "\n",
    "# Repeat each element 2 times\n",
    "repeated_arr = np.repeat(arr, 2)\n",
    "print(repeated_arr)\n"
   ]
  },
  {
   "cell_type": "code",
   "execution_count": null,
   "id": "bb443f37-c506-4869-ba90-0c1856edd0ef",
   "metadata": {},
   "outputs": [],
   "source": [
    "# 6. Using Pickle with NumPy Arrays\n",
    "# NumPy arrays can also be saved and loaded using Python’s pickle module. \n",
    "# This can be useful when saving and loading Python objects along with NumPy arrays.\n",
    "\n",
    "import pickle\n",
    "\n",
    "# Create an array\n",
    "arr = np.array([1, 2, 3, 4, 5])\n",
    "\n",
    "# Save the array using pickle\n",
    "with open('array_file.pkl', 'wb') as f:\n",
    "    pickle.dump(arr, f)\n",
    "\n",
    "# Load the array using pickle\n",
    "with open('array_file.pkl', 'rb') as f:\n",
    "    loaded_arr = pickle.load(f)\n",
    "print(loaded_arr)\n",
    "\n",
    "\n",
    "# Pickle can serialize and deserialize Python objects, including NumPy arrays,\n",
    "# making it flexible but slower compared to .npy files.\n",
    "\n"
   ]
  },
  {
   "cell_type": "code",
   "execution_count": null,
   "id": "6355ab95-29ff-4d6d-9c63-0747993e66e6",
   "metadata": {},
   "outputs": [],
   "source": [
    "# 7. Handling Compressed Files\n",
    "# For handling compressed files (e.g., .gz or .bz2),\n",
    "# you can combine NumPy file handling functions with Python’s gzip or bz2 modules.\n",
    "import gzip\n",
    "\n",
    "# Create a compressed file and save an array to it\n",
    "with gzip.open('array_file.txt.gz', 'wt') as f:\n",
    "    np.savetxt(f, arr)\n",
    "\n",
    "# Load the array from the compressed file\n",
    "with gzip.open('array_file.txt.gz', 'rt') as f:\n",
    "    loaded_arr = np.loadtxt(f)\n",
    "print(loaded_arr)\n"
   ]
  }
 ],
 "metadata": {
  "kernelspec": {
   "display_name": "Python 3 (ipykernel)",
   "language": "python",
   "name": "python3"
  },
  "language_info": {
   "codemirror_mode": {
    "name": "ipython",
    "version": 3
   },
   "file_extension": ".py",
   "mimetype": "text/x-python",
   "name": "python",
   "nbconvert_exporter": "python",
   "pygments_lexer": "ipython3",
   "version": "3.12.4"
  }
 },
 "nbformat": 4,
 "nbformat_minor": 5
}
