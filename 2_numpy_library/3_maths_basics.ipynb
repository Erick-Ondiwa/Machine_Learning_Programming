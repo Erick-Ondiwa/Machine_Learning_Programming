{
 "cells": [
  {
   "cell_type": "code",
   "execution_count": 10,
   "id": "621d5352-43af-4fb5-a010-07f93f9b8769",
   "metadata": {},
   "outputs": [],
   "source": [
    "import numpy as np"
   ]
  },
  {
   "cell_type": "code",
   "execution_count": 11,
   "id": "4ae95d2d-7b81-40a1-9288-1e2e2a561b64",
   "metadata": {},
   "outputs": [],
   "source": [
    "import math"
   ]
  },
  {
   "cell_type": "code",
   "execution_count": 12,
   "id": "dccbd70d-9ccc-47ab-b1d6-6866b8a64298",
   "metadata": {},
   "outputs": [],
   "source": [
    "ints = np.array([1, 2, 3, 4, 5])"
   ]
  },
  {
   "cell_type": "code",
   "execution_count": 14,
   "id": "e13ecc64-61b1-4aeb-8e16-6d969343a4d0",
   "metadata": {},
   "outputs": [
    {
     "name": "stdout",
     "output_type": "stream",
     "text": [
      "[ 1  4  9 16 25]\n"
     ]
    }
   ],
   "source": [
    "squares = ints**2\n",
    "print(squares)"
   ]
  },
  {
   "cell_type": "code",
   "execution_count": 15,
   "id": "467d7084-5707-49c6-9967-75f93ec8189d",
   "metadata": {},
   "outputs": [
    {
     "name": "stdout",
     "output_type": "stream",
     "text": [
      "[  1   8  27  64 125]\n"
     ]
    }
   ],
   "source": [
    "cubes = np.power(ints, 3)\n",
    "print(cubes)"
   ]
  },
  {
   "cell_type": "code",
   "execution_count": 17,
   "id": "f88c7236-ca9e-4b81-a191-f26e309c4b54",
   "metadata": {},
   "outputs": [
    {
     "name": "stdout",
     "output_type": "stream",
     "text": [
      "[ 2  4  6  8 10]\n"
     ]
    }
   ],
   "source": [
    "mul = ints * 2 # This multiplies all the contents of an array by 2\n",
    "print(mul)"
   ]
  },
  {
   "cell_type": "code",
   "execution_count": 18,
   "id": "14260c46-c562-4743-83a6-7e045492e362",
   "metadata": {},
   "outputs": [
    {
     "name": "stdout",
     "output_type": "stream",
     "text": [
      "[0.5 1.  1.5 2.  2.5]\n"
     ]
    }
   ],
   "source": [
    "div = ints / 2 # This divides all the contents of an array by 2\n",
    "print(div)"
   ]
  },
  {
   "cell_type": "code",
   "execution_count": 19,
   "id": "36e6eb76-691e-40be-8fb1-cd61d09cc300",
   "metadata": {},
   "outputs": [
    {
     "name": "stdout",
     "output_type": "stream",
     "text": [
      "15\n"
     ]
    }
   ],
   "source": [
    "addition = np.sum(ints)\n",
    "print(addition)"
   ]
  },
  {
   "cell_type": "markdown",
   "id": "60abfc7c-da45-4007-a3db-e02cd8a6b54f",
   "metadata": {},
   "source": [
    "# Other mathematical functions"
   ]
  },
  {
   "cell_type": "code",
   "execution_count": 20,
   "id": "9bec1b9f-b873-462b-b3c6-86c9fea6d71d",
   "metadata": {},
   "outputs": [
    {
     "name": "stdout",
     "output_type": "stream",
     "text": [
      "[ 0.84147098  0.90929743  0.14112001 -0.7568025  -0.95892427]\n"
     ]
    }
   ],
   "source": [
    "_sin = np.sin(ints) # This prints te sine of every element in the array\n",
    "print(_sin)"
   ]
  },
  {
   "cell_type": "code",
   "execution_count": 21,
   "id": "d25bb652-e3ec-43a9-b3eb-2930307c08d9",
   "metadata": {},
   "outputs": [
    {
     "name": "stdout",
     "output_type": "stream",
     "text": [
      "[ 0.54030231 -0.41614684 -0.9899925  -0.65364362  0.28366219]\n"
     ]
    }
   ],
   "source": [
    "_cos = np.cos(ints) # This prints te cosine of every element in the array\n",
    "print(_cos)"
   ]
  },
  {
   "cell_type": "code",
   "execution_count": null,
   "id": "6bfa995a-1495-4e97-b8d1-e69aabe5be09",
   "metadata": {},
   "outputs": [],
   "source": []
  }
 ],
 "metadata": {
  "kernelspec": {
   "display_name": "Python 3 (ipykernel)",
   "language": "python",
   "name": "python3"
  },
  "language_info": {
   "codemirror_mode": {
    "name": "ipython",
    "version": 3
   },
   "file_extension": ".py",
   "mimetype": "text/x-python",
   "name": "python",
   "nbconvert_exporter": "python",
   "pygments_lexer": "ipython3",
   "version": "3.12.4"
  }
 },
 "nbformat": 4,
 "nbformat_minor": 5
}
