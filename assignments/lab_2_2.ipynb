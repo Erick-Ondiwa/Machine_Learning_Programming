{
 "cells": [
  {
   "cell_type": "code",
   "execution_count": 1,
   "metadata": {},
   "outputs": [],
   "source": [
    "import os, sys\n",
    "import numpy as np\n",
    "import pandas as pd\n",
    "import matplotlib.pyplot as plt"
   ]
  },
  {
   "cell_type": "markdown",
   "metadata": {},
   "source": [
    "# Lab 2\n",
    "These exercises focus on Pandas. Work through all exercises, searching for help when you need to (ie. frequently)."
   ]
  },
  {
   "cell_type": "markdown",
   "metadata": {},
   "source": [
    "__EXERCISE 1: Pie shop__\n",
    "\n",
    "_Objective: Create and manipulate DataFrames_\n",
    "* Create a DataFrame with three columns: month, apple_pie_sales, blueberry_pie_sales\n",
    "* Summarize which products sold best\n",
    "* Create a new column to summarize revenues"
   ]
  },
  {
   "cell_type": "code",
   "execution_count": 2,
   "metadata": {},
   "outputs": [
    {
     "data": {
      "text/html": [
       "<div>\n",
       "<style scoped>\n",
       "    .dataframe tbody tr th:only-of-type {\n",
       "        vertical-align: middle;\n",
       "    }\n",
       "\n",
       "    .dataframe tbody tr th {\n",
       "        vertical-align: top;\n",
       "    }\n",
       "\n",
       "    .dataframe thead th {\n",
       "        text-align: right;\n",
       "    }\n",
       "</style>\n",
       "<table border=\"1\" class=\"dataframe\">\n",
       "  <thead>\n",
       "    <tr style=\"text-align: right;\">\n",
       "      <th></th>\n",
       "      <th>months</th>\n",
       "      <th>apple_pie_sales</th>\n",
       "      <th>blueberry_pie_sales</th>\n",
       "    </tr>\n",
       "  </thead>\n",
       "  <tbody>\n",
       "    <tr>\n",
       "      <th>0</th>\n",
       "      <td>Jan</td>\n",
       "      <td>34</td>\n",
       "      <td>18</td>\n",
       "    </tr>\n",
       "    <tr>\n",
       "      <th>1</th>\n",
       "      <td>Feb</td>\n",
       "      <td>19</td>\n",
       "      <td>6</td>\n",
       "    </tr>\n",
       "    <tr>\n",
       "      <th>2</th>\n",
       "      <td>Mar</td>\n",
       "      <td>28</td>\n",
       "      <td>15</td>\n",
       "    </tr>\n",
       "    <tr>\n",
       "      <th>3</th>\n",
       "      <td>Apr</td>\n",
       "      <td>45</td>\n",
       "      <td>51</td>\n",
       "    </tr>\n",
       "  </tbody>\n",
       "</table>\n",
       "</div>"
      ],
      "text/plain": [
       "  months  apple_pie_sales  blueberry_pie_sales\n",
       "0    Jan               34                   18\n",
       "1    Feb               19                    6\n",
       "2    Mar               28                   15\n",
       "3    Apr               45                   51"
      ]
     },
     "execution_count": 2,
     "metadata": {},
     "output_type": "execute_result"
    }
   ],
   "source": [
    "# YOUR CODE HERE: create the df using the data supplied\n",
    "\n",
    "sales_data = {'months' : ['Jan','Feb', 'Mar', 'Apr'],\n",
    "                'apple_pie_sales' : [34, 19, 28, 45],\n",
    "                'blueberry_pie_sales' : [18, 6, 15, 51]}\n",
    "\n",
    "sales_dataframe = pd.DataFrame(sales_data)\n",
    "sales_dataframe"
   ]
  },
  {
   "cell_type": "code",
   "execution_count": 5,
   "metadata": {},
   "outputs": [
    {
     "data": {
      "text/plain": [
       "90"
      ]
     },
     "execution_count": 5,
     "metadata": {},
     "output_type": "execute_result"
    }
   ],
   "source": [
    "# YOUR CODE HERE: calculate total sales of apple pies and total sales of blueberry pies\n",
    "total_apple_sales = np.sum(sales_dataframe['apple_pie_sales'])\n",
    "\n",
    "total_blueberry_sales = np.sum(sales_dataframe['blueberry_pie_sales'])\n",
    "total_blueberry_sales\n"
   ]
  },
  {
   "cell_type": "code",
   "execution_count": 68,
   "metadata": {},
   "outputs": [
    {
     "data": {
      "text/html": [
       "<div>\n",
       "<style scoped>\n",
       "    .dataframe tbody tr th:only-of-type {\n",
       "        vertical-align: middle;\n",
       "    }\n",
       "\n",
       "    .dataframe tbody tr th {\n",
       "        vertical-align: top;\n",
       "    }\n",
       "\n",
       "    .dataframe thead th {\n",
       "        text-align: right;\n",
       "    }\n",
       "</style>\n",
       "<table border=\"1\" class=\"dataframe\">\n",
       "  <thead>\n",
       "    <tr style=\"text-align: right;\">\n",
       "      <th></th>\n",
       "      <th>months</th>\n",
       "      <th>apple_pie_sales</th>\n",
       "      <th>blueberry_pie_sales</th>\n",
       "    </tr>\n",
       "  </thead>\n",
       "  <tbody>\n",
       "    <tr>\n",
       "      <th>0</th>\n",
       "      <td>Jan</td>\n",
       "      <td>34</td>\n",
       "      <td>18</td>\n",
       "    </tr>\n",
       "    <tr>\n",
       "      <th>1</th>\n",
       "      <td>Feb</td>\n",
       "      <td>19</td>\n",
       "      <td>6</td>\n",
       "    </tr>\n",
       "    <tr>\n",
       "      <th>2</th>\n",
       "      <td>Mar</td>\n",
       "      <td>28</td>\n",
       "      <td>15</td>\n",
       "    </tr>\n",
       "    <tr>\n",
       "      <th>3</th>\n",
       "      <td>Apr</td>\n",
       "      <td>45</td>\n",
       "      <td>51</td>\n",
       "    </tr>\n",
       "    <tr>\n",
       "      <th>4</th>\n",
       "      <td>Total</td>\n",
       "      <td>126</td>\n",
       "      <td>90</td>\n",
       "    </tr>\n",
       "  </tbody>\n",
       "</table>\n",
       "</div>"
      ],
      "text/plain": [
       "  months  apple_pie_sales  blueberry_pie_sales\n",
       "0    Jan               34                   18\n",
       "1    Feb               19                    6\n",
       "2    Mar               28                   15\n",
       "3    Apr               45                   51\n",
       "4  Total              126                   90"
      ]
     },
     "execution_count": 68,
     "metadata": {},
     "output_type": "execute_result"
    }
   ],
   "source": [
    "sales_dataframe.loc[4] = ['Total', total_apple_sales, total_blueberry_sales]\n",
    "\n",
    "sales_dataframe"
   ]
  },
  {
   "cell_type": "code",
   "execution_count": 7,
   "metadata": {},
   "outputs": [
    {
     "data": {
      "text/html": [
       "<div>\n",
       "<style scoped>\n",
       "    .dataframe tbody tr th:only-of-type {\n",
       "        vertical-align: middle;\n",
       "    }\n",
       "\n",
       "    .dataframe tbody tr th {\n",
       "        vertical-align: top;\n",
       "    }\n",
       "\n",
       "    .dataframe thead th {\n",
       "        text-align: right;\n",
       "    }\n",
       "</style>\n",
       "<table border=\"1\" class=\"dataframe\">\n",
       "  <thead>\n",
       "    <tr style=\"text-align: right;\">\n",
       "      <th></th>\n",
       "      <th>months</th>\n",
       "      <th>apple_pie_sales</th>\n",
       "      <th>blueberry_pie_sales</th>\n",
       "      <th>apple_pie_revenue</th>\n",
       "      <th>blueberry_pie_revenue</th>\n",
       "    </tr>\n",
       "  </thead>\n",
       "  <tbody>\n",
       "    <tr>\n",
       "      <th>0</th>\n",
       "      <td>Jan</td>\n",
       "      <td>34</td>\n",
       "      <td>18</td>\n",
       "      <td>408</td>\n",
       "      <td>270</td>\n",
       "    </tr>\n",
       "    <tr>\n",
       "      <th>1</th>\n",
       "      <td>Feb</td>\n",
       "      <td>19</td>\n",
       "      <td>6</td>\n",
       "      <td>228</td>\n",
       "      <td>90</td>\n",
       "    </tr>\n",
       "    <tr>\n",
       "      <th>2</th>\n",
       "      <td>Mar</td>\n",
       "      <td>28</td>\n",
       "      <td>15</td>\n",
       "      <td>336</td>\n",
       "      <td>225</td>\n",
       "    </tr>\n",
       "    <tr>\n",
       "      <th>3</th>\n",
       "      <td>Apr</td>\n",
       "      <td>45</td>\n",
       "      <td>51</td>\n",
       "      <td>540</td>\n",
       "      <td>765</td>\n",
       "    </tr>\n",
       "  </tbody>\n",
       "</table>\n",
       "</div>"
      ],
      "text/plain": [
       "  months  apple_pie_sales  blueberry_pie_sales  apple_pie_revenue  \\\n",
       "0    Jan               34                   18                408   \n",
       "1    Feb               19                    6                228   \n",
       "2    Mar               28                   15                336   \n",
       "3    Apr               45                   51                540   \n",
       "\n",
       "   blueberry_pie_revenue  \n",
       "0                    270  \n",
       "1                     90  \n",
       "2                    225  \n",
       "3                    765  "
      ]
     },
     "execution_count": 7,
     "metadata": {},
     "output_type": "execute_result"
    }
   ],
   "source": [
    "# YOUR CODE HERE: create a new columns entitled apple_pie_revenue and blueberry_pie_revenue\n",
    "\n",
    "# Hint: revenue = units sold * price. Use the prices below.\n",
    "apple_pie_price = 12\n",
    "blueberry_pie_price = 15\n",
    "\n",
    "sales_dataframe['apple_pie_revenue'] = sales_dataframe['apple_pie_sales'] * apple_pie_price\n",
    "sales_dataframe['blueberry_pie_revenue'] = sales_dataframe['blueberry_pie_sales'] * blueberry_pie_price\n",
    "sales_dataframe"
   ]
  },
  {
   "cell_type": "code",
   "execution_count": 9,
   "metadata": {},
   "outputs": [
    {
     "data": {
      "image/png": "[encoded data removed]",
      "text/plain": [
       "<Figure size 640x480 with 1 Axes>"
      ]
     },
     "metadata": {},
     "output_type": "display_data"
    }
   ],
   "source": [
    "# BONUS: find a way to plot bar charts and pie charts (ha) of the shop's sales\n",
    "months = sales_dataframe['months']\n",
    "apple_sales =sales_dataframe['apple_pie_sales']\n",
    "blueberry_sales =sales_dataframe['blueberry_pie_sales']\n",
    "months\n",
    "\n",
    "plt.bar(months[0:4], apple_sales, edgecolor='black')\n",
    "plt.title('Monthly Apple Sales')\n",
    "plt.ylabel('Sales')\n",
    "plt.ylabel('Months')\n",
    "\n",
    "plt.xticks(months, rotation=45)\n",
    "plt.show()"
   ]
  },
  {
   "cell_type": "code",
   "execution_count": 11,
   "metadata": {},
   "outputs": [
    {
     "data": {
      "image/png": "[encoded data removed]",
      "text/plain": [
       "<Figure size 640x480 with 1 Axes>"
      ]
     },
     "metadata": {},
     "output_type": "display_data"
    }
   ],
   "source": [
    "months = sales_dataframe['months']\n",
    "apple_sales = sales_dataframe['apple_pie_sales']\n",
    "\n",
    "plt.pie(apple_sales, autopct='%1.1f%%', labels=months, startangle=140)\n",
    "plt.title('Monthly Apple Pie Sales')\n",
    "plt.show()"
   ]
  },
  {
   "cell_type": "code",
   "execution_count": 17,
   "metadata": {},
   "outputs": [
    {
     "data": {
      "image/png": "[encoded data removed]",
      "text/plain": [
       "<Figure size 640x480 with 1 Axes>"
      ]
     },
     "metadata": {},
     "output_type": "display_data"
    }
   ],
   "source": [
    "months = sales_dataframe['months'][0:4]\n",
    "blueberry_sales =sales_dataframe['blueberry_pie_sales']\n",
    "\n",
    "plt.bar(months,blueberry_sales, edgecolor='black')\n",
    "plt.title('Monthly Distribution of Apple Pie Sales')\n",
    "plt.ylabel('Sales')\n",
    "plt.ylabel('Months')\n",
    "plt.xticks(months, rotation=45)\n",
    "plt.show()"
   ]
  },
  {
   "cell_type": "code",
   "execution_count": 23,
   "metadata": {},
   "outputs": [
    {
     "data": {
      "image/png": "[encoded data removed]",
      "text/plain": [
       "<Figure size 640x480 with 1 Axes>"
      ]
     },
     "metadata": {},
     "output_type": "display_data"
    }
   ],
   "source": [
    "months = sales_dataframe['months']\n",
    "blueberry_sales =sales_dataframe['blueberry_pie_sales']\n",
    "\n",
    "plt.pie(blueberry_sales, autopct='%1.1f%%', labels=months, startangle=140)\n",
    "plt.title('Monthly Distribution of Blueberry Pie Sales')\n",
    "plt.legend(loc=\"upper left\", bbox_to_anchor=(1,1))\n",
    "plt.show()"
   ]
  },
  {
   "cell_type": "markdown",
   "metadata": {},
   "source": [
    "__EXERCISE 2: NYC housing__\n",
    "\n",
    "_Objective: clean and manipulate a real-world dataset_\n",
    "\n",
    "We are using the PLUTO (Primary Land Use Tax Lot Output) database, which lists every building in New York City.\n",
    "Source is [NYC Open Data Portal](https://www1.nyc.gov/site/planning/data-maps/open-data/dwn-pluto-mappluto.page). Check the [data dictionary](https://www1.nyc.gov/assets/planning/download/pdf/data-maps/open-data/pluto_datadictionary.pdf?r=18v2beta)."
   ]
  },
  {
   "cell_type": "code",
   "execution_count": 88,
   "metadata": {},
   "outputs": [
    {
     "name": "stderr",
     "output_type": "stream",
     "text": [
      "C:\\Users\\ErickOndiwa\\AppData\\Local\\Temp\\ipykernel_10888\\3945322138.py:2: DtypeWarning: Columns (18,19,21,23,78) have mixed types. Specify dtype option on import or set low_memory=False.\n",
      "  df = pd.read_csv(url)\n"
     ]
    }
   ],
   "source": [
    "url = 'pluto_shorter.csv'\n",
    "df = pd.read_csv(url)"
   ]
  },
  {
   "cell_type": "markdown",
   "metadata": {},
   "source": [
    "__Step 1: Inspect and prepare the dataset__"
   ]
  },
  {
   "cell_type": "code",
   "execution_count": 90,
   "metadata": {},
   "outputs": [
    {
     "data": {
      "text/html": [
       "<div>\n",
       "<style scoped>\n",
       "    .dataframe tbody tr th:only-of-type {\n",
       "        vertical-align: middle;\n",
       "    }\n",
       "\n",
       "    .dataframe tbody tr th {\n",
       "        vertical-align: top;\n",
       "    }\n",
       "\n",
       "    .dataframe thead th {\n",
       "        text-align: right;\n",
       "    }\n",
       "</style>\n",
       "<table border=\"1\" class=\"dataframe\">\n",
       "  <thead>\n",
       "    <tr style=\"text-align: right;\">\n",
       "      <th></th>\n",
       "      <th>Unnamed: 0</th>\n",
       "      <th>borough</th>\n",
       "      <th>block</th>\n",
       "      <th>lot</th>\n",
       "      <th>cd</th>\n",
       "      <th>ct2010</th>\n",
       "      <th>cb2010</th>\n",
       "      <th>schooldist</th>\n",
       "      <th>council</th>\n",
       "      <th>zipcode</th>\n",
       "      <th>...</th>\n",
       "      <th>firm07_flag</th>\n",
       "      <th>pfirm15_flag</th>\n",
       "      <th>rpaddate</th>\n",
       "      <th>dcasdate</th>\n",
       "      <th>zoningdate</th>\n",
       "      <th>landmkdate</th>\n",
       "      <th>basempdate</th>\n",
       "      <th>masdate</th>\n",
       "      <th>polidate</th>\n",
       "      <th>edesigdate</th>\n",
       "    </tr>\n",
       "  </thead>\n",
       "  <tbody>\n",
       "    <tr>\n",
       "      <th>0</th>\n",
       "      <td>0</td>\n",
       "      <td>BX</td>\n",
       "      <td>5641.0</td>\n",
       "      <td>670.0</td>\n",
       "      <td>210.0</td>\n",
       "      <td>516.00</td>\n",
       "      <td>2.0</td>\n",
       "      <td>NaN</td>\n",
       "      <td>13.0</td>\n",
       "      <td>NaN</td>\n",
       "      <td>...</td>\n",
       "      <td>1.0</td>\n",
       "      <td>1.0</td>\n",
       "      <td>12/6/2018</td>\n",
       "      <td>12/20/2018</td>\n",
       "      <td>12/21/2018</td>\n",
       "      <td>12/20/2018</td>\n",
       "      <td>12/21/2018</td>\n",
       "      <td>NaN</td>\n",
       "      <td>NaN</td>\n",
       "      <td>12/20/2018</td>\n",
       "    </tr>\n",
       "    <tr>\n",
       "      <th>1</th>\n",
       "      <td>20</td>\n",
       "      <td>QN</td>\n",
       "      <td>4671.0</td>\n",
       "      <td>39.0</td>\n",
       "      <td>407.0</td>\n",
       "      <td>1039.00</td>\n",
       "      <td>2011.0</td>\n",
       "      <td>25.0</td>\n",
       "      <td>19.0</td>\n",
       "      <td>11357.0</td>\n",
       "      <td>...</td>\n",
       "      <td>NaN</td>\n",
       "      <td>NaN</td>\n",
       "      <td>12/6/2018</td>\n",
       "      <td>12/20/2018</td>\n",
       "      <td>12/21/2018</td>\n",
       "      <td>12/20/2018</td>\n",
       "      <td>12/21/2018</td>\n",
       "      <td>NaN</td>\n",
       "      <td>NaN</td>\n",
       "      <td>12/20/2018</td>\n",
       "    </tr>\n",
       "    <tr>\n",
       "      <th>2</th>\n",
       "      <td>40</td>\n",
       "      <td>BK</td>\n",
       "      <td>3925.0</td>\n",
       "      <td>32.0</td>\n",
       "      <td>305.0</td>\n",
       "      <td>1172.02</td>\n",
       "      <td>2004.0</td>\n",
       "      <td>19.0</td>\n",
       "      <td>37.0</td>\n",
       "      <td>11208.0</td>\n",
       "      <td>...</td>\n",
       "      <td>NaN</td>\n",
       "      <td>NaN</td>\n",
       "      <td>12/6/2018</td>\n",
       "      <td>12/20/2018</td>\n",
       "      <td>12/21/2018</td>\n",
       "      <td>12/20/2018</td>\n",
       "      <td>12/21/2018</td>\n",
       "      <td>NaN</td>\n",
       "      <td>NaN</td>\n",
       "      <td>12/20/2018</td>\n",
       "    </tr>\n",
       "    <tr>\n",
       "      <th>3</th>\n",
       "      <td>60</td>\n",
       "      <td>MN</td>\n",
       "      <td>1836.0</td>\n",
       "      <td>19.0</td>\n",
       "      <td>107.0</td>\n",
       "      <td>189.00</td>\n",
       "      <td>2002.0</td>\n",
       "      <td>3.0</td>\n",
       "      <td>7.0</td>\n",
       "      <td>10025.0</td>\n",
       "      <td>...</td>\n",
       "      <td>NaN</td>\n",
       "      <td>NaN</td>\n",
       "      <td>12/6/2018</td>\n",
       "      <td>12/20/2018</td>\n",
       "      <td>12/21/2018</td>\n",
       "      <td>12/20/2018</td>\n",
       "      <td>12/21/2018</td>\n",
       "      <td>NaN</td>\n",
       "      <td>NaN</td>\n",
       "      <td>12/20/2018</td>\n",
       "    </tr>\n",
       "    <tr>\n",
       "      <th>4</th>\n",
       "      <td>80</td>\n",
       "      <td>QN</td>\n",
       "      <td>8898.0</td>\n",
       "      <td>16.0</td>\n",
       "      <td>409.0</td>\n",
       "      <td>4.00</td>\n",
       "      <td>2001.0</td>\n",
       "      <td>27.0</td>\n",
       "      <td>30.0</td>\n",
       "      <td>11421.0</td>\n",
       "      <td>...</td>\n",
       "      <td>NaN</td>\n",
       "      <td>NaN</td>\n",
       "      <td>12/6/2018</td>\n",
       "      <td>12/20/2018</td>\n",
       "      <td>12/21/2018</td>\n",
       "      <td>12/20/2018</td>\n",
       "      <td>12/21/2018</td>\n",
       "      <td>NaN</td>\n",
       "      <td>NaN</td>\n",
       "      <td>12/20/2018</td>\n",
       "    </tr>\n",
       "  </tbody>\n",
       "</table>\n",
       "<p>5 rows × 97 columns</p>\n",
       "</div>"
      ],
      "text/plain": [
       "   Unnamed: 0 borough   block    lot     cd   ct2010  cb2010  schooldist  \\\n",
       "0           0      BX  5641.0  670.0  210.0   516.00     2.0         NaN   \n",
       "1          20      QN  4671.0   39.0  407.0  1039.00  2011.0        25.0   \n",
       "2          40      BK  3925.0   32.0  305.0  1172.02  2004.0        19.0   \n",
       "3          60      MN  1836.0   19.0  107.0   189.00  2002.0         3.0   \n",
       "4          80      QN  8898.0   16.0  409.0     4.00  2001.0        27.0   \n",
       "\n",
       "   council  zipcode  ... firm07_flag  pfirm15_flag   rpaddate    dcasdate  \\\n",
       "0     13.0      NaN  ...         1.0           1.0  12/6/2018  12/20/2018   \n",
       "1     19.0  11357.0  ...         NaN           NaN  12/6/2018  12/20/2018   \n",
       "2     37.0  11208.0  ...         NaN           NaN  12/6/2018  12/20/2018   \n",
       "3      7.0  10025.0  ...         NaN           NaN  12/6/2018  12/20/2018   \n",
       "4     30.0  11421.0  ...         NaN           NaN  12/6/2018  12/20/2018   \n",
       "\n",
       "   zoningdate  landmkdate  basempdate masdate polidate  edesigdate  \n",
       "0  12/21/2018  12/20/2018  12/21/2018     NaN      NaN  12/20/2018  \n",
       "1  12/21/2018  12/20/2018  12/21/2018     NaN      NaN  12/20/2018  \n",
       "2  12/21/2018  12/20/2018  12/21/2018     NaN      NaN  12/20/2018  \n",
       "3  12/21/2018  12/20/2018  12/21/2018     NaN      NaN  12/20/2018  \n",
       "4  12/21/2018  12/20/2018  12/21/2018     NaN      NaN  12/20/2018  \n",
       "\n",
       "[5 rows x 97 columns]"
      ]
     },
     "execution_count": 90,
     "metadata": {},
     "output_type": "execute_result"
    }
   ],
   "source": [
    "# Use df.head() to see the first five rows. A bit messy, no?\n",
    "df.head()"
   ]
  },
  {
   "cell_type": "code",
   "execution_count": 92,
   "metadata": {},
   "outputs": [
    {
     "data": {
      "text/plain": [
       "Index(['Unnamed: 0', 'borough', 'block', 'lot', 'cd', 'ct2010', 'cb2010',\n",
       "       'schooldist', 'council', 'zipcode', 'firecomp', 'policeprct',\n",
       "       'healtharea', 'sanitboro', 'sanitsub', 'address', 'zonedist1',\n",
       "       'zonedist2', 'zonedist3', 'zonedist4', 'overlay1', 'overlay2',\n",
       "       'spdist1', 'spdist2', 'spdist3', 'ltdheight', 'splitzone', 'bldgclass',\n",
       "       'landuse', 'easements', 'ownertype', 'ownername', 'lotarea', 'bldgarea',\n",
       "       'comarea', 'resarea', 'officearea', 'retailarea', 'garagearea',\n",
       "       'strgearea', 'factryarea', 'otherarea', 'areasource', 'numbldgs',\n",
       "       'numfloors', 'unitsres', 'unitstotal', 'lotfront', 'lotdepth',\n",
       "       'bldgfront', 'bldgdepth', 'ext', 'proxcode', 'irrlotcode', 'lottype',\n",
       "       'bsmtcode', 'assessland', 'assesstot', 'exemptland', 'exempttot',\n",
       "       'yearbuilt', 'yearalter1', 'yearalter2', 'histdist', 'landmark',\n",
       "       'builtfar', 'residfar', 'commfar', 'facilfar', 'borocode', 'bbl',\n",
       "       'condono', 'tract2010', 'xcoord', 'ycoord', 'zonemap', 'zmcode',\n",
       "       'sanborn', 'taxmap', 'edesignum', 'appbbl', 'appdate', 'mappluto_f',\n",
       "       'plutomapid', 'version', 'sanitdistrict', 'healthcenterdistrict',\n",
       "       'firm07_flag', 'pfirm15_flag', 'rpaddate', 'dcasdate', 'zoningdate',\n",
       "       'landmkdate', 'basempdate', 'masdate', 'polidate', 'edesigdate'],\n",
       "      dtype='object')"
      ]
     },
     "execution_count": 92,
     "metadata": {},
     "output_type": "execute_result"
    }
   ],
   "source": [
    "# We'll select some columns to keep\n",
    "df.columns"
   ]
  },
  {
   "cell_type": "code",
   "execution_count": 102,
   "metadata": {},
   "outputs": [],
   "source": [
    "borough_dict = {\n",
    "    'BX': 'Bronx',\n",
    "    'QN': 'Queens',\n",
    "    'BK': 'Brooklyn',\n",
    "    'MN': 'Manhattan',\n",
    "    'SI': 'Staten Island'\n",
    "}\n",
    "df['borough'] = df['borough'].map(borough_dict)"
   ]
  },
  {
   "cell_type": "code",
   "execution_count": null,
   "metadata": {},
   "outputs": [],
   "source": [
    "# Here is the key that translates NYC's land use codes into plain English (p. 17 of the data dictionary)\n",
    "# We'll use the df.map() method to replace the numbers with text we can understand\n",
    "\n",
    "# BONUS POINTS: repeat this step to substitute the short borough names (eg. MN) with the actual\n",
    "# full borough names (eg. MN becomes Manhattan).\n",
    "\n",
    "land_use_dict = {1: 'One & Two Family Buildings',\n",
    "                2: 'Multi-Family Walk-Up Buildings',\n",
    "                3: 'Multi-Family Elevator Buildings',\n",
    "                4: 'Mixed Residential & Commercial Buildings',\n",
    "                5: 'Commercial & Office Buildings',\n",
    "                6: 'Industrial & Manufacturing',\n",
    "                7: 'Transportation & Utility',\n",
    "                8: 'Public Facilities & Institutions',\n",
    "                9: 'Open Space & Outdoor Recreation',\n",
    "                10: 'Parking Facilities',\n",
    "                11: 'Vacant Land'}\n",
    "\n",
    "df['landuse'] = df['landuse'].map(land_use_dict)"
   ]
  },
  {
   "cell_type": "code",
   "execution_count": 98,
   "metadata": {},
   "outputs": [],
   "source": [
    "# Note how this syntax works. You could add extra columns that interest you.\n",
    "my_cols = ['borough','numfloors','yearbuilt', 'landuse', 'zipcode', 'assesstot', 'xcoord','ycoord']\n",
    "df = df[my_cols]"
   ]
  },
  {
   "cell_type": "code",
   "execution_count": 104,
   "metadata": {},
   "outputs": [
    {
     "data": {
      "text/html": [
       "<div>\n",
       "<style scoped>\n",
       "    .dataframe tbody tr th:only-of-type {\n",
       "        vertical-align: middle;\n",
       "    }\n",
       "\n",
       "    .dataframe tbody tr th {\n",
       "        vertical-align: top;\n",
       "    }\n",
       "\n",
       "    .dataframe thead th {\n",
       "        text-align: right;\n",
       "    }\n",
       "</style>\n",
       "<table border=\"1\" class=\"dataframe\">\n",
       "  <thead>\n",
       "    <tr style=\"text-align: right;\">\n",
       "      <th></th>\n",
       "      <th>borough</th>\n",
       "      <th>numfloors</th>\n",
       "      <th>yearbuilt</th>\n",
       "      <th>landuse</th>\n",
       "      <th>zipcode</th>\n",
       "      <th>assesstot</th>\n",
       "      <th>xcoord</th>\n",
       "      <th>ycoord</th>\n",
       "    </tr>\n",
       "  </thead>\n",
       "  <tbody>\n",
       "    <tr>\n",
       "      <th>0</th>\n",
       "      <td>Bronx</td>\n",
       "      <td>0.00</td>\n",
       "      <td>0.0</td>\n",
       "      <td>Transportation &amp; Utility</td>\n",
       "      <td>NaN</td>\n",
       "      <td>59400.0</td>\n",
       "      <td>1044510.0</td>\n",
       "      <td>246734.0</td>\n",
       "    </tr>\n",
       "    <tr>\n",
       "      <th>1</th>\n",
       "      <td>Queens</td>\n",
       "      <td>2.50</td>\n",
       "      <td>1925.0</td>\n",
       "      <td>One &amp; Two Family Buildings</td>\n",
       "      <td>11357.0</td>\n",
       "      <td>29738.0</td>\n",
       "      <td>1035479.0</td>\n",
       "      <td>223657.0</td>\n",
       "    </tr>\n",
       "    <tr>\n",
       "      <th>2</th>\n",
       "      <td>Brooklyn</td>\n",
       "      <td>2.75</td>\n",
       "      <td>1920.0</td>\n",
       "      <td>One &amp; Two Family Buildings</td>\n",
       "      <td>11208.0</td>\n",
       "      <td>27370.0</td>\n",
       "      <td>1015989.0</td>\n",
       "      <td>187871.0</td>\n",
       "    </tr>\n",
       "    <tr>\n",
       "      <th>3</th>\n",
       "      <td>Manhattan</td>\n",
       "      <td>6.00</td>\n",
       "      <td>1900.0</td>\n",
       "      <td>Multi-Family Walk-Up Buildings</td>\n",
       "      <td>10025.0</td>\n",
       "      <td>510300.0</td>\n",
       "      <td>994273.0</td>\n",
       "      <td>228915.0</td>\n",
       "    </tr>\n",
       "    <tr>\n",
       "      <th>4</th>\n",
       "      <td>Queens</td>\n",
       "      <td>2.00</td>\n",
       "      <td>1901.0</td>\n",
       "      <td>One &amp; Two Family Buildings</td>\n",
       "      <td>11421.0</td>\n",
       "      <td>29020.0</td>\n",
       "      <td>1021269.0</td>\n",
       "      <td>190793.0</td>\n",
       "    </tr>\n",
       "  </tbody>\n",
       "</table>\n",
       "</div>"
      ],
      "text/plain": [
       "     borough  numfloors  yearbuilt                         landuse  zipcode  \\\n",
       "0      Bronx       0.00        0.0        Transportation & Utility      NaN   \n",
       "1     Queens       2.50     1925.0      One & Two Family Buildings  11357.0   \n",
       "2   Brooklyn       2.75     1920.0      One & Two Family Buildings  11208.0   \n",
       "3  Manhattan       6.00     1900.0  Multi-Family Walk-Up Buildings  10025.0   \n",
       "4     Queens       2.00     1901.0      One & Two Family Buildings  11421.0   \n",
       "\n",
       "   assesstot     xcoord    ycoord  \n",
       "0    59400.0  1044510.0  246734.0  \n",
       "1    29738.0  1035479.0  223657.0  \n",
       "2    27370.0  1015989.0  187871.0  \n",
       "3   510300.0   994273.0  228915.0  \n",
       "4    29020.0  1021269.0  190793.0  "
      ]
     },
     "execution_count": 104,
     "metadata": {},
     "output_type": "execute_result"
    }
   ],
   "source": [
    "# Cleaner now, right?\n",
    "df.head()"
   ]
  },
  {
   "cell_type": "markdown",
   "metadata": {},
   "source": [
    "__Step 2: Summarize data using mean(), min/max(), describe() etc.__\n",
    "* Find out the average price of a building in Manhattan (MN) compared with Queens (QN)\n",
    "* What was the most expensive building built in the year you were born?\n",
    "* Compare average building\n",
    "\n",
    "BONUS: find the average price for buildings in Brooklyn with 5-10 floors built between 2000-2010. Do the same for buildings in Manhattan and Queens with those characteristics."
   ]
  },
  {
   "cell_type": "code",
   "execution_count": 120,
   "metadata": {},
   "outputs": [
    {
     "data": {
      "text/plain": [
       "161665.81471389646"
      ]
     },
     "execution_count": 120,
     "metadata": {},
     "output_type": "execute_result"
    }
   ],
   "source": [
    "# YOUR CODE HERE:\n",
    "# Find out the average price of a building in Manhattan (MN) compared with Queens (QN)\n",
    "\n",
    "manhattan_avg =  df[df['borough'] == 'Manhattan']['assesstot'].mean()\n",
    "manhattan_avg\n",
    "\n",
    "queens_avg =  df[df['borough'] == 'Queens']['assesstot'].mean()\n",
    "queens_avg\n",
    "# max_price = pd.max(df.loc)"
   ]
  },
  {
   "cell_type": "code",
   "execution_count": 124,
   "metadata": {},
   "outputs": [
    {
     "data": {
      "text/plain": [
       "26759700.0"
      ]
     },
     "execution_count": 124,
     "metadata": {},
     "output_type": "execute_result"
    }
   ],
   "source": [
    "# What was the most expensive building built in the year you were born?\n",
    "year_born = 2001\n",
    "max_price = df[df['yearbuilt'] == year_born]['assesstot'].max()\n",
    "max_price"
   ]
  },
  {
   "cell_type": "code",
   "execution_count": 126,
   "metadata": {},
   "outputs": [
    {
     "data": {
      "text/plain": [
       "393321.7073170732"
      ]
     },
     "execution_count": 126,
     "metadata": {},
     "output_type": "execute_result"
    }
   ],
   "source": [
    "# Compare average building\n",
    "avg_price = df[df['yearbuilt'] == year_born]['assesstot'].mean()\n",
    "avg_price"
   ]
  },
  {
   "cell_type": "code",
   "execution_count": 172,
   "metadata": {},
   "outputs": [
    {
     "name": "stdout",
     "output_type": "stream",
     "text": [
      "2225754.603448276\n",
      "4267863.0869565215\n",
      "2035399.652173913\n"
     ]
    }
   ],
   "source": [
    "#  find the average price for buildings in Brooklyn with 5-10 floors built between 2000-2010. Do the same for buildings \n",
    "# in Manhattan and Queens with those characteristics.\n",
    "brook_price = df.query(\"borough == 'Brooklyn' and numfloors.between(5, 10) and yearbuilt.between(2000, 2010)\").assesstot.mean()\n",
    "print(brook_price)\n",
    "manhattan_price = df.query(\"borough == 'Manhattan' and numfloors.between(5, 10) and yearbuilt.between(2000, 2010)\").assesstot.mean()\n",
    "print(manhattan_price)\n",
    "queen_price = df.query(\"borough == 'Queens' and numfloors.between(5, 10) and yearbuilt.between(2000, 2010)\").assesstot.mean()\n",
    "print(queen_price)"
   ]
  },
  {
   "cell_type": "markdown",
   "metadata": {},
   "source": [
    "__Step 3: Exploratory visualization using Pandas plotting__"
   ]
  },
  {
   "cell_type": "code",
   "execution_count": 130,
   "metadata": {},
   "outputs": [
    {
     "data": {
      "text/plain": [
       "landuse\n",
       "One & Two Family Buildings                  7899\n",
       "Multi-Family Walk-Up Buildings              3192\n",
       "Mixed Residential & Commercial Buildings    1270\n",
       "Vacant Land                                  292\n",
       "Commercial & Office Buildings                277\n",
       "Industrial & Manufacturing                   216\n",
       "Public Facilities & Institutions             202\n",
       "Multi-Family Elevator Buildings              176\n",
       "Parking Facilities                           175\n",
       "Transportation & Utility                      93\n",
       "Open Space & Outdoor Recreation               40\n",
       "Name: count, dtype: int64"
      ]
     },
     "execution_count": 130,
     "metadata": {},
     "output_type": "execute_result"
    }
   ],
   "source": [
    "# Try using the function pandas.Series.value_counts\n",
    "# It returns the unique count of values in a column\n",
    "# BONUS: Could you produce this output only for Brooklyn?\n",
    "\n",
    "brooklyn_counts = df[df['borough'] == 'Brooklyn'].landuse.value_counts()\n",
    "\n",
    "brooklyn_counts"
   ]
  },
  {
   "cell_type": "markdown",
   "metadata": {},
   "source": [
    "__YOUR ACTION__: Look up the [pandas.Series.plot](https://pandas.pydata.org/pandas-docs/stable/reference/api/pandas.Series.plot.html) function, and some [examples of how to use it](https://pandas.pydata.org/pandas-docs/stable/user_guide/visualization.html).\n",
    "\n",
    "Explore any questions that interest you about New York City's buildings by plotting charts, for example:\n",
    "* How does price vary with age? (scatter of age vs. price)\n",
    "* Does the breakdown of building types differ between boroughs? (pie chart of landuse)\n",
    "* Which zip codes have most and fewest buildings?\n",
    "* Where are the buildings located? (hint: try a scatter plot of xcoord and ycoord)\n"
   ]
  },
  {
   "cell_type": "code",
   "execution_count": null,
   "metadata": {},
   "outputs": [],
   "source": [
    "# YOUR CODE HERE:\n",
    "# How does price vary with age? (scatter of age vs. price)"
   ]
  },
  {
   "cell_type": "code",
   "execution_count": 158,
   "metadata": {},
   "outputs": [
    {
     "data": {
      "text/plain": [
       "12263"
      ]
     },
     "execution_count": 158,
     "metadata": {},
     "output_type": "execute_result"
    }
   ],
   "source": [
    "# Does the breakdown of building types differ between boroughs? (pie chart of landuse)\n",
    "queens =( df.query(\"borough == 'Queens'and landuse == 'One & Two Family Buildings'\")).borough.count()\n",
    "queens =( df.query(\"borough == 'Queens'and landuse == 'One & Two Family Buildings'\")).borough.count()\n",
    "queens\n",
    "                # 2: 'Multi-Family Walk-Up Buildings',\n",
    "                # 3: 'Multi-Family Elevator Buildings',\n",
    "                # 4: 'Mixed Residential & Commercial Buildings',\n",
    "                # 5: 'Commercial & Office Buildings',\n",
    "                # 6: 'Industrial & Manufacturing',\n",
    "                # 7: 'Transportation & Utility',\n",
    "                # 8: 'Public Facilities & Institutions',\n",
    "                # 9: 'Open Space & Outdoor Recreation',\n",
    "                # 10: 'Parking Facilities',\n",
    "                # 11: 'Vacant Land'}"
   ]
  },
  {
   "cell_type": "code",
   "execution_count": null,
   "metadata": {},
   "outputs": [],
   "source": [
    "# Which zip codes have most and fewest buildings?"
   ]
  },
  {
   "cell_type": "code",
   "execution_count": null,
   "metadata": {},
   "outputs": [],
   "source": [
    "# Where are the buildings located? (hint: try a scatter plot of xcoord and ycoord)"
   ]
  },
  {
   "cell_type": "markdown",
   "metadata": {},
   "source": [
    "#### BONUS ADVANCED QUESTION!\n",
    "Impute missing values for year_built using a custom strategy:\n",
    "* Replace all NaNs with the mean year_built for buildings of the same `landuse`.\n",
    "* More advanced version: replace all NaNs with mean `year_built` for buildings of the same `landuse` in the same borough. (eg. multi-family buildings in Brooklyn)"
   ]
  },
  {
   "cell_type": "code",
   "execution_count": 22,
   "metadata": {},
   "outputs": [
    {
     "data": {
      "text/plain": [
       "borough         0\n",
       "numfloors      30\n",
       "yearbuilt      20\n",
       "landuse       134\n",
       "zipcode      1050\n",
       "assesstot      20\n",
       "xcoord         52\n",
       "ycoord         52\n",
       "dtype: int64"
      ]
     },
     "execution_count": 22,
     "metadata": {},
     "output_type": "execute_result"
    }
   ],
   "source": [
    "df.isnull().sum()"
   ]
  }
 ],
 "metadata": {
  "kernelspec": {
   "display_name": "Python 3 (ipykernel)",
   "language": "python",
   "name": "python3"
  },
  "language_info": {
   "codemirror_mode": {
    "name": "ipython",
    "version": 3
   },
   "file_extension": ".py",
   "mimetype": "text/x-python",
   "name": "python",
   "nbconvert_exporter": "python",
   "pygments_lexer": "ipython3",
   "version": "3.12.4"
  }
 },
 "nbformat": 4,
 "nbformat_minor": 4
}
