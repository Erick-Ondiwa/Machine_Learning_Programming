{
 "cells": [
  {
   "cell_type": "code",
   "execution_count": null,
   "id": "2d73736b-8832-45a1-8671-14d7d363d7ec",
   "metadata": {},
   "outputs": [],
   "source": [
    "#Two classes, student and course.\n",
    "#Every course has  name and code,\n",
    "#and every student has a name, regno and courses and a method registration that accepst parameter, cour"
   ]
  },
  {
   "cell_type": "code",
   "execution_count": null,
   "id": "003bccf2-969f-4086-9780-eed8d78a10a9",
   "metadata": {},
   "outputs": [],
   "source": [
    "class Course:\n",
    "    def __init__(self, course_name, code):\n",
    "        self.name = name\n",
    "        self.code = code\n",
    "course1 = Course(\"Ai\", \"CCS311\")\n",
    "course2 = Course(\"Ml\", \"CCS321\")\n",
    "course3 = Course(\"Algorithms\", \"CCS311\")\n",
    "course4 = Course(\"Automata\", \"CCS311\")\n",
    "course5 = Course(\"Ai\", \"CCS311\")\n",
    "print(course1.name)\n",
    "print(course1.code)"
   ]
  },
  {
   "cell_type": "code",
   "execution_count": null,
   "id": "12d7a5ba-55ce-4198-8aff-57c3773e99a1",
   "metadata": {},
   "outputs": [],
   "source": [
    "class Student:\n",
    "    self.courses = []\n",
    "    def __init__(self, name, regNo):\n",
    "        self.name = name\n",
    "        self.regNo = regNo \n",
    "\n",
    "    def stu_reg(self, course):\n",
    "        self.course = self.courses\n",
    "        #self.course = Course\n",
    "        self.courses.append(course)\n",
    "\n",
    "stu1 = Student(\"Erick\", \"CCS/00081/022\")\n",
    "print(stu1.stu_reg())"
   ]
  }
 ],
 "metadata": {
  "kernelspec": {
   "display_name": "Python 3 (ipykernel)",
   "language": "python",
   "name": "python3"
  },
  "language_info": {
   "codemirror_mode": {
    "name": "ipython",
    "version": 3
   },
   "file_extension": ".py",
   "mimetype": "text/x-python",
   "name": "python",
   "nbconvert_exporter": "python",
   "pygments_lexer": "ipython3",
   "version": "3.12.4"
  }
 },
 "nbformat": 4,
 "nbformat_minor": 5
}
