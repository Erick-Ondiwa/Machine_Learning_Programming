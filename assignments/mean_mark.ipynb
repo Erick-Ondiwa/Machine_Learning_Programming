{
 "cells": [
  {
   "cell_type": "code",
   "execution_count": 1,
   "id": "90e7275a-5cdc-460b-b0c4-451ac7db5a5e",
   "metadata": {},
   "outputs": [
    {
     "name": "stdout",
     "output_type": "stream",
     "text": [
      "[ 1  2  3  4  5  6  7  8  9 10]\n"
     ]
    }
   ],
   "source": [
    "import numpy as np\n",
    "\n",
    "# Generate student indexes from 1 to 10\n",
    "stu_indexes = np.arange(1, 11)\n",
    "print(stu_indexes)\n"
   ]
  },
  {
   "cell_type": "code",
   "execution_count": 2,
   "id": "47e5fbd8-4b18-4f97-a416-ec124bf2ce2e",
   "metadata": {},
   "outputs": [
    {
     "name": "stdout",
     "output_type": "stream",
     "text": [
      "Student 1: Marks [66 71 91 95 73]\n",
      "Student 2: Marks [87 88 49 58 93]\n",
      "Student 3: Marks [98 48 99 68 83]\n",
      "Student 4: Marks [77 58 86 53 44]\n",
      "Student 5: Marks [44 77 66 59 77]\n",
      "Student 6: Marks [97 99 89 64 52]\n",
      "Student 7: Marks [55 55 96 44 95]\n",
      "Student 8: Marks [43 91 50 54 76]\n",
      "Student 9: Marks [74 71 57 93 76]\n",
      "Student 10: Marks [66 64 75 46 95]\n"
     ]
    }
   ],
   "source": [
    "# Generate random marks for 10 students in 5 subjects\n",
    "stu_marks = np.random.randint(40, 100, size=(10, 5))\n",
    "\n",
    "# Print student indexes and their corresponding marks\n",
    "for stu_index, stu_mark in zip(stu_indexes, stu_marks):\n",
    "    print(f\"Student {stu_index}: Marks {stu_mark}\")"
   ]
  },
  {
   "cell_type": "code",
   "execution_count": 3,
   "id": "30334c15-46ea-41e6-9a1f-b9b031f44b5b",
   "metadata": {},
   "outputs": [
    {
     "name": "stdout",
     "output_type": "stream",
     "text": [
      "Student 1: Total Marks = 396\n",
      "Student 2: Total Marks = 375\n",
      "Student 3: Total Marks = 396\n",
      "Student 4: Total Marks = 318\n",
      "Student 5: Total Marks = 323\n",
      "Student 6: Total Marks = 401\n",
      "Student 7: Total Marks = 345\n",
      "Student 8: Total Marks = 314\n",
      "Student 9: Total Marks = 371\n",
      "Student 10: Total Marks = 346\n"
     ]
    }
   ],
   "source": [
    "# Calculate total marks for each student\n",
    "total_marks = np.sum(stu_marks, axis=1)\n",
    "\n",
    "# Print total marks for each student\n",
    "for stu_index, total_mark in zip(stu_indexes, total_marks):\n",
    "    print(f\"Student {stu_index}: Total Marks = {total_mark}\")"
   ]
  },
  {
   "cell_type": "code",
   "execution_count": 4,
   "id": "f9db2d9c-417d-4f5e-a6cf-dbf933bfe192",
   "metadata": {},
   "outputs": [
    {
     "name": "stdout",
     "output_type": "stream",
     "text": [
      "\n",
      "Mean marks for each subject:\n",
      "Subject 1: Mean = 70.70\n",
      "Subject 2: Mean = 72.20\n",
      "Subject 3: Mean = 75.80\n",
      "Subject 4: Mean = 63.40\n",
      "Subject 5: Mean = 76.40\n"
     ]
    }
   ],
   "source": [
    "# Compute and print the mean marks for each subject\n",
    "mean_subject_marks = np.mean(stu_marks, axis=0)\n",
    "print(\"\\nMean marks for each subject:\")\n",
    "for i, mean_mark in enumerate(mean_subject_marks, 1):\n",
    "    print(f\"Subject {i}: Mean = {mean_mark:.2f}\")"
   ]
  },
  {
   "cell_type": "code",
   "execution_count": 5,
   "id": "000a4ba7-9ef8-4000-9b98-f4e981f8ae77",
   "metadata": {},
   "outputs": [
    {
     "name": "stdout",
     "output_type": "stream",
     "text": [
      "\n",
      "Graduation units (best 4 subjects) for each student:\n",
      "Student 1: Best 4 Marks = [71 73 91 95], Total of Best 4 = 330\n",
      "Student 2: Best 4 Marks = [58 87 88 93], Total of Best 4 = 326\n",
      "Student 3: Best 4 Marks = [68 83 98 99], Total of Best 4 = 348\n",
      "Student 4: Best 4 Marks = [53 58 77 86], Total of Best 4 = 274\n",
      "Student 5: Best 4 Marks = [59 66 77 77], Total of Best 4 = 279\n",
      "Student 6: Best 4 Marks = [64 89 97 99], Total of Best 4 = 349\n",
      "Student 7: Best 4 Marks = [55 55 95 96], Total of Best 4 = 301\n",
      "Student 8: Best 4 Marks = [50 54 76 91], Total of Best 4 = 271\n",
      "Student 9: Best 4 Marks = [71 74 76 93], Total of Best 4 = 314\n",
      "Student 10: Best 4 Marks = [64 66 75 95], Total of Best 4 = 300\n"
     ]
    }
   ],
   "source": [
    "# Compute graduation units for each student (best 4 subjects)\n",
    "graduation_units = np.sort(stu_marks, axis=1)[:, -4:]  # Get the best 4 marks\n",
    "print(\"\\nGraduation units (best 4 subjects) for each student:\")\n",
    "for stu_index, units in zip(stu_indexes, graduation_units):\n",
    "    print(f\"Student {stu_index}: Best 4 Marks = {units}, Total of Best 4 = {np.sum(units)}\")"
   ]
  },
  {
   "cell_type": "code",
   "execution_count": null,
   "id": "b34a7906-f924-4400-b625-3c20007016db",
   "metadata": {},
   "outputs": [],
   "source": []
  }
 ],
 "metadata": {
  "kernelspec": {
   "display_name": "Python 3 (ipykernel)",
   "language": "python",
   "name": "python3"
  },
  "language_info": {
   "codemirror_mode": {
    "name": "ipython",
    "version": 3
   },
   "file_extension": ".py",
   "mimetype": "text/x-python",
   "name": "python",
   "nbconvert_exporter": "python",
   "pygments_lexer": "ipython3",
   "version": "3.12.4"
  }
 },
 "nbformat": 4,
 "nbformat_minor": 5
}
