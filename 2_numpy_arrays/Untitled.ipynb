{
 "cells": [
  {
   "cell_type": "code",
   "execution_count": 2,
   "id": "09480538-d55a-4e52-91c5-70ba7b7fa1a7",
   "metadata": {},
   "outputs": [],
   "source": [
    "import numpy as np"
   ]
  },
  {
   "cell_type": "markdown",
   "id": "9a65c077-0288-4486-8f79-b59695049ca0",
   "metadata": {},
   "source": [
    "The Basics"
   ]
  },
  {
   "cell_type": "code",
   "execution_count": 4,
   "id": "013555a6-9962-4c7d-a8f5-96024f7ff3df",
   "metadata": {},
   "outputs": [
    {
     "name": "stdout",
     "output_type": "stream",
     "text": [
      "[[1 2 3]\n",
      " [4 5 6]\n",
      " [7 8 9]]\n"
     ]
    }
   ],
   "source": [
    "ints = np.array([[1, 2, 3], [4, 5, 6], [7, 8, 9]])\n",
    "print(ints)"
   ]
  },
  {
   "cell_type": "code",
   "execution_count": 5,
   "id": "e7b2814f-8f2e-440c-ae32-07a1a9b828ef",
   "metadata": {},
   "outputs": [
    {
     "data": {
      "text/plain": [
       "(3, 3)"
      ]
     },
     "execution_count": 5,
     "metadata": {},
     "output_type": "execute_result"
    }
   ],
   "source": [
    "# Get shape - The shape attribute returns the dimensions of the array as a tuple. \n",
    "# It tells you how many elements exist along each axis\n",
    "ints.shape"
   ]
  },
  {
   "cell_type": "code",
   "execution_count": 6,
   "id": "3d1b6b10-7ee4-4a38-98b9-cdf77541ccd5",
   "metadata": {},
   "outputs": [
    {
     "data": {
      "text/plain": [
       "2"
      ]
     },
     "execution_count": 6,
     "metadata": {},
     "output_type": "execute_result"
    }
   ],
   "source": [
    "# Get dimensions\n",
    "ints.ndim"
   ]
  },
  {
   "cell_type": "code",
   "execution_count": 7,
   "id": "6f4b00ad-4422-4389-9d79-45d7a1d4ff16",
   "metadata": {},
   "outputs": [
    {
     "data": {
      "text/plain": [
       "dtype('int64')"
      ]
     },
     "execution_count": 7,
     "metadata": {},
     "output_type": "execute_result"
    }
   ],
   "source": [
    "# Get type - The dtype (data type) attribute indicates the type of elements stored in the array, like int32, float64, etc.\n",
    "# The itemsize is directly related to the dtype since the size of each element depends on its data type\n",
    "ints.dtype"
   ]
  },
  {
   "cell_type": "code",
   "execution_count": 9,
   "id": "e94b0455-48d2-4818-af4e-1d8c1308e506",
   "metadata": {},
   "outputs": [
    {
     "data": {
      "text/plain": [
       "9"
      ]
     },
     "execution_count": 9,
     "metadata": {},
     "output_type": "execute_result"
    }
   ],
   "source": [
    "# Get size - The size attribute in NumPy returns the total number of elements in the array. \n",
    "# It is the product of the array's shape\n",
    "\n",
    "ints.size"
   ]
  },
  {
   "cell_type": "code",
   "execution_count": 11,
   "id": "9366c458-ec94-4952-bba9-e8db1e8acff6",
   "metadata": {},
   "outputs": [
    {
     "data": {
      "text/plain": [
       "8"
      ]
     },
     "execution_count": 11,
     "metadata": {},
     "output_type": "execute_result"
    }
   ],
   "source": [
    "# Get size - The itemsize attribute returns the size (in bytes) of each individual element in the array.\n",
    "# This depends on the data type (dtype) of the array \n",
    "\n",
    "ints.itemsize"
   ]
  },
  {
   "cell_type": "code",
   "execution_count": 12,
   "id": "d4a48283-796f-4f37-aa57-dce1e63a324a",
   "metadata": {},
   "outputs": [
    {
     "data": {
      "text/plain": [
       "72"
      ]
     },
     "execution_count": 12,
     "metadata": {},
     "output_type": "execute_result"
    }
   ],
   "source": [
    "# Get the Memory size consumed - The nbytes attribute returns the total memory consumed by the entire array, in bytes. \n",
    "# It is calculated as nbytes = size * itemsize.\n",
    "\n",
    "ints.nbytes"
   ]
  },
  {
   "cell_type": "code",
   "execution_count": null,
   "id": "da2589d2-9881-4917-859d-2b7c08134732",
   "metadata": {},
   "outputs": [],
   "source": []
  }
 ],
 "metadata": {
  "kernelspec": {
   "display_name": "Python 3 (ipykernel)",
   "language": "python",
   "name": "python3"
  },
  "language_info": {
   "codemirror_mode": {
    "name": "ipython",
    "version": 3
   },
   "file_extension": ".py",
   "mimetype": "text/x-python",
   "name": "python",
   "nbconvert_exporter": "python",
   "pygments_lexer": "ipython3",
   "version": "3.12.4"
  }
 },
 "nbformat": 4,
 "nbformat_minor": 5
}
