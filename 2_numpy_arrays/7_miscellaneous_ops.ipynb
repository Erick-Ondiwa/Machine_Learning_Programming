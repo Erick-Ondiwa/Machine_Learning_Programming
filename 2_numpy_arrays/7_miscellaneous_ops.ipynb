{
 "cells": [
  {
   "cell_type": "code",
   "execution_count": 1,
   "id": "6ef7cbfa-d85e-4139-86b3-289a38be741e",
   "metadata": {},
   "outputs": [],
   "source": [
    "import numpy as np"
   ]
  },
  {
   "cell_type": "code",
   "execution_count": 5,
   "id": "58f99405-aff5-4ef3-8a45-27b5c1ddff9b",
   "metadata": {},
   "outputs": [
    {
     "name": "stdout",
     "output_type": "stream",
     "text": [
      "[0.37454012 0.95071431 0.73199394]\n"
     ]
    }
   ],
   "source": [
    "# 1. Setting Random Seeds\n",
    "# In NumPy, the random module allows generating random numbers. \n",
    "# To ensure reproducibility (e.g., in experiments or machine learning models), it's essential to set a random seed. \n",
    "# This ensures that the sequence of random numbers generated remains the same across different runs.\n",
    "\n",
    "# Function: np.random.seed()\n",
    "\n",
    "np.random.seed(42)\n",
    "\n",
    "# Generate some random numbers\n",
    "random_nums = np.random.rand()\n",
    "print(random_nums)\n"
   ]
  },
  {
   "cell_type": "code",
   "execution_count": 15,
   "id": "5e5feb62-5b00-49b2-a224-c3e9391c790c",
   "metadata": {},
   "outputs": [
    {
     "name": "stdout",
     "output_type": "stream",
     "text": [
      "[[0.746105   0.71382587]\n",
      " [0.36391619 0.6893189 ]]\n",
      "Execution time: 0 seconds\n"
     ]
    }
   ],
   "source": [
    "# 1. Timing Code Execution\n",
    "# For performance optimization, it's often helpful to measure the time taken by a block of code. \n",
    "# In NumPy, you can use the np.datetime64() function to calculate the time difference between two points in time.\n",
    "\n",
    "import time\n",
    "start_time = np.datetime64('now')\n",
    "\n",
    "# Perform a task (e.g., create a large array)\n",
    "large_array = np.random.rand(2, 2)\n",
    "print(large_array)\n",
    "\n",
    "end_time = np.datetime64('now')\n",
    "print(\"Execution time:\", end_time - start_time)\n"
   ]
  },
  {
   "cell_type": "code",
   "execution_count": null,
   "id": "be5e142e-5b73-480d-83cc-abe44b456bcd",
   "metadata": {},
   "outputs": [],
   "source": [
    "# Handling NaN and Infinite Values\n",
    "#  NumPy provides functions to detect and handle missing or infinite values in arrays, \n",
    "#     which is especially important when working with real-world data.\n",
    "\n",
    "# Functions: np.isnan(), np.isinf(), np.nan_to_num() \n",
    "\n",
    "arr = np.array([1, np.nan, 3, np.inf])\n",
    "\n",
    "# Check for NaN and infinite values\n",
    "print(\"Is NaN:\", np.isnan(arr))\n",
    "print(\"Is Infinite:\", np.isinf(arr))\n",
    "\n",
    "# Replace NaN and inf with 0\n",
    "arr_clean = np.nan_to_num(arr)\n",
    "print(\"Cleaned array:\", arr_clean)\n"
   ]
  }
 ],
 "metadata": {
  "kernelspec": {
   "display_name": "Python 3 (ipykernel)",
   "language": "python",
   "name": "python3"
  },
  "language_info": {
   "codemirror_mode": {
    "name": "ipython",
    "version": 3
   },
   "file_extension": ".py",
   "mimetype": "text/x-python",
   "name": "python",
   "nbconvert_exporter": "python",
   "pygments_lexer": "ipython3",
   "version": "3.12.4"
  }
 },
 "nbformat": 4,
 "nbformat_minor": 5
}
