{
 "cells": [
  {
   "cell_type": "markdown",
   "id": "7fd17911-ba39-4522-9cd6-49ef2747bdd0",
   "metadata": {},
   "source": [
    "# #### LINEAR ALGEBRA\n",
    "#        Determinant\n",
    "#        Trace\n",
    "#        SIngular vector decomposition\n",
    "#        Eigenvalues\n",
    "#        Matrix norm\n",
    "#        Inverse"
   ]
  },
  {
   "cell_type": "code",
   "execution_count": null,
   "id": "ed177092-149f-44ee-8ea9-2f5a02a2a49c",
   "metadata": {},
   "outputs": [],
   "source": []
  },
  {
   "cell_type": "code",
   "execution_count": null,
   "id": "c735fa99-cf0c-44e2-8ae8-c7b0c9182214",
   "metadata": {},
   "outputs": [],
   "source": []
  },
  {
   "cell_type": "code",
   "execution_count": null,
   "id": "2778dd4f-a91f-4b93-b5b4-21071ade9f0c",
   "metadata": {},
   "outputs": [],
   "source": []
  },
  {
   "cell_type": "code",
   "execution_count": null,
   "id": "806c5e85-7d3f-49d0-80fb-5510a4db08cb",
   "metadata": {},
   "outputs": [],
   "source": []
  },
  {
   "cell_type": "code",
   "execution_count": null,
   "id": "b9ad0097-912c-460d-8767-a102e7f39a12",
   "metadata": {},
   "outputs": [],
   "source": []
  },
  {
   "cell_type": "code",
   "execution_count": null,
   "id": "a155d2eb-bb57-4c24-b704-15563b2123d0",
   "metadata": {},
   "outputs": [],
   "source": []
  }
 ],
 "metadata": {
  "kernelspec": {
   "display_name": "Python 3 (ipykernel)",
   "language": "python",
   "name": "python3"
  },
  "language_info": {
   "codemirror_mode": {
    "name": "ipython",
    "version": 3
   },
   "file_extension": ".py",
   "mimetype": "text/x-python",
   "name": "python",
   "nbconvert_exporter": "python",
   "pygments_lexer": "ipython3",
   "version": "3.12.4"
  }
 },
 "nbformat": 4,
 "nbformat_minor": 5
}
