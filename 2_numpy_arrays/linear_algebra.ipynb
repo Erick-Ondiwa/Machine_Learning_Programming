{
 "cells": [
  {
   "cell_type": "code",
   "execution_count": 2,
   "id": "fc190ec0-cf90-4b25-bc8f-fa1f252361b3",
   "metadata": {},
   "outputs": [],
   "source": [
    "import numpy as np"
   ]
  },
  {
   "cell_type": "markdown",
   "id": "7fd17911-ba39-4522-9cd6-49ef2747bdd0",
   "metadata": {},
   "source": [
    "# #### LINEAR ALGEBRA\n",
    "#        Determinant\n",
    "#        Trace\n",
    "#        SIngular vector decomposition\n",
    "#        Eigenvalues\n",
    "#        Matrix norm\n",
    "#        Inverse"
   ]
  },
  {
   "cell_type": "markdown",
   "id": "264c5bce-46ef-484a-9b16-c286fdf7bca2",
   "metadata": {},
   "source": []
  },
  {
   "cell_type": "code",
   "execution_count": 3,
   "id": "c735fa99-cf0c-44e2-8ae8-c7b0c9182214",
   "metadata": {},
   "outputs": [
    {
     "name": "stdout",
     "output_type": "stream",
     "text": [
      "[[19 22]\n",
      " [43 50]]\n"
     ]
    }
   ],
   "source": [
    "# 1. Matrix Multiplication\n",
    "#What it is: Matrix multiplication involves taking the dot product of the rows of the first matrix with\n",
    "#the columns of the second matrix. \n",
    "#The result is a new matrix where each element is the sum of the products of corresponding elements.\n",
    "\n",
    "# Matrix multiplication in NumPy is performed using the @ operator or the np.dot() function.\n",
    "\n",
    "A = np.array([[1, 2], [3, 4]])\n",
    "B = np.array([[5, 6], [7, 8]])\n",
    "\n",
    "# Matrix multiplication using @ operator\n",
    "C = A @ B\n",
    "\n",
    "# Or using np.dot()\n",
    "C = np.dot(A, B)\n",
    "\n",
    "print(C)\n"
   ]
  },
  {
   "cell_type": "code",
   "execution_count": null,
   "id": "2778dd4f-a91f-4b93-b5b4-21071ade9f0c",
   "metadata": {},
   "outputs": [],
   "source": [
    "# 2. Transpose of a Matrix\n",
    "# The transpose of a matrix is obtained by swapping rows and columns.\n",
    "# This can be done with the .T attribute or np.transpose() function.\n",
    "\n",
    "A = np.array([[1, 2], [3, 4]])\n",
    "\n",
    "# Transpose of A\n",
    "A_T = A.T\n"
   ]
  },
  {
   "cell_type": "code",
   "execution_count": null,
   "id": "806c5e85-7d3f-49d0-80fb-5510a4db08cb",
   "metadata": {},
   "outputs": [],
   "source": [
    "# 3. Determinant of a Matrix\n",
    "# What it is: The determinant is a scalar value calculated from a square matrix.\n",
    "# It provides important properties about the matrix, such as whether it's invertible. \n",
    "# For a 2×2 matrix, the determinant is calculated as:ad−bc.\n",
    "# The determinant of a square matrix can be computed using np.linalg.det().\n",
    "\n",
    "A = np.array([[1, 2], [3, 4]])\n",
    "\n",
    "# Compute the determinant of A\n",
    "det_A = np.linalg.det(A)\n"
   ]
  },
  {
   "cell_type": "code",
   "execution_count": 4,
   "id": "b9ad0097-912c-460d-8767-a102e7f39a12",
   "metadata": {},
   "outputs": [
    {
     "name": "stdout",
     "output_type": "stream",
     "text": [
      "[[1 2]\n",
      " [3 4]]\n",
      "[[-2.   1. ]\n",
      " [ 1.5 -0.5]]\n"
     ]
    }
   ],
   "source": [
    "# 4. Inverse of a Matrix\n",
    "# The inverse of a matrix (if it exists) can be computed using np.linalg.inv(). \n",
    "# A matrix is invertible if its determinant is non-zero.\n",
    "\n",
    "A = np.array([[1, 2], [3, 4]])\n",
    "\n",
    "# Compute the inverse of A\n",
    "A_inv = np.linalg.inv(A)\n",
    "\n",
    "print(A)\n",
    "print(A_inv)\n"
   ]
  },
  {
   "cell_type": "code",
   "execution_count": null,
   "id": "a155d2eb-bb57-4c24-b704-15563b2123d0",
   "metadata": {},
   "outputs": [],
   "source": [
    "# 5. Solving Systems of Linear Equations\n",
    "# For a system of linear equations \n",
    "\n",
    "   # Ax=b, where \n",
    "\n",
    " # A is a coefficient matrix, and \n",
    "\n",
    " # b is a constant vector, NumPy’s np.linalg.solve() can solve for x.\n",
    "\n",
    "# Example: Consider the system:\n",
    "\n",
    "# 3x+2y=5\n",
    "# 4x−y=6\n",
    "# In matrix form, this is:\n",
    "\n",
    "# 𝐴=[[3,2],[4−1]]\n",
    "# 𝑏=[5,6]\n",
    "\n",
    "# To solve for 𝑥, use \n",
    "# 𝑥 =𝐴−1𝑏 (inverse of A)b or np.linalg.solve(A, b) in NumPy.\n",
    "\n",
    "A = np.array([[3, 1], [1, 2]])\n",
    "b = np.array([9, 8])\n",
    "\n",
    "# Solve the system of equations Ax = b\n",
    "x = np.linalg.solve(A, b)\n"
   ]
  },
  {
   "cell_type": "code",
   "execution_count": 5,
   "id": "3230e2f8-4124-4431-bb32-79e17bd6d0bc",
   "metadata": {},
   "outputs": [
    {
     "name": "stdout",
     "output_type": "stream",
     "text": [
      "[-0.23606798  4.23606798] [[-0.85065081 -0.52573111]\n",
      " [ 0.52573111 -0.85065081]]\n"
     ]
    }
   ],
   "source": [
    "# 6. Eigenvalues and Eigenvectors\n",
    "# For a square matrix A, an eigenvector 𝑣 satisfies Av=λv, where \n",
    "#   λ is the corresponding eigenvalue.\n",
    "# Eigenvalues and eigenvectors of a square matrix can be computed using np.linalg.eig().\n",
    "\n",
    "A = np.array([[1, 2], [2, 3]])\n",
    "\n",
    "# Compute eigenvalues and eigenvectors\n",
    "eigenvalues, eigenvectors = np.linalg.eig(A)\n",
    "print(eigenvalues, eigenvectors)\n"
   ]
  },
  {
   "cell_type": "code",
   "execution_count": null,
   "id": "100e9903-4cba-46e7-8bee-c2d729a32b7a",
   "metadata": {},
   "outputs": [],
   "source": [
    "# 7. Singular Value Decomposition (SVD)\n",
    "# SVD is a factorization of a matrix into three matrices, and it is widely used in many applications such as\n",
    "# dimensionality reduction. \n",
    "#You can compute SVD using np.linalg.svd().\n",
    "\n",
    "A = np.array([[1, 2], [3, 4]])\n",
    "\n",
    "# Perform Singular Value Decomposition\n",
    "U, S, V = np.linalg.svd(A)\n"
   ]
  },
  {
   "cell_type": "code",
   "execution_count": 6,
   "id": "acb456ce-fc35-4697-83cb-fdb113334021",
   "metadata": {},
   "outputs": [
    {
     "name": "stdout",
     "output_type": "stream",
     "text": [
      "3.7416573867739413\n"
     ]
    }
   ],
   "source": [
    "# 8. Norm of a Vector or Matrix\n",
    "# The norm of a vector or matrix is a measure of its size or length. \n",
    "# The most common norm is the Euclidean norm, or 2-norm, which is the square root of the sum of the squares of the elements.\n",
    "# The norm of a vector or matrix represents its \"length\" or \"magnitude.\" \n",
    "# NumPy offers np.linalg.norm() to compute different types of norms.\n",
    "\n",
    "v = np.array([1, 2, 3])\n",
    "\n",
    "# Compute the 2-norm (Euclidean norm) of the vector\n",
    "norm_v = np.linalg.norm(v)\n",
    "\n",
    "print(norm_v)\n"
   ]
  },
  {
   "cell_type": "code",
   "execution_count": 7,
   "id": "6aa01b77-dfaa-4444-9301-ac6cc8c3e532",
   "metadata": {},
   "outputs": [
    {
     "name": "stdout",
     "output_type": "stream",
     "text": [
      "[[-0.31622777 -0.9486833 ]\n",
      " [-0.9486833   0.31622777]] [[-3.16227766 -4.42718872]\n",
      " [ 0.         -0.63245553]]\n"
     ]
    }
   ],
   "source": [
    "# 10. QR Decomposition\n",
    "# QR decomposition is the factorization of a matrix into an orthogonal matrix Q and an upper triangular matrix R.\n",
    "# It can be performed using np.linalg.qr().\n",
    "\n",
    "A = np.array([[1, 2], [3, 4]])\n",
    "\n",
    "# Perform QR decomposition\n",
    "Q, R = np.linalg.qr(A)\n",
    "\n",
    "print(Q, R)\n"
   ]
  },
  {
   "cell_type": "code",
   "execution_count": null,
   "id": "0774a700-a60f-4e1b-9cc0-ca5173bbc8e1",
   "metadata": {},
   "outputs": [],
   "source": [
    "# 11. Cholesky Decomposition\n",
    "# Cholesky decomposition is used to decompose a Hermitian, positive-definite matrix into a lower triangular matrix\n",
    "# and its conjugate transpose.\n",
    "# It can be done using np.linalg.cholesky().\n",
    "\n",
    "A = np.array([[1, 2], [2, 5]])\n",
    "\n",
    "# Perform Cholesky decomposition\n",
    "L = np.linalg.cholesky(A)\n"
   ]
  },
  {
   "cell_type": "code",
   "execution_count": 10,
   "id": "434bbc43-6484-4521-9af3-1a194fe97029",
   "metadata": {},
   "outputs": [
    {
     "name": "stdout",
     "output_type": "stream",
     "text": [
      "5\n",
      "5\n"
     ]
    }
   ],
   "source": [
    "# 12. Trace of a Matrix\n",
    "# The trace of a matrix is the sum of its primary diagonal elements and can be computed using np.trace().\n",
    "\n",
    "A = np.array([[1, 2], [3, 4]])\n",
    "B = np.array([[2,4], [5,3]])\n",
    "\n",
    "# Compute the trace of A\n",
    "trace_A = np.trace(A)\n",
    "trace_B = np.trace(B)\n",
    "\n",
    "print(trace_A)\n",
    "print(trace_B)\n",
    "\n"
   ]
  },
  {
   "cell_type": "code",
   "execution_count": 11,
   "id": "6f2baece-2fd6-480c-a9cc-e8ca2e2d38ab",
   "metadata": {},
   "outputs": [
    {
     "name": "stdout",
     "output_type": "stream",
     "text": [
      "1\n"
     ]
    }
   ],
   "source": [
    "# 13. Matrix Rank\n",
    "# The rank of a matrix is the number of independent rows or columns. It can be computed using np.linalg.matrix_rank().\n",
    "\n",
    "A = np.array([[1, 2], [2, 4]])\n",
    "\n",
    "# Compute the rank of A\n",
    "rank_A = np.linalg.matrix_rank(A)\n",
    "\n",
    "print(rank_A)\n"
   ]
  },
  {
   "cell_type": "code",
   "execution_count": null,
   "id": "573f9264-2129-4c80-87ba-b6dcfcfbc285",
   "metadata": {},
   "outputs": [],
   "source": [
    "# 14. Checking for Singular Matrices\n",
    "# A matrix is singular if its determinant is 0. You can check if a matrix is singular by computing its determinant.\n",
    "\n",
    "A = np.array([[1, 2], [2, 4]])\n",
    "\n",
    "# Check if the matrix is singular\n",
    "is_singular = np.isclose(np.linalg.det(A), 0)\n"
   ]
  },
  {
   "cell_type": "code",
   "execution_count": null,
   "id": "a7e862ff-71bd-469e-949b-f571ec59d447",
   "metadata": {},
   "outputs": [],
   "source": []
  }
 ],
 "metadata": {
  "kernelspec": {
   "display_name": "Python 3 (ipykernel)",
   "language": "python",
   "name": "python3"
  },
  "language_info": {
   "codemirror_mode": {
    "name": "ipython",
    "version": 3
   },
   "file_extension": ".py",
   "mimetype": "text/x-python",
   "name": "python",
   "nbconvert_exporter": "python",
   "pygments_lexer": "ipython3",
   "version": "3.12.4"
  }
 },
 "nbformat": 4,
 "nbformat_minor": 5
}
