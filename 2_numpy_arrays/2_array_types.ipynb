{
 "cells": [
  {
   "cell_type": "markdown",
   "id": "a6a918cf-4949-42bb-8a4c-6b6b624dcae0",
   "metadata": {},
   "source": [
    "Initializing Different Types of arrays"
   ]
  },
  {
   "cell_type": "markdown",
   "id": "24a06a8e-8c1e-4602-98bc-77638acc450e",
   "metadata": {},
   "source": [
    "1. Creating Arrays from Lists or Tuples\n",
    "The simplest way to create a NumPy array is from a Python list or tuple using np.array()."
   ]
  },
  {
   "cell_type": "code",
   "execution_count": 1,
   "id": "cacbfa0d-0814-40fe-893e-de6ac690b3ba",
   "metadata": {},
   "outputs": [
    {
     "name": "stdout",
     "output_type": "stream",
     "text": [
      "[1 2 3]\n",
      "[4 5 6]\n"
     ]
    }
   ],
   "source": [
    "import numpy as np\n",
    "\n",
    "# From a list\n",
    "arr = np.array([1, 2, 3])\n",
    "print(arr)  # Output: [1 2 3]\n",
    "\n",
    "# From a tuple\n",
    "arr_tuple = np.array((4, 5, 6))\n",
    "print(arr_tuple)  # Output: [4 5 6]\n"
   ]
  },
  {
   "cell_type": "markdown",
   "id": "3c4d6cb5-0e93-4c12-962c-73f7dce7b8a6",
   "metadata": {},
   "source": [
    "2. Arrays Filled with Zeros\n",
    "You can create arrays filled with zeros using np.zeros().\n",
    "This is useful for initializing an array with all values as zero, often used in machine learning models or matrix computations."
   ]
  },
  {
   "cell_type": "code",
   "execution_count": 7,
   "id": "69963221-17fd-429f-86bd-50050e944ace",
   "metadata": {},
   "outputs": [
    {
     "name": "stdout",
     "output_type": "stream",
     "text": [
      "[0. 0. 0. 0. 0.]\n",
      "[[0. 0. 0. 0.]\n",
      " [0. 0. 0. 0.]\n",
      " [0. 0. 0. 0.]]\n",
      "[[[0. 0.]\n",
      "  [0. 0.]\n",
      "  [0. 0.]\n",
      "  [0. 0.]]\n",
      "\n",
      " [[0. 0.]\n",
      "  [0. 0.]\n",
      "  [0. 0.]\n",
      "  [0. 0.]]\n",
      "\n",
      " [[0. 0.]\n",
      "  [0. 0.]\n",
      "  [0. 0.]\n",
      "  [0. 0.]]]\n"
     ]
    }
   ],
   "source": [
    "# 1D array of 5 zeros\n",
    "arr = np.zeros(5)\n",
    "print(arr)  # Output: [0. 0. 0. 0. 0.]\n",
    "\n",
    "# 2D array of shape (3, 4) filled with zeros\n",
    "arr_2d = np.zeros((3,4))\n",
    "print(arr_2d)\n",
    "# Output: [[0. 0. 0. 0.]\n",
    "#          [0. 0. 0. 0.]\n",
    "#          [0. 0. 0. 0.]]\n",
    "\n",
    "matrices = np.zeros((3, 4, 2)) # This array will have 3 blocks(matrices), each block to contain 4 rows with 2 elements each.\n",
    "print(matrices)\n"
   ]
  },
  {
   "cell_type": "markdown",
   "id": "dbbb19eb-9885-4ef3-9e85-ad813b853b50",
   "metadata": {},
   "source": [
    "3. Arrays Filled with Ones\n",
    "Use np.ones() to create arrays filled with ones, which is often\n",
    "helpful in cases like initializing weights or matrices."
   ]
  },
  {
   "cell_type": "code",
   "execution_count": 11,
   "id": "04ce860f-f9fc-437f-80a2-967de08687b6",
   "metadata": {},
   "outputs": [
    {
     "name": "stdout",
     "output_type": "stream",
     "text": [
      "[[[[0. 0. 0. 0. 0.]\n",
      "   [0. 0. 0. 0. 0.]\n",
      "   [0. 0. 0. 0. 0.]\n",
      "   [0. 0. 0. 0. 0.]]\n",
      "\n",
      "  [[0. 0. 0. 0. 0.]\n",
      "   [0. 0. 0. 0. 0.]\n",
      "   [0. 0. 0. 0. 0.]\n",
      "   [0. 0. 0. 0. 0.]]\n",
      "\n",
      "  [[0. 0. 0. 0. 0.]\n",
      "   [0. 0. 0. 0. 0.]\n",
      "   [0. 0. 0. 0. 0.]\n",
      "   [0. 0. 0. 0. 0.]]]\n",
      "\n",
      "\n",
      " [[[0. 0. 0. 0. 0.]\n",
      "   [0. 0. 0. 0. 0.]\n",
      "   [0. 0. 0. 0. 0.]\n",
      "   [0. 0. 0. 0. 0.]]\n",
      "\n",
      "  [[0. 0. 0. 0. 0.]\n",
      "   [0. 0. 0. 0. 0.]\n",
      "   [0. 0. 0. 0. 0.]\n",
      "   [0. 0. 0. 0. 0.]]\n",
      "\n",
      "  [[0. 0. 0. 0. 0.]\n",
      "   [0. 0. 0. 0. 0.]\n",
      "   [0. 0. 0. 0. 0.]\n",
      "   [0. 0. 0. 0. 0.]]]]\n"
     ]
    }
   ],
   "source": [
    "# 1D array of 5 ones\n",
    "arr = np.ones(5)\n",
    "# print(arr)  # Output: [1. 1. 1. 1. 1.]\n",
    "\n",
    "# 2D array of shape (2, 3) filled with ones\n",
    "arr_2d = np.ones((2, 3))\n",
    "# print(arr_2d)\n",
    "# Output: [[1. 1. 1.]\n",
    "#          [1. 1. 1.]]\n",
    "\n",
    "fancy_arr = np.zeros((2, 3, 4, 5))#2groups,each group contains 3matrices,each matrix has 4rows,and each row contains 5elements\n",
    "print(fancy_arr)\n"
   ]
  },
  {
   "cell_type": "markdown",
   "id": "f8c5ea4c-38ca-4cce-b40f-76f236ae6c33",
   "metadata": {},
   "source": [
    "4. Arrays Filled with a Specific Value\n",
    "To create an array filled with any specific value, you can use np.full(). This is useful when you want a constant matrix."
   ]
  },
  {
   "cell_type": "code",
   "execution_count": null,
   "id": "8e1fa73e-4738-4009-816f-3d72bff472a0",
   "metadata": {},
   "outputs": [],
   "source": [
    "# 2D array of shape (3, 3) filled with the value 7\n",
    "arr = np.full((3, 3), 7)\n",
    "print(arr)\n",
    "# Output: [[7 7 7]\n",
    "#          [7 7 7]\n",
    "#          [7 7 7]]\n"
   ]
  },
  {
   "cell_type": "markdown",
   "id": "b71b33d8-76f6-4eb2-b74b-664f6b66d4d7",
   "metadata": {},
   "source": [
    "5. Identity Matrix\n",
    "An identity matrix has ones on the leading diagonal and zeros elsewhere.\n",
    " You can create an identity matrix using np.eye()."
   ]
  },
  {
   "cell_type": "code",
   "execution_count": null,
   "id": "2fb36d0e-3f0b-44eb-b3d0-10d5b9cda90a",
   "metadata": {},
   "outputs": [],
   "source": [
    "# 3x3 identity matrix\n",
    "arr = np.eye(3)\n",
    "print(arr)\n",
    "# Output: [[1. 0. 0.]\n",
    "#          [0. 1. 0.]\n",
    "#          [0. 0. 1.]]\n"
   ]
  },
  {
   "cell_type": "markdown",
   "id": "c680e6c8-64e8-4944-bce5-df089014d67c",
   "metadata": {},
   "source": [
    "6. Uninitialized Arrays:\n",
    "NumPy also allows you to create arrays without initializing the values using np.empty().\n",
    "The values are unpredictable because they are just whatever data happens to be in memory at the time.\n",
    "This can be faster if you intend to overwrite all elements later."
   ]
  },
  {
   "cell_type": "code",
   "execution_count": null,
   "id": "059b490f-2736-4640-a184-cc18e6912dbd",
   "metadata": {},
   "outputs": [],
   "source": [
    "# 2D array of shape (3, 3) uninitialized\n",
    "arr = np.empty((3, 3))\n",
    "print(arr)\n",
    "# Output: unpredictable values (e.g., [[0.  0.  0. ]\n",
    "#                                      [1.5 2.1 3.3]\n",
    "#                                      [0.  0.  0. ]])\n"
   ]
  },
  {
   "cell_type": "markdown",
   "id": "5732ae0f-c1aa-49c2-a099-2db8be1f412c",
   "metadata": {},
   "source": [
    "7. Range of Numbers\n",
    "To create arrays with numbers in a specific range, you can use np.arange(), which works similarly to Python’s range() function but returns an array."
   ]
  },
  {
   "cell_type": "code",
   "execution_count": null,
   "id": "83020eeb-6492-4086-8906-3d701c0c2be5",
   "metadata": {},
   "outputs": [],
   "source": [
    "# Array with values from 0 to 9\n",
    "arr = np.arange(10)\n",
    "print(arr)  # Output: [0 1 2 3 4 5 6 7 8 9]\n",
    "\n",
    "# Array with values from 1 to 10, step size of 2\n",
    "arr_step = np.arange(1, 10, 2)\n",
    "print(arr_step)  # Output: [1 3 5 7 9]\n"
   ]
  },
  {
   "cell_type": "markdown",
   "id": "7ec7e8c4-9ba6-4e07-a8a2-df317d914831",
   "metadata": {},
   "source": [
    "8. Evenly Spaced Numbers (linspace):\n",
    "Use np.linspace() to create an array of evenly spaced numbers over a specified range.\n",
    "You specify the start, stop, and how many points you want."
   ]
  },
  {
   "cell_type": "code",
   "execution_count": null,
   "id": "d9ec41c3-84e0-47b4-8ff2-5192f7833c37",
   "metadata": {},
   "outputs": [],
   "source": [
    "# 5 numbers evenly spaced between 0 and 1\n",
    "arr = np.linspace(0, 1, 5)\n",
    "print(arr)  # Output: [0.   0.25 0.5  0.75 1.  ]\n"
   ]
  },
  {
   "cell_type": "markdown",
   "id": "21a24e83-8336-44d9-adef-433b7b822580",
   "metadata": {},
   "source": [
    "9. Random Numbers:\n",
    "NumPy provides functions for initializing arrays with random numbers.\n",
    "These can be used for simulations, initializing model weights, etc."
   ]
  },
  {
   "cell_type": "markdown",
   "id": "cce048f8-09a7-4f1c-bb5f-7228b60631db",
   "metadata": {},
   "source": [
    "a. Random numbers from a uniform distribution (np.random.rand())\n",
    "Generates random numbers between 0 and 1 from a uniform distribution."
   ]
  },
  {
   "cell_type": "code",
   "execution_count": null,
   "id": "7fe3fb79-6775-44f6-931d-5d173fcb6afc",
   "metadata": {},
   "outputs": [],
   "source": [
    "# 1D array of 5 random numbers between 0 and 1\n",
    "arr = np.random.rand(5)\n",
    "print(arr)  # Output: Random values like [0.7744, 0.2453, 0.5923, ...]\n",
    "\n",
    "# 2D array of shape (3, 3) of random numbers between 0 and 1\n",
    "arr_2d = np.random.rand(3, 3)\n",
    "print(arr_2d)\n",
    "# Output: Random values like [[0.372, 0.489, 0.012],\n",
    "#                             [0.674, 0.982, 0.735],\n",
    "#                             [0.215, 0.631, 0.123]]\n"
   ]
  },
  {
   "cell_type": "markdown",
   "id": "6653d9d1-e78e-4f53-ba87-e24da151c904",
   "metadata": {},
   "source": [
    "b. Random integers (np.random.randint())\n",
    "Generates random integers between a specified low and high value."
   ]
  },
  {
   "cell_type": "code",
   "execution_count": 9,
   "id": "06ad8c0a-734a-4181-8f1b-2d9db8255e45",
   "metadata": {},
   "outputs": [
    {
     "name": "stdout",
     "output_type": "stream",
     "text": [
      "[13 10 11 15 10]\n",
      "[[65 26 84]\n",
      " [11  4 66]\n",
      " [45 50 29]\n",
      " [41 48 62]\n",
      " [ 6 77 39]]\n"
     ]
    }
   ],
   "source": [
    "# 1D array of 5 random integers between 10 and 20\n",
    "arr = np.random.randint(10, 20, 5)\n",
    "print(arr)  # Output: Random integers like [11, 15, 13, 19, 10]\n",
    "\n",
    "# 2D array of shape (2, 3) of random integers between 0 and 100\n",
    "arr_2d = np.random.randint(0, 100, (5, 3))\n",
    "print(arr_2d)\n",
    "# Output: Random integers like [[22, 73, 41], [98, 33, 51]]\n"
   ]
  },
  {
   "cell_type": "markdown",
   "id": "c987d7dd-5a07-4776-b414-d66861e89284",
   "metadata": {},
   "source": [
    "c. Random numbers from a normal (Gaussian) distribution (np.random.randn())\n",
    "Generates numbers from a standard normal distribution (mean = 0, standard deviation = 1)."
   ]
  },
  {
   "cell_type": "code",
   "execution_count": null,
   "id": "641b78f3-11de-490c-84f3-bbd34a171b26",
   "metadata": {},
   "outputs": [],
   "source": [
    "# 1D array of 5 random numbers from a normal distribution\n",
    "arr = np.random.randn(5)\n",
    "print(arr)  # Output: Random values like [-0.223, 1.678, -1.234, ...]\n",
    "\n",
    "# 2D array of shape (3, 3) of random numbers from a normal distribution\n",
    "arr_2d = np.random.randn(3, 3)\n",
    "print(arr_2d)\n",
    "# Output: Random values like [[ 0.224, -1.564,  0.789],\n",
    "#                             [-0.879,  1.458,  0.123],\n",
    "#                             [-1.324,  0.956, -0.123]]\n"
   ]
  },
  {
   "cell_type": "markdown",
   "id": "e597c098-3447-42c3-a28f-5d8cc78c99eb",
   "metadata": {},
   "source": [
    "10. Initializing Arrays for Common Patterns:\n",
    "NumPy also provides functions to generate arrays for common mathematical patterns or matrices."
   ]
  },
  {
   "cell_type": "markdown",
   "id": "352a0da6-ab8d-49de-804e-287695bad59f",
   "metadata": {},
   "source": [
    "a. Diagonal matrix (np.diag())\n",
    "Creates an array with the specified diagonal values."
   ]
  },
  {
   "cell_type": "code",
   "execution_count": null,
   "id": "a5ec5c4c-fe79-47a7-a2ca-c9c545f4741d",
   "metadata": {},
   "outputs": [],
   "source": [
    "# Diagonal matrix with diagonal values 1, 2, 3\n",
    "arr = np.diag([1, 2, 3])\n",
    "print(arr)\n",
    "# Output: [[1 0 0]\n",
    "#          [0 2 0]\n",
    "#          [0 0 3]]\n"
   ]
  },
  {
   "cell_type": "markdown",
   "id": "a3873d4a-f4df-4814-839f-3fe9d279a2a5",
   "metadata": {},
   "source": [
    "b. Triangular matrix (np.tri())\n",
    "Creates a lower triangular matrix (with ones below and on the diagonal)."
   ]
  },
  {
   "cell_type": "code",
   "execution_count": null,
   "id": "692035d2-8cb4-4e08-a990-51c842dd2bf1",
   "metadata": {},
   "outputs": [],
   "source": [
    "# Lower triangular matrix of shape (3, 3)\n",
    "arr = np.tri(3)\n",
    "print(arr)\n",
    "# Output: [[1. 0. 0.]\n",
    "#          [1. 1. 0.]\n",
    "#          [1. 1. 1.]]\n"
   ]
  },
  {
   "cell_type": "code",
   "execution_count": 19,
   "id": "cae81d4f-38d7-467f-b7a3-2506a64a72d5",
   "metadata": {},
   "outputs": [
    {
     "name": "stdout",
     "output_type": "stream",
     "text": [
      "[[1. 1. 1. 1. 1.]\n",
      " [1. 1. 1. 1. 1.]\n",
      " [1. 1. 1. 1. 1.]\n",
      " [1. 1. 1. 1. 1.]\n",
      " [1. 1. 1. 1. 1.]]\n",
      "[[0. 0. 0.]\n",
      " [0. 9. 0.]\n",
      " [0. 0. 0.]]\n",
      "[[1. 1. 1. 1. 1.]\n",
      " [1. 0. 0. 0. 1.]\n",
      " [1. 0. 9. 0. 1.]\n",
      " [1. 0. 0. 0. 1.]\n",
      " [1. 1. 1. 1. 1.]]\n"
     ]
    }
   ],
   "source": [
    "ones = np.ones((5,5))\n",
    "print(puzzle)\n",
    "\n",
    "zeros = np.zeros((3,3))\n",
    "zeros[1,1] = 9\n",
    "print(zeros)\n",
    "\n",
    "ones[1:4, 1:4] = zeros\n",
    "print(ones)\n",
    "\n"
   ]
  },
  {
   "cell_type": "code",
   "execution_count": null,
   "id": "20dc1337-ef40-4e15-b91d-d221007d7e93",
   "metadata": {},
   "outputs": [],
   "source": []
  }
 ],
 "metadata": {
  "kernelspec": {
   "display_name": "Python 3 (ipykernel)",
   "language": "python",
   "name": "python3"
  },
  "language_info": {
   "codemirror_mode": {
    "name": "ipython",
    "version": 3
   },
   "file_extension": ".py",
   "mimetype": "text/x-python",
   "name": "python",
   "nbconvert_exporter": "python",
   "pygments_lexer": "ipython3",
   "version": "3.12.4"
  }
 },
 "nbformat": 4,
 "nbformat_minor": 5
}
