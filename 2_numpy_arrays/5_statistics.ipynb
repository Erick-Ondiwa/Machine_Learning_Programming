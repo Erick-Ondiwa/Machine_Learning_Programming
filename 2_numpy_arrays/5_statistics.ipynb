{
 "cells": [
  {
   "cell_type": "code",
   "execution_count": 1,
   "id": "e3fe3cc9-4773-48d6-91af-50d0ff5c4409",
   "metadata": {},
   "outputs": [],
   "source": [
    "import numpy as np"
   ]
  },
  {
   "cell_type": "code",
   "execution_count": 2,
   "id": "37ce62b1-069f-4cae-8c31-289bf0842c36",
   "metadata": {},
   "outputs": [
    {
     "name": "stdout",
     "output_type": "stream",
     "text": [
      "3.0\n"
     ]
    }
   ],
   "source": [
    "# Statistics with NumPy\n",
    "# NumPy is a powerful library in Python that provides a wide range of tools for performing statistical operations. \n",
    "# It allows for efficient computation and manipulation of large arrays and matrices of numerical data, \n",
    "# which is critical for performing statistical analysis.\n",
    "\n",
    "# Below, we'll cover some of the common statistical functions available in NumPy, along with examples.\n",
    "\n",
    "# 1. Mean\n",
    "# The mean is the average of all elements in an array. \n",
    "# It is calculated by summing up all the values and then dividing by the number of elements.\n",
    "\n",
    "# Function: np.mean()\n",
    "data = np.array([1, 2, 3, 4, 5])\n",
    "mean_value = np.mean(data)\n",
    "print(mean_value)"
   ]
  },
  {
   "cell_type": "code",
   "execution_count": null,
   "id": "77cf0707-49fa-4e8f-a1ce-d2cc86ed5ea1",
   "metadata": {},
   "outputs": [],
   "source": [
    "# 2. Median\n",
    "# The median is the middle value in a sorted array. \n",
    "# If the number of elements is even, the median is the average of the two middle numbers.\n",
    "\n",
    "# Function: np.median()\n",
    "\n",
    "data = np.array([1, 3, 5, 7, 9])\n",
    "median_value = np.median(data)\n",
    "print(median_value)\n"
   ]
  },
  {
   "cell_type": "code",
   "execution_count": 4,
   "id": "0ba9876f-c812-4f24-8572-ea08b76b39c5",
   "metadata": {},
   "outputs": [
    {
     "name": "stdout",
     "output_type": "stream",
     "text": [
      "1.41\n"
     ]
    }
   ],
   "source": [
    "# 3. Standard Deviation\n",
    "# The standard deviation is a measure of the amount of variation or dispersion in a set of values.\n",
    "# A low standard deviation means that the values tend to be close to the mean,\n",
    "# while a high standard deviation means the values are spread out over a wider range.\n",
    "\n",
    "# Function: np.std()\n",
    "\n",
    "data = np.array([1, 2, 3, 4, 5])\n",
    "std_value = np.std(data).round(2)\n",
    "print(std_value)"
   ]
  },
  {
   "cell_type": "code",
   "execution_count": null,
   "id": "eb5986b0-afa5-4877-9299-03b9d8bb6923",
   "metadata": {},
   "outputs": [],
   "source": [
    "# 4. Variance\n",
    "# The variance is the square of the standard deviation and provides a measure of the spread in the data. \n",
    "# It is the average of the squared differences from the mean.\n",
    "\n",
    "# Function: np.var()\n",
    "\n",
    "data = np.array([1, 2, 3, 4, 5])\n",
    "variance_value = np.var(data)\n",
    "print(variance_value)\n"
   ]
  },
  {
   "cell_type": "code",
   "execution_count": null,
   "id": "8b1ade7e-8eb7-4914-991d-8200f204de18",
   "metadata": {},
   "outputs": [],
   "source": [
    "# 5. Percentiles\n",
    "# A percentile is a measure used in statistics to indicate the value below which a given percentage of observations\n",
    "# in a group fall. For example, the 50th percentile is the median.\n",
    "\n",
    "# Function: np.percentile()\n",
    "\n",
    "data = np.array([1, 2, 3, 4, 5])\n",
    "percentile_50 = np.percentile(data, 50)  # 50th percentile (median)\n",
    "print(percentile_50)\n"
   ]
  },
  {
   "cell_type": "code",
   "execution_count": 5,
   "id": "869dc0b1-0e2e-43bb-a563-33c53f5525a0",
   "metadata": {},
   "outputs": [
    {
     "name": "stdout",
     "output_type": "stream",
     "text": [
      "1 5\n"
     ]
    }
   ],
   "source": [
    "# 6. Min and Max\n",
    "# The minimum value in an array is the smallest element.\n",
    "\n",
    "# The maximum value is the largest element.\n",
    "\n",
    "# Functions: np.min() and np.max()\n",
    "\n",
    "data = np.array([1, 2, 3, 4, 5])\n",
    "min_value = np.min(data)\n",
    "max_value = np.max(data)\n",
    "print(min_value, max_value)\n"
   ]
  },
  {
   "cell_type": "code",
   "execution_count": 6,
   "id": "eb85f5f3-d9c7-4d30-b48b-93ae0e0c822f",
   "metadata": {},
   "outputs": [
    {
     "name": "stdout",
     "output_type": "stream",
     "text": [
      "15 120\n"
     ]
    }
   ],
   "source": [
    "# 7. Sum and Product\n",
    "# The sum of the elements in an array gives the total sum.\n",
    "\n",
    "# The product gives the result of multiplying all elements together.\n",
    "\n",
    "# Functions: np.sum() and np.prod()\n",
    "\n",
    "data = np.array([1, 2, 3, 4, 5])\n",
    "sum_value = np.sum(data)\n",
    "product_value = np.prod(data)\n",
    "print(sum_value, product_value)"
   ]
  },
  {
   "cell_type": "code",
   "execution_count": null,
   "id": "4554aa7b-69e6-4c50-9aca-105f2eeef3b2",
   "metadata": {},
   "outputs": [],
   "source": [
    "# 8. Correlation Coefficient\n",
    "# The correlation coefficient measures the strength and direction of the linear relationship between two arrays.\n",
    "\n",
    "# Function: np.corrcoef()\n",
    "\n",
    "x = np.array([1, 2, 3, 4, 5])\n",
    "y = np.array([5, 4, 3, 2, 1])\n",
    "correlation_matrix = np.corrcoef(x, y)\n",
    "print(correlation_matrix)\n"
   ]
  },
  {
   "cell_type": "code",
   "execution_count": null,
   "id": "aa6a04b1-a0f5-4a48-8d95-1836d893997f",
   "metadata": {},
   "outputs": [],
   "source": [
    "# 9. Covariance\n",
    "# The covariance is a measure of how much two variables change together. \n",
    "# If the covariance is positive, the variables tend to increase together; \n",
    "# if it's negative, one tends to increase while the other decreases.\n",
    "\n",
    "# Function: np.cov()\n",
    "\n",
    "x = np.array([1, 2, 3, 4, 5])\n",
    "y = np.array([5, 4, 3, 2, 1])\n",
    "covariance_matrix = np.cov(x, y)\n",
    "print(covariance_matrix)\n"
   ]
  },
  {
   "cell_type": "code",
   "execution_count": 7,
   "id": "43b784cc-1271-454e-bd8e-7beb4a7b91b2",
   "metadata": {},
   "outputs": [
    {
     "name": "stdout",
     "output_type": "stream",
     "text": [
      "[2 1 3 2 1]\n",
      "[1.  1.8 2.6 3.4 4.2 5. ]\n"
     ]
    }
   ],
   "source": [
    "# 10. Histogram\n",
    "# A histogram is a graphical representation of the distribution of data, showing the frequency of values \n",
    "# within specified ranges (bins).\n",
    "\n",
    "# Function: np.histogram()\n",
    "\n",
    "data = np.array([1, 1, 2, 3, 3, 3, 4, 4, 5])\n",
    "hist, bins = np.histogram(data, bins=5)\n",
    "print(hist)\n",
    "print(bins)\n"
   ]
  },
  {
   "cell_type": "code",
   "execution_count": null,
   "id": "9677766b-0ce3-4429-9782-4e7df344825f",
   "metadata": {},
   "outputs": [],
   "source": [
    "# 11. Mode\n",
    "# The mode is the value that appears most frequently in a dataset. \n",
    "# While NumPy doesn't have a built-in function for the mode, you can use scipy.stats.mode() for this.\n",
    "\n",
    "# Function (via SciPy): scipy.stats.mode()\n",
    "\n"
   ]
  }
 ],
 "metadata": {
  "kernelspec": {
   "display_name": "Python 3 (ipykernel)",
   "language": "python",
   "name": "python3"
  },
  "language_info": {
   "codemirror_mode": {
    "name": "ipython",
    "version": 3
   },
   "file_extension": ".py",
   "mimetype": "text/x-python",
   "name": "python",
   "nbconvert_exporter": "python",
   "pygments_lexer": "ipython3",
   "version": "3.12.4"
  }
 },
 "nbformat": 4,
 "nbformat_minor": 5
}
