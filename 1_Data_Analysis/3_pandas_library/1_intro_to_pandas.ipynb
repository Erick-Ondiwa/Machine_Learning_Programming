{
 "cells": [
  {
   "cell_type": "code",
   "execution_count": null,
   "id": "f647632d-5825-4c3c-a56b-beaf69293344",
   "metadata": {},
   "outputs": [],
   "source": [
    "import pandas as pd\n",
    "# Pandas is a popular open-source data manipulation and analysis library in Python, \n",
    "# used primarily for working with structured data.\n",
    "\n",
    "# There are two main datastructures associated with pandas:\n",
    "        # *Series: A one-dimensional labeled array that can hold any data type (integers, strings, floats, etc.).\n",
    "        # *DataFrame: A two-dimensional labeled data structure similar to a table in a database or an Excel spreadsheet, \n",
    "        # where data is organized in rows and columns.\n",
    "\n",
    "#Key features of pandas:\n",
    "#Data Cleaning and Transformation: It helps to handle missing data, filter rows or columns, and perform data transformations.\n",
    "#Data Aggregation and Grouping: It allows grouping of data for summarization or \n",
    "    #applying functions to different segments of the data.\n",
    "#Reading and Writing Data: It can read data from various file formats (CSV, Excel, SQL, JSON, etc.) \n",
    "    #and write the processed data back to files.\n",
    "#Easy Data Manipulation: With functions like merging, joining, reshaping, and pivoting tables, \n",
    "    #pandas makes it easier to manipulate data."
   ]
  }
 ],
 "metadata": {
  "kernelspec": {
   "display_name": "Python 3 (ipykernel)",
   "language": "python",
   "name": "python3"
  },
  "language_info": {
   "codemirror_mode": {
    "name": "ipython",
    "version": 3
   },
   "file_extension": ".py",
   "mimetype": "text/x-python",
   "name": "python",
   "nbconvert_exporter": "python",
   "pygments_lexer": "ipython3",
   "version": "3.12.4"
  }
 },
 "nbformat": 4,
 "nbformat_minor": 5
}
