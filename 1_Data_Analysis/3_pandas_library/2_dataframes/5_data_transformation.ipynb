{
 "cells": [
  {
   "cell_type": "code",
   "execution_count": null,
   "id": "bcca0fd5-7f79-4b28-a812-7888f62a433c",
   "metadata": {},
   "outputs": [],
   "source": [
    "import pandas as pd"
   ]
  },
  {
   "cell_type": "code",
   "execution_count": null,
   "id": "27eb0366-57cb-491e-aeea-a37ffefaa003",
   "metadata": {},
   "outputs": [],
   "source": [
    "# 3. Data Transformation in pandas\n",
    "# Data transformation involves reshaping, pivoting, or manipulating data to bring it into a desired format.\n",
    "\n",
    "#  Sorting Data:\n",
    "#      You can sort data based on one or more columns.\n",
    "\n",
    "# Sorting by a single column\n",
    "df_sorted = df.sort_values(by='column_name')\n",
    "\n",
    "# Sorting by multiple columns\n",
    "df_sorted = df.sort_values(by=['column1', 'column2'], ascending=[True, False])\n"
   ]
  },
  {
   "cell_type": "code",
   "execution_count": null,
   "id": "76b0d4b8-6ada-42f4-bebe-d254d72dc5fa",
   "metadata": {},
   "outputs": [],
   "source": [
    "# Pivoting Data:\n",
    "#      Pivot tables are used to reshape data by changing the layout of a DataFrame. \n",
    "#      They allow you to group data based on one column and perform an aggregation on another column.\n",
    "\n",
    "# Pivoting a DataFrame\n",
    "pivot_df = df.pivot_table(index='Category', columns='Year', values='Sales', aggfunc='sum')\n",
    "print(pivot_df)\n"
   ]
  },
  {
   "cell_type": "code",
   "execution_count": null,
   "id": "7f65561d-9b54-432d-8a79-db3dacb24bb7",
   "metadata": {},
   "outputs": [],
   "source": [
    "# Reshaping Data with melt():\n",
    "#     The melt() function is useful when you want to convert a wide DataFrame into a long one.\n",
    "\n",
    "# Reshaping data from wide to long format\n",
    "melted_df = pd.melt(df, id_vars=['Category'], value_vars=['2019', '2020'], var_name='Year', value_name='Sales')\n",
    "print(melted_df)"
   ]
  }
 ],
 "metadata": {
  "kernelspec": {
   "display_name": "Python 3 (ipykernel)",
   "language": "python",
   "name": "python3"
  },
  "language_info": {
   "codemirror_mode": {
    "name": "ipython",
    "version": 3
   },
   "file_extension": ".py",
   "mimetype": "text/x-python",
   "name": "python",
   "nbconvert_exporter": "python",
   "pygments_lexer": "ipython3",
   "version": "3.12.4"
  }
 },
 "nbformat": 4,
 "nbformat_minor": 5
}
