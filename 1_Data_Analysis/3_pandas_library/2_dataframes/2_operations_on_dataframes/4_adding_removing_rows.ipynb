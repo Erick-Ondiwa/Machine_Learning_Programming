{
 "cells": [
  {
   "cell_type": "code",
   "execution_count": null,
   "id": "1e9ec3ee-bf7e-4d52-b452-cff530267e1d",
   "metadata": {},
   "outputs": [],
   "source": [
    "import pandas as pd\n",
    "import numpy as np"
   ]
  },
  {
   "cell_type": "markdown",
   "id": "61841c08-752f-438a-a95e-40a0a48c687c",
   "metadata": {},
   "source": [
    "# Adding Rows Using loc or iloc: \n",
    "You can add a new row by assigning a new index and value.\n",
    "\n",
    "Example: Suppose you have a DataFrame representing student scores"
   ]
  },
  {
   "cell_type": "code",
   "execution_count": null,
   "id": "5cea9d18-9253-46ad-b59c-71036ed28e0b",
   "metadata": {},
   "outputs": [],
   "source": [
    "data = {\n",
    "    'Name': ['Alice', 'Bob'],\n",
    "    'Score': [85, 90]\n",
    "}\n",
    "df = pd.DataFrame(data)"
   ]
  },
  {
   "cell_type": "code",
   "execution_count": null,
   "id": "3a66785c-d98b-41d8-ad2f-40cb525cd461",
   "metadata": {},
   "outputs": [],
   "source": [
    "# Adding a new row\n",
    "df.loc[2] = ['Charlie', 95]"
   ]
  },
  {
   "cell_type": "markdown",
   "id": "76a733b7-5c21-4c22-aa89-1bbf3f7de858",
   "metadata": {},
   "source": [
    "# 2. Using append(): \n",
    "This method allows you to append a DataFrame or Series.\n",
    "\n",
    "Example:"
   ]
  },
  {
   "cell_type": "code",
   "execution_count": null,
   "id": "52ec72c4-fc4c-4879-8de5-c25f9410f6af",
   "metadata": {},
   "outputs": [],
   "source": [
    "new_row = pd.Series(['David', 80], index=['Name', 'Score'])\n",
    "df = df.append(new_row, ignore_index=True)\n"
   ]
  },
  {
   "cell_type": "markdown",
   "id": "6a058ffd-83a9-40bf-a769-588ba0af5afd",
   "metadata": {},
   "source": [
    "# Using concat(): \n",
    "You can concatenate two DataFrames to add rows.\n",
    "\n",
    "Example:"
   ]
  },
  {
   "cell_type": "code",
   "execution_count": null,
   "id": "ee453d3f-75bd-48f3-9e97-77742bdb1468",
   "metadata": {},
   "outputs": [],
   "source": [
    "new_data = pd.DataFrame({'Name': ['Eve'], 'Score': [88]})\n",
    "df = pd.concat([df, new_data], ignore_index=True)"
   ]
  },
  {
   "cell_type": "markdown",
   "id": "4471770d-adad-4512-865e-238db4dc6a1c",
   "metadata": {},
   "source": [
    "# Removing Rows"
   ]
  },
  {
   "cell_type": "markdown",
   "id": "963ccb3a-bec0-4b6f-924e-c0c72bcf190c",
   "metadata": {},
   "source": [
    "# 1. Using drop(): \n",
    "This method allows you to remove rows based on their index.\n",
    "\n",
    "Example:"
   ]
  },
  {
   "cell_type": "code",
   "execution_count": null,
   "id": "55d0974b-30c4-4b1d-8f08-ade52cc9d700",
   "metadata": {},
   "outputs": [],
   "source": [
    "df = df.drop(index=1)  # Removes Bob"
   ]
  },
  {
   "cell_type": "markdown",
   "id": "2bffc55f-7833-4b8b-b6f3-afcaf87627db",
   "metadata": {},
   "source": [
    "# 2. Using loc[] with a condition\n",
    "\n",
    "You can filter rows based on conditions to remove them.\n",
    "\n",
    "Example: Removing students with grades less than 85."
   ]
  },
  {
   "cell_type": "code",
   "execution_count": null,
   "id": "13289d64-ebd1-40e3-aff1-8b7117fef443",
   "metadata": {},
   "outputs": [],
   "source": [
    "df = df[df['Grade'] >= 85]\n",
    "print(df)"
   ]
  }
 ],
 "metadata": {
  "kernelspec": {
   "display_name": "Python 3 (ipykernel)",
   "language": "python",
   "name": "python3"
  },
  "language_info": {
   "codemirror_mode": {
    "name": "ipython",
    "version": 3
   },
   "file_extension": ".py",
   "mimetype": "text/x-python",
   "name": "python",
   "nbconvert_exporter": "python",
   "pygments_lexer": "ipython3",
   "version": "3.12.4"
  }
 },
 "nbformat": 4,
 "nbformat_minor": 5
}
