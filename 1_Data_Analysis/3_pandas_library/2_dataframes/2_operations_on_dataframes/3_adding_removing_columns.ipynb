{
 "cells": [
  {
   "cell_type": "markdown",
   "id": "e448e88a-fdbf-4c83-a163-871b271ae038",
   "metadata": {},
   "source": [
    "# Adding Columns"
   ]
  },
  {
   "cell_type": "markdown",
   "id": "7f541559-83e0-4d0f-8e47-2671ab723b8a",
   "metadata": {},
   "source": [
    "# 1. Using Assignment\n",
    "\n",
    "You can add a new column by assigning a value or an array to a new column name.\n",
    "\n",
    "Example: Suppose you have a dataframe of student grades and you want to add a column for the final score."
   ]
  },
  {
   "cell_type": "code",
   "execution_count": 1,
   "id": "866f9ec2-e4db-4eb4-a934-1b7e9fa77cd6",
   "metadata": {},
   "outputs": [],
   "source": [
    "import pandas as pd\n",
    "\n",
    "# Sample data\n",
    "data = {\n",
    "    'Student': ['Alice', 'Bob', 'Charlie'],\n",
    "    'Grade': [85, 90, 78]\n",
    "}\n",
    "df = pd.DataFrame(data)"
   ]
  },
  {
   "cell_type": "code",
   "execution_count": 2,
   "id": "295dc2b2-8aed-4ee5-8892-d85346bd7c95",
   "metadata": {},
   "outputs": [
    {
     "name": "stdout",
     "output_type": "stream",
     "text": [
      "   Student  Grade  Final Score\n",
      "0    Alice     85           90\n",
      "1      Bob     90           95\n",
      "2  Charlie     78           83\n"
     ]
    }
   ],
   "source": [
    "# Adding a new column 'Final Score'\n",
    "df['Final Score'] = df['Grade'] + 5  # Adding 5 points to each grade\n",
    "print(df)"
   ]
  },
  {
   "cell_type": "markdown",
   "id": "26fc3067-2a9e-4f91-bb1f-46ea84bea434",
   "metadata": {},
   "source": [
    "# 2. Using assign() Method\n",
    "\n",
    "This method returns a new dataframe with the added column(s) without modifying the original dataframe.\n",
    "\n",
    "Example: Adding a column for pass/fail status based on the grade."
   ]
  },
  {
   "cell_type": "code",
   "execution_count": null,
   "id": "47cd996c-f45b-471e-8261-04d6f5518dce",
   "metadata": {},
   "outputs": [],
   "source": [
    "df = df.assign(Pass_Fail=lambda x: x['Grade'].apply(lambda g: 'Pass' if g >= 75 else 'Fail'))\n",
    "print(df)\n"
   ]
  },
  {
   "cell_type": "markdown",
   "id": "a7bb4ab1-eb31-4ed9-aeaf-7432fc370228",
   "metadata": {},
   "source": [
    "# 3. Using insert() Method\n",
    "\n",
    "You can specify the position of the new column when using insert().\n",
    "\n",
    "Example: Adding a column for student ID at the first position."
   ]
  },
  {
   "cell_type": "code",
   "execution_count": 3,
   "id": "7f5f618a-b5cd-442f-a84b-ffe1c0bf4861",
   "metadata": {},
   "outputs": [
    {
     "name": "stdout",
     "output_type": "stream",
     "text": [
      "   Student ID  Student  Grade  Final Score\n",
      "0         101    Alice     85           90\n",
      "1         102      Bob     90           95\n",
      "2         103  Charlie     78           83\n"
     ]
    }
   ],
   "source": [
    "df.insert(0, 'Student ID', [101, 102, 103])\n",
    "print(df)\n"
   ]
  },
  {
   "cell_type": "markdown",
   "id": "3b1246bf-23ba-480d-9ab8-9c02f879cd9d",
   "metadata": {},
   "source": [
    "# Removing Columns"
   ]
  },
  {
   "cell_type": "markdown",
   "id": "074fdde0-136e-4ae9-961d-5398ab904fad",
   "metadata": {},
   "source": [
    "# 1. Using drop() Method\n",
    "\n",
    "This method removes specified columns from the dataframe.\n",
    "\n",
    "Example: Removing the Final Score column."
   ]
  },
  {
   "cell_type": "code",
   "execution_count": 5,
   "id": "bc7e9c7b-f1fd-4ecf-8d51-634e48324a0c",
   "metadata": {},
   "outputs": [
    {
     "name": "stdout",
     "output_type": "stream",
     "text": [
      "   Student ID  Student  Grade\n",
      "0         101    Alice     85\n",
      "1         102      Bob     90\n",
      "2         103  Charlie     78\n"
     ]
    }
   ],
   "source": [
    "df = df.drop(columns=['Final Score'])\n",
    "print(df)"
   ]
  },
  {
   "cell_type": "markdown",
   "id": "4b21824e-8129-4da5-8959-7ddc7642fcf6",
   "metadata": {},
   "source": [
    "# 2. Using pop() Method\n",
    "\n",
    "This method removes a column and returns it.\n",
    "\n",
    "Example: Removing the Pass_Fail column and saving it to a variable."
   ]
  },
  {
   "cell_type": "code",
   "execution_count": null,
   "id": "e8e21a61-7842-41fb-a8a1-11082a4def05",
   "metadata": {},
   "outputs": [],
   "source": [
    "pass_fail_column = df.pop('Pass_Fail')\n",
    "print(df)\n",
    "print('Removed Column:', pass_fail_column)\n"
   ]
  }
 ],
 "metadata": {
  "kernelspec": {
   "display_name": "Python 3 (ipykernel)",
   "language": "python",
   "name": "python3"
  },
  "language_info": {
   "codemirror_mode": {
    "name": "ipython",
    "version": 3
   },
   "file_extension": ".py",
   "mimetype": "text/x-python",
   "name": "python",
   "nbconvert_exporter": "python",
   "pygments_lexer": "ipython3",
   "version": "3.12.4"
  }
 },
 "nbformat": 4,
 "nbformat_minor": 5
}
