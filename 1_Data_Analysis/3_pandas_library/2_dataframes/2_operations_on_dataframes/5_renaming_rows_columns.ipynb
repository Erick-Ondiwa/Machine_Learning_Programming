{
 "cells": [
  {
   "cell_type": "markdown",
   "id": "d202619c-dc02-4637-9598-e0d43baeda28",
   "metadata": {},
   "source": [
    "# A. Renaming Columns"
   ]
  },
  {
   "cell_type": "markdown",
   "id": "dc257748-05ca-48da-ba7a-879a30aa1f14",
   "metadata": {},
   "source": [
    " # 1. Using rename() with columns parameter: \n",
    "    The rename() method allows you to rename columns by passing a dictionary where keys are current column names and values are the new names."
   ]
  },
  {
   "cell_type": "code",
   "execution_count": null,
   "id": "c96ef6db-a7f0-4c32-a27e-3a7d10ab1353",
   "metadata": {},
   "outputs": [],
   "source": [
    "import pandas as pd\n",
    "\n",
    "# Sample DataFrame\n",
    "df = pd.DataFrame({\n",
    "    'Name': ['Alice', 'Bob'],\n",
    "    'Score': [85, 90]\n",
    "})\n",
    "\n",
    "# Rename column 'Score' to 'Grade'\n",
    "df = df.rename(columns={'Score': 'Grade'})\n"
   ]
  },
  {
   "cell_type": "markdown",
   "id": "3f3eae74-9d66-4479-bb89-d37d5c30c29b",
   "metadata": {},
   "source": [
    "# 2. Using columns attribute: \n",
    "    You can directly modify the column names by assigning a new list of names to df.columns. The length of the list should match the number of columns."
   ]
  },
  {
   "cell_type": "code",
   "execution_count": null,
   "id": "517e3da4-0d32-4378-beaa-ff09eb3b3013",
   "metadata": {},
   "outputs": [],
   "source": [
    "df.columns = ['Student_Name', 'Student_Grade']\n"
   ]
  },
  {
   "cell_type": "markdown",
   "id": "970ae6ef-8c25-44e4-a655-1b343a2aba42",
   "metadata": {},
   "source": [
    "# 3. Using list comprehension: \n",
    "    If you want to rename columns programmatically, you can use a list comprehension to generate new names.\n",
    "\n",
    "Example: Adding a prefix to each column name."
   ]
  },
  {
   "cell_type": "code",
   "execution_count": null,
   "id": "068bb39f-7cb8-4ad1-b562-3f8bb28b4e4b",
   "metadata": {},
   "outputs": [],
   "source": [
    "df.columns = ['student_' + col.lower() for col in df.columns]\n"
   ]
  },
  {
   "cell_type": "markdown",
   "id": "f5a8dbd7-c4f9-477b-b28a-43c029353dd2",
   "metadata": {},
   "source": [
    "# 4. Renaming all columns at once with set_axis(): \n",
    "    The set_axis() method can be used to rename columns (or rows) by setting a new list of labels."
   ]
  },
  {
   "cell_type": "code",
   "execution_count": null,
   "id": "f7021edf-15bc-4c9a-91cd-dda6e1915821",
   "metadata": {},
   "outputs": [],
   "source": [
    "df = df.set_axis(['Name', 'Grade'], axis=1)"
   ]
  },
  {
   "cell_type": "markdown",
   "id": "7ee4796b-6444-46c8-aa77-7ffaf9318cc7",
   "metadata": {},
   "source": [
    "# B. Renaming Rows"
   ]
  },
  {
   "cell_type": "markdown",
   "id": "344b99ca-4be1-4701-9d1c-510fdbd5e88a",
   "metadata": {},
   "source": [
    "# 1. Using rename() with index parameter: \n",
    "    The rename() method can rename rows by using the index parameter, passing a dictionary where keys are current index values and values are the new index values."
   ]
  },
  {
   "cell_type": "code",
   "execution_count": null,
   "id": "20f6faea-c720-43d7-ab30-f249ca396faf",
   "metadata": {},
   "outputs": [],
   "source": [
    "df = df.rename(index={0: 'Student1', 1: 'Student2'})\n"
   ]
  },
  {
   "cell_type": "markdown",
   "id": "1d76997e-d0f7-4a31-bf72-bcda7fab116f",
   "metadata": {},
   "source": [
    "# 2. Setting a new index with set_index(): \n",
    "    If you want to rename rows based on a column in the DataFrame, you can use set_index() to set that column as the new index.\n",
    "\n",
    "Example: Suppose you want to use the \"Name\" column as the index"
   ]
  },
  {
   "cell_type": "markdown",
   "id": "1599adf2-82d1-47e3-be86-5c101f7d432c",
   "metadata": {},
   "source": [
    "# 3. Directly modifying the index with index attribute:\n",
    "    Similar to renaming columns, you can rename the row index by assigning a new list of labels to df.index. Ensure the list length matches the number of rows."
   ]
  },
  {
   "cell_type": "code",
   "execution_count": null,
   "id": "d4e7a33c-3421-4f34-bb3d-7dcc608520ec",
   "metadata": {},
   "outputs": [],
   "source": [
    "df.index = ['Row1', 'Row2']"
   ]
  },
  {
   "cell_type": "markdown",
   "id": "7ab3c84d-e0c2-4062-9d22-fabf6b21c198",
   "metadata": {},
   "source": [
    "# 4. Renaming all index values with set_axis() method: \n",
    "The set_axis() method can be applied to the row index as well by setting axis=0."
   ]
  },
  {
   "cell_type": "code",
   "execution_count": null,
   "id": "ff61c133-a20f-41d5-902c-3926cd97ea11",
   "metadata": {},
   "outputs": [],
   "source": [
    "df = df.set_axis(['Index1', 'Index2'], axis=0)"
   ]
  }
 ],
 "metadata": {
  "kernelspec": {
   "display_name": "Python 3 (ipykernel)",
   "language": "python",
   "name": "python3"
  },
  "language_info": {
   "codemirror_mode": {
    "name": "ipython",
    "version": 3
   },
   "file_extension": ".py",
   "mimetype": "text/x-python",
   "name": "python",
   "nbconvert_exporter": "python",
   "pygments_lexer": "ipython3",
   "version": "3.12.4"
  }
 },
 "nbformat": 4,
 "nbformat_minor": 5
}
