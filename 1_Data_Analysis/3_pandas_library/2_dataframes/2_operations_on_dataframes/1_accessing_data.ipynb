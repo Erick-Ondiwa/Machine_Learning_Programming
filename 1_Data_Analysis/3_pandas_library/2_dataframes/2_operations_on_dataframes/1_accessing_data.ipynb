{
 "cells": [
  {
   "cell_type": "code",
   "execution_count": 1,
   "id": "40a905b6-6eec-4003-969c-1184cb67a9ca",
   "metadata": {},
   "outputs": [],
   "source": [
    "import numpy as np\n",
    "import pandas as pd "
   ]
  },
  {
   "cell_type": "markdown",
   "id": "4b5870cb-ff38-4688-bdb3-cb76b86b120d",
   "metadata": {},
   "source": [
    "# 1. Accessing Data by Columns\n",
    "Columns in a DataFrame can be accessed directly by their names using either the dot notation or the bracket notation."
   ]
  },
  {
   "cell_type": "code",
   "execution_count": 3,
   "id": "b08f8fa0-581c-46bf-9dc8-c2b3c1cf9037",
   "metadata": {},
   "outputs": [
    {
     "data": {
      "text/html": [
       "<div>\n",
       "<style scoped>\n",
       "    .dataframe tbody tr th:only-of-type {\n",
       "        vertical-align: middle;\n",
       "    }\n",
       "\n",
       "    .dataframe tbody tr th {\n",
       "        vertical-align: top;\n",
       "    }\n",
       "\n",
       "    .dataframe thead th {\n",
       "        text-align: right;\n",
       "    }\n",
       "</style>\n",
       "<table border=\"1\" class=\"dataframe\">\n",
       "  <thead>\n",
       "    <tr style=\"text-align: right;\">\n",
       "      <th></th>\n",
       "      <th>CustomerID</th>\n",
       "      <th>PurchaseAmount</th>\n",
       "      <th>Country</th>\n",
       "    </tr>\n",
       "  </thead>\n",
       "  <tbody>\n",
       "    <tr>\n",
       "      <th>0</th>\n",
       "      <td>101</td>\n",
       "      <td>250</td>\n",
       "      <td>USA</td>\n",
       "    </tr>\n",
       "    <tr>\n",
       "      <th>1</th>\n",
       "      <td>102</td>\n",
       "      <td>180</td>\n",
       "      <td>Canada</td>\n",
       "    </tr>\n",
       "    <tr>\n",
       "      <th>2</th>\n",
       "      <td>103</td>\n",
       "      <td>325</td>\n",
       "      <td>Mexico</td>\n",
       "    </tr>\n",
       "  </tbody>\n",
       "</table>\n",
       "</div>"
      ],
      "text/plain": [
       "   CustomerID  PurchaseAmount Country\n",
       "0         101             250     USA\n",
       "1         102             180  Canada\n",
       "2         103             325  Mexico"
      ]
     },
     "execution_count": 3,
     "metadata": {},
     "output_type": "execute_result"
    }
   ],
   "source": [
    "# Example:\n",
    "# Imagine you have a dataset of customer purchases in an e-commerce store.\n",
    "data = {\n",
    "    \"CustomerID\": [101, 102, 103],\n",
    "    \"PurchaseAmount\": [250, 180, 325],\n",
    "    \"Country\": [\"USA\", \"Canada\", \"Mexico\"]\n",
    "}\n",
    "df = pd.DataFrame(data)\n",
    "df"
   ]
  },
  {
   "cell_type": "code",
   "execution_count": null,
   "id": "ab3ebc8d-a496-4316-8bcd-89fc02a418a0",
   "metadata": {},
   "outputs": [],
   "source": [
    "# Accessing \"PurchaseAmount\" column\n",
    "purchase_amounts = df[\"PurchaseAmount\"] # However, the dot(.) notation only works for single word columns\n",
    "print(purchase_amounts)"
   ]
  },
  {
   "cell_type": "markdown",
   "id": "02ead071-6ef1-4f30-bdae-c9cd6e0798d9",
   "metadata": {},
   "source": [
    "# 2. Accessing Data by Rows with .loc[] and .iloc[]\n",
    "Pandas provides .loc[] for label-based indexing and .iloc[] for integer-based indexing."
   ]
  },
  {
   "cell_type": "markdown",
   "id": "6c0af0c2-3b78-4bc8-af81-506d15580b84",
   "metadata": {},
   "source": [
    "# A. .loc - Label-Based Indexing\n",
    ".loc is used to access data based on labels (the index or column names) of the DataFrame.\n",
    " It allows access to both rows and columns by their labels, making it flexible for filtering based on known names.\n",
    " Slicing and boolean arrays can also be used with .loc."
   ]
  },
  {
   "cell_type": "code",
   "execution_count": 5,
   "id": "2dad2b6c-e0b3-4fd6-978f-4d9852df37a2",
   "metadata": {},
   "outputs": [
    {
     "data": {
      "text/html": [
       "<div>\n",
       "<style scoped>\n",
       "    .dataframe tbody tr th:only-of-type {\n",
       "        vertical-align: middle;\n",
       "    }\n",
       "\n",
       "    .dataframe tbody tr th {\n",
       "        vertical-align: top;\n",
       "    }\n",
       "\n",
       "    .dataframe thead th {\n",
       "        text-align: right;\n",
       "    }\n",
       "</style>\n",
       "<table border=\"1\" class=\"dataframe\">\n",
       "  <thead>\n",
       "    <tr style=\"text-align: right;\">\n",
       "      <th></th>\n",
       "      <th>Name</th>\n",
       "      <th>Age</th>\n",
       "      <th>City</th>\n",
       "    </tr>\n",
       "  </thead>\n",
       "  <tbody>\n",
       "    <tr>\n",
       "      <th>a</th>\n",
       "      <td>Alice</td>\n",
       "      <td>24</td>\n",
       "      <td>New York</td>\n",
       "    </tr>\n",
       "    <tr>\n",
       "      <th>b</th>\n",
       "      <td>Bob</td>\n",
       "      <td>27</td>\n",
       "      <td>Los Angeles</td>\n",
       "    </tr>\n",
       "    <tr>\n",
       "      <th>c</th>\n",
       "      <td>Charlie</td>\n",
       "      <td>22</td>\n",
       "      <td>Chicago</td>\n",
       "    </tr>\n",
       "  </tbody>\n",
       "</table>\n",
       "</div>"
      ],
      "text/plain": [
       "      Name  Age         City\n",
       "a    Alice   24     New York\n",
       "b      Bob   27  Los Angeles\n",
       "c  Charlie   22      Chicago"
      ]
     },
     "execution_count": 5,
     "metadata": {},
     "output_type": "execute_result"
    }
   ],
   "source": [
    "data = {\n",
    "    \"Name\": [\"Alice\", \"Bob\", \"Charlie\"],\n",
    "    \"Age\": [24, 27, 22],\n",
    "    \"City\": [\"New York\", \"Los Angeles\", \"Chicago\"]\n",
    "}\n",
    "df = pd.DataFrame(data, index=[\"a\", \"b\", \"c\"])\n",
    "df"
   ]
  },
  {
   "cell_type": "code",
   "execution_count": 7,
   "id": "5ce8c85b-6706-4667-ab23-a4d87c5f882a",
   "metadata": {},
   "outputs": [
    {
     "name": "stdout",
     "output_type": "stream",
     "text": [
      "Name            Bob\n",
      "Age              27\n",
      "City    Los Angeles\n",
      "Name: b, dtype: object\n"
     ]
    }
   ],
   "source": [
    "# Accessing a specific row by label\n",
    "row_b = df.loc[\"b\"]\n",
    "print(row_b)"
   ]
  },
  {
   "cell_type": "code",
   "execution_count": null,
   "id": "2a6a8e50-c0df-4939-895a-ce7c9c422777",
   "metadata": {},
   "outputs": [],
   "source": [
    "# Accessing a specific element by row and column labels\n",
    "age_bob = df.loc[\"b\", \"Age\"]\n",
    "print(age_bob)"
   ]
  },
  {
   "cell_type": "code",
   "execution_count": null,
   "id": "df5977e4-a47e-4e1f-96c7-5393c5538ab5",
   "metadata": {},
   "outputs": [],
   "source": [
    "# Accessing multiple rows and columns\n",
    "subset = df.loc[[\"a\", \"c\"], [\"Name\", \"City\"]]\n",
    "print(subset)"
   ]
  },
  {
   "cell_type": "markdown",
   "id": "2015952e-2654-4cc8-b161-54210e4fe27e",
   "metadata": {},
   "source": [
    "# B. .iloc - integer-Based Indexing\n",
    ".iloc is used to access data by integer-based positions (row and column indices).\n",
    "It requires integer indices instead of labels, making it especially useful when the DataFrame doesn’t have meaningful labels.\n",
    "Similar to .loc, .iloc allows you to specify slices, ranges, and lists of positions."
   ]
  },
  {
   "cell_type": "code",
   "execution_count": 9,
   "id": "23f87cf9-9903-46db-b81d-8a0f16bf6c9e",
   "metadata": {},
   "outputs": [
    {
     "name": "stdout",
     "output_type": "stream",
     "text": [
      "Name            Bob\n",
      "Age              27\n",
      "City    Los Angeles\n",
      "Name: b, dtype: object\n"
     ]
    }
   ],
   "source": [
    "# Accessing a specific row by integer index\n",
    "second_row = df.iloc[1]\n",
    "print(second_row)"
   ]
  },
  {
   "cell_type": "code",
   "execution_count": 11,
   "id": "81b18df6-ffac-4849-949a-46ea551b5346",
   "metadata": {},
   "outputs": [
    {
     "name": "stdout",
     "output_type": "stream",
     "text": [
      "27\n"
     ]
    }
   ],
   "source": [
    "# Accessing a specific element by row and column indices\n",
    "age_second_row = df.iloc[1, 1]\n",
    "print(age_second_row)"
   ]
  },
  {
   "cell_type": "code",
   "execution_count": null,
   "id": "4d3e3688-374e-4542-a4e4-9f8b1027a80e",
   "metadata": {},
   "outputs": [],
   "source": [
    "# Accessing multiple rows and columns\n",
    "subset = df.iloc[[0, 2], [0, 2]]\n",
    "print(subset)"
   ]
  },
  {
   "cell_type": "markdown",
   "id": "19c83c89-e28b-42a4-a9ef-11e9560b25d0",
   "metadata": {},
   "source": [
    "# 3. Accessing Data with .at[] and .iat[]\n",
    "The .at[] and .iat[] methods allow fast access to a single scalar value in a DataFrame by label and integer position, respectively."
   ]
  },
  {
   "cell_type": "markdown",
   "id": "0e78d3ab-b755-4230-aa95-666e0a7a2c69",
   "metadata": {},
   "source": [
    "# a. .at - Fast Label-Based Scalar Access\n",
    ".at is designed for fast access to a single scalar value (one cell) based on row and column labels.\n",
    "It’s more efficient than .loc when accessing a single element because it’s optimized for scalar access\n",
    "\n",
    "# b. .iat - Fast Integer-Based Scalar Access\n",
    ".iat is similar to .at, but it uses integer-based positions to quickly access a single scalar value. Like .i"
   ]
  },
  {
   "cell_type": "code",
   "execution_count": null,
   "id": "fe988a52-1799-4ded-8603-46f24cf962c2",
   "metadata": {},
   "outputs": [],
   "source": [
    "data = {\n",
    "    \"StudentID\": [301, 302, 303],\n",
    "    \"Math\": [88, 92, 79],\n",
    "    \"Science\": [91, 85, 88]\n",
    "}\n",
    "df = pd.DataFrame(data)"
   ]
  },
  {
   "cell_type": "code",
   "execution_count": null,
   "id": "ffa77db8-bef4-4fcf-a34d-25bebcde6f64",
   "metadata": {},
   "outputs": [],
   "source": [
    "# Accessing Math score of the second student by label\n",
    "math_score_label = df.at[1, \"Math\"]\n",
    "print(math_score_label)"
   ]
  },
  {
   "cell_type": "code",
   "execution_count": null,
   "id": "02491ec2-6640-4d51-b64e-abb82fee2675",
   "metadata": {},
   "outputs": [],
   "source": [
    "# Accessing Math score of the second student by position\n",
    "math_score_pos = df.iat[1, 1]\n",
    "print(math_score_pos)"
   ]
  },
  {
   "cell_type": "markdown",
   "id": "d3e7950e-8705-4905-a5ba-d9fb9366dc51",
   "metadata": {},
   "source": [
    "# 4. Accessing Data with .get()\n",
    "For dictionaries within a DataFrame, .get() can access keys without raising errors if the key is missing.\n",
    "\n",
    "Example:\n",
    "Consider a DataFrame tracking expenses with optional categories."
   ]
  },
  {
   "cell_type": "code",
   "execution_count": null,
   "id": "f76f84cd-075b-460f-b50d-a847eb353433",
   "metadata": {},
   "outputs": [],
   "source": [
    "data = {\n",
    "    \"Category\": [\"Food\", \"Travel\", \"Misc\"],\n",
    "    \"Amount\": [150, 200, 75]\n",
    "}\n",
    "df = pd.DataFrame(data)"
   ]
  },
  {
   "cell_type": "code",
   "execution_count": null,
   "id": "b14ebab2-be0a-4831-b2aa-f929f06d8315",
   "metadata": {},
   "outputs": [],
   "source": [
    "# Accessing with .get() to avoid errors for missing columns\n",
    "food_expenses = df.get(\"Food\", \"No data\")\n",
    "print(food_expenses)"
   ]
  }
 ],
 "metadata": {
  "kernelspec": {
   "display_name": "Python 3 (ipykernel)",
   "language": "python",
   "name": "python3"
  },
  "language_info": {
   "codemirror_mode": {
    "name": "ipython",
    "version": 3
   },
   "file_extension": ".py",
   "mimetype": "text/x-python",
   "name": "python",
   "nbconvert_exporter": "python",
   "pygments_lexer": "ipython3",
   "version": "3.12.4"
  }
 },
 "nbformat": 4,
 "nbformat_minor": 5
}
