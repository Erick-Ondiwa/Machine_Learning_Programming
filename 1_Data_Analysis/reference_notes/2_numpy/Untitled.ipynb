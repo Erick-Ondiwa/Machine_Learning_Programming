{
 "cells": [
  {
   "cell_type": "code",
   "execution_count": 1,
   "id": "4cd4f134-f2f4-414f-b793-a4d560b097e1",
   "metadata": {},
   "outputs": [],
   "source": [
    "import pandas as pd\n",
    "import numpy as np"
   ]
  },
  {
   "cell_type": "code",
   "execution_count": 6,
   "id": "a75ecd5e-03df-4d23-a63c-6929e05cbd54",
   "metadata": {},
   "outputs": [
    {
     "name": "stdout",
     "output_type": "stream",
     "text": [
      "[[1 2 3]\n",
      " [4 5 6]]\n"
     ]
    }
   ],
   "source": [
    "A = np.array([[1, 2, 3], [4, 5, 6]])\n",
    "\n",
    "# Displaying the array\n",
    "print(A)"
   ]
  },
  {
   "cell_type": "code",
   "execution_count": 8,
   "id": "24f5c38d-10e7-4221-8663-a239f8d94136",
   "metadata": {},
   "outputs": [
    {
     "data": {
      "text/plain": [
       "array([[1, 2, 3],\n",
       "       [4, 5, 6]])"
      ]
     },
     "execution_count": 8,
     "metadata": {},
     "output_type": "execute_result"
    }
   ],
   "source": [
    "A.ravel()\n",
    "A"
   ]
  },
  {
   "cell_type": "code",
   "execution_count": 10,
   "id": "a8b4bd02-9a72-4a08-9d09-450b64f0b4d0",
   "metadata": {},
   "outputs": [
    {
     "data": {
      "text/plain": [
       "array([[1, 2, 3],\n",
       "       [4, 5, 6]])"
      ]
     },
     "execution_count": 10,
     "metadata": {},
     "output_type": "execute_result"
    }
   ],
   "source": [
    "A.T\n",
    "A"
   ]
  },
  {
   "cell_type": "code",
   "execution_count": 12,
   "id": "4a3fcc5d-e22d-4572-b6df-c1dba1823d51",
   "metadata": {},
   "outputs": [
    {
     "data": {
      "text/plain": [
       "array([[1, 2, 3],\n",
       "       [4, 5, 6]])"
      ]
     },
     "execution_count": 12,
     "metadata": {},
     "output_type": "execute_result"
    }
   ],
   "source": [
    "A.flatten()\n",
    "A"
   ]
  },
  {
   "cell_type": "code",
   "execution_count": 16,
   "id": "9cec8842-1efc-4e63-ab55-c515602f0f86",
   "metadata": {},
   "outputs": [
    {
     "data": {
      "text/html": [
       "<div>\n",
       "<style scoped>\n",
       "    .dataframe tbody tr th:only-of-type {\n",
       "        vertical-align: middle;\n",
       "    }\n",
       "\n",
       "    .dataframe tbody tr th {\n",
       "        vertical-align: top;\n",
       "    }\n",
       "\n",
       "    .dataframe thead th {\n",
       "        text-align: right;\n",
       "    }\n",
       "</style>\n",
       "<table border=\"1\" class=\"dataframe\">\n",
       "  <thead>\n",
       "    <tr style=\"text-align: right;\">\n",
       "      <th></th>\n",
       "      <th>name</th>\n",
       "      <th>birthday</th>\n",
       "      <th>customer</th>\n",
       "      <th>orderdate</th>\n",
       "      <th>product</th>\n",
       "      <th>units</th>\n",
       "      <th>unitprice</th>\n",
       "    </tr>\n",
       "  </thead>\n",
       "  <tbody>\n",
       "    <tr>\n",
       "      <th>0</th>\n",
       "      <td>Pasquale</td>\n",
       "      <td>1967-09-02</td>\n",
       "      <td>Electronics Inc</td>\n",
       "      <td>2016-07-17 13:48:03.157</td>\n",
       "      <td>Thriller record</td>\n",
       "      <td>2</td>\n",
       "      <td>13.27</td>\n",
       "    </tr>\n",
       "    <tr>\n",
       "      <th>1</th>\n",
       "      <td>India</td>\n",
       "      <td>1968-12-13</td>\n",
       "      <td>Electronics Resource Group</td>\n",
       "      <td>2016-07-06 13:48:03.157</td>\n",
       "      <td>Corolla</td>\n",
       "      <td>26</td>\n",
       "      <td>24458.69</td>\n",
       "    </tr>\n",
       "    <tr>\n",
       "      <th>2</th>\n",
       "      <td>Wayne</td>\n",
       "      <td>1992-09-10</td>\n",
       "      <td>East Application Contract Inc</td>\n",
       "      <td>2016-07-22 13:48:03.157</td>\n",
       "      <td>Rubik’s Cube</td>\n",
       "      <td>41</td>\n",
       "      <td>15.79</td>\n",
       "    </tr>\n",
       "    <tr>\n",
       "      <th>3</th>\n",
       "      <td>Cori</td>\n",
       "      <td>1986-11-05</td>\n",
       "      <td>Signal Industries</td>\n",
       "      <td>2016-07-23 13:48:03.157</td>\n",
       "      <td>iPhone</td>\n",
       "      <td>16</td>\n",
       "      <td>584.01</td>\n",
       "    </tr>\n",
       "    <tr>\n",
       "      <th>4</th>\n",
       "      <td>Chang</td>\n",
       "      <td>1972-04-23</td>\n",
       "      <td>Star Alpha Industries</td>\n",
       "      <td>2016-07-16 13:48:03.157</td>\n",
       "      <td>Harry Potter book</td>\n",
       "      <td>4</td>\n",
       "      <td>25.69</td>\n",
       "    </tr>\n",
       "  </tbody>\n",
       "</table>\n",
       "</div>"
      ],
      "text/plain": [
       "       name    birthday                       customer  \\\n",
       "0  Pasquale  1967-09-02                Electronics Inc   \n",
       "1     India  1968-12-13     Electronics Resource Group   \n",
       "2     Wayne  1992-09-10  East Application Contract Inc   \n",
       "3      Cori  1986-11-05              Signal Industries   \n",
       "4     Chang  1972-04-23          Star Alpha Industries   \n",
       "\n",
       "                 orderdate            product  units  unitprice  \n",
       "0  2016-07-17 13:48:03.157    Thriller record      2      13.27  \n",
       "1  2016-07-06 13:48:03.157            Corolla     26   24458.69  \n",
       "2  2016-07-22 13:48:03.157       Rubik’s Cube     41      15.79  \n",
       "3  2016-07-23 13:48:03.157             iPhone     16     584.01  \n",
       "4  2016-07-16 13:48:03.157  Harry Potter book      4      25.69  "
      ]
     },
     "execution_count": 16,
     "metadata": {},
     "output_type": "execute_result"
    }
   ],
   "source": [
    "import pandas as pd\n",
    "import matplotlib.pyplot as plt\n",
    "\n",
    "# Creating the dataframe (Replace this with your actual dataframe if needed)\n",
    "data = {\n",
    "    \"name\": [\"Pasquale\", \"India\", \"Wayne\", \"Cori\", \"Chang\"],\n",
    "    \"birthday\": [\"1967-09-02\", \"1968-12-13\", \"1992-09-10\", \"1986-11-05\", \"1972-04-23\"],\n",
    "    \"customer\": [\n",
    "        \"Electronics Inc\",\n",
    "        \"Electronics Resource Group\",\n",
    "        \"East Application Contract Inc\",\n",
    "        \"Signal Industries\",\n",
    "        \"Star Alpha Industries\",\n",
    "    ],\n",
    "    \"orderdate\": [\n",
    "        \"2016-07-17 13:48:03.157\",\n",
    "        \"2016-07-06 13:48:03.157\",\n",
    "        \"2016-07-22 13:48:03.157\",\n",
    "        \"2016-07-23 13:48:03.157\",\n",
    "        \"2016-07-16 13:48:03.157\",\n",
    "    ],\n",
    "    \"product\": [\"Thriller record\", \"Corolla\", \"Rubik’s Cube\", \"iPhone\", \"Harry Potter book\"],\n",
    "    \"units\": [2, 26, 41, 16, 4],\n",
    "    \"unitprice\": [13.27, 24458.69, 15.79, 584.01, 25.69],\n",
    "}\n",
    "\n",
    "df = pd.DataFrame(data)\n",
    "df"
   ]
  },
  {
   "cell_type": "code",
   "execution_count": 18,
   "id": "137db62b-0080-4985-afd7-423fec5547cd",
   "metadata": {},
   "outputs": [
    {
     "name": "stdout",
     "output_type": "stream",
     "text": [
      "Unique Products:\n",
      "['Thriller record' 'Corolla' 'Rubik’s Cube' 'iPhone' 'Harry Potter book']\n"
     ]
    }
   ],
   "source": [
    "# 1. Get the list of unique products in the dataframe\n",
    "unique_products = df[\"product\"].unique()\n",
    "print(\"Unique Products:\")\n",
    "print(unique_products)"
   ]
  },
  {
   "cell_type": "code",
   "execution_count": 20,
   "id": "ed26ad7a-0c3a-4e4b-9524-411d46dd44fe",
   "metadata": {},
   "outputs": [
    {
     "data": {
      "image/png": "[encoded data removed]",
      "text/plain": [
       "<Figure size 640x480 with 1 Axes>"
      ]
     },
     "metadata": {},
     "output_type": "display_data"
    }
   ],
   "source": [
    "# 2. Get the total number of units sold for each product and create a bar plot\n",
    "total_units_per_product = df.groupby(\"product\")[\"units\"].sum()\n",
    "total_units_per_product.plot(kind=\"bar\", title=\"Total Units Sold per Product\", xlabel=\"Product\", ylabel=\"Units Sold\")\n",
    "plt.show()"
   ]
  },
  {
   "cell_type": "code",
   "execution_count": 24,
   "id": "889552f5-4fda-43c5-ad35-57351622d05c",
   "metadata": {},
   "outputs": [
    {
     "name": "stdout",
     "output_type": "stream",
     "text": [
      "\n",
      "DataFrame with Total Purchases:\n"
     ]
    },
    {
     "data": {
      "text/html": [
       "<div>\n",
       "<style scoped>\n",
       "    .dataframe tbody tr th:only-of-type {\n",
       "        vertical-align: middle;\n",
       "    }\n",
       "\n",
       "    .dataframe tbody tr th {\n",
       "        vertical-align: top;\n",
       "    }\n",
       "\n",
       "    .dataframe thead th {\n",
       "        text-align: right;\n",
       "    }\n",
       "</style>\n",
       "<table border=\"1\" class=\"dataframe\">\n",
       "  <thead>\n",
       "    <tr style=\"text-align: right;\">\n",
       "      <th></th>\n",
       "      <th>name</th>\n",
       "      <th>birthday</th>\n",
       "      <th>customer</th>\n",
       "      <th>orderdate</th>\n",
       "      <th>product</th>\n",
       "      <th>units</th>\n",
       "      <th>unitprice</th>\n",
       "      <th>totalpurchase</th>\n",
       "    </tr>\n",
       "  </thead>\n",
       "  <tbody>\n",
       "    <tr>\n",
       "      <th>0</th>\n",
       "      <td>Pasquale</td>\n",
       "      <td>1967-09-02</td>\n",
       "      <td>Electronics Inc</td>\n",
       "      <td>2016-07-17 13:48:03.157</td>\n",
       "      <td>Thriller record</td>\n",
       "      <td>2</td>\n",
       "      <td>13.27</td>\n",
       "      <td>26.54</td>\n",
       "    </tr>\n",
       "    <tr>\n",
       "      <th>1</th>\n",
       "      <td>India</td>\n",
       "      <td>1968-12-13</td>\n",
       "      <td>Electronics Resource Group</td>\n",
       "      <td>2016-07-06 13:48:03.157</td>\n",
       "      <td>Corolla</td>\n",
       "      <td>26</td>\n",
       "      <td>24458.69</td>\n",
       "      <td>635925.94</td>\n",
       "    </tr>\n",
       "    <tr>\n",
       "      <th>2</th>\n",
       "      <td>Wayne</td>\n",
       "      <td>1992-09-10</td>\n",
       "      <td>East Application Contract Inc</td>\n",
       "      <td>2016-07-22 13:48:03.157</td>\n",
       "      <td>Rubik’s Cube</td>\n",
       "      <td>41</td>\n",
       "      <td>15.79</td>\n",
       "      <td>647.39</td>\n",
       "    </tr>\n",
       "    <tr>\n",
       "      <th>3</th>\n",
       "      <td>Cori</td>\n",
       "      <td>1986-11-05</td>\n",
       "      <td>Signal Industries</td>\n",
       "      <td>2016-07-23 13:48:03.157</td>\n",
       "      <td>iPhone</td>\n",
       "      <td>16</td>\n",
       "      <td>584.01</td>\n",
       "      <td>9344.16</td>\n",
       "    </tr>\n",
       "    <tr>\n",
       "      <th>4</th>\n",
       "      <td>Chang</td>\n",
       "      <td>1972-04-23</td>\n",
       "      <td>Star Alpha Industries</td>\n",
       "      <td>2016-07-16 13:48:03.157</td>\n",
       "      <td>Harry Potter book</td>\n",
       "      <td>4</td>\n",
       "      <td>25.69</td>\n",
       "      <td>102.76</td>\n",
       "    </tr>\n",
       "  </tbody>\n",
       "</table>\n",
       "</div>"
      ],
      "text/plain": [
       "       name    birthday                       customer  \\\n",
       "0  Pasquale  1967-09-02                Electronics Inc   \n",
       "1     India  1968-12-13     Electronics Resource Group   \n",
       "2     Wayne  1992-09-10  East Application Contract Inc   \n",
       "3      Cori  1986-11-05              Signal Industries   \n",
       "4     Chang  1972-04-23          Star Alpha Industries   \n",
       "\n",
       "                 orderdate            product  units  unitprice  totalpurchase  \n",
       "0  2016-07-17 13:48:03.157    Thriller record      2      13.27          26.54  \n",
       "1  2016-07-06 13:48:03.157            Corolla     26   24458.69      635925.94  \n",
       "2  2016-07-22 13:48:03.157       Rubik’s Cube     41      15.79         647.39  \n",
       "3  2016-07-23 13:48:03.157             iPhone     16     584.01        9344.16  \n",
       "4  2016-07-16 13:48:03.157  Harry Potter book      4      25.69         102.76  "
      ]
     },
     "execution_count": 24,
     "metadata": {},
     "output_type": "execute_result"
    }
   ],
   "source": [
    "# 3. Create a new column \"totalpurchase\" in the dataframe\n",
    "df[\"totalpurchase\"] = df[\"units\"] * df[\"unitprice\"]\n",
    "print(\"\\nDataFrame with Total Purchases:\")\n",
    "df"
   ]
  },
  {
   "cell_type": "code",
   "execution_count": 26,
   "id": "483cc9ae-7859-49e5-a82e-27cf6bf32300",
   "metadata": {},
   "outputs": [
    {
     "data": {
      "image/png": "[encoded data removed]",
      "text/plain": [
       "<Figure size 640x480 with 1 Axes>"
      ]
     },
     "metadata": {},
     "output_type": "display_data"
    }
   ],
   "source": [
    "# 4. Get the cumulative total purchases for each customer and plot a graph\n",
    "cumulative_purchases = df.groupby(\"customer\")[\"totalpurchase\"].sum().sort_values(ascending=False)\n",
    "cumulative_purchases.plot(kind=\"bar\", title=\"Cumulative Total Purchases per Customer\", xlabel=\"Customer\", ylabel=\"Total Purchases\")\n",
    "plt.show()"
   ]
  },
  {
   "cell_type": "code",
   "execution_count": 28,
   "id": "37c0fd00-8136-44c7-b2fe-d4bc9f4fe95a",
   "metadata": {},
   "outputs": [
    {
     "name": "stdout",
     "output_type": "stream",
     "text": [
      "\n",
      "Customer with the highest purchases: Electronics Resource Group ($635925.94)\n"
     ]
    }
   ],
   "source": [
    "# Print the customer with the highest purchases\n",
    "highest_purchasing_customer = cumulative_purchases.idxmax()\n",
    "highest_purchase_value = cumulative_purchases.max()\n",
    "print(f\"\\nCustomer with the highest purchases: {highest_purchasing_customer} (${highest_purchase_value:.2f})\")\n"
   ]
  },
  {
   "cell_type": "code",
   "execution_count": null,
   "id": "c729a418-cf46-4c6f-82e7-9536ba8831fc",
   "metadata": {},
   "outputs": [],
   "source": []
  }
 ],
 "metadata": {
  "kernelspec": {
   "display_name": "Python 3 (ipykernel)",
   "language": "python",
   "name": "python3"
  },
  "language_info": {
   "codemirror_mode": {
    "name": "ipython",
    "version": 3
   },
   "file_extension": ".py",
   "mimetype": "text/x-python",
   "name": "python",
   "nbconvert_exporter": "python",
   "pygments_lexer": "ipython3",
   "version": "3.12.4"
  }
 },
 "nbformat": 4,
 "nbformat_minor": 5
}
